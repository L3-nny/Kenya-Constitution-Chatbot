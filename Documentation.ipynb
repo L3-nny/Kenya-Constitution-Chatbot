{
 "cells": [
  {
   "cell_type": "markdown",
   "metadata": {},
   "source": [
    "***\n",
    "## Business Understanding\n",
    "***\n",
    "### Overview\n",
    "\n",
    "A nation's Constitution serves as its foundational legal framework, outlining the structure of government, the rights and duties of citizens, and the principles that guide the rule of law. In the case of the Constitution of Kenya, it establishes the basis for democratic governance, justice, and the protection of human rights. It is a critical document that influences both the operation of state institutions and the freedoms of individuals. Therefore, it is crucial for every citizen to have access to and understand their country's Constitution.\n",
    "\n",
    "However, many people face challenges when trying to access and comprehend the Constitution, particularly if they are unfamiliar with legal language or the document’s structure. This project seeks to address these obstacles by creating a question-answering system focused on the Constitution of Kenya. Utilizing supervised machine learning and natural language processing (NLP) techniques, this system will allow users to ask questions about the Constitution and receive accurate answers in real time, directly sourced from the document's content.\n",
    "\n",
    "By developing this system, the project aims to foster a deeper understanding of constitutional rights and responsibilities among users. It is designed to empower individuals by improving access to crucial legal information, encouraging civic engagement, and supporting legal education. This tool will provide an accessible and user-friendly way to navigate the complexities of the Constitution, helping users, including legal professionals and the general public, better understand their rights and the workings of the law in Kenya.\n",
    "### Business Problem\n",
    "In Kenya, there is a significant gap in public understanding of the Constitution. Many citizens, including students, legal practitioners, and the general public, often face challenges when trying to access information on constitutional rights, duties, and legal interpretations. The complex legal language used in the Constitution can be intimidating, undermining public comprehension. This lack of understanding can lead to confusion about legal matters and reduced engagement in civic duties, as well as hinder individuals' ability to seek justice and engage meaningfully with governance. By addressing these issues, the proposed platform aims to simplify access to constitutional knowledge, empowering individuals to advocate for their rights and participate actively in the democratic process.\n",
    "\n",
    "### Stakeholders\n",
    "\n",
    "1. **Lawyers and legal practitioners:** For quick reference to constitutional clauses and provisions.\n",
    "2. **Government institutions:** To facilitate better governance through enhanced public understanding of constitutional mandates.\n",
    "3. **Citizens:** To empower individuals by making legal information accessible.\n",
    "4. **Media:** As a tool for accurate reporting on constitutional matters.\n",
    "5. **Civic activists:** To support advocacy and public education on constitutional rights.\n",
    "\n",
    "### Objectives\n",
    "\n",
    "1. **Create a User-Friendly Interface:** Develop a clean, intuitive user interface that enables users to easily interact with the Q&A system, ensuring a seamless user experience that encourages frequent use.\n",
    "2. **Improve Legal Literacy:** Educate users about their rights and responsibilities under the Constitution.\n",
    "3. **Support Legal Practitioners:** Assist legal professionals in quickly retrieving relevant constitutional information to enhance their practice and advocacy. \n",
    "4. **Leverage Natural Language Processing (NLP) Techniques:** Apply advanced NLP techniques to extract relevant information, interpret questions correctly, and match them with the most appropriate sections of the Constitution"
   ]
  },
  {
   "cell_type": "markdown",
   "metadata": {},
   "source": [
    "***\n",
    "## Data Understanding\n",
    "***\n",
    "### Data Source:\n",
    "* **Kenyan Constitution:** The full PDF of the Kenyan Constitution is the primary data source, covering various chapters and articles that define the structure of government, judicial authority, human rights, and other foundational legal aspects.\n",
    "### Content and Structure Analysis:\n",
    "* **Chapters and Sections:** The document contains 18 chapters with multiple sections and sub-sections. Each chapter addresses distinct themes such as “Judicial Authority and Legal System,” “Human Rights and Freedoms,” and “Representation of the People.”\n",
    "\n",
    "* **Language and Terminology:** Since constitutional language is formal and legalistic, it is essential to understand common terminology and possible user variations to structure queries effectively.\n",
    "### Challenges:\n",
    "* **Complex Language:** Identifying ways to simplify or interpret legal terminology for broader public comprehension.\n",
    "Contextual Overlaps: Some sections contain overlapping terms (e.g., “court,” “justice”) that can lead to misclassification. Techniques to manage synonym mapping and context filtering will be vital."
   ]
  },
  {
   "cell_type": "markdown",
   "metadata": {},
   "source": [
    "***\n",
    "## Data Preparation\n",
    "***\n",
    "### Text Extraction:\n",
    "* **PDF Processing:** Using pdfplumber, the text is extracted in a structured way. Each chapter is split into sections, with a focus on maintaining the original structure for consistency.\n",
    "\n",
    "* **Function for Section Splitting:** split_chapter function organizes chapters into distinct sections based on headings and articles, facilitating better indexing and retrieval.\n",
    "### Text Cleaning and Preprocessing:\n",
    "* **Tokenization:** The document is tokenized into words and phrases to break down the text into manageable parts.\n",
    "\n",
    "* **Stopword Removal and Lemmatization:** To enhance query matching, stopwords (like \"and,\" \"the\") are removed, and words are normalized to their root forms.\n",
    "### Synonym and Keyword Mapping:\n",
    "* **Synonym Mapping:** Created a dictionary to match legal terms to lay person synonyms (e.g., “jurisdiction” mapped to “authority”).\n",
    "\n",
    "* **Spelling Correction:** Integrated SpellChecker to address common spelling mistakes, ensuring queries are correctly matched with document sections."
   ]
  },
  {
   "cell_type": "markdown",
   "metadata": {},
   "source": [
    "***\n",
    "## Modeling\n",
    "***\n",
    "The system’s core functionality lies in its Question-Answering Mechanism, designed to interpret user queries accurately and retrieve the most relevant constitutional sections. This is achieved through advanced Natural Language Processing (NLP) and Natural Language Understanding (NLU) components, which work in tandem to understand, match, and respond to user questions.\n",
    "\n",
    "### Question-Answering Mechanism\n",
    "#### Matching User Queries\n",
    "* **answer_question_nlp Function:** This custom function analyzes user queries for keywords and phrases, matching them to relevant sections in the qa_mapping database, which is structured to cover critical constitutional topics. The function’s matching mechanism ensures that user questions are directed to the correct sections, regardless of variations in wording.\n",
    "\n",
    "#### NLP Techniques\n",
    "* **Named Entity Recognition (NER):** Leveraging spaCy’s NER capabilities, the system identifies and highlights essential entities in user queries, such as \"President,\" \"rights,\" and \"court.\" This step aids in narrowing down relevant sections by directly mapping the entities to specific articles or sub-sections within the Constitution.\n",
    "\n",
    "* **Semantic Similarity Scoring:** To handle diverse query phrasing, the bot calculates semantic similarity scores, allowing it to match terms with similar or alternative wording. For example, queries containing terms like \"entitlements\" are effectively matched to sections on \"rights,\" increasing the system's robustness in interpreting different user expressions.\n",
    "\n",
    "* **Query Expansion:** To ensure high response accuracy, the model employs query expansion techniques that enhance its ability to recognize variations of key legal terms. This way, synonyms and related terms are captured, broadening the model’s understanding and ability to retrieve accurate responses for users.\n",
    "\n",
    "### Natural Language Understanding (NLU) \n",
    "The NLU component is integral to interpreting the purpose of a user’s query, focusing on Intent Recognition, Entity Recognition, and Response Matching:\n",
    "\n",
    "* **Intent Recognition:** The NLU module discerns the underlying intent of user questions, mapping them to predefined legal themes. For instance, queries like “What are my rights?” or “Explain judiciary powers” are linked to topics such as citizens' rights and judicial authority, facilitating accurate document retrieval.\n",
    "\n",
    "* **Entity Recognition:** Essential entities within user queries (e.g., “President,” “court system,” “constitution”) are identified and used to pinpoint sections within the Constitution. This helps the bot retrieve text that aligns closely with the user's inquiry by understanding specific legal terms and names.\n",
    "\n",
    "* **Response Matching:** By combining intent recognition and entity identification, the NLU module prioritizes the most relevant sections, ensuring that responses align closely with the intended question. This matching process improves the bot’s precision and accuracy, especially for queries that may overlap in meaning across different sections.\n",
    "\n",
    "\n",
    "\n",
    "\n"
   ]
  },
  {
   "cell_type": "markdown",
   "metadata": {},
   "source": [
    "***\n",
    "## Evaluation\n",
    "***\n",
    "### Testing and Accuracy:\n",
    "* **Functionality Testing:** A series of sample questions (e.g., “What is the supremacy of the constitution?”) were posed to the chatbot to confirm it accurately retrieves the relevant sections.\n",
    "\n",
    "* **Manual Verification:** Each response is checked for accuracy, especially in high-ambiguity areas such as overlapping legal terms.\n",
    "\n",
    "* **Relevance:** Ensuring the answer aligns well with user intent and contains the most relevant constitutional articles.\n",
    "\n",
    "* **User Feedback:** Post-deployment feedback collected via Telegram will help in refining the system.\n",
    "\n",
    "### Limitations:\n",
    "* **Ambiguity in Legal Terminology:** Variances in phrasing might lead to misinterpretation without sufficient synonym mapping.\n",
    "\n",
    "* **Complex Queries:** Longer, multifaceted questions may require additional processing steps to break down and respond accurately.\n"
   ]
  },
  {
   "cell_type": "markdown",
   "metadata": {},
   "source": [
    "***\n",
    "## Deployment\n",
    "***\n",
    "* **Telegram Integration:** The chatbot is deployed on Telegram, allowing users to ask questions in a familiar messaging environment. Telegram’s API facilitates interaction between the chatbot and users, making it easily accessible.\n",
    "\n",
    "* **Real-time Response:** When a user submits a query on Telegram, the NLU component processes it, and the system responds with the best-matching constitutional article.\n",
    "\n",
    "* **Continued Updates:** Based on user feedback, the model can be updated to improve understanding and expand coverage."
   ]
  }
 ],
 "metadata": {
  "language_info": {
   "name": "python"
  }
 },
 "nbformat": 4,
 "nbformat_minor": 2
}
