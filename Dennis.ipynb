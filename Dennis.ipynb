{
 "cells": [
  {
   "cell_type": "markdown",
   "metadata": {
    "id": "sVz6SGQzzwDm"
   },
   "source": [
    "## Chapter 13-15"
   ]
  },
  {
   "cell_type": "code",
   "execution_count": 1,
   "metadata": {
    "colab": {
     "base_uri": "https://localhost:8080/"
    },
    "collapsed": true,
    "id": "UlTbQ3UR0PqF",
    "outputId": "cc01862f-6865-4dea-97de-717f18eeaefe"
   },
   "outputs": [
    {
     "name": "stdout",
     "output_type": "stream",
     "text": [
      "Requirement already satisfied: pdfplumber in e:\\school\\anaconda3.1\\envs\\mubea-env\\lib\\site-packages (0.11.4)\n",
      "Requirement already satisfied: pdfminer.six==20231228 in e:\\school\\anaconda3.1\\envs\\mubea-env\\lib\\site-packages (from pdfplumber) (20231228)\n",
      "Requirement already satisfied: Pillow>=9.1 in e:\\school\\anaconda3.1\\envs\\mubea-env\\lib\\site-packages (from pdfplumber) (10.4.0)\n",
      "Requirement already satisfied: pypdfium2>=4.18.0 in e:\\school\\anaconda3.1\\envs\\mubea-env\\lib\\site-packages (from pdfplumber) (4.30.0)\n",
      "Requirement already satisfied: charset-normalizer>=2.0.0 in e:\\school\\anaconda3.1\\envs\\mubea-env\\lib\\site-packages (from pdfminer.six==20231228->pdfplumber) (3.3.2)\n",
      "Requirement already satisfied: cryptography>=36.0.0 in e:\\school\\anaconda3.1\\envs\\mubea-env\\lib\\site-packages (from pdfminer.six==20231228->pdfplumber) (43.0.3)\n",
      "Requirement already satisfied: cffi>=1.12 in e:\\school\\anaconda3.1\\envs\\mubea-env\\lib\\site-packages (from cryptography>=36.0.0->pdfminer.six==20231228->pdfplumber) (1.17.1)\n",
      "Requirement already satisfied: pycparser in e:\\school\\anaconda3.1\\envs\\mubea-env\\lib\\site-packages (from cffi>=1.12->cryptography>=36.0.0->pdfminer.six==20231228->pdfplumber) (2.22)\n",
      "Requirement already satisfied: pyspellchecker in e:\\school\\anaconda3.1\\envs\\mubea-env\\lib\\site-packages (0.8.1)\n",
      "Requirement already satisfied: spacy in e:\\school\\anaconda3.1\\envs\\mubea-env\\lib\\site-packages (3.5.3)\n",
      "Requirement already satisfied: spacy-legacy<3.1.0,>=3.0.11 in e:\\school\\anaconda3.1\\envs\\mubea-env\\lib\\site-packages (from spacy) (3.0.12)\n",
      "Requirement already satisfied: spacy-loggers<2.0.0,>=1.0.0 in e:\\school\\anaconda3.1\\envs\\mubea-env\\lib\\site-packages (from spacy) (1.0.5)\n",
      "Requirement already satisfied: murmurhash<1.1.0,>=0.28.0 in e:\\school\\anaconda3.1\\envs\\mubea-env\\lib\\site-packages (from spacy) (1.0.10)\n",
      "Requirement already satisfied: cymem<2.1.0,>=2.0.2 in e:\\school\\anaconda3.1\\envs\\mubea-env\\lib\\site-packages (from spacy) (2.0.8)\n",
      "Requirement already satisfied: preshed<3.1.0,>=3.0.2 in e:\\school\\anaconda3.1\\envs\\mubea-env\\lib\\site-packages (from spacy) (3.0.9)\n",
      "Requirement already satisfied: thinc<8.2.0,>=8.1.8 in e:\\school\\anaconda3.1\\envs\\mubea-env\\lib\\site-packages (from spacy) (8.1.12)\n",
      "Requirement already satisfied: wasabi<1.2.0,>=0.9.1 in e:\\school\\anaconda3.1\\envs\\mubea-env\\lib\\site-packages (from spacy) (1.1.3)\n",
      "Requirement already satisfied: srsly<3.0.0,>=2.4.3 in e:\\school\\anaconda3.1\\envs\\mubea-env\\lib\\site-packages (from spacy) (2.4.8)\n",
      "Requirement already satisfied: catalogue<2.1.0,>=2.0.6 in e:\\school\\anaconda3.1\\envs\\mubea-env\\lib\\site-packages (from spacy) (2.0.10)\n",
      "Requirement already satisfied: typer<0.8.0,>=0.3.0 in e:\\school\\anaconda3.1\\envs\\mubea-env\\lib\\site-packages (from spacy) (0.7.0)\n",
      "Requirement already satisfied: pathy>=0.10.0 in e:\\school\\anaconda3.1\\envs\\mubea-env\\lib\\site-packages (from spacy) (0.11.0)\n",
      "Requirement already satisfied: smart-open<7.0.0,>=5.2.1 in e:\\school\\anaconda3.1\\envs\\mubea-env\\lib\\site-packages (from spacy) (6.4.0)\n",
      "Requirement already satisfied: tqdm<5.0.0,>=4.38.0 in e:\\school\\anaconda3.1\\envs\\mubea-env\\lib\\site-packages (from spacy) (4.66.5)\n",
      "Requirement already satisfied: numpy>=1.15.0 in e:\\school\\anaconda3.1\\envs\\mubea-env\\lib\\site-packages (from spacy) (1.24.3)\n",
      "Requirement already satisfied: requests<3.0.0,>=2.13.0 in e:\\school\\anaconda3.1\\envs\\mubea-env\\lib\\site-packages (from spacy) (2.32.3)\n",
      "Requirement already satisfied: pydantic!=1.8,!=1.8.1,<1.11.0,>=1.7.4 in e:\\school\\anaconda3.1\\envs\\mubea-env\\lib\\site-packages (from spacy) (1.10.18)\n",
      "Requirement already satisfied: jinja2 in e:\\school\\anaconda3.1\\envs\\mubea-env\\lib\\site-packages (from spacy) (3.1.4)\n",
      "Requirement already satisfied: setuptools in e:\\school\\anaconda3.1\\envs\\mubea-env\\lib\\site-packages (from spacy) (75.2.0)\n",
      "Requirement already satisfied: packaging>=20.0 in e:\\school\\anaconda3.1\\envs\\mubea-env\\lib\\site-packages (from spacy) (24.1)\n",
      "Requirement already satisfied: langcodes<4.0.0,>=3.2.0 in e:\\school\\anaconda3.1\\envs\\mubea-env\\lib\\site-packages (from spacy) (3.4.1)\n",
      "Requirement already satisfied: language-data>=1.2 in e:\\school\\anaconda3.1\\envs\\mubea-env\\lib\\site-packages (from langcodes<4.0.0,>=3.2.0->spacy) (1.2.0)\n",
      "Requirement already satisfied: pathlib-abc==0.1.1 in e:\\school\\anaconda3.1\\envs\\mubea-env\\lib\\site-packages (from pathy>=0.10.0->spacy) (0.1.1)\n",
      "Requirement already satisfied: typing-extensions>=4.2.0 in e:\\school\\anaconda3.1\\envs\\mubea-env\\lib\\site-packages (from pydantic!=1.8,!=1.8.1,<1.11.0,>=1.7.4->spacy) (4.12.2)\n",
      "Requirement already satisfied: charset-normalizer<4,>=2 in e:\\school\\anaconda3.1\\envs\\mubea-env\\lib\\site-packages (from requests<3.0.0,>=2.13.0->spacy) (3.3.2)\n",
      "Requirement already satisfied: idna<4,>=2.5 in e:\\school\\anaconda3.1\\envs\\mubea-env\\lib\\site-packages (from requests<3.0.0,>=2.13.0->spacy) (3.10)\n",
      "Requirement already satisfied: urllib3<3,>=1.21.1 in e:\\school\\anaconda3.1\\envs\\mubea-env\\lib\\site-packages (from requests<3.0.0,>=2.13.0->spacy) (2.2.3)\n",
      "Requirement already satisfied: certifi>=2017.4.17 in e:\\school\\anaconda3.1\\envs\\mubea-env\\lib\\site-packages (from requests<3.0.0,>=2.13.0->spacy) (2024.8.30)\n",
      "Requirement already satisfied: blis<0.8.0,>=0.7.8 in e:\\school\\anaconda3.1\\envs\\mubea-env\\lib\\site-packages (from thinc<8.2.0,>=8.1.8->spacy) (0.7.11)\n",
      "Requirement already satisfied: confection<1.0.0,>=0.0.1 in e:\\school\\anaconda3.1\\envs\\mubea-env\\lib\\site-packages (from thinc<8.2.0,>=8.1.8->spacy) (0.1.5)\n",
      "Requirement already satisfied: colorama in e:\\school\\anaconda3.1\\envs\\mubea-env\\lib\\site-packages (from tqdm<5.0.0,>=4.38.0->spacy) (0.4.6)\n",
      "Requirement already satisfied: click<9.0.0,>=7.1.1 in e:\\school\\anaconda3.1\\envs\\mubea-env\\lib\\site-packages (from typer<0.8.0,>=0.3.0->spacy) (8.1.7)\n",
      "Requirement already satisfied: MarkupSafe>=2.0 in e:\\school\\anaconda3.1\\envs\\mubea-env\\lib\\site-packages (from jinja2->spacy) (2.1.5)\n",
      "Requirement already satisfied: marisa-trie>=0.7.7 in e:\\school\\anaconda3.1\\envs\\mubea-env\\lib\\site-packages (from language-data>=1.2->langcodes<4.0.0,>=3.2.0->spacy) (1.2.1)\n"
     ]
    }
   ],
   "source": [
    "!pip install pdfplumber\n",
    "!pip install pyspellchecker\n",
    "!pip install spacy\n",
    "import pdfplumber\n"
   ]
  },
  {
   "cell_type": "code",
   "execution_count": 2,
   "metadata": {
    "collapsed": true,
    "id": "SOZj76Ca1Y9P"
   },
   "outputs": [],
   "source": [
    "## Path to the pdf\n",
    "pdf_path = \"E:\\SCHOOL\\Phase 5\\Kenya Constitution\\Kenya Constitution.pdf\"\n",
    "\n",
    "with pdfplumber.open(pdf_path) as pdf:\n",
    "  for page in pdf.pages:\n",
    "      text = page.extract_text()"
   ]
  },
  {
   "cell_type": "markdown",
   "metadata": {
    "id": "01biCDv-zwDq"
   },
   "source": []
  },
  {
   "cell_type": "code",
   "execution_count": 3,
   "metadata": {
    "id": "vG72Snf64-yh"
   },
   "outputs": [],
   "source": [
    "## Function to extract text from specific pages\n",
    "\n",
    "def extract_specific_pages(pdf_path, start_page, end_page):\n",
    "  with pdfplumber.open(pdf_path) as pdf:\n",
    "    num_pages = len(pdf.pages) # Get the total number of pages in the PDF.\n",
    "    extracted_text = \"\"\n",
    "    # Adjust page numbers to be within the valid range\n",
    "    start_page = max(0, min(start_page, num_pages - 1))\n",
    "    end_page = max(0, min(end_page, num_pages))\n",
    "    for page_num in range(start_page, end_page):\n",
    "      page = pdf.pages[page_num]\n",
    "      extracted_text += page.extract_text() + \"\\n\"\n",
    "    return extracted_text"
   ]
  },
  {
   "cell_type": "markdown",
   "metadata": {
    "id": "YsGluid-4H8L"
   },
   "source": [
    "### Chapter 13"
   ]
  },
  {
   "cell_type": "code",
   "execution_count": 4,
   "metadata": {
    "colab": {
     "base_uri": "https://localhost:8080/",
     "height": 122
    },
    "collapsed": true,
    "id": "kF4F2NI14FvF",
    "outputId": "fed22afe-6362-49b2-c512-a48b51b40005"
   },
   "outputs": [
    {
     "data": {
      "text/plain": [
       "'Constitution of Kenya, 2010 139\\nCHAPTER THIRTEEN—THE PUBLIC SERVICE\\nPART 1—VALUES AND PRINCIPLES OF PUBLIC SERVICE\\nValues and principles of public service.\\n232. (1) The values and principles of public service include—\\n(a) high standards of professional ethics;\\n(b) efficient, effective and economic use of resources;\\n(c) responsive, prompt, effective, impartial and equitable\\nprovision of services;\\n(d) involvement of the people in the process of policy making;\\n(e) accountability for administrative acts;\\n(f) transparency and provision to the public of timely, accurate\\ninformation;\\n(g) subject to paragraphs (h) and (i), fair competition and merit as\\nthe basis of appointments and promotions;\\n(h) representation of Kenya’s diverse communities; and\\n(i) affording adequate and equal opportunities for appointment,\\ntraining and advancement, at all levels of the public service,\\nof—\\n(i) men and women;\\n(ii) the members of all ethnic groups; and\\n(iii) persons with disabilities.\\n(2) The values and principles of public service apply to public\\nservice in—\\n(a) all State organs in both levels of government; and\\n(b) all State corporations.\\n(3) Parliament shall enact legislation to give full effect to this\\nArticle.\\nPART 2—THE PUBLIC SERVICE COMMISSION\\nThe Public Service Commission.\\n233. (1) There is established the Public Service Commission.\\n140 Constitution of Kenya, 2010\\n(2) The Public Service Commission consists of a chairperson, a\\nvice chairperson and seven other members appointed by the President\\nwith the approval of the National Assembly.\\n(3) Subject to clause (4), a person is not eligible for appointment\\nas a member of the Commission if the person––\\n(a) has, at any time within the preceding five years, held office, or\\nstood for election as—\\n(i) a member of Parliament or of a county assembly; or\\n(ii) a member of the governing body of a political party; or\\n(b) holds any State office;\\n(c) is, or has at any time been, a candidate for election as a\\nmember of Parliament or of a county assembly; or\\n(d) is, or has at any time been, the holder of an office in any\\npolitical organisation that sponsors or otherwise supports, or\\nhas at any time sponsored or otherwise supported, a\\ncandidate for election as a member of Parliament or of a\\ncounty assembly.\\n(4) Clause (3) (c) and (d) cease to apply to a person after two\\ngeneral elections for Parliament have been held since the person\\nceased to be such a candidate or office holder.\\n(5) There shall be a secretary to the Commission.\\n(6) The secretary—\\n(a) is the chief executive of the Commission; and\\n(b) shall be appointed by the Commission for a term of five years,\\nand is eligible for re-appointment once.\\nFunctions and powers of the Public Service Commission.\\n234. (1) The functions and powers of the Commission are as set\\nout in this Article.\\n(2) The Commission shall—\\n(a) subject to this Constitution and legislation—\\n(i) establish and abolish offices in the public service; and\\n(ii) appoint persons to hold or act in those offices, and to\\nconfirm appointments;\\nConstitution of Kenya, 2010 141\\n(b) exercise disciplinary control over and remove persons holding\\nor acting in those offices;\\n(c) promote the values and principles referred to in Articles 10\\nand 232 throughout the public service;\\n(d) investigate, monitor and evaluate the organisation,\\nadministration and personnel practices of the public service;\\n(e) ensure that the public service is efficient and effective;\\n(f) develop human resources in the public service;\\n(g) review and make recommendations to the national\\ngovernment in respect of conditions of service, code of\\nconduct and qualifications of officers in the public service;\\n(h) evaluate and report to the President and Parliament on the\\nextent to which the values and principles referred to in\\nArticles 10 and 232 are complied with in the public service;\\n(i) hear and determine appeals in respect of county governments’\\npublic service; and\\n(j) perform any other functions and exercise any other powers\\nconferred by national legislation.\\n(3) Clauses (1) and (2) shall not apply to any of the following\\noffices in the public service—\\n(a) State offices;\\n(b) an office of high commissioner, ambassador or other\\ndiplomatic or consular representative of the Republic;\\n(c) an office or position subject to—\\n(i) the Parliamentary Service Commission;\\n(ii) the Judicial Service Commission;\\n(iii) the Teachers Service Commission;\\n(iv) the National Police Service Commission; or\\n(b) an office in the service of a county government, except as\\ncontemplated in clause (2) (i).\\n142 Constitution of Kenya, 2010\\n(4) The Commission shall not appoint a person under clause (2)\\nto hold or act in any office on the personal staff of the President or a\\nretired President, except with the consent of the President or retired\\nPresident.\\n(5) The Commission may delegate, in writing, with or without\\nconditions, any of its functions and powers under this Article to any\\none or more of its members, or to any officer, body or authority in the\\npublic service.\\nStaffing of county governments.\\n235. (1) A county government is responsible, within a framework\\nof uniform norms and standards prescribed by an Act of Parliament,\\nfor—\\n(a) establishing and abolishing offices in its public service;\\n(b) appointing persons to hold or act in those offices, and\\nconfirming appointments; and\\n(c) exercising disciplinary control over and removing persons\\nholding or acting in those offices.\\n(2) Clause (1) shall not apply to any office or position subject to\\nthe Teachers Service Commission.\\nProtection of public officers.\\n236. A public officer shall not be—\\n(a) victimised or discriminated against for having performed the\\nfunctions of office in accordance with this Constitution or any\\nother law; or\\n(b) dismissed, removed from office, demoted in rank or otherwise\\nsubjected to disciplinary action without due process of law.\\nPART 3—TEACHERS SERVICE COMMISSION\\nTeachers Service Commission.\\n237. (1) There is established the Teachers Service Commission.\\n(2) The functions of the Commission are—\\n(a) to register trained teachers;\\n(b) to recruit and employ registered teachers;\\nConstitution of Kenya, 2010 143\\n(c) to assign teachers employed by the Commission for service in\\nany public school or institution;\\n(d) to promote and transfer teachers;\\n(e) to exercise disciplinary control over teachers; and\\n(f) to terminate the employment of teachers.\\n(3) The Commission shall—\\n(a) review the standards of education and training of persons\\nentering the teaching service;\\n(b) review the demand for and the supply of teachers; and\\n(c) advise the national government on matters relating to the\\nteaching profession.\\nCHAPTER FOURTEEN—NATIONAL SECURITY\\nPART 1—NATIONAL SECURITY ORGANS\\nPrinciples of national security.\\n238. (1) National security is the protection against internal and\\nexternal threats to Kenya’s territorial integrity and sovereignty, its\\npeople, their rights, freedoms, property, peace, stability and prosperity,\\nand other national interests.\\n(2) The national security of Kenya shall be promoted and\\nguaranteed in accordance with the following principles—\\n(a) national security is subject to the authority of this Constitution\\nand Parliament;\\n(b) national security shall be pursued in compliance with the law\\nand with the utmost respect for the rule of law, democracy,\\nhuman rights and fundamental freedoms;\\n(c) in performing their functions and exercising their powers,\\nnational security organs shall respect the diverse culture of\\nthe communities within Kenya; and\\n(d) recruitment by the national security organs shall reflect the\\ndiversity of the Kenyan people in equitable proportions.\\nNational security organs.\\n239. (1) The national security organs are—\\n'"
      ]
     },
     "execution_count": 4,
     "metadata": {},
     "output_type": "execute_result"
    }
   ],
   "source": [
    "chapter_13 = extract_specific_pages(pdf_path, 138,143)\n",
    "chapter_13"
   ]
  },
  {
   "cell_type": "markdown",
   "metadata": {
    "id": "vPU0Ae2r5ya4"
   },
   "source": [
    "Since chapter 14 is included in the last page of cahpter 13, let's trim it to only contain information on chapter 13"
   ]
  },
  {
   "cell_type": "code",
   "execution_count": 5,
   "metadata": {
    "colab": {
     "base_uri": "https://localhost:8080/",
     "height": 122
    },
    "collapsed": true,
    "id": "XQAlS7RT4nnh",
    "outputId": "936e4125-1c19-477b-8fa3-6fe81b03cc3d"
   },
   "outputs": [
    {
     "data": {
      "text/plain": [
       "'Constitution of Kenya, 2010 139\\nCHAPTER THIRTEEN—THE PUBLIC SERVICE\\nPART 1—VALUES AND PRINCIPLES OF PUBLIC SERVICE\\nValues and principles of public service.\\n232. (1) The values and principles of public service include—\\n(a) high standards of professional ethics;\\n(b) efficient, effective and economic use of resources;\\n(c) responsive, prompt, effective, impartial and equitable\\nprovision of services;\\n(d) involvement of the people in the process of policy making;\\n(e) accountability for administrative acts;\\n(f) transparency and provision to the public of timely, accurate\\ninformation;\\n(g) subject to paragraphs (h) and (i), fair competition and merit as\\nthe basis of appointments and promotions;\\n(h) representation of Kenya’s diverse communities; and\\n(i) affording adequate and equal opportunities for appointment,\\ntraining and advancement, at all levels of the public service,\\nof—\\n(i) men and women;\\n(ii) the members of all ethnic groups; and\\n(iii) persons with disabilities.\\n(2) The values and principles of public service apply to public\\nservice in—\\n(a) all State organs in both levels of government; and\\n(b) all State corporations.\\n(3) Parliament shall enact legislation to give full effect to this\\nArticle.\\nPART 2—THE PUBLIC SERVICE COMMISSION\\nThe Public Service Commission.\\n233. (1) There is established the Public Service Commission.\\n140 Constitution of Kenya, 2010\\n(2) The Public Service Commission consists of a chairperson, a\\nvice chairperson and seven other members appointed by the President\\nwith the approval of the National Assembly.\\n(3) Subject to clause (4), a person is not eligible for appointment\\nas a member of the Commission if the person––\\n(a) has, at any time within the preceding five years, held office, or\\nstood for election as—\\n(i) a member of Parliament or of a county assembly; or\\n(ii) a member of the governing body of a political party; or\\n(b) holds any State office;\\n(c) is, or has at any time been, a candidate for election as a\\nmember of Parliament or of a county assembly; or\\n(d) is, or has at any time been, the holder of an office in any\\npolitical organisation that sponsors or otherwise supports, or\\nhas at any time sponsored or otherwise supported, a\\ncandidate for election as a member of Parliament or of a\\ncounty assembly.\\n(4) Clause (3) (c) and (d) cease to apply to a person after two\\ngeneral elections for Parliament have been held since the person\\nceased to be such a candidate or office holder.\\n(5) There shall be a secretary to the Commission.\\n(6) The secretary—\\n(a) is the chief executive of the Commission; and\\n(b) shall be appointed by the Commission for a term of five years,\\nand is eligible for re-appointment once.\\nFunctions and powers of the Public Service Commission.\\n234. (1) The functions and powers of the Commission are as set\\nout in this Article.\\n(2) The Commission shall—\\n(a) subject to this Constitution and legislation—\\n(i) establish and abolish offices in the public service; and\\n(ii) appoint persons to hold or act in those offices, and to\\nconfirm appointments;\\nConstitution of Kenya, 2010 141\\n(b) exercise disciplinary control over and remove persons holding\\nor acting in those offices;\\n(c) promote the values and principles referred to in Articles 10\\nand 232 throughout the public service;\\n(d) investigate, monitor and evaluate the organisation,\\nadministration and personnel practices of the public service;\\n(e) ensure that the public service is efficient and effective;\\n(f) develop human resources in the public service;\\n(g) review and make recommendations to the national\\ngovernment in respect of conditions of service, code of\\nconduct and qualifications of officers in the public service;\\n(h) evaluate and report to the President and Parliament on the\\nextent to which the values and principles referred to in\\nArticles 10 and 232 are complied with in the public service;\\n(i) hear and determine appeals in respect of county governments’\\npublic service; and\\n(j) perform any other functions and exercise any other powers\\nconferred by national legislation.\\n(3) Clauses (1) and (2) shall not apply to any of the following\\noffices in the public service—\\n(a) State offices;\\n(b) an office of high commissioner, ambassador or other\\ndiplomatic or consular representative of the Republic;\\n(c) an office or position subject to—\\n(i) the Parliamentary Service Commission;\\n(ii) the Judicial Service Commission;\\n(iii) the Teachers Service Commission;\\n(iv) the National Police Service Commission; or\\n(b) an office in the service of a county government, except as\\ncontemplated in clause (2) (i).\\n142 Constitution of Kenya, 2010\\n(4) The Commission shall not appoint a person under clause (2)\\nto hold or act in any office on the personal staff of the President or a\\nretired President, except with the consent of the President or retired\\nPresident.\\n(5) The Commission may delegate, in writing, with or without\\nconditions, any of its functions and powers under this Article to any\\none or more of its members, or to any officer, body or authority in the\\npublic service.\\nStaffing of county governments.\\n235. (1) A county government is responsible, within a framework\\nof uniform norms and standards prescribed by an Act of Parliament,\\nfor—\\n(a) establishing and abolishing offices in its public service;\\n(b) appointing persons to hold or act in those offices, and\\nconfirming appointments; and\\n(c) exercising disciplinary control over and removing persons\\nholding or acting in those offices.\\n(2) Clause (1) shall not apply to any office or position subject to\\nthe Teachers Service Commission.\\nProtection of public officers.\\n236. A public officer shall not be—\\n(a) victimised or discriminated against for having performed the\\nfunctions of office in accordance with this Constitution or any\\nother law; or\\n(b) dismissed, removed from office, demoted in rank or otherwise\\nsubjected to disciplinary action without due process of law.\\nPART 3—TEACHERS SERVICE COMMISSION\\nTeachers Service Commission.\\n237. (1) There is established the Teachers Service Commission.\\n(2) The functions of the Commission are—\\n(a) to register trained teachers;\\n(b) to recruit and employ registered teachers;\\nConstitution of Kenya, 2010 143\\n(c) to assign teachers employed by the Commission for service in\\nany public school or institution;\\n(d) to promote and transfer teachers;\\n(e) to exercise disciplinary control over teachers; and\\n(f) to terminate the employment of teachers.\\n(3) The Commission shall—\\n(a) review the standards of education and training of persons\\nentering the teaching service;\\n(b) review the demand for and the supply of teachers; and\\n(c) advise the national government on matters relating to the\\nteaching profession.'"
      ]
     },
     "execution_count": 5,
     "metadata": {},
     "output_type": "execute_result"
    }
   ],
   "source": [
    "chapter_13_trimmed = chapter_13.split(\"CHAPTER FOURTEEN\")[0].strip()\n",
    "chapter_13_trimmed"
   ]
  },
  {
   "cell_type": "code",
   "execution_count": 6,
   "metadata": {
    "id": "I1VjTPyy77Ym"
   },
   "outputs": [],
   "source": [
    "import spacy"
   ]
  },
  {
   "cell_type": "code",
   "execution_count": 7,
   "metadata": {
    "colab": {
     "base_uri": "https://localhost:8080/"
    },
    "id": "P2yVGqdH6alE",
    "outputId": "95ff69e7-dcef-4311-f38b-769925338bf4"
   },
   "outputs": [
    {
     "name": "stdout",
     "output_type": "stream",
     "text": [
      "value principle public service\n"
     ]
    }
   ],
   "source": [
    "## load spacy\n",
    "nlp = spacy.load(\"en_core_web_sm\")\n",
    "\n",
    "## preprocess the user query using spacy\n",
    "\n",
    "def preprocess_query(query):\n",
    "  ## Parse the query with spacy\n",
    "  doc = nlp(query)\n",
    "  ## Normalize the query: lowercase,lemmatize and remove stopwords\n",
    "  tokens = [token.lemma_.lower()for token in doc if not token.is_stop and not token.is_punct]\n",
    "  return \" \".join(tokens)\n",
    "\n",
    "## Example\n",
    "user_query = \"What are Values and principles of public service?\"\n",
    "processed_query= preprocess_query(user_query)\n",
    "print(processed_query)\n"
   ]
  },
  {
   "cell_type": "markdown",
   "metadata": {
    "id": "E4v-an2hKOeS"
   },
   "source": [
    " Now let's split the chapter into three different sections which will increase the chatbot's accuracy in answering questions."
   ]
  },
  {
   "cell_type": "code",
   "execution_count": 45,
   "metadata": {
    "id": "c20er5yA71t-"
   },
   "outputs": [],
   "source": [
    "def split_chapter(chapter_text):\n",
    "  #split at key headings and split extra white spaces\n",
    "\n",
    "  sections = {\n",
    "      \"principle\":[],\n",
    "      \"public service commission\":[],\n",
    "      \"functions\":[],\n",
    "      \"staffing\":[],\n",
    "      \"protection\":[],\n",
    "      \"teacher service commission\":[]\n",
    "  }\n",
    "\n",
    "  ## Split by new lines to process line by line\n",
    "  lines = chapter_text.splitlines()\n",
    "  current_section = None\n",
    "\n",
    "  for line in lines:\n",
    "    line = line.strip()\n",
    "    # Use line instead of stripped_line\n",
    "    if line.startswith(\"Values and principles of public service\"):\n",
    "      current_section = \"principle\"\n",
    "    elif line.startswith(\"The Public Service Commission\"):\n",
    "        current_section = \"public service commission\"\n",
    "    elif line.startswith(\"Functions and powers of the Public Service Commission\"):\n",
    "        current_section = \"functions\"\n",
    "    elif line.startswith(\"Staffing of county governments\"):\n",
    "        current_section = \"staffing\"\n",
    "    elif line.startswith(\"Protection of public officers\"):\n",
    "        current_section = \"protection\"\n",
    "    elif line.startswith(\"Teachers Service Commission\"):\n",
    "            current_section = \"teacher service commission\"\n",
    "\n",
    "    # Append line to the current section if it's set\n",
    "    if current_section:\n",
    "        sections[current_section].append(line) # Use line instead of stripped_line\n",
    "  ## Join each section into single string\n",
    "  for key in sections:\n",
    "    sections[key] = \"\\n\".join(sections[key])\n",
    "  return sections\n",
    "\n",
    "chapter_13_sections = split_chapter(chapter_13_trimmed)"
   ]
  },
  {
   "cell_type": "markdown",
   "metadata": {
    "id": "ESp_9Fzimaxi"
   },
   "source": [
    "Question and Answer mapping based on key phrases and corresponding sections."
   ]
  },
  {
   "cell_type": "code",
   "execution_count": 46,
   "metadata": {
    "colab": {
     "base_uri": "https://localhost:8080/"
    },
    "collapsed": true,
    "id": "3WgABtg_q3Kf",
    "outputId": "0e23a025-e15c-460b-ae9c-60776ef14006"
   },
   "outputs": [
    {
     "name": "stdout",
     "output_type": "stream",
     "text": [
      "preprocessed_query : teacher service commission\n",
      "key : principle\n",
      "key : public service commission\n",
      "key : functions\n",
      "key : staffing\n",
      "key : protection\n",
      "key : teacher service commission\n",
      "key : teacher service commission\n",
      "Teachers Service Commission.\n",
      "237. (1) There is established the Teachers Service Commission.\n",
      "(2) The functions of the Commission are—\n",
      "(a) to register trained teachers;\n",
      "(b) to recruit and employ registered teachers;\n",
      "Constitution of Kenya, 2010 143\n",
      "(c) to assign teachers employed by the Commission for service in\n",
      "any public school or institution;\n",
      "(d) to promote and transfer teachers;\n",
      "(e) to exercise disciplinary control over teachers; and\n",
      "(f) to terminate the employment of teachers.\n",
      "(3) The Commission shall—\n",
      "(a) review the standards of education and training of persons\n",
      "entering the teaching service;\n",
      "(b) review the demand for and the supply of teachers; and\n",
      "(c) advise the national government on matters relating to the\n",
      "teaching profession.\n"
     ]
    }
   ],
   "source": [
    "## Define the sections variable with Chapter 13\n",
    "sections = chapter_13_sections\n",
    "\n",
    "\n",
    "#Define the Q&A mapping\n",
    "qa_mapping = {\n",
    "    \"principle\": \"Values and principles of public service\",\n",
    "    \"public service commission\": \"The Public Service Commission\",\n",
    "    \"functions\": \"Functions and powers of the Public Service Commission\",\n",
    "    \"staffing\" : \"Staffing of county governments\",\n",
    "    \"protection\": \"Protection of public officers\",\n",
    "    \"teacher service commission\": \"Teachers Service Commision\"\n",
    "}\n",
    "\n",
    "##Update the Q&A system to use preprocessed queries\n",
    "def answer_question_nlp(query):\n",
    "  # Preprocess the user query\n",
    "  processed_query = preprocess_query(query)\n",
    "  # Debug line\n",
    "  print(f\"preprocessed_query : {processed_query}\")\n",
    "\n",
    "  #Search for a key in QA_mapping that matches the preprocessed query\n",
    "  for key, value in qa_mapping.items(): # Iterate through key-value pairs of QA_mapping\n",
    "    print(f\"key : {key}\")\n",
    "    if key in processed_query:\n",
    "      print(f\"key : {key}\")\n",
    "    ## Return the relevant section in the text\n",
    "      return sections[key] # Access sections using the full section name (value in QA_mapping)\n",
    "  return \"Sorry, I couldn't find an answer to your question.\"\n",
    "\n",
    "##Example\n",
    "user_query = \"What about teacher service commission?\"\n",
    "answer = answer_question_nlp(user_query) # Pass the user_query\n",
    "print(answer)\n"
   ]
  },
  {
   "cell_type": "markdown",
   "metadata": {
    "id": "nmeMYFTmxsQ-"
   },
   "source": [
    "### Chapter 14\n"
   ]
  },
  {
   "cell_type": "code",
   "execution_count": 12,
   "metadata": {
    "colab": {
     "base_uri": "https://localhost:8080/",
     "height": 122
    },
    "collapsed": true,
    "id": "1xLp-KeEpBnn",
    "outputId": "35003f54-61a5-4db2-a54b-570b9e9769ee"
   },
   "outputs": [
    {
     "data": {
      "text/plain": [
       "'Constitution of Kenya, 2010 143\\n(c) to assign teachers employed by the Commission for service in\\nany public school or institution;\\n(d) to promote and transfer teachers;\\n(e) to exercise disciplinary control over teachers; and\\n(f) to terminate the employment of teachers.\\n(3) The Commission shall—\\n(a) review the standards of education and training of persons\\nentering the teaching service;\\n(b) review the demand for and the supply of teachers; and\\n(c) advise the national government on matters relating to the\\nteaching profession.\\nCHAPTER FOURTEEN—NATIONAL SECURITY\\nPART 1—NATIONAL SECURITY ORGANS\\nPrinciples of national security.\\n238. (1) National security is the protection against internal and\\nexternal threats to Kenya’s territorial integrity and sovereignty, its\\npeople, their rights, freedoms, property, peace, stability and prosperity,\\nand other national interests.\\n(2) The national security of Kenya shall be promoted and\\nguaranteed in accordance with the following principles—\\n(a) national security is subject to the authority of this Constitution\\nand Parliament;\\n(b) national security shall be pursued in compliance with the law\\nand with the utmost respect for the rule of law, democracy,\\nhuman rights and fundamental freedoms;\\n(c) in performing their functions and exercising their powers,\\nnational security organs shall respect the diverse culture of\\nthe communities within Kenya; and\\n(d) recruitment by the national security organs shall reflect the\\ndiversity of the Kenyan people in equitable proportions.\\nNational security organs.\\n239. (1) The national security organs are—\\n144 Constitution of Kenya, 2010\\n(a) the Kenya Defence Forces;\\n(b) the National Intelligence Service; and\\n(c) the National Police Service.\\n(2) The primary object of the national security organs and\\nsecurity system is to promote and guarantee national security in\\naccordance with the principles mentioned in Article 238 (2).\\n(3) In performing their functions and exercising their powers, the\\nnational security organs and every member of the national security\\norgans shall not—\\n(a) act in a partisan manner;\\n(b) further any interest of a political party or cause; or\\n(c) prejudice a political interest or political cause that is legitimate\\nunder this Constitution.\\n(4) A person shall not establish a military, paramilitary, or similar\\norganisation that purports to promote and guarantee national security,\\nexcept as provided for by this Constitution or an Act of Parliament.\\n(5) The national security organs are subordinate to civilian\\nauthority.\\n(6) Parliament shall enact legislation to provide for the functions,\\norganisation and administration of the national security organs.\\nEstablishment of the National Security Council\\n240. (1) There is established a National Security Council.\\n(2) The Council consists of—\\n(a) the President;\\n(b) the Deputy President;\\n(c) the Cabinet Secretary responsible for defence;\\n(d) the Cabinet Secretary responsible for foreign affairs;\\n(e) the Cabinet Secretary responsible for internal security;\\n(f) the Attorney-General;\\n(g) the Chief of Kenya Defence Forces;\\nConstitution of Kenya, 2010 145\\n(h) the Director-General of the National Intelligence Service; and\\n(i) the Inspector-General of the National Police Service.\\n(3) The Council shall exercise supervisory control over national\\nsecurity organs and perform any other functions prescribed by national\\nlegislation.\\n(4) The President shall preside at meetings of the Council.\\n(5) The Council shall appoint its secretary.\\n(6) The Council shall—\\n(a) integrate the domestic, foreign and military policies relating to\\nnational security in order to enable the national security\\norgans to co-operate and function effectively; and\\n(b) assess and appraise the objectives, commitments and risks to\\nthe Republic in respect of actual and potential national\\nsecurity capabilities.\\n(7) The Council shall report annually to Parliament on the state of\\nthe security of Kenya.\\n(8) The Council may, with the approval of Parliament—\\n(a) deploy national forces outside Kenya for—\\n(i) regional or international peace support operations; or\\n(ii) other support operations; and\\n(b) approve the deployment of foreign forces in Kenya.\\nPART 2—THE KENYA DEFENCE FORCES\\nEstablishment of Defence Forces and Defence Council.\\n241. (1) There are established the Kenya Defence Forces.\\n(2) The Defence Forces consist of—\\n(a) the Kenya Army;\\n(b) the Kenya Air Force; and\\n(c) the Kenya Navy.\\n(3) The Defence Forces—\\n146 Constitution of Kenya, 2010\\n(a) are responsible for the defence and protection of the\\nsovereignty and territorial integrity of the Republic;\\n(b) shall assist and cooperate with other authorities in situations\\nof emergency or disaster, and report to the National\\nAssembly whenever deployed in such circumstances; and\\n(c) may be deployed to restore peace in any part of Kenya\\naffected by unrest or instability only with the approval of the\\nNational Assembly.\\n(4) The composition of the command of the Defence Forces shall\\nreflect the regional and ethnic diversity of the people of Kenya.\\n(5) There is established a Defence Council.\\n(6) The Council consist of—\\n(a) the Cabinet Secretary responsible for defence, who is the\\nchairperson;\\n(b) the Chief of the Kenya Defence Forces;\\n(c) the three commanders of the defence forces; and\\n(d) the Principal Secretary in the Ministry responsible for defence.\\n(7) The Council—\\n(a) is responsible for the overall policy, control, and supervision of\\nthe Kenya Defence Forces; and\\n(b) performs any other functions prescribed by national\\nlegislation.\\nPART 3—THE NATIONAL INTELLIGENCE SERVICE\\nEstablishment of National Intelligence Service.\\n242. (1) There is established the National Intelligence Service.\\n(2) The National Intelligence Service—\\n(a) is responsible for security intelligence and counter intelligence\\nto enhance national security in accordance with this\\nConstitution; and\\n(b) performs any other functions prescribed by national\\nlegislation.\\nConstitution of Kenya, 2010 147\\nPART 4—THE NATIONAL POLICE SERVICE\\nEstablishment of the National Police Service.\\n243. (1) There is established the National Police Service.\\n(2) The National Police Service consists of—\\n(a) the Kenya Police Service; and\\n(b) the Administration Police Service.\\n(3) The National Police Service is a national service and shall\\nfunction throughout Kenya.\\n(4) Parliament shall enact legislation to give full effect to this\\nArticle.\\nObjects and functions of the National Police Service.\\n244. The National Police Service shall—\\n(a) strive for the highest standards of professionalism and\\ndiscipline among its members;\\n(b) prevent corruption and promote and practice transparency\\nand accountability;\\n(c) comply with constitutional standards of human rights and\\nfundamental freedoms;\\n(d) train staff to the highest possible standards of competence\\nand integrity and to respect human rights and fundamental\\nfreedoms and dignity; and\\n(e) foster and promote relationships with the broader society.\\nCommand of the National Police Service.\\n245. (1) There is established the office of the Inspector-General\\nof the National Police Service.\\n(2) The Inspector-General—\\n(a) is appointed by the President with the approval of Parliament;\\nand\\n(b) shall exercise independent command over the National Police\\nService, and perform any other functions prescribed by\\nnational legislation.\\n148 Constitution of Kenya, 2010\\n(3) The Kenya Police Service and the Administration Police\\nService shall each be headed by a Deputy Inspector-General\\nappointed by the President in accordance with the recommendation of\\nthe National Police Service Commission.\\n(4) The Cabinet secretary responsible for police services may\\nlawfully give a direction to the Inspector-General with respect to any\\nmatter of policy for the National Police Service, but no person may\\ngive a direction to the Inspector-General with respect to—\\n(a) the investigation of any particular offence or offences;\\n(b) the enforcement of the law against any particular person or\\npersons; or\\n(c) the employment, assignment, promotion, suspension or\\ndismissal of any member of the National Police Service.\\n(5) Any direction given to the Inspector-General by the Cabinet\\nsecretary responsible for police services under clause (4), or any\\ndirection given to the Inspector-General by the Director of Public\\nProsecutions under Article 157(4), shall be in writing.\\n(6) The Inspector-General shall be appointed for a single four-\\nyear term, and is not eligible for re-appointment.\\n(7) The Inspector-General may be removed from office by the\\nPresident only on the grounds of—\\n(a) serious violation of this Constitution or any other law,\\nincluding a contravention of Chapter Six;\\n(b) gross misconduct whether in the performance of the office\\nholder’s functions or otherwise;\\n(c) physical or mental incapacity to perform the functions of\\noffice;\\n(d) incompetence;\\n(e) bankruptcy; or\\n(f) any other just cause.\\n(8) Parliament shall enact legislation to give full effect to this\\nArticle.\\nNational Police Service Commission.\\n246. (1) There is established the National Police Service\\nConstitution of Kenya, 2010 149\\nCommission.\\n(2) The Commission consists of—\\n(a) the following persons, each appointed by the President—\\n(i) a person who is qualified to be appointed as a High\\nCourt Judge;\\n(ii) two retired senior police officers; and\\n(iii) three persons of integrity who have served the public with\\ndistinction;\\n(b) the Inspector-General of the National Police Service; and\\n(c) both Deputy Inspectors-General of the National Police\\nService.\\n(3) The Commission shall—\\n(a) recruit and appoint persons to hold or act in offices in the\\nservice, confirm appointments, and determine promotions\\nand transfers within the National Police Service;\\n(b) observing due process, exercise disciplinary control over and\\nremove persons holding or acting in offices within the\\nService; and\\n(c) perform any other functions prescribed by national legislation.\\n(4) The composition of the National Police Service shall reflect\\nthe regional and ethnic diversity of the people of Kenya.\\nOther police services.\\n247. Parliament may enact legislation establishing other police\\nservices under the supervision of the National Police Service and the\\ncommand of the Inspector-General of the Service.\\nCHAPTER FIFTEEN—COMMISSIONS AND INDEPENDENT\\nOFFICES\\nApplication of Chapter.\\n248. (1) This Chapter applies to the commissions specified in\\nclause (2) and the independent offices specified in clause (3), except\\nto the extent that this Constitution provides otherwise.\\n(2) The commissions are—\\n150 Constitution of Kenya, 2010\\n(a) the Kenya National Human Rights and Equality Commission;\\n(b) the National Land Commission;\\n(c) the Independent Electoral and Boundaries Commission;\\n(d) the Parliamentary Service Commission;\\n(e) the Judicial Service Commission;\\n(f) the Commission on Revenue Allocation;\\n(g) the Public Service Commission;\\n(h) the Salaries and Remuneration Commission;\\n(i) the Teachers Service Commission; and\\n(j) the National Police Service Commission.\\n(3) The independent offices are—\\n(a) the Auditor-General; and\\n(b) the Controller of Budget.\\nObjects, authority and funding of commissions and independent\\noffices.\\n249. (1) The objects of the commissions and the independent\\noffices are to—\\n(a) protect the sovereignty of the people;\\n(b) secure the observance by all State organs of democratic\\nvalues and principles; and\\n(c) promote constitutionalism.\\n(2) The commissions and the holders of independent offices—\\n(a) are subject only to this Constitution and the law; and\\n(b) are independent and not subject to direction or control by any\\nperson or authority.\\n(3) Parliament shall allocate adequate funds to enable each\\ncommission and independent office to perform its functions and the\\nbudget of each commission and independent office shall be a separate\\nvote.\\n'"
      ]
     },
     "execution_count": 12,
     "metadata": {},
     "output_type": "execute_result"
    }
   ],
   "source": [
    "chapter_14 = extract_specific_pages(pdf_path, 142,150)\n",
    "chapter_14"
   ]
  },
  {
   "cell_type": "markdown",
   "metadata": {
    "id": "ZijgukeKyMzR"
   },
   "source": [
    "Since Chapter 14 starts in the same page as the end of chapter 13.Let's trim it.\n"
   ]
  },
  {
   "cell_type": "code",
   "execution_count": 13,
   "metadata": {
    "colab": {
     "base_uri": "https://localhost:8080/",
     "height": 122
    },
    "collapsed": true,
    "id": "vJb_dQ7zyMRV",
    "outputId": "cfea67fe-f608-4655-d8bf-85e78d0727a5"
   },
   "outputs": [
    {
     "data": {
      "text/plain": [
       "'CHAPTER FOURTEEN—NATIONAL SECURITY\\nPART 1—NATIONAL SECURITY ORGANS\\nPrinciples of national security.\\n238. (1) National security is the protection against internal and\\nexternal threats to Kenya’s territorial integrity and sovereignty, its\\npeople, their rights, freedoms, property, peace, stability and prosperity,\\nand other national interests.\\n(2) The national security of Kenya shall be promoted and\\nguaranteed in accordance with the following principles—\\n(a) national security is subject to the authority of this Constitution\\nand Parliament;\\n(b) national security shall be pursued in compliance with the law\\nand with the utmost respect for the rule of law, democracy,\\nhuman rights and fundamental freedoms;\\n(c) in performing their functions and exercising their powers,\\nnational security organs shall respect the diverse culture of\\nthe communities within Kenya; and\\n(d) recruitment by the national security organs shall reflect the\\ndiversity of the Kenyan people in equitable proportions.\\nNational security organs.\\n239. (1) The national security organs are—\\n144 Constitution of Kenya, 2010\\n(a) the Kenya Defence Forces;\\n(b) the National Intelligence Service; and\\n(c) the National Police Service.\\n(2) The primary object of the national security organs and\\nsecurity system is to promote and guarantee national security in\\naccordance with the principles mentioned in Article 238 (2).\\n(3) In performing their functions and exercising their powers, the\\nnational security organs and every member of the national security\\norgans shall not—\\n(a) act in a partisan manner;\\n(b) further any interest of a political party or cause; or\\n(c) prejudice a political interest or political cause that is legitimate\\nunder this Constitution.\\n(4) A person shall not establish a military, paramilitary, or similar\\norganisation that purports to promote and guarantee national security,\\nexcept as provided for by this Constitution or an Act of Parliament.\\n(5) The national security organs are subordinate to civilian\\nauthority.\\n(6) Parliament shall enact legislation to provide for the functions,\\norganisation and administration of the national security organs.\\nEstablishment of the National Security Council\\n240. (1) There is established a National Security Council.\\n(2) The Council consists of—\\n(a) the President;\\n(b) the Deputy President;\\n(c) the Cabinet Secretary responsible for defence;\\n(d) the Cabinet Secretary responsible for foreign affairs;\\n(e) the Cabinet Secretary responsible for internal security;\\n(f) the Attorney-General;\\n(g) the Chief of Kenya Defence Forces;\\nConstitution of Kenya, 2010 145\\n(h) the Director-General of the National Intelligence Service; and\\n(i) the Inspector-General of the National Police Service.\\n(3) The Council shall exercise supervisory control over national\\nsecurity organs and perform any other functions prescribed by national\\nlegislation.\\n(4) The President shall preside at meetings of the Council.\\n(5) The Council shall appoint its secretary.\\n(6) The Council shall—\\n(a) integrate the domestic, foreign and military policies relating to\\nnational security in order to enable the national security\\norgans to co-operate and function effectively; and\\n(b) assess and appraise the objectives, commitments and risks to\\nthe Republic in respect of actual and potential national\\nsecurity capabilities.\\n(7) The Council shall report annually to Parliament on the state of\\nthe security of Kenya.\\n(8) The Council may, with the approval of Parliament—\\n(a) deploy national forces outside Kenya for—\\n(i) regional or international peace support operations; or\\n(ii) other support operations; and\\n(b) approve the deployment of foreign forces in Kenya.\\nPART 2—THE KENYA DEFENCE FORCES\\nEstablishment of Defence Forces and Defence Council.\\n241. (1) There are established the Kenya Defence Forces.\\n(2) The Defence Forces consist of—\\n(a) the Kenya Army;\\n(b) the Kenya Air Force; and\\n(c) the Kenya Navy.\\n(3) The Defence Forces—\\n146 Constitution of Kenya, 2010\\n(a) are responsible for the defence and protection of the\\nsovereignty and territorial integrity of the Republic;\\n(b) shall assist and cooperate with other authorities in situations\\nof emergency or disaster, and report to the National\\nAssembly whenever deployed in such circumstances; and\\n(c) may be deployed to restore peace in any part of Kenya\\naffected by unrest or instability only with the approval of the\\nNational Assembly.\\n(4) The composition of the command of the Defence Forces shall\\nreflect the regional and ethnic diversity of the people of Kenya.\\n(5) There is established a Defence Council.\\n(6) The Council consist of—\\n(a) the Cabinet Secretary responsible for defence, who is the\\nchairperson;\\n(b) the Chief of the Kenya Defence Forces;\\n(c) the three commanders of the defence forces; and\\n(d) the Principal Secretary in the Ministry responsible for defence.\\n(7) The Council—\\n(a) is responsible for the overall policy, control, and supervision of\\nthe Kenya Defence Forces; and\\n(b) performs any other functions prescribed by national\\nlegislation.\\nPART 3—THE NATIONAL INTELLIGENCE SERVICE\\nEstablishment of National Intelligence Service.\\n242. (1) There is established the National Intelligence Service.\\n(2) The National Intelligence Service—\\n(a) is responsible for security intelligence and counter intelligence\\nto enhance national security in accordance with this\\nConstitution; and\\n(b) performs any other functions prescribed by national\\nlegislation.\\nConstitution of Kenya, 2010 147\\nPART 4—THE NATIONAL POLICE SERVICE\\nEstablishment of the National Police Service.\\n243. (1) There is established the National Police Service.\\n(2) The National Police Service consists of—\\n(a) the Kenya Police Service; and\\n(b) the Administration Police Service.\\n(3) The National Police Service is a national service and shall\\nfunction throughout Kenya.\\n(4) Parliament shall enact legislation to give full effect to this\\nArticle.\\nObjects and functions of the National Police Service.\\n244. The National Police Service shall—\\n(a) strive for the highest standards of professionalism and\\ndiscipline among its members;\\n(b) prevent corruption and promote and practice transparency\\nand accountability;\\n(c) comply with constitutional standards of human rights and\\nfundamental freedoms;\\n(d) train staff to the highest possible standards of competence\\nand integrity and to respect human rights and fundamental\\nfreedoms and dignity; and\\n(e) foster and promote relationships with the broader society.\\nCommand of the National Police Service.\\n245. (1) There is established the office of the Inspector-General\\nof the National Police Service.\\n(2) The Inspector-General—\\n(a) is appointed by the President with the approval of Parliament;\\nand\\n(b) shall exercise independent command over the National Police\\nService, and perform any other functions prescribed by\\nnational legislation.\\n148 Constitution of Kenya, 2010\\n(3) The Kenya Police Service and the Administration Police\\nService shall each be headed by a Deputy Inspector-General\\nappointed by the President in accordance with the recommendation of\\nthe National Police Service Commission.\\n(4) The Cabinet secretary responsible for police services may\\nlawfully give a direction to the Inspector-General with respect to any\\nmatter of policy for the National Police Service, but no person may\\ngive a direction to the Inspector-General with respect to—\\n(a) the investigation of any particular offence or offences;\\n(b) the enforcement of the law against any particular person or\\npersons; or\\n(c) the employment, assignment, promotion, suspension or\\ndismissal of any member of the National Police Service.\\n(5) Any direction given to the Inspector-General by the Cabinet\\nsecretary responsible for police services under clause (4), or any\\ndirection given to the Inspector-General by the Director of Public\\nProsecutions under Article 157(4), shall be in writing.\\n(6) The Inspector-General shall be appointed for a single four-\\nyear term, and is not eligible for re-appointment.\\n(7) The Inspector-General may be removed from office by the\\nPresident only on the grounds of—\\n(a) serious violation of this Constitution or any other law,\\nincluding a contravention of Chapter Six;\\n(b) gross misconduct whether in the performance of the office\\nholder’s functions or otherwise;\\n(c) physical or mental incapacity to perform the functions of\\noffice;\\n(d) incompetence;\\n(e) bankruptcy; or\\n(f) any other just cause.\\n(8) Parliament shall enact legislation to give full effect to this\\nArticle.\\nNational Police Service Commission.\\n246. (1) There is established the National Police Service\\nConstitution of Kenya, 2010 149\\nCommission.\\n(2) The Commission consists of—\\n(a) the following persons, each appointed by the President—\\n(i) a person who is qualified to be appointed as a High\\nCourt Judge;\\n(ii) two retired senior police officers; and\\n(iii) three persons of integrity who have served the public with\\ndistinction;\\n(b) the Inspector-General of the National Police Service; and\\n(c) both Deputy Inspectors-General of the National Police\\nService.\\n(3) The Commission shall—\\n(a) recruit and appoint persons to hold or act in offices in the\\nservice, confirm appointments, and determine promotions\\nand transfers within the National Police Service;\\n(b) observing due process, exercise disciplinary control over and\\nremove persons holding or acting in offices within the\\nService; and\\n(c) perform any other functions prescribed by national legislation.\\n(4) The composition of the National Police Service shall reflect\\nthe regional and ethnic diversity of the people of Kenya.\\nOther police services.\\n247. Parliament may enact legislation establishing other police\\nservices under the supervision of the National Police Service and the\\ncommand of the Inspector-General of the Service.'"
      ]
     },
     "execution_count": 13,
     "metadata": {},
     "output_type": "execute_result"
    }
   ],
   "source": [
    "# Trim the chapter_14 text to start from \"CHAPTER FOURTEEN\"\n",
    "chapter_14_trimmed = chapter_14[chapter_14.find(\"CHAPTER FOURTEEN\"):].strip()\n",
    "\n",
    "## Further trim to remove Chapter 15 if it's present on the same page\n",
    "if \"CHAPTER FIFTEEN\" in chapter_14_trimmed:\n",
    "  chapter_14_trimmed = chapter_14_trimmed.split(\"CHAPTER FIFTEEN\")[0].strip()\n",
    "\n",
    "\n",
    "chapter_14_trimmed"
   ]
  },
  {
   "cell_type": "code",
   "execution_count": 14,
   "metadata": {
    "colab": {
     "base_uri": "https://localhost:8080/"
    },
    "id": "5F-EB3h2y6WK",
    "outputId": "3cd6804f-699e-425e-b6f0-21245f96b661"
   },
   "outputs": [
    {
     "name": "stdout",
     "output_type": "stream",
     "text": [
      "principle national security\n"
     ]
    }
   ],
   "source": [
    "## load spacy\n",
    "nlp = spacy.load(\"en_core_web_sm\")\n",
    "\n",
    "## preprocess the user query using spacy\n",
    "\n",
    "def preprocess_query(query):\n",
    "  ## Parse the query with spacy\n",
    "  doc = nlp(query)\n",
    "  ## Normalize the query: lowercase,lemmatize and remove stopwords\n",
    "  tokens = [token.lemma_.lower()for token in doc if not token.is_stop and not token.is_punct]\n",
    "  return \" \".join(tokens)\n",
    "\n",
    "## Example\n",
    "user_query = \"What are the principles of national security?\"\n",
    "preprocess_query= preprocess_query(user_query)\n",
    "print(preprocess_query)\n"
   ]
  },
  {
   "cell_type": "markdown",
   "metadata": {
    "id": "ZeE2C4pD0bdA"
   },
   "source": [
    "Let's split the chapter into sections.\n"
   ]
  },
  {
   "cell_type": "code",
   "execution_count": 15,
   "metadata": {
    "colab": {
     "base_uri": "https://localhost:8080/",
     "height": 122
    },
    "id": "Mn0IRMZeXo7w",
    "outputId": "59295e25-6c3a-4220-924d-679aded54623"
   },
   "outputs": [
    {
     "data": {
      "text/plain": [
       "'CHAPTER FOURTEEN—NATIONAL SECURITY\\nPART 1—NATIONAL SECURITY ORGANS\\nPrinciples of national security.\\n238. (1) National security is the protection against internal and\\nexternal threats to Kenya’s territorial integrity and sovereignty, its\\npeople, their rights, freedoms, property, peace, stability and prosperity,\\nand other national interests.\\n(2) The national security of Kenya shall be promoted and\\nguaranteed in accordance with the following principles—\\n(a) national security is subject to the authority of this Constitution\\nand Parliament;\\n(b) national security shall be pursued in compliance with the law\\nand with the utmost respect for the rule of law, democracy,\\nhuman rights and fundamental freedoms;\\n(c) in performing their functions and exercising their powers,\\nnational security organs shall respect the diverse culture of\\nthe communities within Kenya; and\\n(d) recruitment by the national security organs shall reflect the\\ndiversity of the Kenyan people in equitable proportions.\\nNational security organs.\\n239. (1) The national security organs are—\\n144 Constitution of Kenya, 2010\\n(a) the Kenya Defence Forces;\\n(b) the National Intelligence Service; and\\n(c) the National Police Service.\\n(2) The primary object of the national security organs and\\nsecurity system is to promote and guarantee national security in\\naccordance with the principles mentioned in Article 238 (2).\\n(3) In performing their functions and exercising their powers, the\\nnational security organs and every member of the national security\\norgans shall not—\\n(a) act in a partisan manner;\\n(b) further any interest of a political party or cause; or\\n(c) prejudice a political interest or political cause that is legitimate\\nunder this Constitution.\\n(4) A person shall not establish a military, paramilitary, or similar\\norganisation that purports to promote and guarantee national security,\\nexcept as provided for by this Constitution or an Act of Parliament.\\n(5) The national security organs are subordinate to civilian\\nauthority.\\n(6) Parliament shall enact legislation to provide for the functions,\\norganisation and administration of the national security organs.\\nEstablishment of the National Security Council\\n240. (1) There is established a National Security Council.\\n(2) The Council consists of—\\n(a) the President;\\n(b) the Deputy President;\\n(c) the Cabinet Secretary responsible for defence;\\n(d) the Cabinet Secretary responsible for foreign affairs;\\n(e) the Cabinet Secretary responsible for internal security;\\n(f) the Attorney-General;\\n(g) the Chief of Kenya Defence Forces;\\nConstitution of Kenya, 2010 145\\n(h) the Director-General of the National Intelligence Service; and\\n(i) the Inspector-General of the National Police Service.\\n(3) The Council shall exercise supervisory control over national\\nsecurity organs and perform any other functions prescribed by national\\nlegislation.\\n(4) The President shall preside at meetings of the Council.\\n(5) The Council shall appoint its secretary.\\n(6) The Council shall—\\n(a) integrate the domestic, foreign and military policies relating to\\nnational security in order to enable the national security\\norgans to co-operate and function effectively; and\\n(b) assess and appraise the objectives, commitments and risks to\\nthe Republic in respect of actual and potential national\\nsecurity capabilities.\\n(7) The Council shall report annually to Parliament on the state of\\nthe security of Kenya.\\n(8) The Council may, with the approval of Parliament—\\n(a) deploy national forces outside Kenya for—\\n(i) regional or international peace support operations; or\\n(ii) other support operations; and\\n(b) approve the deployment of foreign forces in Kenya.\\nPART 2—THE KENYA DEFENCE FORCES\\nEstablishment of Defence Forces and Defence Council.\\n241. (1) There are established the Kenya Defence Forces.\\n(2) The Defence Forces consist of—\\n(a) the Kenya Army;\\n(b) the Kenya Air Force; and\\n(c) the Kenya Navy.\\n(3) The Defence Forces—\\n146 Constitution of Kenya, 2010\\n(a) are responsible for the defence and protection of the\\nsovereignty and territorial integrity of the Republic;\\n(b) shall assist and cooperate with other authorities in situations\\nof emergency or disaster, and report to the National\\nAssembly whenever deployed in such circumstances; and\\n(c) may be deployed to restore peace in any part of Kenya\\naffected by unrest or instability only with the approval of the\\nNational Assembly.\\n(4) The composition of the command of the Defence Forces shall\\nreflect the regional and ethnic diversity of the people of Kenya.\\n(5) There is established a Defence Council.\\n(6) The Council consist of—\\n(a) the Cabinet Secretary responsible for defence, who is the\\nchairperson;\\n(b) the Chief of the Kenya Defence Forces;\\n(c) the three commanders of the defence forces; and\\n(d) the Principal Secretary in the Ministry responsible for defence.\\n(7) The Council—\\n(a) is responsible for the overall policy, control, and supervision of\\nthe Kenya Defence Forces; and\\n(b) performs any other functions prescribed by national\\nlegislation.\\nPART 3—THE NATIONAL INTELLIGENCE SERVICE\\nEstablishment of National Intelligence Service.\\n242. (1) There is established the National Intelligence Service.\\n(2) The National Intelligence Service—\\n(a) is responsible for security intelligence and counter intelligence\\nto enhance national security in accordance with this\\nConstitution; and\\n(b) performs any other functions prescribed by national\\nlegislation.\\nConstitution of Kenya, 2010 147\\nPART 4—THE NATIONAL POLICE SERVICE\\nEstablishment of the National Police Service.\\n243. (1) There is established the National Police Service.\\n(2) The National Police Service consists of—\\n(a) the Kenya Police Service; and\\n(b) the Administration Police Service.\\n(3) The National Police Service is a national service and shall\\nfunction throughout Kenya.\\n(4) Parliament shall enact legislation to give full effect to this\\nArticle.\\nObjects and functions of the National Police Service.\\n244. The National Police Service shall—\\n(a) strive for the highest standards of professionalism and\\ndiscipline among its members;\\n(b) prevent corruption and promote and practice transparency\\nand accountability;\\n(c) comply with constitutional standards of human rights and\\nfundamental freedoms;\\n(d) train staff to the highest possible standards of competence\\nand integrity and to respect human rights and fundamental\\nfreedoms and dignity; and\\n(e) foster and promote relationships with the broader society.\\nCommand of the National Police Service.\\n245. (1) There is established the office of the Inspector-General\\nof the National Police Service.\\n(2) The Inspector-General—\\n(a) is appointed by the President with the approval of Parliament;\\nand\\n(b) shall exercise independent command over the National Police\\nService, and perform any other functions prescribed by\\nnational legislation.\\n148 Constitution of Kenya, 2010\\n(3) The Kenya Police Service and the Administration Police\\nService shall each be headed by a Deputy Inspector-General\\nappointed by the President in accordance with the recommendation of\\nthe National Police Service Commission.\\n(4) The Cabinet secretary responsible for police services may\\nlawfully give a direction to the Inspector-General with respect to any\\nmatter of policy for the National Police Service, but no person may\\ngive a direction to the Inspector-General with respect to—\\n(a) the investigation of any particular offence or offences;\\n(b) the enforcement of the law against any particular person or\\npersons; or\\n(c) the employment, assignment, promotion, suspension or\\ndismissal of any member of the National Police Service.\\n(5) Any direction given to the Inspector-General by the Cabinet\\nsecretary responsible for police services under clause (4), or any\\ndirection given to the Inspector-General by the Director of Public\\nProsecutions under Article 157(4), shall be in writing.\\n(6) The Inspector-General shall be appointed for a single four-\\nyear term, and is not eligible for re-appointment.\\n(7) The Inspector-General may be removed from office by the\\nPresident only on the grounds of—\\n(a) serious violation of this Constitution or any other law,\\nincluding a contravention of Chapter Six;\\n(b) gross misconduct whether in the performance of the office\\nholder’s functions or otherwise;\\n(c) physical or mental incapacity to perform the functions of\\noffice;\\n(d) incompetence;\\n(e) bankruptcy; or\\n(f) any other just cause.\\n(8) Parliament shall enact legislation to give full effect to this\\nArticle.\\nNational Police Service Commission.\\n246. (1) There is established the National Police Service\\nConstitution of Kenya, 2010 149\\nCommission.\\n(2) The Commission consists of—\\n(a) the following persons, each appointed by the President—\\n(i) a person who is qualified to be appointed as a High\\nCourt Judge;\\n(ii) two retired senior police officers; and\\n(iii) three persons of integrity who have served the public with\\ndistinction;\\n(b) the Inspector-General of the National Police Service; and\\n(c) both Deputy Inspectors-General of the National Police\\nService.\\n(3) The Commission shall—\\n(a) recruit and appoint persons to hold or act in offices in the\\nservice, confirm appointments, and determine promotions\\nand transfers within the National Police Service;\\n(b) observing due process, exercise disciplinary control over and\\nremove persons holding or acting in offices within the\\nService; and\\n(c) perform any other functions prescribed by national legislation.\\n(4) The composition of the National Police Service shall reflect\\nthe regional and ethnic diversity of the people of Kenya.\\nOther police services.\\n247. Parliament may enact legislation establishing other police\\nservices under the supervision of the National Police Service and the\\ncommand of the Inspector-General of the Service.'"
      ]
     },
     "execution_count": 15,
     "metadata": {},
     "output_type": "execute_result"
    }
   ],
   "source": [
    "chapter_14_trimmed"
   ]
  },
  {
   "cell_type": "code",
   "execution_count": 16,
   "metadata": {
    "id": "umu_ypn6Xo7w"
   },
   "outputs": [],
   "source": [
    "def split_chapter(chapter_text):\n",
    "    # Define sections with lowercase keys\n",
    "    sections = {\n",
    "        \"national security\": [],\n",
    "        \"national security organs\": [],\n",
    "        \"national security council\": [],\n",
    "        \"defence forces\": [],\n",
    "        \"national intelligence service\": [],\n",
    "        \"national police service\": [],\n",
    "        \"functions national police service\": [],\n",
    "        \"command national police service\": [],\n",
    "        \"national police service commission\": [],\n",
    "        \"other police services\": []\n",
    "    }\n",
    "\n",
    "    # Split by new lines to process line by line\n",
    "    lines = chapter_text.splitlines()\n",
    "\n",
    "\n",
    "    current_section = None\n",
    "\n",
    "    for line in lines:\n",
    "        stripped_line = line.strip()\n",
    "\n",
    "        # Match line starts with capitalized section headers\n",
    "        if stripped_line.startswith(\"Principles of national security\"):\n",
    "            current_section = \"national security\"\n",
    "        elif stripped_line.startswith(\"National security organs\"):\n",
    "            current_section = \"national security organs\"\n",
    "        elif stripped_line.startswith(\"Establishment of the National Security Council\"):\n",
    "            current_section = \"national security council\"\n",
    "        elif stripped_line.startswith(\"Establishment of Defence Forces and Defence Council\"):\n",
    "            current_section = \"defence forces\"\n",
    "        elif stripped_line.startswith(\"Establishment of National Intelligence Service\"):\n",
    "            current_section = \"national intelligence service\"\n",
    "        elif stripped_line.startswith(\"Establishment of the National Police Service\"):\n",
    "            current_section = \"national police service\"\n",
    "        elif stripped_line.startswith(\"Objects and Functions of the National Police Service\"):\n",
    "            current_section = \"functions national police service\"\n",
    "        elif stripped_line.startswith(\"Command of the National Police Service\"):\n",
    "            current_section = \"command national police service\"\n",
    "        elif stripped_line.startswith(\"National Police Service Commission\"):\n",
    "            current_section = \"national police service commission\"\n",
    "        elif stripped_line.startswith(\"Other Police Services\"):\n",
    "            current_section = \"other police services\"\n",
    "\n",
    "        # Append line to the current section if it's set\n",
    "        if current_section:\n",
    "            sections[current_section].append(line)\n",
    "\n",
    "    # Join each section into a single string\n",
    "    for key in sections:\n",
    "        sections[key] = \"\\n\".join(sections[key])\n",
    "\n",
    "    return sections\n",
    "\n",
    "# Apply the function to the chapter 14\n",
    "chapter_14_sections = split_chapter(chapter_14_trimmed)\n"
   ]
  },
  {
   "cell_type": "code",
   "execution_count": 17,
   "metadata": {
    "colab": {
     "base_uri": "https://localhost:8080/"
    },
    "id": "MeFWLljLXo7w",
    "outputId": "850e3a0f-b5f3-42b5-8eb3-c0f6c0846250"
   },
   "outputs": [
    {
     "data": {
      "text/plain": [
       "{'national security': 'Principles of national security.\\n238. (1) National security is the protection against internal and\\nexternal threats to Kenya’s territorial integrity and sovereignty, its\\npeople, their rights, freedoms, property, peace, stability and prosperity,\\nand other national interests.\\n(2) The national security of Kenya shall be promoted and\\nguaranteed in accordance with the following principles—\\n(a) national security is subject to the authority of this Constitution\\nand Parliament;\\n(b) national security shall be pursued in compliance with the law\\nand with the utmost respect for the rule of law, democracy,\\nhuman rights and fundamental freedoms;\\n(c) in performing their functions and exercising their powers,\\nnational security organs shall respect the diverse culture of\\nthe communities within Kenya; and\\n(d) recruitment by the national security organs shall reflect the\\ndiversity of the Kenyan people in equitable proportions.',\n",
       " 'national security organs': 'National security organs.\\n239. (1) The national security organs are—\\n144 Constitution of Kenya, 2010\\n(a) the Kenya Defence Forces;\\n(b) the National Intelligence Service; and\\n(c) the National Police Service.\\n(2) The primary object of the national security organs and\\nsecurity system is to promote and guarantee national security in\\naccordance with the principles mentioned in Article 238 (2).\\n(3) In performing their functions and exercising their powers, the\\nnational security organs and every member of the national security\\norgans shall not—\\n(a) act in a partisan manner;\\n(b) further any interest of a political party or cause; or\\n(c) prejudice a political interest or political cause that is legitimate\\nunder this Constitution.\\n(4) A person shall not establish a military, paramilitary, or similar\\norganisation that purports to promote and guarantee national security,\\nexcept as provided for by this Constitution or an Act of Parliament.\\n(5) The national security organs are subordinate to civilian\\nauthority.\\n(6) Parliament shall enact legislation to provide for the functions,\\norganisation and administration of the national security organs.',\n",
       " 'national security council': 'Establishment of the National Security Council\\n240. (1) There is established a National Security Council.\\n(2) The Council consists of—\\n(a) the President;\\n(b) the Deputy President;\\n(c) the Cabinet Secretary responsible for defence;\\n(d) the Cabinet Secretary responsible for foreign affairs;\\n(e) the Cabinet Secretary responsible for internal security;\\n(f) the Attorney-General;\\n(g) the Chief of Kenya Defence Forces;\\nConstitution of Kenya, 2010 145\\n(h) the Director-General of the National Intelligence Service; and\\n(i) the Inspector-General of the National Police Service.\\n(3) The Council shall exercise supervisory control over national\\nsecurity organs and perform any other functions prescribed by national\\nlegislation.\\n(4) The President shall preside at meetings of the Council.\\n(5) The Council shall appoint its secretary.\\n(6) The Council shall—\\n(a) integrate the domestic, foreign and military policies relating to\\nnational security in order to enable the national security\\norgans to co-operate and function effectively; and\\n(b) assess and appraise the objectives, commitments and risks to\\nthe Republic in respect of actual and potential national\\nsecurity capabilities.\\n(7) The Council shall report annually to Parliament on the state of\\nthe security of Kenya.\\n(8) The Council may, with the approval of Parliament—\\n(a) deploy national forces outside Kenya for—\\n(i) regional or international peace support operations; or\\n(ii) other support operations; and\\n(b) approve the deployment of foreign forces in Kenya.\\nPART 2—THE KENYA DEFENCE FORCES',\n",
       " 'defence forces': 'Establishment of Defence Forces and Defence Council.\\n241. (1) There are established the Kenya Defence Forces.\\n(2) The Defence Forces consist of—\\n(a) the Kenya Army;\\n(b) the Kenya Air Force; and\\n(c) the Kenya Navy.\\n(3) The Defence Forces—\\n146 Constitution of Kenya, 2010\\n(a) are responsible for the defence and protection of the\\nsovereignty and territorial integrity of the Republic;\\n(b) shall assist and cooperate with other authorities in situations\\nof emergency or disaster, and report to the National\\nAssembly whenever deployed in such circumstances; and\\n(c) may be deployed to restore peace in any part of Kenya\\naffected by unrest or instability only with the approval of the\\nNational Assembly.\\n(4) The composition of the command of the Defence Forces shall\\nreflect the regional and ethnic diversity of the people of Kenya.\\n(5) There is established a Defence Council.\\n(6) The Council consist of—\\n(a) the Cabinet Secretary responsible for defence, who is the\\nchairperson;\\n(b) the Chief of the Kenya Defence Forces;\\n(c) the three commanders of the defence forces; and\\n(d) the Principal Secretary in the Ministry responsible for defence.\\n(7) The Council—\\n(a) is responsible for the overall policy, control, and supervision of\\nthe Kenya Defence Forces; and\\n(b) performs any other functions prescribed by national\\nlegislation.\\nPART 3—THE NATIONAL INTELLIGENCE SERVICE',\n",
       " 'national intelligence service': 'Establishment of National Intelligence Service.\\n242. (1) There is established the National Intelligence Service.\\n(2) The National Intelligence Service—\\n(a) is responsible for security intelligence and counter intelligence\\nto enhance national security in accordance with this\\nConstitution; and\\n(b) performs any other functions prescribed by national\\nlegislation.\\nConstitution of Kenya, 2010 147\\nPART 4—THE NATIONAL POLICE SERVICE',\n",
       " 'national police service': 'Establishment of the National Police Service.\\n243. (1) There is established the National Police Service.\\n(2) The National Police Service consists of—\\n(a) the Kenya Police Service; and\\n(b) the Administration Police Service.\\n(3) The National Police Service is a national service and shall\\nfunction throughout Kenya.\\n(4) Parliament shall enact legislation to give full effect to this\\nArticle.\\nObjects and functions of the National Police Service.\\n244. The National Police Service shall—\\n(a) strive for the highest standards of professionalism and\\ndiscipline among its members;\\n(b) prevent corruption and promote and practice transparency\\nand accountability;\\n(c) comply with constitutional standards of human rights and\\nfundamental freedoms;\\n(d) train staff to the highest possible standards of competence\\nand integrity and to respect human rights and fundamental\\nfreedoms and dignity; and\\n(e) foster and promote relationships with the broader society.',\n",
       " 'functions national police service': '',\n",
       " 'command national police service': 'Command of the National Police Service.\\n245. (1) There is established the office of the Inspector-General\\nof the National Police Service.\\n(2) The Inspector-General—\\n(a) is appointed by the President with the approval of Parliament;\\nand\\n(b) shall exercise independent command over the National Police\\nService, and perform any other functions prescribed by\\nnational legislation.\\n148 Constitution of Kenya, 2010\\n(3) The Kenya Police Service and the Administration Police\\nService shall each be headed by a Deputy Inspector-General\\nappointed by the President in accordance with the recommendation of\\nthe National Police Service Commission.\\n(4) The Cabinet secretary responsible for police services may\\nlawfully give a direction to the Inspector-General with respect to any\\nmatter of policy for the National Police Service, but no person may\\ngive a direction to the Inspector-General with respect to—\\n(a) the investigation of any particular offence or offences;\\n(b) the enforcement of the law against any particular person or\\npersons; or\\n(c) the employment, assignment, promotion, suspension or\\ndismissal of any member of the National Police Service.\\n(5) Any direction given to the Inspector-General by the Cabinet\\nsecretary responsible for police services under clause (4), or any\\ndirection given to the Inspector-General by the Director of Public\\nProsecutions under Article 157(4), shall be in writing.\\n(6) The Inspector-General shall be appointed for a single four-\\nyear term, and is not eligible for re-appointment.\\n(7) The Inspector-General may be removed from office by the\\nPresident only on the grounds of—\\n(a) serious violation of this Constitution or any other law,\\nincluding a contravention of Chapter Six;\\n(b) gross misconduct whether in the performance of the office\\nholder’s functions or otherwise;\\n(c) physical or mental incapacity to perform the functions of\\noffice;\\n(d) incompetence;\\n(e) bankruptcy; or\\n(f) any other just cause.\\n(8) Parliament shall enact legislation to give full effect to this\\nArticle.',\n",
       " 'national police service commission': 'National Police Service Commission.\\n246. (1) There is established the National Police Service\\nConstitution of Kenya, 2010 149\\nCommission.\\n(2) The Commission consists of—\\n(a) the following persons, each appointed by the President—\\n(i) a person who is qualified to be appointed as a High\\nCourt Judge;\\n(ii) two retired senior police officers; and\\n(iii) three persons of integrity who have served the public with\\ndistinction;\\n(b) the Inspector-General of the National Police Service; and\\n(c) both Deputy Inspectors-General of the National Police\\nService.\\n(3) The Commission shall—\\n(a) recruit and appoint persons to hold or act in offices in the\\nservice, confirm appointments, and determine promotions\\nand transfers within the National Police Service;\\n(b) observing due process, exercise disciplinary control over and\\nremove persons holding or acting in offices within the\\nService; and\\n(c) perform any other functions prescribed by national legislation.\\n(4) The composition of the National Police Service shall reflect\\nthe regional and ethnic diversity of the people of Kenya.\\nOther police services.\\n247. Parliament may enact legislation establishing other police\\nservices under the supervision of the National Police Service and the\\ncommand of the Inspector-General of the Service.',\n",
       " 'other police services': ''}"
      ]
     },
     "execution_count": 17,
     "metadata": {},
     "output_type": "execute_result"
    }
   ],
   "source": [
    "chapter_14_sections"
   ]
  },
  {
   "cell_type": "code",
   "execution_count": 18,
   "metadata": {
    "colab": {
     "base_uri": "https://localhost:8080/"
    },
    "collapsed": true,
    "id": "UJ54Pv3X2vUf",
    "outputId": "b3b33483-22a4-4fdb-88a0-87c532841ea2"
   },
   "outputs": [
    {
     "name": "stdout",
     "output_type": "stream",
     "text": [
      "Principles of National Security Section:\n",
      " Principles of national security.\n",
      "238. (1) National security is the protection against internal and\n",
      "external threats to Kenya’s territorial integrity and sovereignty, its\n",
      "people, their rights, freedoms, property, peace, stability and prosperity,\n",
      "and other national interests.\n",
      "(2) The national security of Kenya shall be promoted and\n",
      "guaranteed in accordance with the following principles—\n",
      "(a) national security is subject to the authority of this Constitution\n",
      "and Parliament;\n",
      "(b) national security shall be pursued in compliance with the law\n",
      "and with the utmost respect for the rule of law, democracy,\n",
      "human rights and fundamental freedoms;\n",
      "(c) in performing their functions and exercising their powers,\n",
      "national security organs shall respect the diverse culture of\n",
      "the communities within Kenya; and\n",
      "(d) recruitment by the national security organs shall reflect the\n",
      "diversity of the Kenyan people in equitable proportions.\n",
      "National security organs Section:\n",
      " National security organs.\n",
      "239. (1) The national security organs are—\n",
      "144 Constitution of Kenya, 2010\n",
      "(a) the Kenya Defence Forces;\n",
      "(b) the National Intelligence Service; and\n",
      "(c) the National Police Service.\n",
      "(2) The primary object of the national security organs and\n",
      "security system is to promote and guarantee national security in\n",
      "accordance with the principles mentioned in Article 238 (2).\n",
      "(3) In performing their functions and exercising their powers, the\n",
      "national security organs and every member of the national security\n",
      "organs shall not—\n",
      "(a) act in a partisan manner;\n",
      "(b) further any interest of a political party or cause; or\n",
      "(c) prejudice a political interest or political cause that is legitimate\n",
      "under this Constitution.\n",
      "(4) A person shall not establish a military, paramilitary, or similar\n",
      "organisation that purports to promote and guarantee national security,\n",
      "except as provided for by this Constitution or an Act of Parliament.\n",
      "(5) The national security organs are subordinate to civilian\n",
      "authority.\n",
      "(6) Parliament shall enact legislation to provide for the functions,\n",
      "organisation and administration of the national security organs.\n"
     ]
    }
   ],
   "source": [
    "print(\"Principles of National Security Section:\\n\", chapter_14_sections[\"national security\"])\n",
    "print(\"National security organs Section:\\n\", chapter_14_sections[\"national security organs\"])"
   ]
  },
  {
   "cell_type": "markdown",
   "metadata": {
    "id": "H0Pe0RWDLiKT"
   },
   "source": [
    "Question and Answer mapping for Chapter 14\n"
   ]
  },
  {
   "cell_type": "code",
   "execution_count": 19,
   "metadata": {
    "colab": {
     "base_uri": "https://localhost:8080/"
    },
    "id": "OgL1tP_jXo7x",
    "outputId": "a9867f15-809e-4810-cc7c-bd101b570f50"
   },
   "outputs": [
    {
     "data": {
      "text/plain": [
       "{'national security': 'Principles of national security.\\n238. (1) National security is the protection against internal and\\nexternal threats to Kenya’s territorial integrity and sovereignty, its\\npeople, their rights, freedoms, property, peace, stability and prosperity,\\nand other national interests.\\n(2) The national security of Kenya shall be promoted and\\nguaranteed in accordance with the following principles—\\n(a) national security is subject to the authority of this Constitution\\nand Parliament;\\n(b) national security shall be pursued in compliance with the law\\nand with the utmost respect for the rule of law, democracy,\\nhuman rights and fundamental freedoms;\\n(c) in performing their functions and exercising their powers,\\nnational security organs shall respect the diverse culture of\\nthe communities within Kenya; and\\n(d) recruitment by the national security organs shall reflect the\\ndiversity of the Kenyan people in equitable proportions.',\n",
       " 'national security organs': 'National security organs.\\n239. (1) The national security organs are—\\n144 Constitution of Kenya, 2010\\n(a) the Kenya Defence Forces;\\n(b) the National Intelligence Service; and\\n(c) the National Police Service.\\n(2) The primary object of the national security organs and\\nsecurity system is to promote and guarantee national security in\\naccordance with the principles mentioned in Article 238 (2).\\n(3) In performing their functions and exercising their powers, the\\nnational security organs and every member of the national security\\norgans shall not—\\n(a) act in a partisan manner;\\n(b) further any interest of a political party or cause; or\\n(c) prejudice a political interest or political cause that is legitimate\\nunder this Constitution.\\n(4) A person shall not establish a military, paramilitary, or similar\\norganisation that purports to promote and guarantee national security,\\nexcept as provided for by this Constitution or an Act of Parliament.\\n(5) The national security organs are subordinate to civilian\\nauthority.\\n(6) Parliament shall enact legislation to provide for the functions,\\norganisation and administration of the national security organs.',\n",
       " 'national security council': 'Establishment of the National Security Council\\n240. (1) There is established a National Security Council.\\n(2) The Council consists of—\\n(a) the President;\\n(b) the Deputy President;\\n(c) the Cabinet Secretary responsible for defence;\\n(d) the Cabinet Secretary responsible for foreign affairs;\\n(e) the Cabinet Secretary responsible for internal security;\\n(f) the Attorney-General;\\n(g) the Chief of Kenya Defence Forces;\\nConstitution of Kenya, 2010 145\\n(h) the Director-General of the National Intelligence Service; and\\n(i) the Inspector-General of the National Police Service.\\n(3) The Council shall exercise supervisory control over national\\nsecurity organs and perform any other functions prescribed by national\\nlegislation.\\n(4) The President shall preside at meetings of the Council.\\n(5) The Council shall appoint its secretary.\\n(6) The Council shall—\\n(a) integrate the domestic, foreign and military policies relating to\\nnational security in order to enable the national security\\norgans to co-operate and function effectively; and\\n(b) assess and appraise the objectives, commitments and risks to\\nthe Republic in respect of actual and potential national\\nsecurity capabilities.\\n(7) The Council shall report annually to Parliament on the state of\\nthe security of Kenya.\\n(8) The Council may, with the approval of Parliament—\\n(a) deploy national forces outside Kenya for—\\n(i) regional or international peace support operations; or\\n(ii) other support operations; and\\n(b) approve the deployment of foreign forces in Kenya.\\nPART 2—THE KENYA DEFENCE FORCES',\n",
       " 'defence forces': 'Establishment of Defence Forces and Defence Council.\\n241. (1) There are established the Kenya Defence Forces.\\n(2) The Defence Forces consist of—\\n(a) the Kenya Army;\\n(b) the Kenya Air Force; and\\n(c) the Kenya Navy.\\n(3) The Defence Forces—\\n146 Constitution of Kenya, 2010\\n(a) are responsible for the defence and protection of the\\nsovereignty and territorial integrity of the Republic;\\n(b) shall assist and cooperate with other authorities in situations\\nof emergency or disaster, and report to the National\\nAssembly whenever deployed in such circumstances; and\\n(c) may be deployed to restore peace in any part of Kenya\\naffected by unrest or instability only with the approval of the\\nNational Assembly.\\n(4) The composition of the command of the Defence Forces shall\\nreflect the regional and ethnic diversity of the people of Kenya.\\n(5) There is established a Defence Council.\\n(6) The Council consist of—\\n(a) the Cabinet Secretary responsible for defence, who is the\\nchairperson;\\n(b) the Chief of the Kenya Defence Forces;\\n(c) the three commanders of the defence forces; and\\n(d) the Principal Secretary in the Ministry responsible for defence.\\n(7) The Council—\\n(a) is responsible for the overall policy, control, and supervision of\\nthe Kenya Defence Forces; and\\n(b) performs any other functions prescribed by national\\nlegislation.\\nPART 3—THE NATIONAL INTELLIGENCE SERVICE',\n",
       " 'national intelligence service': 'Establishment of National Intelligence Service.\\n242. (1) There is established the National Intelligence Service.\\n(2) The National Intelligence Service—\\n(a) is responsible for security intelligence and counter intelligence\\nto enhance national security in accordance with this\\nConstitution; and\\n(b) performs any other functions prescribed by national\\nlegislation.\\nConstitution of Kenya, 2010 147\\nPART 4—THE NATIONAL POLICE SERVICE',\n",
       " 'national police service': 'Establishment of the National Police Service.\\n243. (1) There is established the National Police Service.\\n(2) The National Police Service consists of—\\n(a) the Kenya Police Service; and\\n(b) the Administration Police Service.\\n(3) The National Police Service is a national service and shall\\nfunction throughout Kenya.\\n(4) Parliament shall enact legislation to give full effect to this\\nArticle.\\nObjects and functions of the National Police Service.\\n244. The National Police Service shall—\\n(a) strive for the highest standards of professionalism and\\ndiscipline among its members;\\n(b) prevent corruption and promote and practice transparency\\nand accountability;\\n(c) comply with constitutional standards of human rights and\\nfundamental freedoms;\\n(d) train staff to the highest possible standards of competence\\nand integrity and to respect human rights and fundamental\\nfreedoms and dignity; and\\n(e) foster and promote relationships with the broader society.',\n",
       " 'functions national police service': '',\n",
       " 'command national police service': 'Command of the National Police Service.\\n245. (1) There is established the office of the Inspector-General\\nof the National Police Service.\\n(2) The Inspector-General—\\n(a) is appointed by the President with the approval of Parliament;\\nand\\n(b) shall exercise independent command over the National Police\\nService, and perform any other functions prescribed by\\nnational legislation.\\n148 Constitution of Kenya, 2010\\n(3) The Kenya Police Service and the Administration Police\\nService shall each be headed by a Deputy Inspector-General\\nappointed by the President in accordance with the recommendation of\\nthe National Police Service Commission.\\n(4) The Cabinet secretary responsible for police services may\\nlawfully give a direction to the Inspector-General with respect to any\\nmatter of policy for the National Police Service, but no person may\\ngive a direction to the Inspector-General with respect to—\\n(a) the investigation of any particular offence or offences;\\n(b) the enforcement of the law against any particular person or\\npersons; or\\n(c) the employment, assignment, promotion, suspension or\\ndismissal of any member of the National Police Service.\\n(5) Any direction given to the Inspector-General by the Cabinet\\nsecretary responsible for police services under clause (4), or any\\ndirection given to the Inspector-General by the Director of Public\\nProsecutions under Article 157(4), shall be in writing.\\n(6) The Inspector-General shall be appointed for a single four-\\nyear term, and is not eligible for re-appointment.\\n(7) The Inspector-General may be removed from office by the\\nPresident only on the grounds of—\\n(a) serious violation of this Constitution or any other law,\\nincluding a contravention of Chapter Six;\\n(b) gross misconduct whether in the performance of the office\\nholder’s functions or otherwise;\\n(c) physical or mental incapacity to perform the functions of\\noffice;\\n(d) incompetence;\\n(e) bankruptcy; or\\n(f) any other just cause.\\n(8) Parliament shall enact legislation to give full effect to this\\nArticle.',\n",
       " 'national police service commission': 'National Police Service Commission.\\n246. (1) There is established the National Police Service\\nConstitution of Kenya, 2010 149\\nCommission.\\n(2) The Commission consists of—\\n(a) the following persons, each appointed by the President—\\n(i) a person who is qualified to be appointed as a High\\nCourt Judge;\\n(ii) two retired senior police officers; and\\n(iii) three persons of integrity who have served the public with\\ndistinction;\\n(b) the Inspector-General of the National Police Service; and\\n(c) both Deputy Inspectors-General of the National Police\\nService.\\n(3) The Commission shall—\\n(a) recruit and appoint persons to hold or act in offices in the\\nservice, confirm appointments, and determine promotions\\nand transfers within the National Police Service;\\n(b) observing due process, exercise disciplinary control over and\\nremove persons holding or acting in offices within the\\nService; and\\n(c) perform any other functions prescribed by national legislation.\\n(4) The composition of the National Police Service shall reflect\\nthe regional and ethnic diversity of the people of Kenya.\\nOther police services.\\n247. Parliament may enact legislation establishing other police\\nservices under the supervision of the National Police Service and the\\ncommand of the Inspector-General of the Service.',\n",
       " 'other police services': ''}"
      ]
     },
     "execution_count": 19,
     "metadata": {},
     "output_type": "execute_result"
    }
   ],
   "source": [
    "chapter_14_sections"
   ]
  },
  {
   "cell_type": "code",
   "execution_count": 20,
   "metadata": {
    "colab": {
     "base_uri": "https://localhost:8080/",
     "height": 157
    },
    "collapsed": true,
    "id": "Kr_0pfVQMbem",
    "outputId": "0208b961-1fd9-41d7-b9af-7028e04830f5"
   },
   "outputs": [
    {
     "name": "stdout",
     "output_type": "stream",
     "text": [
      "Processed query: principle national security\n",
      "key: national security\n"
     ]
    },
    {
     "data": {
      "text/plain": [
       "'Principles of national security.\\n238. (1) National security is the protection against internal and\\nexternal threats to Kenya’s territorial integrity and sovereignty, its\\npeople, their rights, freedoms, property, peace, stability and prosperity,\\nand other national interests.\\n(2) The national security of Kenya shall be promoted and\\nguaranteed in accordance with the following principles—\\n(a) national security is subject to the authority of this Constitution\\nand Parliament;\\n(b) national security shall be pursued in compliance with the law\\nand with the utmost respect for the rule of law, democracy,\\nhuman rights and fundamental freedoms;\\n(c) in performing their functions and exercising their powers,\\nnational security organs shall respect the diverse culture of\\nthe communities within Kenya; and\\n(d) recruitment by the national security organs shall reflect the\\ndiversity of the Kenyan people in equitable proportions.'"
      ]
     },
     "execution_count": 20,
     "metadata": {},
     "output_type": "execute_result"
    }
   ],
   "source": [
    "qa_mapping = {\n",
    "    \"national security\": \"national security\",\n",
    "    \"national security organs\": \"national security organs\",\n",
    "    \"national security council\": \"national security council\",\n",
    "    \"defence forces and defence council\": \"defence forces\",\n",
    "    \"national intelligence service\": \"national intelligence service\",\n",
    "    \"national police service\": \"national police service\",\n",
    "    \"functions national police service\": \"functions national police service\",\n",
    "    \"command national police service\": \"command national police service\",\n",
    "    \"national police service commission\": \"national police service commission\",\n",
    "    \"other police services\": \"other police services\"\n",
    "}\n",
    "\n",
    "# Preprocess the user query using spaCy\n",
    "def preprocess_query(query):\n",
    "    # Parse the query with spaCy\n",
    "    doc = nlp(query)\n",
    "    # Normalize the query: lowercase, lemmatize, and remove stopwords\n",
    "    tokens = [token.lemma_.lower() for token in doc if not token.is_stop and not token.is_punct]\n",
    "    return \" \".join(tokens)\n",
    "\n",
    "# Update the Q&A system to use preprocessed queries\n",
    "def answer_question_nlp(query, sections, qa_mapping):\n",
    "    # Preprocess the user query\n",
    "    processed_query = preprocess_query(query)\n",
    "\n",
    "    # Debug\n",
    "    print(f\"Processed query: {processed_query}\")\n",
    "\n",
    "    # Search for a key in qa_mapping that matches the preprocessed query\n",
    "    for key in qa_mapping:\n",
    "        if key in processed_query:\n",
    "            # Debug line\n",
    "            print(f\"key: {key}\")\n",
    "            # Return the relevant section in the text\n",
    "            return sections[key]\n",
    "\n",
    "    return \"Sorry, I couldn't find an answer to your question.\"\n",
    "\n",
    "##Example\n",
    "user_query = \"What are the principles of national security?\"\n",
    "answer = answer_question_nlp(user_query,chapter_14_sections, qa_mapping) # Pass the user_query\n",
    "answer"
   ]
  },
  {
   "cell_type": "markdown",
   "metadata": {
    "id": "J9v_9tzDOQ9R"
   },
   "source": [
    "### Chapter 14 done.\n",
    "\n"
   ]
  },
  {
   "cell_type": "markdown",
   "metadata": {
    "id": "gTfYgGRTJG_7"
   },
   "source": [
    "### Chapter 15"
   ]
  },
  {
   "cell_type": "code",
   "execution_count": 21,
   "metadata": {
    "colab": {
     "base_uri": "https://localhost:8080/",
     "height": 122
    },
    "id": "_4E9rr9COM8q",
    "outputId": "3e7d4e65-d84a-4512-9970-b0fab6307c23"
   },
   "outputs": [
    {
     "data": {
      "text/plain": [
       "'Constitution of Kenya, 2010 149\\nCommission.\\n(2) The Commission consists of—\\n(a) the following persons, each appointed by the President—\\n(i) a person who is qualified to be appointed as a High\\nCourt Judge;\\n(ii) two retired senior police officers; and\\n(iii) three persons of integrity who have served the public with\\ndistinction;\\n(b) the Inspector-General of the National Police Service; and\\n(c) both Deputy Inspectors-General of the National Police\\nService.\\n(3) The Commission shall—\\n(a) recruit and appoint persons to hold or act in offices in the\\nservice, confirm appointments, and determine promotions\\nand transfers within the National Police Service;\\n(b) observing due process, exercise disciplinary control over and\\nremove persons holding or acting in offices within the\\nService; and\\n(c) perform any other functions prescribed by national legislation.\\n(4) The composition of the National Police Service shall reflect\\nthe regional and ethnic diversity of the people of Kenya.\\nOther police services.\\n247. Parliament may enact legislation establishing other police\\nservices under the supervision of the National Police Service and the\\ncommand of the Inspector-General of the Service.\\nCHAPTER FIFTEEN—COMMISSIONS AND INDEPENDENT\\nOFFICES\\nApplication of Chapter.\\n248. (1) This Chapter applies to the commissions specified in\\nclause (2) and the independent offices specified in clause (3), except\\nto the extent that this Constitution provides otherwise.\\n(2) The commissions are—\\n150 Constitution of Kenya, 2010\\n(a) the Kenya National Human Rights and Equality Commission;\\n(b) the National Land Commission;\\n(c) the Independent Electoral and Boundaries Commission;\\n(d) the Parliamentary Service Commission;\\n(e) the Judicial Service Commission;\\n(f) the Commission on Revenue Allocation;\\n(g) the Public Service Commission;\\n(h) the Salaries and Remuneration Commission;\\n(i) the Teachers Service Commission; and\\n(j) the National Police Service Commission.\\n(3) The independent offices are—\\n(a) the Auditor-General; and\\n(b) the Controller of Budget.\\nObjects, authority and funding of commissions and independent\\noffices.\\n249. (1) The objects of the commissions and the independent\\noffices are to—\\n(a) protect the sovereignty of the people;\\n(b) secure the observance by all State organs of democratic\\nvalues and principles; and\\n(c) promote constitutionalism.\\n(2) The commissions and the holders of independent offices—\\n(a) are subject only to this Constitution and the law; and\\n(b) are independent and not subject to direction or control by any\\nperson or authority.\\n(3) Parliament shall allocate adequate funds to enable each\\ncommission and independent office to perform its functions and the\\nbudget of each commission and independent office shall be a separate\\nvote.\\nConstitution of Kenya, 2010 151\\nComposition, appointment and terms of office.\\n250. (1) Each commission shall consist of at least three, but not\\nmore than nine, members.\\n(2) The chairperson and each member of a commission, and the\\nholder of an independent office, shall be—\\n(a) identified and recommended for appointment in a manner\\nprescribed by national legislation;\\n(b) approved by the National Assembly; and\\n(c) appointed by the President.\\n(3) To be appointed, a person shall have the specific\\nqualifications required by this Constitution or national legislation.\\n(4) Appointments to commissions and independent offices shall\\ntake into account the national values referred to in Article 10, and the\\nprinciple that the composition of the commissions and offices, taken as\\na whole, shall reflect the regional and ethnic diversity of the people of\\nKenya.\\n(5) A member of a commission may serve on a part-time basis.\\n(6) A member of a commission, or the holder of an independent\\noffice—\\n(a) unless ex officio, shall be appointed for a single term of six\\nyears and is not eligible for re-appointment; and\\n(b) unless ex officio or part-time, shall not hold any other office or\\nemployment for profit, whether public or private.\\n(7) The remuneration and benefits payable to or in respect of a\\ncommissioner or the holder of an independent office shall be a charge\\non the Consolidated Fund.\\n(8) The remuneration and benefits payable to, or in respect of, a\\ncommissioner or the holder of an independent office shall not be\\nvaried to the disadvantage of that commissioner or holder of an\\nindependent office.\\n(9) A member of a commission, or the holder of an independent\\noffice, is not liable for anything done in good faith in the performance\\nof a function of office.\\n152 Constitution of Kenya, 2010\\n(10) The members of a commission shall elect a vice-chairperson\\nfrom among themselves—\\n(a) at the first sitting of the commission; and\\n(b) whenever it is necessary to fill a vacancy in the office of the\\nvice-chairperson.\\n(11) The chairperson and vice-chairperson of a commission shall\\nnot be of the same gender.\\n(12) There shall be a Secretary to each commission who shall\\nbe—\\n(a) appointed by the commission; and\\n(b) the chief executive officer of the commission.\\nRemoval from office.\\n251. (1) A member of a commission (other than an ex officio\\nmember), or the holder of an independent office, may be removed\\nfrom office only for—\\n(a) serious violation of this Constitution or any other law,\\nincluding a contravention of Chapter Six;\\n(b) gross misconduct, whether in the performance of the\\nmember’s or office holder’s functions or otherwise;\\n(c) physical or mental incapacity to perform the functions of\\noffice;\\n(d) incompetence; or\\n(e) bankruptcy.\\n(2) A person desiring the removal of a member of a commission\\nor of a holder of an independent office on any ground specified in\\nclause (1) may present a petition to the National Assembly setting out\\nthe alleged facts constituting that ground.\\n(3) The National Assembly shall consider the petition and, if it is\\nsatisfied that it discloses a ground under clause (1), shall send the\\npetition to the President.\\n(4) On receiving a petition under clause (3), the President—\\n(a) may suspend the member or office holder pending the\\noutcome of the complaint; and\\nConstitution of Kenya, 2010 153\\n(b) shall appoint a tribunal in accordance with clause (5).\\n(5) The tribunal shall consist of—\\n(a) a person who holds or has held office as a judge of a superior\\ncourt, who shall be the chairperson;\\n(b) at least two persons who are qualified to be appointed as\\nHigh Court judges; and\\n(c) one other member who is qualified to assess the facts in\\nrespect of the particular ground for removal.\\n(6) The tribunal shall investigate the matter expeditiously, report\\non the facts and make a binding recommendation to the President,\\nwho shall act in accordance with the recommendation within thirty\\ndays.\\n(7) A person suspended under this Article is entitled to continue\\nto receive one-half of the remuneration and benefits of the office while\\nsuspended.\\nGeneral functions and powers.\\n252. (1) Each commission, and each holder of an independent\\noffice—\\n(a) may conduct investigations on its own initiative or on a\\ncomplaint made by a member of the public;\\n(b) has the powers necessary for conciliation, mediation and\\nnegotiation;\\n(c) shall recruit its own staff; and\\n(d) may perform any functions and exercise any powers\\nprescribed by legislation, in addition to the functions and\\npowers conferred by this Constitution.\\n(2) A complaint to a commission or the holder of an independent\\noffice may be made by any person entitled to institute court\\nproceedings under Article 22 (1) and (2).\\n(3) The following commissions and independent offices have the\\npower to issue a summons to a witness to assist for the purposes of its\\ninvestigations—\\n(a) the Kenya National Human Rights and Equality Commission;\\n(b) the Judicial Service Commission;\\n154 Constitution of Kenya, 2010\\n(c) the National Land Commission; and\\n(d) the Auditor-General.\\nIncorporation of commissions and independent offices.\\n253. Each commission and each independent office—\\n(a) is a body corporate with perpetual succession and a seal; and\\n(b) is capable of suing and being sued in its corporate name.\\nReporting by commissions and independent offices.\\n254. (1) As soon as practicable after the end of each financial\\nyear, each commission, and each holder of an independent office,\\nshall submit a report to the President and to Parliament.\\n(2) At any time, the President, the National Assembly or the\\nSenate may require a commission or holder of an independent office\\nto submit a report on a particular issue.\\n(3) Every report required from a commission or holder of an\\nindependent office under this Article shall be published and publicised.\\nCHAPTER SIXTEEN—AMENDMENT OF THIS CONSTITUTION\\nAmendment of this Constitution.\\n255. (1) A proposed amendment to this Constitution shall be\\nenacted in accordance with Article 256 or 257, and approved in\\naccordance with clause (2) by a referendum, if the amendment relates\\nto any of the following matters—\\n(a) the supremacy of this Constitution;\\n(b) the territory of Kenya;\\n(c) the sovereignty of the people;\\n(d) the national values and principles of governance referred to in\\nArticle 10 (2) (a) to (d);\\n(e) the Bill of Rights;\\n(f) the term of office of the President;\\n(g) the independence of the Judiciary and the commissions and\\nindependent offices to which Chapter Fifteen applies;\\n(h) the functions of Parliament;\\nConstitution of Kenya, 2010 155\\n(i) the objects, principles and structure of devolved government;\\nor\\n(j) the provisions of this Chapter.\\n(2) A proposed amendment shall be approved by a referendum\\nunder clause (1) if—\\n(a) at least twenty per cent of the registered voters in each of at\\nleast half of the counties vote in the referendum; and\\n(b) the amendment is supported by a simple majority of the\\ncitizens voting in the referendum.\\n(3) An amendment to this Constitution that does not relate to a\\nmatter specified in clause (1) shall be enacted either—\\n(a) by Parliament, in accordance with Article 256; or\\n(b) by the people and Parliament, in accordance with Article 257.\\nAmendment by parliamentary initiative.\\n256. (1) A Bill to amend this Constitution—\\n(a) may be introduced in either House of Parliament;\\n(b) may not address any other matter apart from consequential\\namendments to legislation arising from the Bill;\\n(c) shall not be called for second reading in either House within\\nninety days after the first reading of the Bill in that House; and\\n(d) shall have been passed by Parliament when each House of\\nParliament has passed the Bill, in both its second and third\\nreadings, by not less than two-thirds of all the members of\\nthat House.\\n(2) Parliament shall publicise any Bill to amend this Constitution,\\nand facilitate public discussion about the Bill.\\n(3) After Parliament passes a Bill to amend this Constitution, the\\nSpeakers of the two Houses of Parliament shall jointly submit to the\\nPresident—\\n(a) the Bill, for assent and publication; and\\n(b) a certificate that the Bill has been passed by Parliament in\\naccordance with this Article.\\n'"
      ]
     },
     "execution_count": 21,
     "metadata": {},
     "output_type": "execute_result"
    }
   ],
   "source": [
    "chapter_15 = extract_specific_pages(pdf_path, 148,155)\n",
    "chapter_15"
   ]
  },
  {
   "cell_type": "code",
   "execution_count": 22,
   "metadata": {
    "colab": {
     "base_uri": "https://localhost:8080/",
     "height": 122
    },
    "collapsed": true,
    "id": "zTAxhOBdPKi5",
    "outputId": "2c6fda3f-2bf1-470e-e3f2-275f340c5b3e"
   },
   "outputs": [
    {
     "data": {
      "text/plain": [
       "'CHAPTER FIFTEEN—COMMISSIONS AND INDEPENDENT\\nOFFICES\\nApplication of Chapter.\\n248. (1) This Chapter applies to the commissions specified in\\nclause (2) and the independent offices specified in clause (3), except\\nto the extent that this Constitution provides otherwise.\\n(2) The commissions are—\\n150 Constitution of Kenya, 2010\\n(a) the Kenya National Human Rights and Equality Commission;\\n(b) the National Land Commission;\\n(c) the Independent Electoral and Boundaries Commission;\\n(d) the Parliamentary Service Commission;\\n(e) the Judicial Service Commission;\\n(f) the Commission on Revenue Allocation;\\n(g) the Public Service Commission;\\n(h) the Salaries and Remuneration Commission;\\n(i) the Teachers Service Commission; and\\n(j) the National Police Service Commission.\\n(3) The independent offices are—\\n(a) the Auditor-General; and\\n(b) the Controller of Budget.\\nObjects, authority and funding of commissions and independent\\noffices.\\n249. (1) The objects of the commissions and the independent\\noffices are to—\\n(a) protect the sovereignty of the people;\\n(b) secure the observance by all State organs of democratic\\nvalues and principles; and\\n(c) promote constitutionalism.\\n(2) The commissions and the holders of independent offices—\\n(a) are subject only to this Constitution and the law; and\\n(b) are independent and not subject to direction or control by any\\nperson or authority.\\n(3) Parliament shall allocate adequate funds to enable each\\ncommission and independent office to perform its functions and the\\nbudget of each commission and independent office shall be a separate\\nvote.\\nConstitution of Kenya, 2010 151\\nComposition, appointment and terms of office.\\n250. (1) Each commission shall consist of at least three, but not\\nmore than nine, members.\\n(2) The chairperson and each member of a commission, and the\\nholder of an independent office, shall be—\\n(a) identified and recommended for appointment in a manner\\nprescribed by national legislation;\\n(b) approved by the National Assembly; and\\n(c) appointed by the President.\\n(3) To be appointed, a person shall have the specific\\nqualifications required by this Constitution or national legislation.\\n(4) Appointments to commissions and independent offices shall\\ntake into account the national values referred to in Article 10, and the\\nprinciple that the composition of the commissions and offices, taken as\\na whole, shall reflect the regional and ethnic diversity of the people of\\nKenya.\\n(5) A member of a commission may serve on a part-time basis.\\n(6) A member of a commission, or the holder of an independent\\noffice—\\n(a) unless ex officio, shall be appointed for a single term of six\\nyears and is not eligible for re-appointment; and\\n(b) unless ex officio or part-time, shall not hold any other office or\\nemployment for profit, whether public or private.\\n(7) The remuneration and benefits payable to or in respect of a\\ncommissioner or the holder of an independent office shall be a charge\\non the Consolidated Fund.\\n(8) The remuneration and benefits payable to, or in respect of, a\\ncommissioner or the holder of an independent office shall not be\\nvaried to the disadvantage of that commissioner or holder of an\\nindependent office.\\n(9) A member of a commission, or the holder of an independent\\noffice, is not liable for anything done in good faith in the performance\\nof a function of office.\\n152 Constitution of Kenya, 2010\\n(10) The members of a commission shall elect a vice-chairperson\\nfrom among themselves—\\n(a) at the first sitting of the commission; and\\n(b) whenever it is necessary to fill a vacancy in the office of the\\nvice-chairperson.\\n(11) The chairperson and vice-chairperson of a commission shall\\nnot be of the same gender.\\n(12) There shall be a Secretary to each commission who shall\\nbe—\\n(a) appointed by the commission; and\\n(b) the chief executive officer of the commission.\\nRemoval from office.\\n251. (1) A member of a commission (other than an ex officio\\nmember), or the holder of an independent office, may be removed\\nfrom office only for—\\n(a) serious violation of this Constitution or any other law,\\nincluding a contravention of Chapter Six;\\n(b) gross misconduct, whether in the performance of the\\nmember’s or office holder’s functions or otherwise;\\n(c) physical or mental incapacity to perform the functions of\\noffice;\\n(d) incompetence; or\\n(e) bankruptcy.\\n(2) A person desiring the removal of a member of a commission\\nor of a holder of an independent office on any ground specified in\\nclause (1) may present a petition to the National Assembly setting out\\nthe alleged facts constituting that ground.\\n(3) The National Assembly shall consider the petition and, if it is\\nsatisfied that it discloses a ground under clause (1), shall send the\\npetition to the President.\\n(4) On receiving a petition under clause (3), the President—\\n(a) may suspend the member or office holder pending the\\noutcome of the complaint; and\\nConstitution of Kenya, 2010 153\\n(b) shall appoint a tribunal in accordance with clause (5).\\n(5) The tribunal shall consist of—\\n(a) a person who holds or has held office as a judge of a superior\\ncourt, who shall be the chairperson;\\n(b) at least two persons who are qualified to be appointed as\\nHigh Court judges; and\\n(c) one other member who is qualified to assess the facts in\\nrespect of the particular ground for removal.\\n(6) The tribunal shall investigate the matter expeditiously, report\\non the facts and make a binding recommendation to the President,\\nwho shall act in accordance with the recommendation within thirty\\ndays.\\n(7) A person suspended under this Article is entitled to continue\\nto receive one-half of the remuneration and benefits of the office while\\nsuspended.\\nGeneral functions and powers.\\n252. (1) Each commission, and each holder of an independent\\noffice—\\n(a) may conduct investigations on its own initiative or on a\\ncomplaint made by a member of the public;\\n(b) has the powers necessary for conciliation, mediation and\\nnegotiation;\\n(c) shall recruit its own staff; and\\n(d) may perform any functions and exercise any powers\\nprescribed by legislation, in addition to the functions and\\npowers conferred by this Constitution.\\n(2) A complaint to a commission or the holder of an independent\\noffice may be made by any person entitled to institute court\\nproceedings under Article 22 (1) and (2).\\n(3) The following commissions and independent offices have the\\npower to issue a summons to a witness to assist for the purposes of its\\ninvestigations—\\n(a) the Kenya National Human Rights and Equality Commission;\\n(b) the Judicial Service Commission;\\n154 Constitution of Kenya, 2010\\n(c) the National Land Commission; and\\n(d) the Auditor-General.\\nIncorporation of commissions and independent offices.\\n253. Each commission and each independent office—\\n(a) is a body corporate with perpetual succession and a seal; and\\n(b) is capable of suing and being sued in its corporate name.\\nReporting by commissions and independent offices.\\n254. (1) As soon as practicable after the end of each financial\\nyear, each commission, and each holder of an independent office,\\nshall submit a report to the President and to Parliament.\\n(2) At any time, the President, the National Assembly or the\\nSenate may require a commission or holder of an independent office\\nto submit a report on a particular issue.\\n(3) Every report required from a commission or holder of an\\nindependent office under this Article shall be published and publicised.'"
      ]
     },
     "execution_count": 22,
     "metadata": {},
     "output_type": "execute_result"
    }
   ],
   "source": [
    "# Trim the chapter_15 text to start from \"CHAPTER FIFTEEN\"\n",
    "chapter_15_trimmed = chapter_15[chapter_15.find(\"CHAPTER FIFTEEN\"):].strip()\n",
    "\n",
    "# Further trim to remove Chapter 16 if it's present on the same page\n",
    "if \"CHAPTER SIXTEEN\" in chapter_15_trimmed:\n",
    "  chapter_15_trimmed = chapter_15_trimmed.split(\"CHAPTER SIXTEEN\")[0].strip()\n",
    "\n",
    "chapter_15_trimmed"
   ]
  },
  {
   "cell_type": "code",
   "execution_count": 23,
   "metadata": {
    "colab": {
     "base_uri": "https://localhost:8080/",
     "height": 122
    },
    "collapsed": true,
    "id": "Di1X6aJ8RTJ9",
    "outputId": "477fce4e-6feb-4595-a43e-df5309cb3165"
   },
   "outputs": [
    {
     "data": {
      "text/plain": [
       "'CHAPTER FIFTEEN—COMMISSIONS AND INDEPENDENT\\nOFFICES\\nApplication of Chapter.\\n248. (1) This Chapter applies to the commissions specified in\\nclause (2) and the independent offices specified in clause (3), except\\nto the extent that this Constitution provides otherwise.\\n(2) The commissions are—\\n150 Constitution of Kenya, 2010\\n(a) the Kenya National Human Rights and Equality Commission;\\n(b) the National Land Commission;\\n(c) the Independent Electoral and Boundaries Commission;\\n(d) the Parliamentary Service Commission;\\n(e) the Judicial Service Commission;\\n(f) the Commission on Revenue Allocation;\\n(g) the Public Service Commission;\\n(h) the Salaries and Remuneration Commission;\\n(i) the Teachers Service Commission; and\\n(j) the National Police Service Commission.\\n(3) The independent offices are—\\n(a) the Auditor-General; and\\n(b) the Controller of Budget.\\nObjects, authority and funding of commissions and independent\\noffices.\\n249. (1) The objects of the commissions and the independent\\noffices are to—\\n(a) protect the sovereignty of the people;\\n(b) secure the observance by all State organs of democratic\\nvalues and principles; and\\n(c) promote constitutionalism.\\n(2) The commissions and the holders of independent offices—\\n(a) are subject only to this Constitution and the law; and\\n(b) are independent and not subject to direction or control by any\\nperson or authority.\\n(3) Parliament shall allocate adequate funds to enable each\\ncommission and independent office to perform its functions and the\\nbudget of each commission and independent office shall be a separate\\nvote.\\nConstitution of Kenya, 2010 151\\nComposition, appointment and terms of office.\\n250. (1) Each commission shall consist of at least three, but not\\nmore than nine, members.\\n(2) The chairperson and each member of a commission, and the\\nholder of an independent office, shall be—\\n(a) identified and recommended for appointment in a manner\\nprescribed by national legislation;\\n(b) approved by the National Assembly; and\\n(c) appointed by the President.\\n(3) To be appointed, a person shall have the specific\\nqualifications required by this Constitution or national legislation.\\n(4) Appointments to commissions and independent offices shall\\ntake into account the national values referred to in Article 10, and the\\nprinciple that the composition of the commissions and offices, taken as\\na whole, shall reflect the regional and ethnic diversity of the people of\\nKenya.\\n(5) A member of a commission may serve on a part-time basis.\\n(6) A member of a commission, or the holder of an independent\\noffice—\\n(a) unless ex officio, shall be appointed for a single term of six\\nyears and is not eligible for re-appointment; and\\n(b) unless ex officio or part-time, shall not hold any other office or\\nemployment for profit, whether public or private.\\n(7) The remuneration and benefits payable to or in respect of a\\ncommissioner or the holder of an independent office shall be a charge\\non the Consolidated Fund.\\n(8) The remuneration and benefits payable to, or in respect of, a\\ncommissioner or the holder of an independent office shall not be\\nvaried to the disadvantage of that commissioner or holder of an\\nindependent office.\\n(9) A member of a commission, or the holder of an independent\\noffice, is not liable for anything done in good faith in the performance\\nof a function of office.\\n152 Constitution of Kenya, 2010\\n(10) The members of a commission shall elect a vice-chairperson\\nfrom among themselves—\\n(a) at the first sitting of the commission; and\\n(b) whenever it is necessary to fill a vacancy in the office of the\\nvice-chairperson.\\n(11) The chairperson and vice-chairperson of a commission shall\\nnot be of the same gender.\\n(12) There shall be a Secretary to each commission who shall\\nbe—\\n(a) appointed by the commission; and\\n(b) the chief executive officer of the commission.\\nRemoval from office.\\n251. (1) A member of a commission (other than an ex officio\\nmember), or the holder of an independent office, may be removed\\nfrom office only for—\\n(a) serious violation of this Constitution or any other law,\\nincluding a contravention of Chapter Six;\\n(b) gross misconduct, whether in the performance of the\\nmember’s or office holder’s functions or otherwise;\\n(c) physical or mental incapacity to perform the functions of\\noffice;\\n(d) incompetence; or\\n(e) bankruptcy.\\n(2) A person desiring the removal of a member of a commission\\nor of a holder of an independent office on any ground specified in\\nclause (1) may present a petition to the National Assembly setting out\\nthe alleged facts constituting that ground.\\n(3) The National Assembly shall consider the petition and, if it is\\nsatisfied that it discloses a ground under clause (1), shall send the\\npetition to the President.\\n(4) On receiving a petition under clause (3), the President—\\n(a) may suspend the member or office holder pending the\\noutcome of the complaint; and\\nConstitution of Kenya, 2010 153\\n(b) shall appoint a tribunal in accordance with clause (5).\\n(5) The tribunal shall consist of—\\n(a) a person who holds or has held office as a judge of a superior\\ncourt, who shall be the chairperson;\\n(b) at least two persons who are qualified to be appointed as\\nHigh Court judges; and\\n(c) one other member who is qualified to assess the facts in\\nrespect of the particular ground for removal.\\n(6) The tribunal shall investigate the matter expeditiously, report\\non the facts and make a binding recommendation to the President,\\nwho shall act in accordance with the recommendation within thirty\\ndays.\\n(7) A person suspended under this Article is entitled to continue\\nto receive one-half of the remuneration and benefits of the office while\\nsuspended.\\nGeneral functions and powers.\\n252. (1) Each commission, and each holder of an independent\\noffice—\\n(a) may conduct investigations on its own initiative or on a\\ncomplaint made by a member of the public;\\n(b) has the powers necessary for conciliation, mediation and\\nnegotiation;\\n(c) shall recruit its own staff; and\\n(d) may perform any functions and exercise any powers\\nprescribed by legislation, in addition to the functions and\\npowers conferred by this Constitution.\\n(2) A complaint to a commission or the holder of an independent\\noffice may be made by any person entitled to institute court\\nproceedings under Article 22 (1) and (2).\\n(3) The following commissions and independent offices have the\\npower to issue a summons to a witness to assist for the purposes of its\\ninvestigations—\\n(a) the Kenya National Human Rights and Equality Commission;\\n(b) the Judicial Service Commission;\\n154 Constitution of Kenya, 2010\\n(c) the National Land Commission; and\\n(d) the Auditor-General.\\nIncorporation of commissions and independent offices.\\n253. Each commission and each independent office—\\n(a) is a body corporate with perpetual succession and a seal; and\\n(b) is capable of suing and being sued in its corporate name.\\nReporting by commissions and independent offices.\\n254. (1) As soon as practicable after the end of each financial\\nyear, each commission, and each holder of an independent office,\\nshall submit a report to the President and to Parliament.\\n(2) At any time, the President, the National Assembly or the\\nSenate may require a commission or holder of an independent office\\nto submit a report on a particular issue.\\n(3) Every report required from a commission or holder of an\\nindependent office under this Article shall be published and publicised.'"
      ]
     },
     "execution_count": 23,
     "metadata": {},
     "output_type": "execute_result"
    }
   ],
   "source": [
    "##Further trim to remove Chapter 16 if it's present on the same page\n",
    "\n",
    "if \"CHAPTER SIXTEEN\" in chapter_15_trimmed:\n",
    "  chapter_15_trimmed = chapter_15_trimmed.split(\"CHAPTER SIXTEEN\")[0].strip()\n",
    "\n",
    "chapter_15_trimmed"
   ]
  },
  {
   "cell_type": "code",
   "execution_count": 24,
   "metadata": {
    "colab": {
     "base_uri": "https://localhost:8080/"
    },
    "id": "rOkoecraRWiU",
    "outputId": "025c6eea-c072-4462-b592-516c6741ff87"
   },
   "outputs": [
    {
     "name": "stdout",
     "output_type": "stream",
     "text": [
      "commission independent office\n"
     ]
    }
   ],
   "source": [
    "## preprocess the user query using spacy\n",
    "\n",
    "def preprocess_query(query):\n",
    "  ## Parse the query with spacy\n",
    "  doc = nlp(query)\n",
    "  ## Normalize the query: lowercase,lemmatize and remove stopwords\n",
    "  tokens = [token.lemma_.lower()for token in doc if not token.is_stop and not token.is_punct]\n",
    "  return \" \".join(tokens)\n",
    "\n",
    "## Example\n",
    "user_query = \"What are the commissions and independent offices?\"\n",
    "preprocess_query= preprocess_query(user_query)\n",
    "print(preprocess_query)"
   ]
  },
  {
   "cell_type": "markdown",
   "metadata": {
    "id": "_VowQAnHmXeo"
   },
   "source": [
    "Now let's split chapter fifteen into sections."
   ]
  },
  {
   "cell_type": "code",
   "execution_count": 25,
   "metadata": {
    "colab": {
     "base_uri": "https://localhost:8080/"
    },
    "collapsed": true,
    "id": "atx847ggquXM",
    "outputId": "b7098b12-f4d0-488c-8596-c31484cea84e"
   },
   "outputs": [
    {
     "name": "stdout",
     "output_type": "stream",
     "text": [
      "Application of Chapter Section:\n",
      " Application of Chapter.\n",
      "248. (1) This Chapter applies to the commissions specified in\n",
      "clause (2) and the independent offices specified in clause (3), except\n",
      "to the extent that this Constitution provides otherwise.\n",
      "(2) The commissions are—\n",
      "150 Constitution of Kenya, 2010\n",
      "(a) the Kenya National Human Rights and Equality Commission;\n",
      "(b) the National Land Commission;\n",
      "(c) the Independent Electoral and Boundaries Commission;\n",
      "(d) the Parliamentary Service Commission;\n",
      "(e) the Judicial Service Commission;\n",
      "(f) the Commission on Revenue Allocation;\n",
      "(g) the Public Service Commission;\n",
      "(h) the Salaries and Remuneration Commission;\n",
      "(i) the Teachers Service Commission; and\n",
      "(j) the National Police Service Commission.\n",
      "(3) The independent offices are—\n",
      "(a) the Auditor-General; and\n",
      "(b) the Controller of Budget.\n",
      "Objects, authority and funding of commissions and independent\n",
      "offices.\n",
      "249. (1) The objects of the commissions and the independent\n",
      "offices are to—\n",
      "(a) protect the sovereignty of the people;\n",
      "(b) secure the observance by all State organs of democratic\n",
      "values and principles; and\n",
      "(c) promote constitutionalism.\n",
      "(2) The commissions and the holders of independent offices—\n",
      "(a) are subject only to this Constitution and the law; and\n",
      "(b) are independent and not subject to direction or control by any\n",
      "person or authority.\n",
      "(3) Parliament shall allocate adequate funds to enable each\n",
      "commission and independent office to perform its functions and the\n",
      "budget of each commission and independent office shall be a separate\n",
      "vote.\n",
      "Constitution of Kenya, 2010 151\n",
      "Objects,authority and funding of commissions and independent offices Section:\n",
      " \n"
     ]
    }
   ],
   "source": [
    "def split_chapter_15(chapter_text):\n",
    "  #split at key headings and split extra white spaces\n",
    "  # Initialize sections as a dictionary with list values\n",
    "  sections = {\n",
    "        \"application of chapter\": [],\n",
    "        \"commission independent office\": [],\n",
    "        \"term of office\": [],\n",
    "        \"removal from office\": [],\n",
    "        \"general function power\": [],\n",
    "        \"incorporation commission independent office\": [],\n",
    "        \"reporting commission independent office\": []\n",
    "    }\n",
    "\n",
    "  # Split by new lines to process line by line\n",
    "  lines = chapter_text.splitlines()\n",
    "  current_section = None\n",
    "\n",
    "  for line in lines:\n",
    "    stripped_line = line.strip()\n",
    "\n",
    "    if line.startswith(\"Application of Chapter\"):\n",
    "          current_section = \"application of chapter\"\n",
    "    elif line.startswith(\"Objects,authority and funding of commissions and independent offices\"):\n",
    "          current_section = \"commission independent office\"\n",
    "    elif line.startswith(\"Composition, appointment and terms of office\"):\n",
    "          current_section = \"term of office\"\n",
    "    elif line.startswith(\"Removal from office\"):\n",
    "          current_section = \"removal from office\"\n",
    "    elif line.startswith(\"General functions and powers\"):\n",
    "          current_section = \"general function power\"\n",
    "    elif line.startswith(\"Incorporation of commissions and independent offices\"):\n",
    "          current_section = \"incorporation commission independent office\"\n",
    "    elif line.startswith(\"Reporting by commissions and independent offices\"):\n",
    "          current_section = \"reporting commission independent office\"\n",
    "          ## Append line to the current section if it's set\n",
    "\n",
    "    if current_section:\n",
    "            sections[current_section].append(stripped_line)\n",
    "\n",
    "  # Join each section into single string\n",
    "  for key in sections:\n",
    "        sections[key] = \"\\n\".join(sections[key])\n",
    "  return sections\n",
    "\n",
    "chapter_15_sections = split_chapter_15(chapter_15_trimmed)\n",
    " ## Example\n",
    "print(\"Application of Chapter Section:\\n\", chapter_15_sections[\"application of chapter\"])\n",
    "print(\"Objects,authority and funding of commissions and independent offices Section:\\n\", chapter_15_sections[\"commission independent office\"])"
   ]
  },
  {
   "cell_type": "code",
   "execution_count": 26,
   "metadata": {
    "colab": {
     "base_uri": "https://localhost:8080/"
    },
    "collapsed": true,
    "id": "5mHVmEO1q61H",
    "outputId": "118782e6-50a1-47f6-e266-285484b24ad4"
   },
   "outputs": [
    {
     "data": {
      "text/plain": [
       "dict_keys(['application of chapter', 'commission independent office', 'term of office', 'removal from office', 'general function power', 'incorporation commission independent office', 'reporting commission independent office'])"
      ]
     },
     "execution_count": 26,
     "metadata": {},
     "output_type": "execute_result"
    }
   ],
   "source": [
    "chapter_15_sections.keys()"
   ]
  },
  {
   "cell_type": "markdown",
   "metadata": {
    "id": "PfoH5_tJq-EZ"
   },
   "source": [
    "Question and Answer mapping based on key phrases and corresponding section in chapter 15"
   ]
  },
  {
   "cell_type": "code",
   "execution_count": 27,
   "metadata": {
    "colab": {
     "base_uri": "https://localhost:8080/"
    },
    "collapsed": true,
    "id": "H0zKvlOvXo7z",
    "outputId": "45a971a1-aade-4b8a-d488-1435380efca6"
   },
   "outputs": [
    {
     "data": {
      "text/plain": [
       "{'application of chapter': 'Application of Chapter.\\n248. (1) This Chapter applies to the commissions specified in\\nclause (2) and the independent offices specified in clause (3), except\\nto the extent that this Constitution provides otherwise.\\n(2) The commissions are—\\n150 Constitution of Kenya, 2010\\n(a) the Kenya National Human Rights and Equality Commission;\\n(b) the National Land Commission;\\n(c) the Independent Electoral and Boundaries Commission;\\n(d) the Parliamentary Service Commission;\\n(e) the Judicial Service Commission;\\n(f) the Commission on Revenue Allocation;\\n(g) the Public Service Commission;\\n(h) the Salaries and Remuneration Commission;\\n(i) the Teachers Service Commission; and\\n(j) the National Police Service Commission.\\n(3) The independent offices are—\\n(a) the Auditor-General; and\\n(b) the Controller of Budget.\\nObjects, authority and funding of commissions and independent\\noffices.\\n249. (1) The objects of the commissions and the independent\\noffices are to—\\n(a) protect the sovereignty of the people;\\n(b) secure the observance by all State organs of democratic\\nvalues and principles; and\\n(c) promote constitutionalism.\\n(2) The commissions and the holders of independent offices—\\n(a) are subject only to this Constitution and the law; and\\n(b) are independent and not subject to direction or control by any\\nperson or authority.\\n(3) Parliament shall allocate adequate funds to enable each\\ncommission and independent office to perform its functions and the\\nbudget of each commission and independent office shall be a separate\\nvote.\\nConstitution of Kenya, 2010 151',\n",
       " 'commission independent office': '',\n",
       " 'term of office': 'Composition, appointment and terms of office.\\n250. (1) Each commission shall consist of at least three, but not\\nmore than nine, members.\\n(2) The chairperson and each member of a commission, and the\\nholder of an independent office, shall be—\\n(a) identified and recommended for appointment in a manner\\nprescribed by national legislation;\\n(b) approved by the National Assembly; and\\n(c) appointed by the President.\\n(3) To be appointed, a person shall have the specific\\nqualifications required by this Constitution or national legislation.\\n(4) Appointments to commissions and independent offices shall\\ntake into account the national values referred to in Article 10, and the\\nprinciple that the composition of the commissions and offices, taken as\\na whole, shall reflect the regional and ethnic diversity of the people of\\nKenya.\\n(5) A member of a commission may serve on a part-time basis.\\n(6) A member of a commission, or the holder of an independent\\noffice—\\n(a) unless ex officio, shall be appointed for a single term of six\\nyears and is not eligible for re-appointment; and\\n(b) unless ex officio or part-time, shall not hold any other office or\\nemployment for profit, whether public or private.\\n(7) The remuneration and benefits payable to or in respect of a\\ncommissioner or the holder of an independent office shall be a charge\\non the Consolidated Fund.\\n(8) The remuneration and benefits payable to, or in respect of, a\\ncommissioner or the holder of an independent office shall not be\\nvaried to the disadvantage of that commissioner or holder of an\\nindependent office.\\n(9) A member of a commission, or the holder of an independent\\noffice, is not liable for anything done in good faith in the performance\\nof a function of office.\\n152 Constitution of Kenya, 2010\\n(10) The members of a commission shall elect a vice-chairperson\\nfrom among themselves—\\n(a) at the first sitting of the commission; and\\n(b) whenever it is necessary to fill a vacancy in the office of the\\nvice-chairperson.\\n(11) The chairperson and vice-chairperson of a commission shall\\nnot be of the same gender.\\n(12) There shall be a Secretary to each commission who shall\\nbe—\\n(a) appointed by the commission; and\\n(b) the chief executive officer of the commission.',\n",
       " 'removal from office': 'Removal from office.\\n251. (1) A member of a commission (other than an ex officio\\nmember), or the holder of an independent office, may be removed\\nfrom office only for—\\n(a) serious violation of this Constitution or any other law,\\nincluding a contravention of Chapter Six;\\n(b) gross misconduct, whether in the performance of the\\nmember’s or office holder’s functions or otherwise;\\n(c) physical or mental incapacity to perform the functions of\\noffice;\\n(d) incompetence; or\\n(e) bankruptcy.\\n(2) A person desiring the removal of a member of a commission\\nor of a holder of an independent office on any ground specified in\\nclause (1) may present a petition to the National Assembly setting out\\nthe alleged facts constituting that ground.\\n(3) The National Assembly shall consider the petition and, if it is\\nsatisfied that it discloses a ground under clause (1), shall send the\\npetition to the President.\\n(4) On receiving a petition under clause (3), the President—\\n(a) may suspend the member or office holder pending the\\noutcome of the complaint; and\\nConstitution of Kenya, 2010 153\\n(b) shall appoint a tribunal in accordance with clause (5).\\n(5) The tribunal shall consist of—\\n(a) a person who holds or has held office as a judge of a superior\\ncourt, who shall be the chairperson;\\n(b) at least two persons who are qualified to be appointed as\\nHigh Court judges; and\\n(c) one other member who is qualified to assess the facts in\\nrespect of the particular ground for removal.\\n(6) The tribunal shall investigate the matter expeditiously, report\\non the facts and make a binding recommendation to the President,\\nwho shall act in accordance with the recommendation within thirty\\ndays.\\n(7) A person suspended under this Article is entitled to continue\\nto receive one-half of the remuneration and benefits of the office while\\nsuspended.',\n",
       " 'general function power': 'General functions and powers.\\n252. (1) Each commission, and each holder of an independent\\noffice—\\n(a) may conduct investigations on its own initiative or on a\\ncomplaint made by a member of the public;\\n(b) has the powers necessary for conciliation, mediation and\\nnegotiation;\\n(c) shall recruit its own staff; and\\n(d) may perform any functions and exercise any powers\\nprescribed by legislation, in addition to the functions and\\npowers conferred by this Constitution.\\n(2) A complaint to a commission or the holder of an independent\\noffice may be made by any person entitled to institute court\\nproceedings under Article 22 (1) and (2).\\n(3) The following commissions and independent offices have the\\npower to issue a summons to a witness to assist for the purposes of its\\ninvestigations—\\n(a) the Kenya National Human Rights and Equality Commission;\\n(b) the Judicial Service Commission;\\n154 Constitution of Kenya, 2010\\n(c) the National Land Commission; and\\n(d) the Auditor-General.',\n",
       " 'incorporation commission independent office': 'Incorporation of commissions and independent offices.\\n253. Each commission and each independent office—\\n(a) is a body corporate with perpetual succession and a seal; and\\n(b) is capable of suing and being sued in its corporate name.',\n",
       " 'reporting commission independent office': 'Reporting by commissions and independent offices.\\n254. (1) As soon as practicable after the end of each financial\\nyear, each commission, and each holder of an independent office,\\nshall submit a report to the President and to Parliament.\\n(2) At any time, the President, the National Assembly or the\\nSenate may require a commission or holder of an independent office\\nto submit a report on a particular issue.\\n(3) Every report required from a commission or holder of an\\nindependent office under this Article shall be published and publicised.'}"
      ]
     },
     "execution_count": 27,
     "metadata": {},
     "output_type": "execute_result"
    }
   ],
   "source": [
    "chapter_15_sections"
   ]
  },
  {
   "cell_type": "code",
   "execution_count": 50,
   "metadata": {},
   "outputs": [
    {
     "data": {
      "text/plain": [
       "'Composition, appointment and terms of office.\\n250. (1) Each commission shall consist of at least three, but not\\nmore than nine, members.\\n(2) The chairperson and each member of a commission, and the\\nholder of an independent office, shall be—\\n(a) identified and recommended for appointment in a manner\\nprescribed by national legislation;\\n(b) approved by the National Assembly; and\\n(c) appointed by the President.\\n(3) To be appointed, a person shall have the specific\\nqualifications required by this Constitution or national legislation.\\n(4) Appointments to commissions and independent offices shall\\ntake into account the national values referred to in Article 10, and the\\nprinciple that the composition of the commissions and offices, taken as\\na whole, shall reflect the regional and ethnic diversity of the people of\\nKenya.\\n(5) A member of a commission may serve on a part-time basis.\\n(6) A member of a commission, or the holder of an independent\\noffice—\\n(a) unless ex officio, shall be appointed for a single term of six\\nyears and is not eligible for re-appointment; and\\n(b) unless ex officio or part-time, shall not hold any other office or\\nemployment for profit, whether public or private.\\n(7) The remuneration and benefits payable to or in respect of a\\ncommissioner or the holder of an independent office shall be a charge\\non the Consolidated Fund.\\n(8) The remuneration and benefits payable to, or in respect of, a\\ncommissioner or the holder of an independent office shall not be\\nvaried to the disadvantage of that commissioner or holder of an\\nindependent office.\\n(9) A member of a commission, or the holder of an independent\\noffice, is not liable for anything done in good faith in the performance\\nof a function of office.\\n152 Constitution of Kenya, 2010\\n(10) The members of a commission shall elect a vice-chairperson\\nfrom among themselves—\\n(a) at the first sitting of the commission; and\\n(b) whenever it is necessary to fill a vacancy in the office of the\\nvice-chairperson.\\n(11) The chairperson and vice-chairperson of a commission shall\\nnot be of the same gender.\\n(12) There shall be a Secretary to each commission who shall\\nbe—\\n(a) appointed by the commission; and\\n(b) the chief executive officer of the commission.'"
      ]
     },
     "execution_count": 50,
     "metadata": {},
     "output_type": "execute_result"
    }
   ],
   "source": [
    "chapter_15_sections['term of office']"
   ]
  },
  {
   "cell_type": "code",
   "execution_count": 48,
   "metadata": {
    "colab": {
     "base_uri": "https://localhost:8080/"
    },
    "id": "Gcwv0IGmXo70",
    "outputId": "3724a308-f9a1-488e-9787-2806066e4a7d"
   },
   "outputs": [
    {
     "name": "stdout",
     "output_type": "stream",
     "text": [
      "Processed query: commission independent office\n",
      "key: commission independent office\n",
      "\n"
     ]
    }
   ],
   "source": [
    "# Define sections with lemmatized keys\n",
    "sections = chapter_15_sections\n",
    "\n",
    "# Ensure qa_mapping uses lemmatized keys\n",
    "qa_mapping = {\n",
    "    \"application of chapter\": \"application of chapter\",\n",
    "    \"commission independent office\": \"commission independent office\",  # Use the actual key from 'sections'\n",
    "    \"term of office\": \"term of office\",\n",
    "    \"removal from office\": \"removal from office\",\n",
    "    \"general function power\": \"general function power\",\n",
    "    \"incorporation commission independent office\": \"incorporation commission independent office\",\n",
    "    \"reporting commissions independent office\": \"reporting commission independent office\"\n",
    "}\n",
    "\n",
    "\n",
    "def preprocess_query(query):\n",
    "    ## Parse the query with spacy\n",
    "    doc = nlp(query)\n",
    "    ## Normalize the query: lowercase,lemmatize and remove stopwords\n",
    "    tokens = [token.lemma_.lower() for token in doc if not token.is_stop and not token.is_punct]\n",
    "    return \" \".join(tokens)\n",
    "\n",
    "\n",
    "# Update the Q&A system to use preprocessed queries\n",
    "def answer_question_nlp(query, sections, qa_mapping):\n",
    "    # Preprocess the user query\n",
    "    processed_query = preprocess_query(query)\n",
    "\n",
    "    # Debug\n",
    "    print(f\"Processed query: {processed_query}\")\n",
    "\n",
    "    # Search for a key in qa_mapping that matches the preprocessed query\n",
    "    for key in qa_mapping:\n",
    "        if key in processed_query:\n",
    "            # Debug line\n",
    "            print(f\"key: {key}\")\n",
    "            # Return the relevant section in the text\n",
    "            return sections[key]  # Access using the original key\n",
    "    return \"Sorry, I couldn't find an answer to your question.\"\n",
    "\n",
    "# Example usage\n",
    "user_query = \"What about the commission independent office?\"\n",
    "answer = answer_question_nlp(user_query, sections, qa_mapping)\n",
    "print(answer)"
   ]
  },
  {
   "cell_type": "markdown",
   "metadata": {
    "id": "F05BAA2tGjUY"
   },
   "source": [
    "### NLU\n",
    "\n",
    "Now to work on misspellings and synonyms.\n",
    "We'll use fuzzywuzzy over SpellChecker since fuzzywuzzy calculates the similarity scores between strings, This will help match user queries even if they contain typos"
   ]
  },
  {
   "cell_type": "code",
   "execution_count": 29,
   "metadata": {
    "colab": {
     "base_uri": "https://localhost:8080/"
    },
    "collapsed": true,
    "id": "BmMsNSmoPKHf",
    "outputId": "3654fee5-58f9-494e-afed-0fd0036efc1c"
   },
   "outputs": [
    {
     "name": "stdout",
     "output_type": "stream",
     "text": [
      "Requirement already satisfied: fuzzywuzzy in e:\\school\\anaconda3.1\\envs\\mubea-env\\lib\\site-packages (0.18.0)\n",
      "Requirement already satisfied: python-Levenshtein in e:\\school\\anaconda3.1\\envs\\mubea-env\\lib\\site-packages (0.25.1)\n",
      "Requirement already satisfied: Levenshtein==0.25.1 in e:\\school\\anaconda3.1\\envs\\mubea-env\\lib\\site-packages (from python-Levenshtein) (0.25.1)\n",
      "Requirement already satisfied: rapidfuzz<4.0.0,>=3.8.0 in e:\\school\\anaconda3.1\\envs\\mubea-env\\lib\\site-packages (from Levenshtein==0.25.1->python-Levenshtein) (3.9.7)\n"
     ]
    }
   ],
   "source": [
    "!pip install fuzzywuzzy\n",
    "!pip install python-Levenshtein"
   ]
  },
  {
   "cell_type": "code",
   "execution_count": 30,
   "metadata": {
    "id": "a9fE4896Grzx"
   },
   "outputs": [],
   "source": [
    "from spellchecker import SpellChecker"
   ]
  },
  {
   "cell_type": "markdown",
   "metadata": {
    "id": "Gt5oknrimVGw"
   },
   "source": []
  },
  {
   "cell_type": "markdown",
   "metadata": {
    "id": "43w2E92AI25F"
   },
   "source": [
    "### Debugging Code"
   ]
  },
  {
   "cell_type": "code",
   "execution_count": 31,
   "metadata": {
    "id": "XbYf34oWXo71"
   },
   "outputs": [],
   "source": [
    "combined_sections = {**chapter_13_sections, **chapter_14_sections, **chapter_15_sections}"
   ]
  },
  {
   "cell_type": "code",
   "execution_count": 32,
   "metadata": {
    "colab": {
     "base_uri": "https://localhost:8080/"
    },
    "id": "fBOAJWG4Xo71",
    "outputId": "73558a8c-b579-4e83-e086-764a340a1651"
   },
   "outputs": [
    {
     "data": {
      "text/plain": [
       "{'principle': 'Values and principles of public service.\\n232. (1) The values and principles of public service include—\\n(a) high standards of professional ethics;\\n(b) efficient, effective and economic use of resources;\\n(c) responsive, prompt, effective, impartial and equitable\\nprovision of services;\\n(d) involvement of the people in the process of policy making;\\n(e) accountability for administrative acts;\\n(f) transparency and provision to the public of timely, accurate\\ninformation;\\n(g) subject to paragraphs (h) and (i), fair competition and merit as\\nthe basis of appointments and promotions;\\n(h) representation of Kenya’s diverse communities; and\\n(i) affording adequate and equal opportunities for appointment,\\ntraining and advancement, at all levels of the public service,\\nof—\\n(i) men and women;\\n(ii) the members of all ethnic groups; and\\n(iii) persons with disabilities.\\n(2) The values and principles of public service apply to public\\nservice in—\\n(a) all State organs in both levels of government; and\\n(b) all State corporations.\\n(3) Parliament shall enact legislation to give full effect to this\\nArticle.\\nPART 2—THE PUBLIC SERVICE COMMISSION',\n",
       " 'public service commission': 'The Public Service Commission.\\n233. (1) There is established the Public Service Commission.\\n140 Constitution of Kenya, 2010\\n(2) The Public Service Commission consists of a chairperson, a\\nvice chairperson and seven other members appointed by the President\\nwith the approval of the National Assembly.\\n(3) Subject to clause (4), a person is not eligible for appointment\\nas a member of the Commission if the person––\\n(a) has, at any time within the preceding five years, held office, or\\nstood for election as—\\n(i) a member of Parliament or of a county assembly; or\\n(ii) a member of the governing body of a political party; or\\n(b) holds any State office;\\n(c) is, or has at any time been, a candidate for election as a\\nmember of Parliament or of a county assembly; or\\n(d) is, or has at any time been, the holder of an office in any\\npolitical organisation that sponsors or otherwise supports, or\\nhas at any time sponsored or otherwise supported, a\\ncandidate for election as a member of Parliament or of a\\ncounty assembly.\\n(4) Clause (3) (c) and (d) cease to apply to a person after two\\ngeneral elections for Parliament have been held since the person\\nceased to be such a candidate or office holder.\\n(5) There shall be a secretary to the Commission.\\n(6) The secretary—\\n(a) is the chief executive of the Commission; and\\n(b) shall be appointed by the Commission for a term of five years,\\nand is eligible for re-appointment once.',\n",
       " 'functions': 'Functions and powers of the Public Service Commission.\\n234. (1) The functions and powers of the Commission are as set\\nout in this Article.\\n(2) The Commission shall—\\n(a) subject to this Constitution and legislation—\\n(i) establish and abolish offices in the public service; and\\n(ii) appoint persons to hold or act in those offices, and to\\nconfirm appointments;\\nConstitution of Kenya, 2010 141\\n(b) exercise disciplinary control over and remove persons holding\\nor acting in those offices;\\n(c) promote the values and principles referred to in Articles 10\\nand 232 throughout the public service;\\n(d) investigate, monitor and evaluate the organisation,\\nadministration and personnel practices of the public service;\\n(e) ensure that the public service is efficient and effective;\\n(f) develop human resources in the public service;\\n(g) review and make recommendations to the national\\ngovernment in respect of conditions of service, code of\\nconduct and qualifications of officers in the public service;\\n(h) evaluate and report to the President and Parliament on the\\nextent to which the values and principles referred to in\\nArticles 10 and 232 are complied with in the public service;\\n(i) hear and determine appeals in respect of county governments’\\npublic service; and\\n(j) perform any other functions and exercise any other powers\\nconferred by national legislation.\\n(3) Clauses (1) and (2) shall not apply to any of the following\\noffices in the public service—\\n(a) State offices;\\n(b) an office of high commissioner, ambassador or other\\ndiplomatic or consular representative of the Republic;\\n(c) an office or position subject to—\\n(i) the Parliamentary Service Commission;\\n(ii) the Judicial Service Commission;\\n(iii) the Teachers Service Commission;\\n(iv) the National Police Service Commission; or\\n(b) an office in the service of a county government, except as\\ncontemplated in clause (2) (i).\\n142 Constitution of Kenya, 2010\\n(4) The Commission shall not appoint a person under clause (2)\\nto hold or act in any office on the personal staff of the President or a\\nretired President, except with the consent of the President or retired\\nPresident.\\n(5) The Commission may delegate, in writing, with or without\\nconditions, any of its functions and powers under this Article to any\\none or more of its members, or to any officer, body or authority in the\\npublic service.',\n",
       " 'staffing': 'Staffing of county governments.\\n235. (1) A county government is responsible, within a framework\\nof uniform norms and standards prescribed by an Act of Parliament,\\nfor—\\n(a) establishing and abolishing offices in its public service;\\n(b) appointing persons to hold or act in those offices, and\\nconfirming appointments; and\\n(c) exercising disciplinary control over and removing persons\\nholding or acting in those offices.\\n(2) Clause (1) shall not apply to any office or position subject to\\nthe Teachers Service Commission.',\n",
       " 'protection': 'Protection of public officers.\\n236. A public officer shall not be—\\n(a) victimised or discriminated against for having performed the\\nfunctions of office in accordance with this Constitution or any\\nother law; or\\n(b) dismissed, removed from office, demoted in rank or otherwise\\nsubjected to disciplinary action without due process of law.\\nPART 3—TEACHERS SERVICE COMMISSION',\n",
       " 'teacher service commission': 'Teachers Service Commission.\\n237. (1) There is established the Teachers Service Commission.\\n(2) The functions of the Commission are—\\n(a) to register trained teachers;\\n(b) to recruit and employ registered teachers;\\nConstitution of Kenya, 2010 143\\n(c) to assign teachers employed by the Commission for service in\\nany public school or institution;\\n(d) to promote and transfer teachers;\\n(e) to exercise disciplinary control over teachers; and\\n(f) to terminate the employment of teachers.\\n(3) The Commission shall—\\n(a) review the standards of education and training of persons\\nentering the teaching service;\\n(b) review the demand for and the supply of teachers; and\\n(c) advise the national government on matters relating to the\\nteaching profession.',\n",
       " 'national security': 'Principles of national security.\\n238. (1) National security is the protection against internal and\\nexternal threats to Kenya’s territorial integrity and sovereignty, its\\npeople, their rights, freedoms, property, peace, stability and prosperity,\\nand other national interests.\\n(2) The national security of Kenya shall be promoted and\\nguaranteed in accordance with the following principles—\\n(a) national security is subject to the authority of this Constitution\\nand Parliament;\\n(b) national security shall be pursued in compliance with the law\\nand with the utmost respect for the rule of law, democracy,\\nhuman rights and fundamental freedoms;\\n(c) in performing their functions and exercising their powers,\\nnational security organs shall respect the diverse culture of\\nthe communities within Kenya; and\\n(d) recruitment by the national security organs shall reflect the\\ndiversity of the Kenyan people in equitable proportions.',\n",
       " 'national security organs': 'National security organs.\\n239. (1) The national security organs are—\\n144 Constitution of Kenya, 2010\\n(a) the Kenya Defence Forces;\\n(b) the National Intelligence Service; and\\n(c) the National Police Service.\\n(2) The primary object of the national security organs and\\nsecurity system is to promote and guarantee national security in\\naccordance with the principles mentioned in Article 238 (2).\\n(3) In performing their functions and exercising their powers, the\\nnational security organs and every member of the national security\\norgans shall not—\\n(a) act in a partisan manner;\\n(b) further any interest of a political party or cause; or\\n(c) prejudice a political interest or political cause that is legitimate\\nunder this Constitution.\\n(4) A person shall not establish a military, paramilitary, or similar\\norganisation that purports to promote and guarantee national security,\\nexcept as provided for by this Constitution or an Act of Parliament.\\n(5) The national security organs are subordinate to civilian\\nauthority.\\n(6) Parliament shall enact legislation to provide for the functions,\\norganisation and administration of the national security organs.',\n",
       " 'national security council': 'Establishment of the National Security Council\\n240. (1) There is established a National Security Council.\\n(2) The Council consists of—\\n(a) the President;\\n(b) the Deputy President;\\n(c) the Cabinet Secretary responsible for defence;\\n(d) the Cabinet Secretary responsible for foreign affairs;\\n(e) the Cabinet Secretary responsible for internal security;\\n(f) the Attorney-General;\\n(g) the Chief of Kenya Defence Forces;\\nConstitution of Kenya, 2010 145\\n(h) the Director-General of the National Intelligence Service; and\\n(i) the Inspector-General of the National Police Service.\\n(3) The Council shall exercise supervisory control over national\\nsecurity organs and perform any other functions prescribed by national\\nlegislation.\\n(4) The President shall preside at meetings of the Council.\\n(5) The Council shall appoint its secretary.\\n(6) The Council shall—\\n(a) integrate the domestic, foreign and military policies relating to\\nnational security in order to enable the national security\\norgans to co-operate and function effectively; and\\n(b) assess and appraise the objectives, commitments and risks to\\nthe Republic in respect of actual and potential national\\nsecurity capabilities.\\n(7) The Council shall report annually to Parliament on the state of\\nthe security of Kenya.\\n(8) The Council may, with the approval of Parliament—\\n(a) deploy national forces outside Kenya for—\\n(i) regional or international peace support operations; or\\n(ii) other support operations; and\\n(b) approve the deployment of foreign forces in Kenya.\\nPART 2—THE KENYA DEFENCE FORCES',\n",
       " 'defence forces': 'Establishment of Defence Forces and Defence Council.\\n241. (1) There are established the Kenya Defence Forces.\\n(2) The Defence Forces consist of—\\n(a) the Kenya Army;\\n(b) the Kenya Air Force; and\\n(c) the Kenya Navy.\\n(3) The Defence Forces—\\n146 Constitution of Kenya, 2010\\n(a) are responsible for the defence and protection of the\\nsovereignty and territorial integrity of the Republic;\\n(b) shall assist and cooperate with other authorities in situations\\nof emergency or disaster, and report to the National\\nAssembly whenever deployed in such circumstances; and\\n(c) may be deployed to restore peace in any part of Kenya\\naffected by unrest or instability only with the approval of the\\nNational Assembly.\\n(4) The composition of the command of the Defence Forces shall\\nreflect the regional and ethnic diversity of the people of Kenya.\\n(5) There is established a Defence Council.\\n(6) The Council consist of—\\n(a) the Cabinet Secretary responsible for defence, who is the\\nchairperson;\\n(b) the Chief of the Kenya Defence Forces;\\n(c) the three commanders of the defence forces; and\\n(d) the Principal Secretary in the Ministry responsible for defence.\\n(7) The Council—\\n(a) is responsible for the overall policy, control, and supervision of\\nthe Kenya Defence Forces; and\\n(b) performs any other functions prescribed by national\\nlegislation.\\nPART 3—THE NATIONAL INTELLIGENCE SERVICE',\n",
       " 'national intelligence service': 'Establishment of National Intelligence Service.\\n242. (1) There is established the National Intelligence Service.\\n(2) The National Intelligence Service—\\n(a) is responsible for security intelligence and counter intelligence\\nto enhance national security in accordance with this\\nConstitution; and\\n(b) performs any other functions prescribed by national\\nlegislation.\\nConstitution of Kenya, 2010 147\\nPART 4—THE NATIONAL POLICE SERVICE',\n",
       " 'national police service': 'Establishment of the National Police Service.\\n243. (1) There is established the National Police Service.\\n(2) The National Police Service consists of—\\n(a) the Kenya Police Service; and\\n(b) the Administration Police Service.\\n(3) The National Police Service is a national service and shall\\nfunction throughout Kenya.\\n(4) Parliament shall enact legislation to give full effect to this\\nArticle.\\nObjects and functions of the National Police Service.\\n244. The National Police Service shall—\\n(a) strive for the highest standards of professionalism and\\ndiscipline among its members;\\n(b) prevent corruption and promote and practice transparency\\nand accountability;\\n(c) comply with constitutional standards of human rights and\\nfundamental freedoms;\\n(d) train staff to the highest possible standards of competence\\nand integrity and to respect human rights and fundamental\\nfreedoms and dignity; and\\n(e) foster and promote relationships with the broader society.',\n",
       " 'functions national police service': '',\n",
       " 'command national police service': 'Command of the National Police Service.\\n245. (1) There is established the office of the Inspector-General\\nof the National Police Service.\\n(2) The Inspector-General—\\n(a) is appointed by the President with the approval of Parliament;\\nand\\n(b) shall exercise independent command over the National Police\\nService, and perform any other functions prescribed by\\nnational legislation.\\n148 Constitution of Kenya, 2010\\n(3) The Kenya Police Service and the Administration Police\\nService shall each be headed by a Deputy Inspector-General\\nappointed by the President in accordance with the recommendation of\\nthe National Police Service Commission.\\n(4) The Cabinet secretary responsible for police services may\\nlawfully give a direction to the Inspector-General with respect to any\\nmatter of policy for the National Police Service, but no person may\\ngive a direction to the Inspector-General with respect to—\\n(a) the investigation of any particular offence or offences;\\n(b) the enforcement of the law against any particular person or\\npersons; or\\n(c) the employment, assignment, promotion, suspension or\\ndismissal of any member of the National Police Service.\\n(5) Any direction given to the Inspector-General by the Cabinet\\nsecretary responsible for police services under clause (4), or any\\ndirection given to the Inspector-General by the Director of Public\\nProsecutions under Article 157(4), shall be in writing.\\n(6) The Inspector-General shall be appointed for a single four-\\nyear term, and is not eligible for re-appointment.\\n(7) The Inspector-General may be removed from office by the\\nPresident only on the grounds of—\\n(a) serious violation of this Constitution or any other law,\\nincluding a contravention of Chapter Six;\\n(b) gross misconduct whether in the performance of the office\\nholder’s functions or otherwise;\\n(c) physical or mental incapacity to perform the functions of\\noffice;\\n(d) incompetence;\\n(e) bankruptcy; or\\n(f) any other just cause.\\n(8) Parliament shall enact legislation to give full effect to this\\nArticle.',\n",
       " 'national police service commission': 'National Police Service Commission.\\n246. (1) There is established the National Police Service\\nConstitution of Kenya, 2010 149\\nCommission.\\n(2) The Commission consists of—\\n(a) the following persons, each appointed by the President—\\n(i) a person who is qualified to be appointed as a High\\nCourt Judge;\\n(ii) two retired senior police officers; and\\n(iii) three persons of integrity who have served the public with\\ndistinction;\\n(b) the Inspector-General of the National Police Service; and\\n(c) both Deputy Inspectors-General of the National Police\\nService.\\n(3) The Commission shall—\\n(a) recruit and appoint persons to hold or act in offices in the\\nservice, confirm appointments, and determine promotions\\nand transfers within the National Police Service;\\n(b) observing due process, exercise disciplinary control over and\\nremove persons holding or acting in offices within the\\nService; and\\n(c) perform any other functions prescribed by national legislation.\\n(4) The composition of the National Police Service shall reflect\\nthe regional and ethnic diversity of the people of Kenya.\\nOther police services.\\n247. Parliament may enact legislation establishing other police\\nservices under the supervision of the National Police Service and the\\ncommand of the Inspector-General of the Service.',\n",
       " 'other police services': '',\n",
       " 'application of chapter': 'Application of Chapter.\\n248. (1) This Chapter applies to the commissions specified in\\nclause (2) and the independent offices specified in clause (3), except\\nto the extent that this Constitution provides otherwise.\\n(2) The commissions are—\\n150 Constitution of Kenya, 2010\\n(a) the Kenya National Human Rights and Equality Commission;\\n(b) the National Land Commission;\\n(c) the Independent Electoral and Boundaries Commission;\\n(d) the Parliamentary Service Commission;\\n(e) the Judicial Service Commission;\\n(f) the Commission on Revenue Allocation;\\n(g) the Public Service Commission;\\n(h) the Salaries and Remuneration Commission;\\n(i) the Teachers Service Commission; and\\n(j) the National Police Service Commission.\\n(3) The independent offices are—\\n(a) the Auditor-General; and\\n(b) the Controller of Budget.\\nObjects, authority and funding of commissions and independent\\noffices.\\n249. (1) The objects of the commissions and the independent\\noffices are to—\\n(a) protect the sovereignty of the people;\\n(b) secure the observance by all State organs of democratic\\nvalues and principles; and\\n(c) promote constitutionalism.\\n(2) The commissions and the holders of independent offices—\\n(a) are subject only to this Constitution and the law; and\\n(b) are independent and not subject to direction or control by any\\nperson or authority.\\n(3) Parliament shall allocate adequate funds to enable each\\ncommission and independent office to perform its functions and the\\nbudget of each commission and independent office shall be a separate\\nvote.\\nConstitution of Kenya, 2010 151',\n",
       " 'commission independent office': '',\n",
       " 'term of office': 'Composition, appointment and terms of office.\\n250. (1) Each commission shall consist of at least three, but not\\nmore than nine, members.\\n(2) The chairperson and each member of a commission, and the\\nholder of an independent office, shall be—\\n(a) identified and recommended for appointment in a manner\\nprescribed by national legislation;\\n(b) approved by the National Assembly; and\\n(c) appointed by the President.\\n(3) To be appointed, a person shall have the specific\\nqualifications required by this Constitution or national legislation.\\n(4) Appointments to commissions and independent offices shall\\ntake into account the national values referred to in Article 10, and the\\nprinciple that the composition of the commissions and offices, taken as\\na whole, shall reflect the regional and ethnic diversity of the people of\\nKenya.\\n(5) A member of a commission may serve on a part-time basis.\\n(6) A member of a commission, or the holder of an independent\\noffice—\\n(a) unless ex officio, shall be appointed for a single term of six\\nyears and is not eligible for re-appointment; and\\n(b) unless ex officio or part-time, shall not hold any other office or\\nemployment for profit, whether public or private.\\n(7) The remuneration and benefits payable to or in respect of a\\ncommissioner or the holder of an independent office shall be a charge\\non the Consolidated Fund.\\n(8) The remuneration and benefits payable to, or in respect of, a\\ncommissioner or the holder of an independent office shall not be\\nvaried to the disadvantage of that commissioner or holder of an\\nindependent office.\\n(9) A member of a commission, or the holder of an independent\\noffice, is not liable for anything done in good faith in the performance\\nof a function of office.\\n152 Constitution of Kenya, 2010\\n(10) The members of a commission shall elect a vice-chairperson\\nfrom among themselves—\\n(a) at the first sitting of the commission; and\\n(b) whenever it is necessary to fill a vacancy in the office of the\\nvice-chairperson.\\n(11) The chairperson and vice-chairperson of a commission shall\\nnot be of the same gender.\\n(12) There shall be a Secretary to each commission who shall\\nbe—\\n(a) appointed by the commission; and\\n(b) the chief executive officer of the commission.',\n",
       " 'removal from office': 'Removal from office.\\n251. (1) A member of a commission (other than an ex officio\\nmember), or the holder of an independent office, may be removed\\nfrom office only for—\\n(a) serious violation of this Constitution or any other law,\\nincluding a contravention of Chapter Six;\\n(b) gross misconduct, whether in the performance of the\\nmember’s or office holder’s functions or otherwise;\\n(c) physical or mental incapacity to perform the functions of\\noffice;\\n(d) incompetence; or\\n(e) bankruptcy.\\n(2) A person desiring the removal of a member of a commission\\nor of a holder of an independent office on any ground specified in\\nclause (1) may present a petition to the National Assembly setting out\\nthe alleged facts constituting that ground.\\n(3) The National Assembly shall consider the petition and, if it is\\nsatisfied that it discloses a ground under clause (1), shall send the\\npetition to the President.\\n(4) On receiving a petition under clause (3), the President—\\n(a) may suspend the member or office holder pending the\\noutcome of the complaint; and\\nConstitution of Kenya, 2010 153\\n(b) shall appoint a tribunal in accordance with clause (5).\\n(5) The tribunal shall consist of—\\n(a) a person who holds or has held office as a judge of a superior\\ncourt, who shall be the chairperson;\\n(b) at least two persons who are qualified to be appointed as\\nHigh Court judges; and\\n(c) one other member who is qualified to assess the facts in\\nrespect of the particular ground for removal.\\n(6) The tribunal shall investigate the matter expeditiously, report\\non the facts and make a binding recommendation to the President,\\nwho shall act in accordance with the recommendation within thirty\\ndays.\\n(7) A person suspended under this Article is entitled to continue\\nto receive one-half of the remuneration and benefits of the office while\\nsuspended.',\n",
       " 'general function power': 'General functions and powers.\\n252. (1) Each commission, and each holder of an independent\\noffice—\\n(a) may conduct investigations on its own initiative or on a\\ncomplaint made by a member of the public;\\n(b) has the powers necessary for conciliation, mediation and\\nnegotiation;\\n(c) shall recruit its own staff; and\\n(d) may perform any functions and exercise any powers\\nprescribed by legislation, in addition to the functions and\\npowers conferred by this Constitution.\\n(2) A complaint to a commission or the holder of an independent\\noffice may be made by any person entitled to institute court\\nproceedings under Article 22 (1) and (2).\\n(3) The following commissions and independent offices have the\\npower to issue a summons to a witness to assist for the purposes of its\\ninvestigations—\\n(a) the Kenya National Human Rights and Equality Commission;\\n(b) the Judicial Service Commission;\\n154 Constitution of Kenya, 2010\\n(c) the National Land Commission; and\\n(d) the Auditor-General.',\n",
       " 'incorporation commission independent office': 'Incorporation of commissions and independent offices.\\n253. Each commission and each independent office—\\n(a) is a body corporate with perpetual succession and a seal; and\\n(b) is capable of suing and being sued in its corporate name.',\n",
       " 'reporting commission independent office': 'Reporting by commissions and independent offices.\\n254. (1) As soon as practicable after the end of each financial\\nyear, each commission, and each holder of an independent office,\\nshall submit a report to the President and to Parliament.\\n(2) At any time, the President, the National Assembly or the\\nSenate may require a commission or holder of an independent office\\nto submit a report on a particular issue.\\n(3) Every report required from a commission or holder of an\\nindependent office under this Article shall be published and publicised.'}"
      ]
     },
     "execution_count": 32,
     "metadata": {},
     "output_type": "execute_result"
    }
   ],
   "source": [
    "combined_sections"
   ]
  },
  {
   "cell_type": "code",
   "execution_count": 33,
   "metadata": {
    "colab": {
     "base_uri": "https://localhost:8080/"
    },
    "id": "o60LzZG8I8nU",
    "outputId": "0be3121a-0900-475b-e535-df4c7e8339e6"
   },
   "outputs": [
    {
     "name": "stdout",
     "output_type": "stream",
     "text": [
      "Processed Query: term office\n",
      "Corrected Query: term office\n",
      "Checking key: principle, value: principle\n",
      "Trying synonym: principle\n",
      "Trying synonym: values and principles of public service\n",
      "Trying synonym: public service values\n",
      "Trying synonym: core principles of public service\n",
      "Checking key: public service commission, value: public service commission\n",
      "Trying synonym: public service commission\n",
      "Trying synonym: the public service commission\n",
      "Trying synonym: public service authority\n",
      "Trying synonym: government service commission\n",
      "Checking key: functions, value: functions\n",
      "Trying synonym: functions\n",
      "Trying synonym: functions and powers of the public service commission\n",
      "Trying synonym: roles of the public service commission\n",
      "Trying synonym: duties of the public service commission\n",
      "Checking key: staffing, value: staffing\n",
      "Trying synonym: staffing\n",
      "Trying synonym: staffing of county governments\n",
      "Trying synonym: county government staffing\n",
      "Trying synonym: human resources for county governments\n",
      "Checking key: protection, value: protection\n",
      "Trying synonym: protection\n",
      "Trying synonym: protection of public officers\n",
      "Trying synonym: safeguarding public officers\n",
      "Trying synonym: security for public officials\n",
      "Checking key: teachers service commission, value: teachers service commission\n",
      "Trying synonym: teachers service commission\n",
      "Trying synonym: commission for teachers\n",
      "Trying synonym: educators service commission\n",
      "Checking key: national security, value: national security\n",
      "Trying synonym: national security\n",
      "Trying synonym: principles of national security\n",
      "Checking key: national security organs, value: national security organs\n",
      "Trying synonym: national security organs\n",
      "Trying synonym: security organs\n",
      "Trying synonym: national security agencies\n",
      "Checking key: national security council, value: national security council\n",
      "Trying synonym: national security council\n",
      "Trying synonym: establishment of the national security council\n",
      "Trying synonym: national security council formation\n",
      "Trying synonym: creation of the national security council\n",
      "Checking key: defence forces, value: defence forces\n",
      "Trying synonym: defence forces and defence council\n",
      "Trying synonym: defence forces establishment\n",
      "Trying synonym: formation of defence forces and council\n",
      "Checking key: national intelligence service, value: national intelligence service\n",
      "Trying synonym: national intelligence service\n",
      "Trying synonym: establishment of national intelligence service\n",
      "Trying synonym: national intelligence service creation\n",
      "Trying synonym: formation of national intelligence service\n",
      "Checking key: national police service, value: national police service\n",
      "Trying synonym: national police service\n",
      "Trying synonym: establishment of the national police service\n",
      "Trying synonym: national police service formation\n",
      "Trying synonym: creation of the national police service\n",
      "Checking key: functions national police service, value: functions national police service\n",
      "Trying synonym: functions national police service\n",
      "Trying synonym: objects and functions of the national police service\n",
      "Trying synonym: roles of the national police service\n",
      "Trying synonym: duties and functions of the national police\n",
      "Checking key: command national police service, value: command national police service\n",
      "Trying synonym: command national police service\n",
      "Trying synonym: command of the national police service\n",
      "Trying synonym: national police service command\n",
      "Trying synonym: leadership of the national police service\n",
      "Checking key: national police service commission, value: national police service commission\n",
      "Trying synonym: national police service commission\n",
      "Trying synonym: police service commission\n",
      "Trying synonym: commission for the national police service\n",
      "Checking key: other police services, value: other police services\n",
      "Trying synonym: other police services\n",
      "Trying synonym: additional police services\n",
      "Trying synonym: alternative police services\n",
      "Checking key: application of chapter, value: application of chapter\n",
      "Trying synonym: application of chapter\n",
      "Trying synonym: chapter application\n",
      "Trying synonym: provisions of the chapter\n",
      "Checking key: commission independent office, value: commission independent office\n",
      "Trying synonym: commission independent office\n",
      "Trying synonym: commissions and independent offices\n",
      "Trying synonym: independent commissions\n",
      "Trying synonym: commission offices\n",
      "Checking key: term of office, value: term of office\n",
      "Trying synonym: term of office\n",
      "Trying synonym: terms of office\n",
      "Trying synonym: office terms\n",
      "Trying synonym: tenure conditions\n",
      "Checking key: removal from office, value: removal from office\n",
      "Trying synonym: removal from office\n",
      "Trying synonym: dismissal from office\n",
      "Trying synonym: termination of office\n",
      "Checking key: general function power, value: general function power\n",
      "Trying synonym: general function power\n",
      "Trying synonym: overall powers\n",
      "Trying synonym: general powers and functions\n",
      "Checking key: incorporation commission independent office, value: incorporation commission independent office\n",
      "Trying synonym: incorporation commission independent office\n",
      "Trying synonym: incorporation commissions and independent offices\n",
      "Trying synonym: establishment of commissions\n",
      "Trying synonym: setting up independent offices\n",
      "Checking key: reporting commission independent office, value: reporting commission independent office\n",
      "Trying synonym: reporting commissions independent office\n",
      "Trying synonym: reporting commissions and independent offices\n",
      "Trying synonym: commissions reporting\n",
      "Trying synonym: reporting by independent offices\n",
      "No match found\n"
     ]
    }
   ],
   "source": [
    "# Define a dictionary of synonyms for keywords\n",
    "synonyms = {\n",
    "    \"principle\": [\"principle\", \"values and principles of public service\", \"public service values\", \"core principles of public service\"],\n",
    "    \"public service commission\": [\"public service commission\", \"the public service commission\", \"public service authority\", \"government service commission\"],\n",
    "    \"functions\": [\"functions\", \"functions and powers of the public service commission\", \"roles of the public service commission\", \"duties of the public service commission\"],\n",
    "    \"staffing\": [\"staffing\", \"staffing of county governments\", \"county government staffing\", \"human resources for county governments\"],\n",
    "    \"protection\": [\"protection\", \"protection of public officers\", \"safeguarding public officers\", \"security for public officials\"],\n",
    "    \"teachers service commission\": [\"teachers service commission\", \"commission for teachers\", \"educators service commission\"],\n",
    "    \"national security\": [\"national security\", \"principles of national security\"],\n",
    "    \"national security organs\": [\"national security organs\", \"security organs\", \"national security agencies\"],\n",
    "    \"national security council\": [\"national security council\", \"establishment of the national security council\", \"national security council formation\", \"creation of the national security council\"],\n",
    "    \"defence forces\": [\"defence forces and defence council\", \"defence forces establishment\", \"formation of defence forces and council\"],\n",
    "    \"national intelligence service\": [\"national intelligence service\", \"establishment of national intelligence service\", \"national intelligence service creation\", \"formation of national intelligence service\"],\n",
    "    \"national police service\": [\"national police service\", \"establishment of the national police service\", \"national police service formation\", \"creation of the national police service\"],\n",
    "    \"functions national police service\": [\"functions national police service\", \"objects and functions of the national police service\", \"roles of the national police service\", \"duties and functions of the national police\"],\n",
    "    \"command national police service\": [\"command national police service\", \"command of the national police service\", \"national police service command\", \"leadership of the national police service\"],\n",
    "    \"national police service commission\": [\"national police service commission\", \"police service commission\", \"commission for the national police service\"],\n",
    "    \"other police services\": [\"other police services\", \"additional police services\", \"alternative police services\"],\n",
    "    \"application of chapter\": [\"application of chapter\", \"chapter application\", \"provisions of the chapter\"],\n",
    "    \"commission independent office\": [\"commission independent office\", \"commissions and independent offices\", \"independent commissions\", \"commission offices\"],\n",
    "    \"term of office\": [\"term of office\", \"terms of office\", \"office terms\", \"tenure conditions\"],\n",
    "    \"removal from office\": [\"removal from office\", \"dismissal from office\", \"termination of office\"],\n",
    "    \"general function power\": [\"general function power\", \"overall powers\", \"general powers and functions\"],\n",
    "    \"incorporation commission independent office\": [\"incorporation commission independent office\", \"incorporation commissions and independent offices\", \"establishment of commissions\", \"setting up independent offices\"],\n",
    "    \"reporting commission independent office\": [\"reporting commissions independent office\", \"reporting commissions and independent offices\", \"commissions reporting\", \"reporting by independent offices\"]\n",
    "}\n",
    "\n",
    "\n",
    "\n",
    "qa_mapping = {\n",
    "    \"principle\": \"principle\",\n",
    "    \"public service commission\": \"public service commission\",\n",
    "    \"functions\": \"functions\",\n",
    "    \"staffing\": \"staffing\",\n",
    "    \"protection\": \"protection\",\n",
    "    \"teachers service commission\": \"teachers service commission\",\n",
    "    \"national security\": \"national security\",\n",
    "    \"national security organs\": \"national security organs\",\n",
    "    \"national security council\": \"national security council\",\n",
    "    \"defence forces\": \"defence forces\",\n",
    "    \"national intelligence service\": \"national intelligence service\",\n",
    "    \"national police service\": \"national police service\",\n",
    "    \"functions national police service\": \"functions national police service\",\n",
    "    \"command national police service\": \"command national police service\",\n",
    "    \"national police service commission\": \"national police service commission\",\n",
    "    \"other police services\": \"other police services\",\n",
    "    \"application of chapter\": \"application of chapter\",\n",
    "    \"commission independent office\": \"commission independent office\",\n",
    "    \"term of office\": \"term of office\",\n",
    "    \"removal from office\": \"removal from office\",\n",
    "    \"general function power\": \"general function power\",\n",
    "    \"incorporation commission independent office\": \"incorporation commission independent office\",\n",
    "    \"reporting commission independent office\": \"reporting commission independent office\"\n",
    "}\n",
    "\n",
    "\n",
    "# Preprocess the query\n",
    "def preprocess_query(query):\n",
    "    doc = nlp(query)\n",
    "    tokens = [token.lemma_.lower() for token in doc if not token.is_stop and not token.is_punct]\n",
    "    return \" \".join(tokens)\n",
    "\n",
    "# Function to correct the spelling\n",
    "def correct_spelling(processed_query):\n",
    "    spell = SpellChecker()\n",
    "    words = processed_query.split()\n",
    "    # Find misspelled words\n",
    "    misspelled_words = spell.unknown(words)\n",
    "\n",
    "\n",
    "    corrected_words = []\n",
    "    for word in words:\n",
    "        # Correct the word if it's misspelled\n",
    "        if word in misspelled_words:\n",
    "            corrected_word = spell.correction(word) # Get the most likely correction\n",
    "            corrected_words.append(corrected_word)\n",
    "        else:\n",
    "            corrected_words.append(word)\n",
    "\n",
    "    # Reconstruct the initial sentence\n",
    "    corrected_input = \" \".join(corrected_words)\n",
    "\n",
    "    return corrected_input\n",
    "\n",
    "\n",
    "\n",
    "# Match with synonym support\n",
    "def match_with_synonyms(query, qa_mapping, synonyms):\n",
    "    processed_query = preprocess_query(query)\n",
    "    print(f\"Processed Query: {processed_query}\")  # Debugging line\n",
    "\n",
    "    # Correct spelling in the processed query\n",
    "    corrected_query = correct_spelling(processed_query)\n",
    "    print(f\"Corrected Query: {corrected_query}\")  # Debugging line\n",
    "\n",
    "\n",
    "    for key, value in qa_mapping.items():\n",
    "        print(f\"Checking key: {key}, value: {value}\")  # Debugging line\n",
    "        for synonym in synonyms.get(key, [key]):\n",
    "            print(f\"Trying synonym: {synonym}\")  # Debugging line\n",
    "            if synonym in corrected_query:\n",
    "                print(f\"Match found with synonym: {synonym}\")  # Debugging line\n",
    "                return key  # Only return section value of the key\n",
    "\n",
    "    print(\"No match found\")  # Debugging line if no match is found\n",
    "    return None\n",
    "\n",
    "# Answer function with synonym matching\n",
    "def answer_question_nlp(query, sections, qa_mapping, synonyms):\n",
    "    section_key = match_with_synonyms(query, qa_mapping, synonyms)\n",
    "\n",
    "    if section_key:\n",
    "        # Print the section key being looked up\n",
    "        print(f\"Section key found: {section_key}\")  # Debugging line\n",
    "        # Retrieve the relevant section from the specified chapter\n",
    "        section_value = combined_sections.get(section_key)\n",
    "        print(f\"Retrieved section value: {section_value}\")  # Debugging line\n",
    "        return section_value if section_value else \"Section not found.\"\n",
    "\n",
    "\n",
    "\n",
    "\n",
    "# Example\n",
    "user_query = \"What about the term of office?\"\n",
    "answer = answer_question_nlp(user_query, combined_sections, qa_mapping, synonyms)\n",
    "answer\n"
   ]
  },
  {
   "cell_type": "code",
   "execution_count": null,
   "metadata": {
    "id": "14OkBtfbXo72"
   },
   "outputs": [],
   "source": []
  },
  {
   "cell_type": "code",
   "execution_count": 34,
   "metadata": {
    "colab": {
     "base_uri": "https://localhost:8080/"
    },
    "id": "evM6uwnBXo72",
    "outputId": "d08dac07-e59c-487f-fbd5-123ec9885ff4"
   },
   "outputs": [
    {
     "name": "stdout",
     "output_type": "stream",
     "text": [
      "Processed Query: national police service\n",
      "Corrected Query: national police service\n",
      "Checking key: principle, value: principle\n",
      "Trying synonym: principle\n",
      "Trying synonym: values and principles of public service\n",
      "Trying synonym: public service values\n",
      "Trying synonym: core principles of public service\n",
      "No match for synonym: core principles of public service in national police service\n",
      "Checking key: public service commission, value: public service commission\n",
      "Trying synonym: public service commission\n",
      "Trying synonym: the public service commission\n",
      "Trying synonym: public service authority\n",
      "Trying synonym: government service commission\n",
      "No match for synonym: government service commission in national police service\n",
      "Checking key: functions, value: functions\n",
      "Trying synonym: functions\n",
      "Trying synonym: functions and powers of the public service commission\n",
      "Trying synonym: roles of the public service commission\n",
      "Trying synonym: duties of the public service commission\n",
      "No match for synonym: duties of the public service commission in national police service\n",
      "Checking key: staffing, value: staffing\n",
      "Trying synonym: staffing\n",
      "Trying synonym: staffing of county governments\n",
      "Trying synonym: county government staffing\n",
      "Trying synonym: human resources for county governments\n",
      "No match for synonym: human resources for county governments in national police service\n",
      "Checking key: protection, value: protection\n",
      "Trying synonym: protection\n",
      "Trying synonym: protection of public officers\n",
      "Trying synonym: safeguarding public officers\n",
      "Trying synonym: security for public officials\n",
      "No match for synonym: security for public officials in national police service\n",
      "Checking key: teachers service commission, value: teachers service commission\n",
      "Trying synonym: teachers service commission\n",
      "Trying synonym: commission for teachers\n",
      "Trying synonym: educators service commission\n",
      "No match for synonym: educators service commission in national police service\n",
      "Checking key: national security, value: national security\n",
      "Trying synonym: national security\n",
      "Trying synonym: principles of national security\n",
      "No match for synonym: principles of national security in national police service\n",
      "Checking key: national security organs, value: national security organs\n",
      "Trying synonym: national security organs\n",
      "Trying synonym: security organs\n",
      "Trying synonym: national security agencies\n",
      "No match for synonym: national security agencies in national police service\n",
      "Checking key: national security council, value: national security council\n",
      "Trying synonym: national security council\n",
      "Trying synonym: establishment of the national security council\n",
      "Trying synonym: national security council formation\n",
      "Trying synonym: creation of the national security council\n",
      "No match for synonym: creation of the national security council in national police service\n",
      "Checking key: defence forces, value: defence forces\n",
      "Trying synonym: defence forces and defence council\n",
      "Trying synonym: defence forces establishment\n",
      "Trying synonym: formation of defence forces and council\n",
      "No match for synonym: formation of defence forces and council in national police service\n",
      "Checking key: national intelligence service, value: national intelligence service\n",
      "Trying synonym: national intelligence service\n",
      "Trying synonym: establishment of national intelligence service\n",
      "Trying synonym: national intelligence service creation\n",
      "Trying synonym: formation of national intelligence service\n",
      "No match for synonym: formation of national intelligence service in national police service\n",
      "Checking key: national police service, value: national police service\n",
      "Trying synonym: national police service\n",
      "Match found with synonym: national police service\n",
      "Retrieved section key: national police service\n",
      "Section title being looked up: national police service\n",
      "Establishment of the National Police Service.\n",
      "243. (1) There is established the National Police Service.\n",
      "(2) The National Police Service consists of—\n",
      "(a) the Kenya Police Service; and\n",
      "(b) the Administration Police Service.\n",
      "(3) The National Police Service is a national service and shall\n",
      "function throughout Kenya.\n",
      "(4) Parliament shall enact legislation to give full effect to this\n",
      "Article.\n",
      "Objects and functions of the National Police Service.\n",
      "244. The National Police Service shall—\n",
      "(a) strive for the highest standards of professionalism and\n",
      "discipline among its members;\n",
      "(b) prevent corruption and promote and practice transparency\n",
      "and accountability;\n",
      "(c) comply with constitutional standards of human rights and\n",
      "fundamental freedoms;\n",
      "(d) train staff to the highest possible standards of competence\n",
      "and integrity and to respect human rights and fundamental\n",
      "freedoms and dignity; and\n",
      "(e) foster and promote relationships with the broader society.\n"
     ]
    }
   ],
   "source": [
    "# Combine sections from different chapters into a single dictionary\n",
    "combined_sections = {**chapter_13_sections, **chapter_14_sections, **chapter_15_sections}\n",
    "\n",
    "# Define a dictionary of synonyms for keywords\n",
    "synonyms = {\n",
    "    \"principle\": [\"principle\", \"values and principles of public service\", \"public service values\", \"core principles of public service\"],\n",
    "    \"public service commission\": [\"public service commission\", \"the public service commission\", \"public service authority\", \"government service commission\"],\n",
    "    \"functions\": [\"functions\", \"functions and powers of the public service commission\", \"roles of the public service commission\", \"duties of the public service commission\"],\n",
    "    \"staffing\": [\"staffing\", \"staffing of county governments\", \"county government staffing\", \"human resources for county governments\"],\n",
    "    \"protection\": [\"protection\", \"protection of public officers\", \"safeguarding public officers\", \"security for public officials\"],\n",
    "    \"teachers service commission\": [\"teachers service commission\", \"commission for teachers\", \"educators service commission\"],\n",
    "    \"national security\": [\"national security\", \"principles of national security\"],\n",
    "    \"national security organs\": [\"national security organs\", \"security organs\", \"national security agencies\"],\n",
    "    \"national security council\": [\"national security council\", \"establishment of the national security council\", \"national security council formation\", \"creation of the national security council\"],\n",
    "    \"defence forces\": [\"defence forces and defence council\", \"defence forces establishment\", \"formation of defence forces and council\"],\n",
    "    \"national intelligence service\": [\"national intelligence service\", \"establishment of national intelligence service\", \"national intelligence service creation\", \"formation of national intelligence service\"],\n",
    "    \"national police service\": [\"national police service\", \"establishment of the national police service\", \"national police service formation\", \"creation of the national police service\"],\n",
    "    \"functions national police service\": [\"functions national police service\", \"objects and functions of the national police service\", \"roles of the national police service\", \"duties and functions of the national police\"],\n",
    "    \"command national police service\": [\"command national police service\", \"command of the national police service\", \"national police service command\", \"leadership of the national police service\"],\n",
    "    \"national police service commission\": [\"national police service commission\", \"police service commission\", \"commission for the national police service\"],\n",
    "    \"other police services\": [\"other police services\", \"additional police services\", \"alternative police services\"],\n",
    "    \"application of chapter\": [\"application of chapter\", \"chapter application\", \"provisions of the chapter\"],\n",
    "    \"commission independent office\": [\"commission independent office\", \"commissions and independent offices\", \"independent commissions\", \"commission offices\"],\n",
    "    \"term of office\": [\"term of office\", \"terms of office\", \"office terms\", \"tenure conditions\"],\n",
    "    \"removal from office\": [\"removal from office\", \"dismissal from office\", \"termination of office\"],\n",
    "    \"general function power\": [\"general function power\", \"overall powers\", \"general powers and functions\"],\n",
    "    \"incorporation commission independent office\": [\"incorporation commission independent office\", \"incorporation commissions and independent offices\", \"establishment of commissions\", \"setting up independent offices\"],\n",
    "    \"reporting commission independent office\": [\"reporting commissions independent office\", \"reporting commissions and independent offices\", \"commissions reporting\", \"reporting by independent offices\"]\n",
    "}\n",
    "\n",
    "\n",
    "qa_mapping = {\n",
    "    \"principle\": \"principle\",\n",
    "    \"public service commission\": \"public service commission\",\n",
    "    \"functions\": \"functions\",\n",
    "    \"staffing\": \"staffing\",\n",
    "    \"protection\": \"protection\",\n",
    "    \"teachers service commission\": \"teachers service commission\",\n",
    "    \"national security\": \"national security\",\n",
    "    \"national security organs\": \"national security organs\",\n",
    "    \"national security council\": \"national security council\",\n",
    "    \"defence forces\": \"defence forces\",\n",
    "    \"national intelligence service\": \"national intelligence service\",\n",
    "    \"national police service\": \"national police service\",\n",
    "    \"functions national police service\": \"functions national police service\",\n",
    "    \"command national police service\": \"command national police service\",\n",
    "    \"national police service commission\": \"national police service commission\",\n",
    "    \"other police services\": \"other police services\",\n",
    "    \"application of chapter\": \"application of chapter\",\n",
    "    \"commission independent office\": \"commission independent office\",\n",
    "    \"term of office\": \"term of office\",\n",
    "    \"removal from office\": \"removal from office\",\n",
    "    \"general function power\": \"general function power\",\n",
    "    \"incorporation commission independent office\": \"incorporation commission independent office\",\n",
    "    \"reporting commission independent office\": \"reporting commission independent office\"\n",
    "}\n",
    "\n",
    "\n",
    "\n",
    "# Preprocess the query\n",
    "def preprocess_query(query):\n",
    "    doc = nlp(query)\n",
    "    tokens = [token.lemma_.lower() for token in doc if not token.is_stop and not token.is_punct]\n",
    "    return \" \".join(tokens)\n",
    "\n",
    "# Function to correct the spelling\n",
    "def correct_spelling(processed_query):\n",
    "    spell = SpellChecker()\n",
    "    words = processed_query.split()\n",
    "    # Find misspelled words\n",
    "    misspelled_words = spell.unknown(words)\n",
    "\n",
    "    corrected_words = []\n",
    "    for word in words:\n",
    "        # Correct the word if it's misspelled\n",
    "        if word in misspelled_words:\n",
    "            corrected_word = spell.correction(word)  # Get the most likely correction\n",
    "            corrected_words.append(corrected_word)\n",
    "        else:\n",
    "            corrected_words.append(word)\n",
    "\n",
    "    # Reconstruct the initial sentence\n",
    "    corrected_input = \" \".join(corrected_words)\n",
    "    return corrected_input\n",
    "\n",
    "# Match with synonym support\n",
    "def match_with_synonyms(query, qa_mapping, synonyms):\n",
    "    processed_query = preprocess_query(query)\n",
    "    print(f\"Processed Query: {processed_query}\")  # Debugging line\n",
    "\n",
    "    # Correct spelling in the processed query\n",
    "    corrected_query = correct_spelling(processed_query)\n",
    "    print(f\"Corrected Query: {corrected_query}\")  # Debugging line\n",
    "\n",
    "    for key, value in qa_mapping.items():\n",
    "        print(f\"Checking key: {key}, value: {value}\")  # Debugging line\n",
    "        for synonym in synonyms.get(key, [key]):\n",
    "           print(f\"Trying synonym: {synonym}\")  # Debugging line\n",
    "           if synonym in corrected_query:\n",
    "                print(f\"Match found with synonym: {synonym}\")  # Debugging line\n",
    "                return key\n",
    "        else:\n",
    "            print(f\"No match for synonym: {synonym} in {corrected_query}\")  # Debugging line\n",
    "\n",
    "# Answer function with synonym matching\n",
    "def answer_question_nlp(query, sections, qa_mapping, synonyms):\n",
    "    section_key = match_with_synonyms(query, qa_mapping, synonyms)\n",
    "\n",
    "    if section_key:\n",
    "        # Check what section key was retrieved\n",
    "        print(f\"Retrieved section key: {section_key}\")  # Debugging line\n",
    "        # Retrieve the relevant section from the combined sections\n",
    "        section_title = qa_mapping.get(section_key)\n",
    "        print(f\"Section title being looked up: {section_title}\")  # Debugging line\n",
    "\n",
    "        if section_title:\n",
    "            return sections.get(section_title, \"Section not found.\")\n",
    "\n",
    "    print(\"No section key found\")  # Debugging line if no key is found\n",
    "    return \"Section not found.\"\n",
    "\n",
    "\n",
    "# Example\n",
    "user_query = \"What about the national police service?\"\n",
    "answer = answer_question_nlp(user_query, combined_sections, qa_mapping, synonyms)\n",
    "print(answer)\n"
   ]
  },
  {
   "cell_type": "code",
   "execution_count": 35,
   "metadata": {
    "colab": {
     "base_uri": "https://localhost:8080/"
    },
    "id": "kNgFoYi1Xo72",
    "outputId": "26e67aa4-23bb-41ad-fa22-17e547134139"
   },
   "outputs": [
    {
     "name": "stdout",
     "output_type": "stream",
     "text": [
      "Processed Query: term office\n",
      "Corrected Query: term office\n",
      "Checking key: principle, value: principle\n",
      "Trying synonym: principle\n",
      "Trying synonym: values and principles of public service\n",
      "Trying synonym: public service values\n",
      "Trying synonym: core principles of public service\n",
      "No match for synonym: core principles of public service in term office\n",
      "Checking key: public service commission, value: public service commission\n",
      "Trying synonym: public service commission\n",
      "Trying synonym: the public service commission\n",
      "Trying synonym: public service authority\n",
      "Trying synonym: government service commission\n",
      "No match for synonym: government service commission in term office\n",
      "Checking key: functions, value: functions\n",
      "Trying synonym: functions\n",
      "Trying synonym: functions and powers of the public service commission\n",
      "Trying synonym: roles of the public service commission\n",
      "Trying synonym: duties of the public service commission\n",
      "No match for synonym: duties of the public service commission in term office\n",
      "Checking key: staffing, value: staffing\n",
      "Trying synonym: staffing\n",
      "Trying synonym: staffing of county governments\n",
      "Trying synonym: county government staffing\n",
      "Trying synonym: human resources for county governments\n",
      "No match for synonym: human resources for county governments in term office\n",
      "Checking key: protection, value: protection\n",
      "Trying synonym: protection\n",
      "Trying synonym: protection of public officers\n",
      "Trying synonym: safeguarding public officers\n",
      "Trying synonym: security for public officials\n",
      "No match for synonym: security for public officials in term office\n",
      "Checking key: teachers service commission, value: teachers service commission\n",
      "Trying synonym: teachers service commission\n",
      "Trying synonym: commission for teachers\n",
      "Trying synonym: educators service commission\n",
      "No match for synonym: educators service commission in term office\n",
      "Checking key: national security, value: national security\n",
      "Trying synonym: national security\n",
      "Trying synonym: principles of national security\n",
      "No match for synonym: principles of national security in term office\n",
      "Checking key: national security organs, value: national security organs\n",
      "Trying synonym: national security organs\n",
      "Trying synonym: security organs\n",
      "Trying synonym: national security agencies\n",
      "No match for synonym: national security agencies in term office\n",
      "Checking key: national security council, value: national security council\n",
      "Trying synonym: national security council\n",
      "Trying synonym: establishment of the national security council\n",
      "Trying synonym: national security council formation\n",
      "Trying synonym: creation of the national security council\n",
      "No match for synonym: creation of the national security council in term office\n",
      "Checking key: defence forces, value: defence forces\n",
      "Trying synonym: defence forces and defence council\n",
      "Trying synonym: defence forces establishment\n",
      "Trying synonym: formation of defence forces and council\n",
      "No match for synonym: formation of defence forces and council in term office\n",
      "Checking key: national intelligence service, value: national intelligence service\n",
      "Trying synonym: national intelligence service\n",
      "Trying synonym: establishment of national intelligence service\n",
      "Trying synonym: national intelligence service creation\n",
      "Trying synonym: formation of national intelligence service\n",
      "No match for synonym: formation of national intelligence service in term office\n",
      "Checking key: national police service, value: national police service\n",
      "Trying synonym: national police service\n",
      "Trying synonym: establishment of the national police service\n",
      "Trying synonym: national police service formation\n",
      "Trying synonym: creation of the national police service\n",
      "No match for synonym: creation of the national police service in term office\n",
      "Checking key: functions national police service, value: functions national police service\n",
      "Trying synonym: functions national police service\n",
      "Trying synonym: objects and functions of the national police service\n",
      "Trying synonym: roles of the national police service\n",
      "Trying synonym: duties and functions of the national police\n",
      "No match for synonym: duties and functions of the national police in term office\n",
      "Checking key: command national police service, value: command national police service\n",
      "Trying synonym: command national police service\n",
      "Trying synonym: command of the national police service\n",
      "Trying synonym: national police service command\n",
      "Trying synonym: leadership of the national police service\n",
      "No match for synonym: leadership of the national police service in term office\n",
      "Checking key: national police service commission, value: national police service commission\n",
      "Trying synonym: national police service commission\n",
      "Trying synonym: police service commission\n",
      "Trying synonym: commission for the national police service\n",
      "No match for synonym: commission for the national police service in term office\n",
      "Checking key: other police services, value: other police services\n",
      "Trying synonym: other police services\n",
      "Trying synonym: additional police services\n",
      "Trying synonym: alternative police services\n",
      "No match for synonym: alternative police services in term office\n",
      "Checking key: application of chapter, value: application of chapter\n",
      "Trying synonym: application of chapter\n",
      "Trying synonym: chapter application\n",
      "Trying synonym: provisions of the chapter\n",
      "No match for synonym: provisions of the chapter in term office\n",
      "Checking key: commission independent office, value: commission independent office\n",
      "Trying synonym: commission independent office\n",
      "Trying synonym: commissions and independent offices\n",
      "Trying synonym: independent commissions\n",
      "Trying synonym: commission offices\n",
      "No match for synonym: commission offices in term office\n",
      "Checking key: term of office, value: term of office\n",
      "Trying synonym: term of office\n",
      "Trying synonym: terms of office\n",
      "Trying synonym: office terms\n",
      "Trying synonym: tenure conditions\n",
      "No match for synonym: tenure conditions in term office\n",
      "Checking key: removal from office, value: removal from office\n",
      "Trying synonym: removal from office\n",
      "Trying synonym: dismissal from office\n",
      "Trying synonym: termination of office\n",
      "No match for synonym: termination of office in term office\n",
      "Checking key: general function power, value: general function power\n",
      "Trying synonym: general function power\n",
      "Trying synonym: overall powers\n",
      "Trying synonym: general powers and functions\n",
      "No match for synonym: general powers and functions in term office\n",
      "Checking key: incorporation commission independent office, value: incorporation commission independent office\n",
      "Trying synonym: incorporation commission independent office\n",
      "Trying synonym: incorporation commissions and independent offices\n",
      "Trying synonym: establishment of commissions\n",
      "Trying synonym: setting up independent offices\n",
      "No match for synonym: setting up independent offices in term office\n",
      "Checking key: reporting commission independent office, value: reporting commission independent office\n",
      "Trying synonym: reporting commissions independent office\n",
      "Trying synonym: reporting commissions and independent offices\n",
      "Trying synonym: commissions reporting\n",
      "Trying synonym: reporting by independent offices\n",
      "No match for synonym: reporting by independent offices in term office\n",
      "No section key found\n",
      "Section not found.\n"
     ]
    }
   ],
   "source": [
    "# Example 2\n",
    "user_query = \"What about the terms of office?\"\n",
    "answer = answer_question_nlp(user_query, combined_sections, qa_mapping, synonyms)\n",
    "print(answer)\n"
   ]
  },
  {
   "cell_type": "code",
   "execution_count": 36,
   "metadata": {
    "colab": {
     "base_uri": "https://localhost:8080/"
    },
    "id": "PRw3JqCYXo73",
    "outputId": "4e9a8caf-4e51-47a1-fc36-07b935ad01f6"
   },
   "outputs": [
    {
     "name": "stdout",
     "output_type": "stream",
     "text": [
      "Processed Query: staffing\n",
      "Corrected Query: staffing\n",
      "Checking key: principle, value: principle\n",
      "Trying synonym: principle\n",
      "Trying synonym: values and principles of public service\n",
      "Trying synonym: public service values\n",
      "Trying synonym: core principles of public service\n",
      "Checking key: public service commission, value: public service commission\n",
      "Trying synonym: public service commission\n",
      "Trying synonym: the public service commission\n",
      "Trying synonym: public service authority\n",
      "Trying synonym: government service commission\n",
      "Checking key: functions, value: functions\n",
      "Trying synonym: functions\n",
      "Trying synonym: functions and powers of the public service commission\n",
      "Trying synonym: roles of the public service commission\n",
      "Trying synonym: duties of the public service commission\n",
      "Checking key: staffing, value: staffing\n",
      "Trying synonym: staffing\n",
      "Match found with synonym: staffing\n",
      "Section key found: staffing\n",
      "Retrieved section value: Staffing of county governments.\n",
      "235. (1) A county government is responsible, within a framework\n",
      "of uniform norms and standards prescribed by an Act of Parliament,\n",
      "for—\n",
      "(a) establishing and abolishing offices in its public service;\n",
      "(b) appointing persons to hold or act in those offices, and\n",
      "confirming appointments; and\n",
      "(c) exercising disciplinary control over and removing persons\n",
      "holding or acting in those offices.\n",
      "(2) Clause (1) shall not apply to any office or position subject to\n",
      "the Teachers Service Commission.\n",
      "Staffing of county governments.\n",
      "235. (1) A county government is responsible, within a framework\n",
      "of uniform norms and standards prescribed by an Act of Parliament,\n",
      "for—\n",
      "(a) establishing and abolishing offices in its public service;\n",
      "(b) appointing persons to hold or act in those offices, and\n",
      "confirming appointments; and\n",
      "(c) exercising disciplinary control over and removing persons\n",
      "holding or acting in those offices.\n",
      "(2) Clause (1) shall not apply to any office or position subject to\n",
      "the Teachers Service Commission.\n"
     ]
    }
   ],
   "source": [
    "# Combine sections from different chapters into a single dictionary\n",
    "combined_sections = {**chapter_13_sections, **chapter_14_sections, **chapter_15_sections}\n",
    "\n",
    "# Define a dictionary of synonyms for keywords\n",
    "synonyms = {\n",
    "    \"principle\": [\"principle\", \"values and principles of public service\", \"public service values\", \"core principles of public service\"],\n",
    "    \"public service commission\": [\"public service commission\", \"the public service commission\", \"public service authority\", \"government service commission\"],\n",
    "    \"functions\": [\"functions\", \"functions and powers of the public service commission\", \"roles of the public service commission\", \"duties of the public service commission\"],\n",
    "    \"staffing\": [\"staffing\", \"staffing of county governments\", \"county government staffing\", \"human resources for county governments\"],\n",
    "    \"protection\": [\"protection\", \"protection of public officers\", \"safeguarding public officers\", \"security for public officials\"],\n",
    "    \"teachers service commission\": [\"teachers service commission\", \"commission for teachers\", \"educators service commission\"],\n",
    "    \"national security\": [\"national security\", \"principles of national security\"],\n",
    "    \"national security organs\": [\"national security organs\", \"security organs\", \"national security agencies\"],\n",
    "    \"national security council\": [\"national security council\", \"establishment of the national security council\", \"national security council formation\", \"creation of the national security council\"],\n",
    "    \"defence forces\": [\"defence forces and defence council\", \"defence forces establishment\", \"formation of defence forces and council\"],\n",
    "    \"national intelligence service\": [\"national intelligence service\", \"establishment of national intelligence service\", \"national intelligence service creation\", \"formation of national intelligence service\"],\n",
    "    \"national police service\": [\"national police service\", \"establishment of the national police service\", \"national police service formation\", \"creation of the national police service\"],\n",
    "    \"functions national police service\": [\"functions national police service\", \"objects and functions of the national police service\", \"roles of the national police service\", \"duties and functions of the national police\"],\n",
    "    \"command national police service\": [\"command national police service\", \"command of the national police service\", \"national police service command\", \"leadership of the national police service\"],\n",
    "    \"national police service commission\": [\"national police service commission\", \"police service commission\", \"commission for the national police service\"],\n",
    "    \"other police services\": [\"other police services\", \"additional police services\", \"alternative police services\"],\n",
    "    \"application of chapter\": [\"application of chapter\", \"chapter application\", \"provisions of the chapter\"],\n",
    "    \"commission independent office\": [\"commission independent office\", \"commissions and independent offices\", \"independent commissions\", \"commission offices\"],\n",
    "    \"term of office\": [\"term of office\", \"terms of office\", \"office terms\", \"tenure conditions\"],\n",
    "    \"removal from office\": [\"removal from office\", \"dismissal from office\", \"termination of office\"],\n",
    "    \"general function power\": [\"general function power\", \"overall powers\", \"general powers and functions\"],\n",
    "    \"incorporation commission independent office\": [\"incorporation commission independent office\", \"incorporation commissions and independent offices\", \"establishment of commissions\", \"setting up independent offices\"],\n",
    "    \"reporting commission independent office\": [\"reporting commissions independent office\", \"reporting commissions and independent offices\", \"commissions reporting\", \"reporting by independent offices\"]\n",
    "}\n",
    "\n",
    "\n",
    "qa_mapping = {\n",
    "    \"principle\": \"principle\",\n",
    "    \"public service commission\": \"public service commission\",\n",
    "    \"functions\": \"functions\",\n",
    "    \"staffing\": \"staffing\",\n",
    "    \"protection\": \"protection\",\n",
    "    \"teachers service commission\": \"teachers service commission\",\n",
    "    \"national security\": \"national security\",\n",
    "    \"national security organs\": \"national security organs\",\n",
    "    \"national security council\": \"national security council\",\n",
    "    \"defence forces\": \"defence forces\",\n",
    "    \"national intelligence service\": \"national intelligence service\",\n",
    "    \"national police service\": \"national police service\",\n",
    "    \"functions national police service\": \"functions national police service\",\n",
    "    \"command national police service\": \"command national police service\",\n",
    "    \"national police service commission\": \"national police service commission\",\n",
    "    \"other police services\": \"other police services\",\n",
    "    \"application of chapter\": \"application of chapter\",\n",
    "    \"commission independent office\": \"commission independent office\",\n",
    "    \"term of office\": \"term of office\",\n",
    "    \"removal from office\": \"removal from office\",\n",
    "    \"general function power\": \"general function power\",\n",
    "    \"incorporation commission independent office\": \"incorporation commission independent office\",\n",
    "    \"reporting commission independent office\": \"reporting commission independent office\"\n",
    "}\n",
    "\n",
    "# Preprocess the query\n",
    "def preprocess_query(query):\n",
    "    doc = nlp(query)\n",
    "    tokens = [token.lemma_.lower() for token in doc if not token.is_stop and not token.is_punct]\n",
    "    return \" \".join(tokens)\n",
    "\n",
    "# Function to correct the spelling\n",
    "def correct_spelling(processed_query):\n",
    "    spell = SpellChecker()\n",
    "    words = processed_query.split()\n",
    "    # Find misspelled words\n",
    "    misspelled_words = spell.unknown(words)\n",
    "\n",
    "    corrected_words = []\n",
    "    for word in words:\n",
    "        # Correct the word if it's misspelled\n",
    "        if word in misspelled_words:\n",
    "            corrected_word = spell.correction(word)  # Get the most likely correction\n",
    "            corrected_words.append(corrected_word)\n",
    "        else:\n",
    "            corrected_words.append(word)\n",
    "\n",
    "    # Reconstruct the initial sentence\n",
    "    corrected_input = \" \".join(corrected_words)\n",
    "    return corrected_input\n",
    "\n",
    "# Match with synonym support\n",
    "def match_with_synonyms(query, qa_mapping, synonyms):\n",
    "    processed_query = preprocess_query(query)\n",
    "    print(f\"Processed Query: {processed_query}\")  # Debugging line\n",
    "\n",
    "    # Correct spelling in the processed query\n",
    "    corrected_query = correct_spelling(processed_query)\n",
    "    print(f\"Corrected Query: {corrected_query}\")  # Debugging line\n",
    "\n",
    "    for key, value in qa_mapping.items():\n",
    "        print(f\"Checking key: {key}, value: {value}\")  # Debugging line\n",
    "        for synonym in synonyms.get(key, [key]):\n",
    "            print(f\"Trying synonym: {synonym}\")  # Debugging line\n",
    "            if synonym in corrected_query:  # Convert synonym to lower case for matching\n",
    "                print(f\"Match found with synonym: {synonym}\")  # Debugging line\n",
    "                return key  # Return the key if a match is found\n",
    "\n",
    "    print(\"No match found\")  # Debugging line if no match is found\n",
    "    return None  # Return None if no matches were found\n",
    "\n",
    "# Answer function with synonym matching\n",
    "def answer_question_nlp(query, sections, qa_mapping, synonyms):\n",
    "    section_key = match_with_synonyms(query, qa_mapping, synonyms)\n",
    "\n",
    "    if section_key:\n",
    "        # Print the section key being looked up\n",
    "        print(f\"Section key found: {section_key}\")  # Debugging line\n",
    "        # Retrieve the relevant section from the specified chapter\n",
    "        section_value = sections.get(section_key)  # Use sections instead of combined_sections if that's the variable name\n",
    "        print(f\"Retrieved section value: {section_value}\")  # Debugging line\n",
    "        return section_value if section_value else \"Section not found.\"\n",
    "\n",
    "    return \"Sorry, I couldn't find an answer to your question.\"\n",
    "\n",
    "# Example\n",
    "user_query = \"What about the staffing?\"\n",
    "answer = answer_question_nlp(user_query, combined_sections, qa_mapping, synonyms)\n",
    "print(answer)  # Display the answer\n"
   ]
  },
  {
   "cell_type": "markdown",
   "metadata": {
    "id": "qc5p3CAdRo2r"
   },
   "source": [
    "## Precise code"
   ]
  },
  {
   "cell_type": "code",
   "execution_count": 37,
   "metadata": {
    "colab": {
     "base_uri": "https://localhost:8080/"
    },
    "id": "ZV5z40qmXo73",
    "outputId": "5ca60ef0-df31-45f4-f947-3575f7a81dfb"
   },
   "outputs": [
    {
     "data": {
      "text/plain": [
       "{'national security': 'Principles of national security.\\n238. (1) National security is the protection against internal and\\nexternal threats to Kenya’s territorial integrity and sovereignty, its\\npeople, their rights, freedoms, property, peace, stability and prosperity,\\nand other national interests.\\n(2) The national security of Kenya shall be promoted and\\nguaranteed in accordance with the following principles—\\n(a) national security is subject to the authority of this Constitution\\nand Parliament;\\n(b) national security shall be pursued in compliance with the law\\nand with the utmost respect for the rule of law, democracy,\\nhuman rights and fundamental freedoms;\\n(c) in performing their functions and exercising their powers,\\nnational security organs shall respect the diverse culture of\\nthe communities within Kenya; and\\n(d) recruitment by the national security organs shall reflect the\\ndiversity of the Kenyan people in equitable proportions.',\n",
       " 'national security organs': 'National security organs.\\n239. (1) The national security organs are—\\n144 Constitution of Kenya, 2010\\n(a) the Kenya Defence Forces;\\n(b) the National Intelligence Service; and\\n(c) the National Police Service.\\n(2) The primary object of the national security organs and\\nsecurity system is to promote and guarantee national security in\\naccordance with the principles mentioned in Article 238 (2).\\n(3) In performing their functions and exercising their powers, the\\nnational security organs and every member of the national security\\norgans shall not—\\n(a) act in a partisan manner;\\n(b) further any interest of a political party or cause; or\\n(c) prejudice a political interest or political cause that is legitimate\\nunder this Constitution.\\n(4) A person shall not establish a military, paramilitary, or similar\\norganisation that purports to promote and guarantee national security,\\nexcept as provided for by this Constitution or an Act of Parliament.\\n(5) The national security organs are subordinate to civilian\\nauthority.\\n(6) Parliament shall enact legislation to provide for the functions,\\norganisation and administration of the national security organs.',\n",
       " 'national security council': 'Establishment of the National Security Council\\n240. (1) There is established a National Security Council.\\n(2) The Council consists of—\\n(a) the President;\\n(b) the Deputy President;\\n(c) the Cabinet Secretary responsible for defence;\\n(d) the Cabinet Secretary responsible for foreign affairs;\\n(e) the Cabinet Secretary responsible for internal security;\\n(f) the Attorney-General;\\n(g) the Chief of Kenya Defence Forces;\\nConstitution of Kenya, 2010 145\\n(h) the Director-General of the National Intelligence Service; and\\n(i) the Inspector-General of the National Police Service.\\n(3) The Council shall exercise supervisory control over national\\nsecurity organs and perform any other functions prescribed by national\\nlegislation.\\n(4) The President shall preside at meetings of the Council.\\n(5) The Council shall appoint its secretary.\\n(6) The Council shall—\\n(a) integrate the domestic, foreign and military policies relating to\\nnational security in order to enable the national security\\norgans to co-operate and function effectively; and\\n(b) assess and appraise the objectives, commitments and risks to\\nthe Republic in respect of actual and potential national\\nsecurity capabilities.\\n(7) The Council shall report annually to Parliament on the state of\\nthe security of Kenya.\\n(8) The Council may, with the approval of Parliament—\\n(a) deploy national forces outside Kenya for—\\n(i) regional or international peace support operations; or\\n(ii) other support operations; and\\n(b) approve the deployment of foreign forces in Kenya.\\nPART 2—THE KENYA DEFENCE FORCES',\n",
       " 'defence forces': 'Establishment of Defence Forces and Defence Council.\\n241. (1) There are established the Kenya Defence Forces.\\n(2) The Defence Forces consist of—\\n(a) the Kenya Army;\\n(b) the Kenya Air Force; and\\n(c) the Kenya Navy.\\n(3) The Defence Forces—\\n146 Constitution of Kenya, 2010\\n(a) are responsible for the defence and protection of the\\nsovereignty and territorial integrity of the Republic;\\n(b) shall assist and cooperate with other authorities in situations\\nof emergency or disaster, and report to the National\\nAssembly whenever deployed in such circumstances; and\\n(c) may be deployed to restore peace in any part of Kenya\\naffected by unrest or instability only with the approval of the\\nNational Assembly.\\n(4) The composition of the command of the Defence Forces shall\\nreflect the regional and ethnic diversity of the people of Kenya.\\n(5) There is established a Defence Council.\\n(6) The Council consist of—\\n(a) the Cabinet Secretary responsible for defence, who is the\\nchairperson;\\n(b) the Chief of the Kenya Defence Forces;\\n(c) the three commanders of the defence forces; and\\n(d) the Principal Secretary in the Ministry responsible for defence.\\n(7) The Council—\\n(a) is responsible for the overall policy, control, and supervision of\\nthe Kenya Defence Forces; and\\n(b) performs any other functions prescribed by national\\nlegislation.\\nPART 3—THE NATIONAL INTELLIGENCE SERVICE',\n",
       " 'national intelligence service': 'Establishment of National Intelligence Service.\\n242. (1) There is established the National Intelligence Service.\\n(2) The National Intelligence Service—\\n(a) is responsible for security intelligence and counter intelligence\\nto enhance national security in accordance with this\\nConstitution; and\\n(b) performs any other functions prescribed by national\\nlegislation.\\nConstitution of Kenya, 2010 147\\nPART 4—THE NATIONAL POLICE SERVICE',\n",
       " 'national police service': 'Establishment of the National Police Service.\\n243. (1) There is established the National Police Service.\\n(2) The National Police Service consists of—\\n(a) the Kenya Police Service; and\\n(b) the Administration Police Service.\\n(3) The National Police Service is a national service and shall\\nfunction throughout Kenya.\\n(4) Parliament shall enact legislation to give full effect to this\\nArticle.\\nObjects and functions of the National Police Service.\\n244. The National Police Service shall—\\n(a) strive for the highest standards of professionalism and\\ndiscipline among its members;\\n(b) prevent corruption and promote and practice transparency\\nand accountability;\\n(c) comply with constitutional standards of human rights and\\nfundamental freedoms;\\n(d) train staff to the highest possible standards of competence\\nand integrity and to respect human rights and fundamental\\nfreedoms and dignity; and\\n(e) foster and promote relationships with the broader society.',\n",
       " 'functions national police service': '',\n",
       " 'command national police service': 'Command of the National Police Service.\\n245. (1) There is established the office of the Inspector-General\\nof the National Police Service.\\n(2) The Inspector-General—\\n(a) is appointed by the President with the approval of Parliament;\\nand\\n(b) shall exercise independent command over the National Police\\nService, and perform any other functions prescribed by\\nnational legislation.\\n148 Constitution of Kenya, 2010\\n(3) The Kenya Police Service and the Administration Police\\nService shall each be headed by a Deputy Inspector-General\\nappointed by the President in accordance with the recommendation of\\nthe National Police Service Commission.\\n(4) The Cabinet secretary responsible for police services may\\nlawfully give a direction to the Inspector-General with respect to any\\nmatter of policy for the National Police Service, but no person may\\ngive a direction to the Inspector-General with respect to—\\n(a) the investigation of any particular offence or offences;\\n(b) the enforcement of the law against any particular person or\\npersons; or\\n(c) the employment, assignment, promotion, suspension or\\ndismissal of any member of the National Police Service.\\n(5) Any direction given to the Inspector-General by the Cabinet\\nsecretary responsible for police services under clause (4), or any\\ndirection given to the Inspector-General by the Director of Public\\nProsecutions under Article 157(4), shall be in writing.\\n(6) The Inspector-General shall be appointed for a single four-\\nyear term, and is not eligible for re-appointment.\\n(7) The Inspector-General may be removed from office by the\\nPresident only on the grounds of—\\n(a) serious violation of this Constitution or any other law,\\nincluding a contravention of Chapter Six;\\n(b) gross misconduct whether in the performance of the office\\nholder’s functions or otherwise;\\n(c) physical or mental incapacity to perform the functions of\\noffice;\\n(d) incompetence;\\n(e) bankruptcy; or\\n(f) any other just cause.\\n(8) Parliament shall enact legislation to give full effect to this\\nArticle.',\n",
       " 'national police service commission': 'National Police Service Commission.\\n246. (1) There is established the National Police Service\\nConstitution of Kenya, 2010 149\\nCommission.\\n(2) The Commission consists of—\\n(a) the following persons, each appointed by the President—\\n(i) a person who is qualified to be appointed as a High\\nCourt Judge;\\n(ii) two retired senior police officers; and\\n(iii) three persons of integrity who have served the public with\\ndistinction;\\n(b) the Inspector-General of the National Police Service; and\\n(c) both Deputy Inspectors-General of the National Police\\nService.\\n(3) The Commission shall—\\n(a) recruit and appoint persons to hold or act in offices in the\\nservice, confirm appointments, and determine promotions\\nand transfers within the National Police Service;\\n(b) observing due process, exercise disciplinary control over and\\nremove persons holding or acting in offices within the\\nService; and\\n(c) perform any other functions prescribed by national legislation.\\n(4) The composition of the National Police Service shall reflect\\nthe regional and ethnic diversity of the people of Kenya.\\nOther police services.\\n247. Parliament may enact legislation establishing other police\\nservices under the supervision of the National Police Service and the\\ncommand of the Inspector-General of the Service.',\n",
       " 'other police services': ''}"
      ]
     },
     "execution_count": 37,
     "metadata": {},
     "output_type": "execute_result"
    }
   ],
   "source": [
    "chapter_14_sections"
   ]
  },
  {
   "cell_type": "code",
   "execution_count": 38,
   "metadata": {
    "colab": {
     "base_uri": "https://localhost:8080/"
    },
    "id": "U7NABr-sXo73",
    "outputId": "5adc9292-f97d-4927-86b9-bce49eff62bc"
   },
   "outputs": [
    {
     "name": "stdout",
     "output_type": "stream",
     "text": [
      "Processed Query: term office\n",
      "Corrected Query: term office\n",
      "Checking key: principle, value: principle\n",
      "Trying synonym: principle\n",
      "Trying synonym: values and principles of public service\n",
      "Trying synonym: public service values\n",
      "Trying synonym: core principles of public service\n",
      "Checking key: public service commission, value: public service commission\n",
      "Trying synonym: public service commission\n",
      "Trying synonym: the public service commission\n",
      "Trying synonym: public service authority\n",
      "Trying synonym: government service commission\n",
      "Checking key: functions, value: functions\n",
      "Trying synonym: functions\n",
      "Trying synonym: functions and powers of the public service commission\n",
      "Trying synonym: roles of the public service commission\n",
      "Trying synonym: duties of the public service commission\n",
      "Checking key: staffing, value: staffing\n",
      "Trying synonym: staffing\n",
      "Trying synonym: staffing of county governments\n",
      "Trying synonym: county government staffing\n",
      "Trying synonym: human resources for county governments\n",
      "Checking key: protection, value: protection\n",
      "Trying synonym: protection\n",
      "Trying synonym: protection of public officers\n",
      "Trying synonym: safeguarding public officers\n",
      "Trying synonym: security for public officials\n",
      "Checking key: teachers service commission, value: teachers service commission\n",
      "Trying synonym: teachers service commission\n",
      "Trying synonym: commission for teachers\n",
      "Trying synonym: educators service commission\n",
      "Checking key: national security, value: national security\n",
      "Trying synonym: national security\n",
      "Trying synonym: principles of national security\n",
      "Checking key: national security organs, value: national security organs\n",
      "Trying synonym: national security organs\n",
      "Trying synonym: security organs\n",
      "Trying synonym: national security agencies\n",
      "Checking key: national security council, value: national security council\n",
      "Trying synonym: national security council\n",
      "Trying synonym: establishment of the national security council\n",
      "Trying synonym: national security council formation\n",
      "Trying synonym: creation of the national security council\n",
      "Checking key: defence forces, value: defence forces\n",
      "Trying synonym: defence forces and defence council\n",
      "Trying synonym: defence forces establishment\n",
      "Trying synonym: formation of defence forces and council\n",
      "Checking key: national intelligence service, value: national intelligence service\n",
      "Trying synonym: national intelligence service\n",
      "Trying synonym: establishment of national intelligence service\n",
      "Trying synonym: national intelligence service creation\n",
      "Trying synonym: formation of national intelligence service\n",
      "Checking key: national police service, value: national police service\n",
      "Trying synonym: national police service\n",
      "Trying synonym: establishment of the national police service\n",
      "Trying synonym: national police service formation\n",
      "Trying synonym: creation of the national police service\n",
      "Checking key: functions national police service, value: functions national police service\n",
      "Trying synonym: functions national police service\n",
      "Trying synonym: objects and functions of the national police service\n",
      "Trying synonym: roles of the national police service\n",
      "Trying synonym: duties and functions of the national police\n",
      "Checking key: command national police service, value: command national police service\n",
      "Trying synonym: command national police service\n",
      "Trying synonym: command of the national police service\n",
      "Trying synonym: national police service command\n",
      "Trying synonym: leadership of the national police service\n",
      "Checking key: national police service commission, value: national police service commission\n",
      "Trying synonym: national police service commission\n",
      "Trying synonym: police service commission\n",
      "Trying synonym: commission for the national police service\n",
      "Checking key: other police services, value: other police services\n",
      "Trying synonym: other police services\n",
      "Trying synonym: additional police services\n",
      "Trying synonym: alternative police services\n",
      "Checking key: application of chapter, value: application of chapter\n",
      "Trying synonym: application of chapter\n",
      "Trying synonym: chapter application\n",
      "Trying synonym: provisions of the chapter\n",
      "Checking key: commission independent office, value: commission independent office\n",
      "Trying synonym: commission independent office\n",
      "Trying synonym: commissions and independent offices\n",
      "Trying synonym: independent commissions\n",
      "Trying synonym: commission offices\n",
      "Checking key: term of office, value: term of office\n",
      "Trying synonym: term of office\n",
      "Trying synonym: terms of office\n",
      "Trying synonym: office terms\n",
      "Trying synonym: tenure conditions\n",
      "Checking key: removal from office, value: removal from office\n",
      "Trying synonym: removal from office\n",
      "Trying synonym: dismissal from office\n",
      "Trying synonym: termination of office\n",
      "Checking key: general function power, value: general function power\n",
      "Trying synonym: general function power\n",
      "Trying synonym: overall powers\n",
      "Trying synonym: general powers and functions\n",
      "Checking key: incorporation commission independent office, value: incorporation commission independent office\n",
      "Trying synonym: incorporation commission independent office\n",
      "Trying synonym: incorporation commissions and independent offices\n",
      "Trying synonym: establishment of commissions\n",
      "Trying synonym: setting up independent offices\n",
      "Checking key: reporting commission independent office, value: reporting commission independent office\n",
      "Trying synonym: reporting commissions independent office\n",
      "Trying synonym: reporting commissions and independent offices\n",
      "Trying synonym: commissions reporting\n",
      "Trying synonym: reporting by independent offices\n",
      "No match found\n",
      "Sorry, I couldn't find an answer to your question.\n"
     ]
    }
   ],
   "source": [
    "# Combine sections from different chapters into a single dictionary\n",
    "combined_sections = {**chapter_13_sections, **chapter_14_sections, **chapter_15_sections}\n",
    "\n",
    "# Define a dictionary of synonyms for keywords\n",
    "synonyms = {\n",
    "    \"principle\": [\"principle\", \"values and principles of public service\", \"public service values\", \"core principles of public service\"],\n",
    "    \"public service commission\": [\"public service commission\", \"the public service commission\", \"public service authority\", \"government service commission\"],\n",
    "    \"functions\": [\"functions\", \"functions and powers of the public service commission\", \"roles of the public service commission\", \"duties of the public service commission\"],\n",
    "    \"staffing\": [\"staffing\", \"staffing of county governments\", \"county government staffing\", \"human resources for county governments\"],\n",
    "    \"protection\": [\"protection\", \"protection of public officers\", \"safeguarding public officers\", \"security for public officials\"],\n",
    "    \"teachers service commission\": [\"teachers service commission\", \"commission for teachers\", \"educators service commission\"],\n",
    "    \"national security\": [\"national security\", \"principles of national security\"],\n",
    "    \"national security organs\": [\"national security organs\", \"security organs\", \"national security agencies\"],\n",
    "    \"national security council\": [\"national security council\", \"establishment of the national security council\", \"national security council formation\", \"creation of the national security council\"],\n",
    "    \"defence forces\": [\"defence forces and defence council\", \"defence forces establishment\", \"formation of defence forces and council\"],\n",
    "    \"national intelligence service\": [\"national intelligence service\", \"establishment of national intelligence service\", \"national intelligence service creation\", \"formation of national intelligence service\"],\n",
    "    \"national police service\": [\"national police service\", \"establishment of the national police service\", \"national police service formation\", \"creation of the national police service\"],\n",
    "    \"functions national police service\": [\"functions national police service\", \"objects and functions of the national police service\", \"roles of the national police service\", \"duties and functions of the national police\"],\n",
    "    \"command national police service\": [\"command national police service\", \"command of the national police service\", \"national police service command\", \"leadership of the national police service\"],\n",
    "    \"national police service commission\": [\"national police service commission\", \"police service commission\", \"commission for the national police service\"],\n",
    "    \"other police services\": [\"other police services\", \"additional police services\", \"alternative police services\"],\n",
    "    \"application of chapter\": [\"application of chapter\", \"chapter application\", \"provisions of the chapter\"],\n",
    "    \"commission independent office\": [\"commission independent office\", \"commissions and independent offices\", \"independent commissions\", \"commission offices\"],\n",
    "    \"term of office\": [\"term of office\", \"terms of office\", \"office terms\", \"tenure conditions\"],\n",
    "    \"removal from office\": [\"removal from office\", \"dismissal from office\", \"termination of office\"],\n",
    "    \"general function power\": [\"general function power\", \"overall powers\", \"general powers and functions\"],\n",
    "    \"incorporation commission independent office\": [\"incorporation commission independent office\", \"incorporation commissions and independent offices\", \"establishment of commissions\", \"setting up independent offices\"],\n",
    "    \"reporting commission independent office\": [\"reporting commissions independent office\", \"reporting commissions and independent offices\", \"commissions reporting\", \"reporting by independent offices\"]\n",
    "}\n",
    "\n",
    "\n",
    "qa_mapping = {\n",
    "    \"principle\": \"principle\",\n",
    "    \"public service commission\": \"public service commission\",\n",
    "    \"functions\": \"functions\",\n",
    "    \"staffing\": \"staffing\",\n",
    "    \"protection\": \"protection\",\n",
    "    \"teachers service commission\": \"teachers service commission\",\n",
    "    \"national security\": \"national security\",\n",
    "    \"national security organs\": \"national security organs\",\n",
    "    \"national security council\": \"national security council\",\n",
    "    \"defence forces\": \"defence forces\",\n",
    "    \"national intelligence service\": \"national intelligence service\",\n",
    "    \"national police service\": \"national police service\",\n",
    "    \"functions national police service\": \"functions national police service\",\n",
    "    \"command national police service\": \"command national police service\",\n",
    "    \"national police service commission\": \"national police service commission\",\n",
    "    \"other police services\": \"other police services\",\n",
    "    \"application of chapter\": \"application of chapter\",\n",
    "    \"commission independent office\": \"commission independent office\",\n",
    "    \"term of office\": \"term of office\",\n",
    "    \"removal from office\": \"removal from office\",\n",
    "    \"general function power\": \"general function power\",\n",
    "    \"incorporation commission independent office\": \"incorporation commission independent office\",\n",
    "    \"reporting commission independent office\": \"reporting commission independent office\"\n",
    "}\n",
    "\n",
    "# Preprocess the query\n",
    "def preprocess_query(query):\n",
    "    doc = nlp(query)\n",
    "    tokens = [token.lemma_.lower() for token in doc if not token.is_stop and not token.is_punct]\n",
    "    return \" \".join(tokens)\n",
    "\n",
    "# Function to correct the spelling\n",
    "def correct_spelling(processed_query):\n",
    "    spell = SpellChecker()\n",
    "    words = processed_query.split()\n",
    "    # Find misspelled words\n",
    "    misspelled_words = spell.unknown(words)\n",
    "\n",
    "    corrected_words = []\n",
    "    for word in words:\n",
    "        # Correct the word if it's misspelled\n",
    "        if word in misspelled_words:\n",
    "            corrected_word = spell.correction(word)  # Get the most likely correction\n",
    "            corrected_words.append(corrected_word)\n",
    "        else:\n",
    "            corrected_words.append(word)\n",
    "\n",
    "    # Reconstruct the initial sentence\n",
    "    corrected_input = \" \".join(corrected_words)\n",
    "    return corrected_input\n",
    "\n",
    "# Match with synonym support\n",
    "def match_with_synonyms(query, qa_mapping, synonyms):\n",
    "    processed_query = preprocess_query(query)\n",
    "    print(f\"Processed Query: {processed_query}\")  # Debugging line\n",
    "\n",
    "    # Correct spelling in the processed query\n",
    "    corrected_query = correct_spelling(processed_query)\n",
    "    print(f\"Corrected Query: {corrected_query}\")  # Debugging line\n",
    "\n",
    "    for key, value in qa_mapping.items():\n",
    "        print(f\"Checking key: {key}, value: {value}\")  # Debugging line\n",
    "        for synonym in synonyms.get(key, [key]):\n",
    "            print(f\"Trying synonym: {synonym}\")  # Debugging line\n",
    "            if synonym in corrected_query:  # Convert synonym to lower case for matching\n",
    "                print(f\"Match found with synonym: {synonym}\")  # Debugging line\n",
    "                return key  # Return the key if a match is found\n",
    "\n",
    "    print(\"No match found\")  # Debugging line if no match is found\n",
    "    return None  # Return None if no matches were found\n",
    "\n",
    "# Answer function with synonym matching\n",
    "def answer_question_nlp(query, combined_sections, qa_mapping, synonyms):\n",
    "    section_key = match_with_synonyms(query, qa_mapping, synonyms)\n",
    "\n",
    "    if section_key:\n",
    "        # Print the section key being looked up\n",
    "        print(f\"Section key found: {section_key}\")  # Debugging line\n",
    "        # Retrieve the relevant section from the specified chapter\n",
    "        section_value = combined_sections.get(section_key)  # Use sections instead of combined_sections if that's the variable name\n",
    "        print(f\"Retrieved section value: {section_value}\")  # Debugging line\n",
    "        return section_value if section_value else \"Section not found.\"\n",
    "\n",
    "    return \"Sorry, I couldn't find an answer to your question.\"\n",
    "\n",
    "# Example\n",
    "user_query = \"What about the terms of office\"\n",
    "answer = answer_question_nlp(user_query, combined_sections, qa_mapping, synonyms)\n",
    "print(answer)  # Display the answer\n"
   ]
  },
  {
   "cell_type": "code",
   "execution_count": 39,
   "metadata": {
    "colab": {
     "base_uri": "https://localhost:8080/"
    },
    "id": "dgEBGst3Xo74",
    "outputId": "a9233137-272e-444a-bf9b-6979dd617a15"
   },
   "outputs": [
    {
     "data": {
      "text/plain": [
       "['national intelligence service',\n",
       " 'national police service',\n",
       " 'functions national police service',\n",
       " 'command national police service',\n",
       " 'national police service commission',\n",
       " 'other police services',\n",
       " 'application of chapter',\n",
       " 'commission independent office',\n",
       " 'term of office',\n",
       " 'removal from office',\n",
       " 'general function power',\n",
       " 'incorporation commission independent office',\n",
       " 'reporting commission independent office']"
      ]
     },
     "execution_count": 39,
     "metadata": {},
     "output_type": "execute_result"
    }
   ],
   "source": [
    "list(combined_sections.keys())[10:]"
   ]
  },
  {
   "cell_type": "markdown",
   "metadata": {
    "id": "yJ0OdhbjSXnI"
   },
   "source": [
    "##Test for the synonyms\n"
   ]
  },
  {
   "cell_type": "code",
   "execution_count": 40,
   "metadata": {
    "colab": {
     "base_uri": "https://localhost:8080/"
    },
    "id": "jRZjamrtSaBJ",
    "outputId": "7e2b80fa-21d2-47d9-c302-f5aaa0a3ff20"
   },
   "outputs": [
    {
     "name": "stdout",
     "output_type": "stream",
     "text": [
      "Processed Query: defence force\n",
      "Corrected Query: defense force\n",
      "Checking key: principle, value: principle\n",
      "Trying synonym: principle\n",
      "Trying synonym: values and principles of public service\n",
      "Trying synonym: public service values\n",
      "Trying synonym: core principles of public service\n",
      "Checking key: public service commission, value: public service commission\n",
      "Trying synonym: public service commission\n",
      "Trying synonym: the public service commission\n",
      "Trying synonym: public service authority\n",
      "Trying synonym: government service commission\n",
      "Checking key: functions, value: functions\n",
      "Trying synonym: functions\n",
      "Trying synonym: functions and powers of the public service commission\n",
      "Trying synonym: roles of the public service commission\n",
      "Trying synonym: duties of the public service commission\n",
      "Checking key: staffing, value: staffing\n",
      "Trying synonym: staffing\n",
      "Trying synonym: staffing of county governments\n",
      "Trying synonym: county government staffing\n",
      "Trying synonym: human resources for county governments\n",
      "Checking key: protection, value: protection\n",
      "Trying synonym: protection\n",
      "Trying synonym: protection of public officers\n",
      "Trying synonym: safeguarding public officers\n",
      "Trying synonym: security for public officials\n",
      "Checking key: teachers service commission, value: teachers service commission\n",
      "Trying synonym: teachers service commission\n",
      "Trying synonym: commission for teachers\n",
      "Trying synonym: educators service commission\n",
      "Checking key: national security, value: national security\n",
      "Trying synonym: national security\n",
      "Trying synonym: principles of national security\n",
      "Checking key: national security organs, value: national security organs\n",
      "Trying synonym: national security organs\n",
      "Trying synonym: security organs\n",
      "Trying synonym: national security agencies\n",
      "Checking key: national security council, value: national security council\n",
      "Trying synonym: national security council\n",
      "Trying synonym: establishment of the national security council\n",
      "Trying synonym: national security council formation\n",
      "Trying synonym: creation of the national security council\n",
      "Checking key: defence forces, value: defence forces\n",
      "Trying synonym: defence forces and defence council\n",
      "Trying synonym: defence forces establishment\n",
      "Trying synonym: formation of defence forces and council\n",
      "Checking key: national intelligence service, value: national intelligence service\n",
      "Trying synonym: national intelligence service\n",
      "Trying synonym: establishment of national intelligence service\n",
      "Trying synonym: national intelligence service creation\n",
      "Trying synonym: formation of national intelligence service\n",
      "Checking key: national police service, value: national police service\n",
      "Trying synonym: national police service\n",
      "Trying synonym: establishment of the national police service\n",
      "Trying synonym: national police service formation\n",
      "Trying synonym: creation of the national police service\n",
      "Checking key: functions national police service, value: functions national police service\n",
      "Trying synonym: functions national police service\n",
      "Trying synonym: objects and functions of the national police service\n",
      "Trying synonym: roles of the national police service\n",
      "Trying synonym: duties and functions of the national police\n",
      "Checking key: command national police service, value: command national police service\n",
      "Trying synonym: command national police service\n",
      "Trying synonym: command of the national police service\n",
      "Trying synonym: national police service command\n",
      "Trying synonym: leadership of the national police service\n",
      "Checking key: national police service commission, value: national police service commission\n",
      "Trying synonym: national police service commission\n",
      "Trying synonym: police service commission\n",
      "Trying synonym: commission for the national police service\n",
      "Checking key: other police services, value: other police services\n",
      "Trying synonym: other police services\n",
      "Trying synonym: additional police services\n",
      "Trying synonym: alternative police services\n",
      "Checking key: application of chapter, value: application of chapter\n",
      "Trying synonym: application of chapter\n",
      "Trying synonym: chapter application\n",
      "Trying synonym: provisions of the chapter\n",
      "Checking key: commission independent office, value: commission independent office\n",
      "Trying synonym: commission independent office\n",
      "Trying synonym: commissions and independent offices\n",
      "Trying synonym: independent commissions\n",
      "Trying synonym: commission offices\n",
      "Checking key: term of office, value: term of office\n",
      "Trying synonym: term of office\n",
      "Trying synonym: terms of office\n",
      "Trying synonym: office terms\n",
      "Trying synonym: tenure conditions\n",
      "Checking key: removal from office, value: removal from office\n",
      "Trying synonym: removal from office\n",
      "Trying synonym: dismissal from office\n",
      "Trying synonym: termination of office\n",
      "Checking key: general function power, value: general function power\n",
      "Trying synonym: general function power\n",
      "Trying synonym: overall powers\n",
      "Trying synonym: general powers and functions\n",
      "Checking key: incorporation commission independent office, value: incorporation commission independent office\n",
      "Trying synonym: incorporation commission independent office\n",
      "Trying synonym: incorporation commissions and independent offices\n",
      "Trying synonym: establishment of commissions\n",
      "Trying synonym: setting up independent offices\n",
      "Checking key: reporting commission independent office, value: reporting commission independent office\n",
      "Trying synonym: reporting commissions independent office\n",
      "Trying synonym: reporting commissions and independent offices\n",
      "Trying synonym: commissions reporting\n",
      "Trying synonym: reporting by independent offices\n",
      "No match found\n",
      "Sorry, I couldn't find an answer to your question.\n"
     ]
    }
   ],
   "source": [
    "user_query = \"What are the defence forces?\"\n",
    "answer = answer_question_nlp(user_query,combined_sections,qa_mapping,synonyms)\n",
    "print(answer)"
   ]
  },
  {
   "cell_type": "markdown",
   "metadata": {
    "id": "j7O2Cd5dTFCv"
   },
   "source": [
    "## Testing for misspellings"
   ]
  },
  {
   "cell_type": "code",
   "execution_count": 41,
   "metadata": {
    "colab": {
     "base_uri": "https://localhost:8080/"
    },
    "id": "WMRXjmKqSxD3",
    "outputId": "520faf21-3955-4548-babe-cccb81c1bb65"
   },
   "outputs": [
    {
     "name": "stdout",
     "output_type": "stream",
     "text": [
      "Processed Query: value pubic service commission\n",
      "Corrected Query: value pubic service commission\n",
      "Checking key: principle, value: principle\n",
      "Trying synonym: principle\n",
      "Trying synonym: values and principles of public service\n",
      "Trying synonym: public service values\n",
      "Trying synonym: core principles of public service\n",
      "Checking key: public service commission, value: public service commission\n",
      "Trying synonym: public service commission\n",
      "Trying synonym: the public service commission\n",
      "Trying synonym: public service authority\n",
      "Trying synonym: government service commission\n",
      "Checking key: functions, value: functions\n",
      "Trying synonym: functions\n",
      "Trying synonym: functions and powers of the public service commission\n",
      "Trying synonym: roles of the public service commission\n",
      "Trying synonym: duties of the public service commission\n",
      "Checking key: staffing, value: staffing\n",
      "Trying synonym: staffing\n",
      "Trying synonym: staffing of county governments\n",
      "Trying synonym: county government staffing\n",
      "Trying synonym: human resources for county governments\n",
      "Checking key: protection, value: protection\n",
      "Trying synonym: protection\n",
      "Trying synonym: protection of public officers\n",
      "Trying synonym: safeguarding public officers\n",
      "Trying synonym: security for public officials\n",
      "Checking key: teachers service commission, value: teachers service commission\n",
      "Trying synonym: teachers service commission\n",
      "Trying synonym: commission for teachers\n",
      "Trying synonym: educators service commission\n",
      "Checking key: national security, value: national security\n",
      "Trying synonym: national security\n",
      "Trying synonym: principles of national security\n",
      "Checking key: national security organs, value: national security organs\n",
      "Trying synonym: national security organs\n",
      "Trying synonym: security organs\n",
      "Trying synonym: national security agencies\n",
      "Checking key: national security council, value: national security council\n",
      "Trying synonym: national security council\n",
      "Trying synonym: establishment of the national security council\n",
      "Trying synonym: national security council formation\n",
      "Trying synonym: creation of the national security council\n",
      "Checking key: defence forces, value: defence forces\n",
      "Trying synonym: defence forces and defence council\n",
      "Trying synonym: defence forces establishment\n",
      "Trying synonym: formation of defence forces and council\n",
      "Checking key: national intelligence service, value: national intelligence service\n",
      "Trying synonym: national intelligence service\n",
      "Trying synonym: establishment of national intelligence service\n",
      "Trying synonym: national intelligence service creation\n",
      "Trying synonym: formation of national intelligence service\n",
      "Checking key: national police service, value: national police service\n",
      "Trying synonym: national police service\n",
      "Trying synonym: establishment of the national police service\n",
      "Trying synonym: national police service formation\n",
      "Trying synonym: creation of the national police service\n",
      "Checking key: functions national police service, value: functions national police service\n",
      "Trying synonym: functions national police service\n",
      "Trying synonym: objects and functions of the national police service\n",
      "Trying synonym: roles of the national police service\n",
      "Trying synonym: duties and functions of the national police\n",
      "Checking key: command national police service, value: command national police service\n",
      "Trying synonym: command national police service\n",
      "Trying synonym: command of the national police service\n",
      "Trying synonym: national police service command\n",
      "Trying synonym: leadership of the national police service\n",
      "Checking key: national police service commission, value: national police service commission\n",
      "Trying synonym: national police service commission\n",
      "Trying synonym: police service commission\n",
      "Trying synonym: commission for the national police service\n",
      "Checking key: other police services, value: other police services\n",
      "Trying synonym: other police services\n",
      "Trying synonym: additional police services\n",
      "Trying synonym: alternative police services\n",
      "Checking key: application of chapter, value: application of chapter\n",
      "Trying synonym: application of chapter\n",
      "Trying synonym: chapter application\n",
      "Trying synonym: provisions of the chapter\n",
      "Checking key: commission independent office, value: commission independent office\n",
      "Trying synonym: commission independent office\n",
      "Trying synonym: commissions and independent offices\n",
      "Trying synonym: independent commissions\n",
      "Trying synonym: commission offices\n",
      "Checking key: term of office, value: term of office\n",
      "Trying synonym: term of office\n",
      "Trying synonym: terms of office\n",
      "Trying synonym: office terms\n",
      "Trying synonym: tenure conditions\n",
      "Checking key: removal from office, value: removal from office\n",
      "Trying synonym: removal from office\n",
      "Trying synonym: dismissal from office\n",
      "Trying synonym: termination of office\n",
      "Checking key: general function power, value: general function power\n",
      "Trying synonym: general function power\n",
      "Trying synonym: overall powers\n",
      "Trying synonym: general powers and functions\n",
      "Checking key: incorporation commission independent office, value: incorporation commission independent office\n",
      "Trying synonym: incorporation commission independent office\n",
      "Trying synonym: incorporation commissions and independent offices\n",
      "Trying synonym: establishment of commissions\n",
      "Trying synonym: setting up independent offices\n",
      "Checking key: reporting commission independent office, value: reporting commission independent office\n",
      "Trying synonym: reporting commissions independent office\n",
      "Trying synonym: reporting commissions and independent offices\n",
      "Trying synonym: commissions reporting\n",
      "Trying synonym: reporting by independent offices\n",
      "No match found\n",
      "Sorry, I couldn't find an answer to your question.\n"
     ]
    }
   ],
   "source": [
    "user_query = \"What are the values of the Pubic Service Commission?\"\n",
    "answer = answer_question_nlp(user_query,sections,qa_mapping,synonyms)\n",
    "print(answer)"
   ]
  },
  {
   "cell_type": "markdown",
   "metadata": {
    "id": "rz3qkFcpTUHx"
   },
   "source": [
    "The code efficiently corrects the misspelt words and also considers the synonyms used."
   ]
  },
  {
   "cell_type": "markdown",
   "metadata": {
    "id": "uTJqNtd1TbOW"
   },
   "source": [
    "### Combining all chapter sections into a singlr dictionary"
   ]
  },
  {
   "cell_type": "code",
   "execution_count": 42,
   "metadata": {
    "colab": {
     "base_uri": "https://localhost:8080/"
    },
    "id": "oeRNo16ITNHO",
    "outputId": "c9741b11-6730-4ca4-f4ce-c5c28ebfab53"
   },
   "outputs": [
    {
     "data": {
      "text/plain": [
       "dict_keys(['principle', 'public service commission', 'functions', 'staffing', 'protection', 'teacher service commission', 'national security', 'national security organs', 'national security council', 'defence forces', 'national intelligence service', 'national police service', 'functions national police service', 'command national police service', 'national police service commission', 'other police services', 'application of chapter', 'commission independent office', 'term of office', 'removal from office', 'general function power', 'incorporation commission independent office', 'reporting commission independent office'])"
      ]
     },
     "execution_count": 42,
     "metadata": {},
     "output_type": "execute_result"
    }
   ],
   "source": [
    "combined_sections = {\n",
    "    **chapter_13_sections,\n",
    "    **chapter_14_sections,\n",
    "    **chapter_15_sections\n",
    "\n",
    "}\n",
    "\n",
    "combined_sections.keys()"
   ]
  },
  {
   "cell_type": "code",
   "execution_count": 44,
   "metadata": {
    "colab": {
     "base_uri": "https://localhost:8080/"
    },
    "id": "727n5kWlTwHl",
    "outputId": "9668c444-627b-4bbe-cba7-e780e45e186d"
   },
   "outputs": [
    {
     "name": "stderr",
     "output_type": "stream",
     "text": [
      "2024-11-02 20:43:44,084 - DEBUG - Processed Query: principle\n"
     ]
    },
    {
     "name": "stderr",
     "output_type": "stream",
     "text": [
      "2024-11-02 20:43:44,428 - DEBUG - Corrected Query: principle\n",
      "2024-11-02 20:43:44,428 - DEBUG - Checking key: principle, value: principle\n",
      "2024-11-02 20:43:44,428 - DEBUG - Trying synonym: principle\n",
      "2024-11-02 20:43:44,428 - DEBUG - Match found with synonym: principle\n"
     ]
    },
    {
     "name": "stdout",
     "output_type": "stream",
     "text": [
      "Values and principles of public service.\n",
      "232. (1) The values and principles of public service include—\n",
      "(a) high standards of professional ethics;\n",
      "(b) efficient, effective and economic use of resources;\n",
      "(c) responsive, prompt, effective, impartial and equitable\n",
      "provision of services;\n",
      "(d) involvement of the people in the process of policy making;\n",
      "(e) accountability for administrative acts;\n",
      "(f) transparency and provision to the public of timely, accurate\n",
      "information;\n",
      "(g) subject to paragraphs (h) and (i), fair competition and merit as\n",
      "the basis of appointments and promotions;\n",
      "(h) representation of Kenya’s diverse communities; and\n",
      "(i) affording adequate and equal opportunities for appointment,\n",
      "training and advancement, at all levels of the public service,\n",
      "of—\n",
      "(i) men and women;\n",
      "(ii) the members of all ethnic groups; and\n",
      "(iii) persons with disabilities.\n",
      "(2) The values and principles of public service apply to public\n",
      "service in—\n",
      "(a) all State organs in both levels of government; and\n",
      "(b) all State corporations.\n",
      "(3) Parliament shall enact legislation to give full effect to this\n",
      "Article.\n",
      "PART 2—THE PUBLIC SERVICE COMMISSION\n"
     ]
    }
   ],
   "source": [
    "import logging\n",
    "\n",
    "# Configure logging\n",
    "logging.basicConfig(\n",
    "    level=logging.DEBUG,  # Set the logging level\n",
    "    format='%(asctime)s - %(levelname)s - %(message)s',  # Log message format\n",
    ")\n",
    "\n",
    "## Define synonym mapping\n",
    "synonyms = {\n",
    "    \"principle\": [\"principle\", \"values and principles of public service\", \"public service values\", \"core principles of public service\"],\n",
    "    \"public service commission\": [\"public service commission\", \"the public service commission\", \"public service authority\", \"government service commission\"],\n",
    "    \"functions\": [\"functions\", \"functions and powers of the public service commission\", \"roles of the public service commission\", \"duties of the public service commission\"],\n",
    "    \"staffing\": [\"staffing\", \"staffing of county governments\", \"county government staffing\", \"human resources for county governments\"],\n",
    "    \"protection\": [\"protection\", \"protection of public officers\", \"safeguarding public officers\", \"security for public officials\"],\n",
    "    \"teachers service commission\": [\"teachers service commission\", \"commission for teachers\", \"educators service commission\"],\n",
    "    \"national security\": [\"national security\", \"principles of national security\"],\n",
    "    \"national security organs\": [\"national security organs\", \"security organs\", \"national security agencies\"],\n",
    "    \"national security council\": [\"national security council\", \"establishment of the national security council\", \"national security council formation\", \"creation of the national security council\"],\n",
    "    \"defence forces\": [\"defence forces and defence council\", \"defence forces establishment\", \"formation of defence forces and council\"],\n",
    "    \"national intelligence service\": [\"national intelligence service\", \"establishment of national intelligence service\", \"national intelligence service creation\", \"formation of national intelligence service\"],\n",
    "    \"national police service\": [\"national police service\", \"establishment of the national police service\", \"national police service formation\", \"creation of the national police service\"],\n",
    "    \"functions national police service\": [\"functions national police service\", \"objects and functions of the national police service\", \"roles of the national police service\", \"duties and functions of the national police\"],\n",
    "    \"command national police service\": [\"command national police service\", \"command of the national police service\", \"national police service command\", \"leadership of the national police service\"],\n",
    "    \"national police service commission\": [\"national police service commission\", \"police service commission\", \"commission for the national police service\"],\n",
    "    \"other police services\": [\"other police services\", \"additional police services\", \"alternative police services\"],\n",
    "    \"application of chapter\": [\"application of chapter\", \"chapter application\", \"provisions of the chapter\"],\n",
    "    \"commission independent office\": [\"commission independent office\", \"commissions and independent offices\", \"independent commissions\", \"commission offices\"],\n",
    "    \"term of office\": [\"term of office\", \"terms of office\", \"office terms\", \"tenure conditions\"],\n",
    "    \"removal from office\": [\"removal from office\", \"dismissal from office\", \"termination of office\"],\n",
    "    \"general function power\": [\"general function power\", \"overall powers\", \"general powers and functions\"],\n",
    "    \"incorporation commission independent office\": [\"incorporation commission independent office\", \"incorporation commissions and independent offices\", \"establishment of commissions\", \"setting up independent offices\"],\n",
    "    \"reporting commission independent office\": [\"reporting commissions independent office\", \"reporting commissions and independent offices\", \"commissions reporting\", \"reporting by independent offices\"]\n",
    "}\n",
    "\n",
    "# QA mapping\n",
    "qa_mapping = {\n",
    "    \"principle\": \"principle\",\n",
    "    \"public service commission\": \"public service commission\",\n",
    "    \"functions\": \"functions\",\n",
    "    \"staffing\": \"staffing\",\n",
    "    \"protection\": \"protection\",\n",
    "    \"teachers service commission\": \"teachers service commission\",\n",
    "    \"national security\": \"national security\",\n",
    "    \"national security organs\": \"national security organs\",\n",
    "    \"national security council\": \"national security council\",\n",
    "    \"defence forces\": \"defence forces\",\n",
    "    \"national intelligence service\": \"national intelligence service\",\n",
    "    \"national police service\": \"national police service\",\n",
    "    \"functions national police service\": \"functions national police service\",\n",
    "    \"command national police service\": \"command national police service\",\n",
    "    \"national police service commission\": \"national police service commission\",\n",
    "    \"other police services\": \"other police services\",\n",
    "    \"application of chapter\": \"application of chapter\",\n",
    "    \"commission independent office\": \"commission independent office\",\n",
    "    \"term of office\": \"term of office\",\n",
    "    \"removal from office\": \"removal from office\",\n",
    "    \"general function power\": \"general function power\",\n",
    "    \"incorporation commission independent office\": \"incorporation commission independent office\",\n",
    "    \"reporting commission independent office\": \"reporting commission independent office\"\n",
    "}\n",
    "\n",
    "\n",
    "sections = combined_sections\n",
    "\n",
    "# Preprocess the query\n",
    "def preprocess_query(query):\n",
    "    doc = nlp(query)\n",
    "    tokens = [token.lemma_.lower() for token in doc if not token.is_stop and not token.is_punct]\n",
    "    return \" \".join(tokens)\n",
    "\n",
    "# Function to correct the spelling\n",
    "def correct_spelling(processed_query):\n",
    "    spell = SpellChecker()\n",
    "    words = processed_query.split()\n",
    "    # Find misspelled words\n",
    "    misspelled_words = spell.unknown(words)\n",
    "\n",
    "    corrected_words = []\n",
    "    for word in words:\n",
    "        # Correct the word if it's misspelled\n",
    "        if word in misspelled_words:\n",
    "            corrected_word = spell.correction(word)  # Get the most likely correction\n",
    "            corrected_words.append(corrected_word)\n",
    "        else:\n",
    "            corrected_words.append(word)\n",
    "\n",
    "    # Reconstruct the initial sentence\n",
    "    corrected_input = \" \".join(corrected_words)\n",
    "    return corrected_input\n",
    "\n",
    "# Match the words with synonym support\n",
    "def match_with_synonyms(query, qa_mapping, synonyms, threshold=70):\n",
    "    processed_query = preprocess_query(query)\n",
    "    logging.debug(f\"Processed Query: {processed_query}\")  # Debugging line\n",
    "\n",
    "    # Correct spelling in the processed query\n",
    "    corrected_query = correct_spelling(processed_query)\n",
    "    logging.debug(f\"Corrected Query: {corrected_query}\")  # Debugging line\n",
    "\n",
    "    for key, value in qa_mapping.items():\n",
    "        logging.debug(f\"Checking key: {key}, value: {value}\")  # Debugging line\n",
    "        for synonym in synonyms.get(key, [key]):\n",
    "            logging.debug(f\"Trying synonym: {synonym}\")  # Debugging line\n",
    "            if synonym in corrected_query:\n",
    "                logging.debug(f\"Match found with synonym: {synonym}\")  # Debugging line\n",
    "                return value  # Only return section value of the key\n",
    "\n",
    "    logging.debug(\"No match found\")  # Debugging line if no match is found\n",
    "    return None\n",
    "\n",
    "# Answer function with synonym and fuzzy matching\n",
    "def answer_question_nlp(query, sections, qa_mapping, synonyms):\n",
    "    section_key = match_with_synonyms(query, qa_mapping, synonyms)\n",
    "\n",
    "    if section_key:\n",
    "        # Retrieve the relevant section from the specified chapter\n",
    "        return sections.get(section_key, \"Section not found.\")\n",
    "\n",
    "    logging.error(\"No answer found for the question.\")  # Log an error if no answer is found\n",
    "    return \"Sorry, I couldn't find an answer to your question.\"\n",
    "\n",
    "# Sample usage\n",
    "if __name__ == \"__main__\":\n",
    "    user_query = \"What does it say about principles?\"\n",
    "    answer = answer_question_nlp(user_query, sections, qa_mapping, synonyms)\n",
    "    print(answer)\n"
   ]
  },
  {
   "cell_type": "code",
   "execution_count": null,
   "metadata": {
    "id": "j1Jt_FKEcsZG"
   },
   "outputs": [],
   "source": []
  }
 ],
 "metadata": {
  "colab": {
   "provenance": []
  },
  "kernelspec": {
   "display_name": "Mubea-env",
   "language": "python",
   "name": "python3"
  },
  "language_info": {
   "codemirror_mode": {
    "name": "ipython",
    "version": 3
   },
   "file_extension": ".py",
   "mimetype": "text/x-python",
   "name": "python",
   "nbconvert_exporter": "python",
   "pygments_lexer": "ipython3",
   "version": "3.8.19"
  }
 },
 "nbformat": 4,
 "nbformat_minor": 0
}
