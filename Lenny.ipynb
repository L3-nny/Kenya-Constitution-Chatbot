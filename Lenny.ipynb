{
 "cells": [
  {
   "cell_type": "markdown",
   "metadata": {},
   "source": [
    "# 1. Define the Chatbot’s Purpose\n",
    "\n",
    "Identify Goals: Decide what questions the chatbot should answer. For example, it might provide information about rights, duties, or specific articles of the constitution.\n",
    "Target Audience: Consider who will use the chatbot (students, legal professionals, etc.) to tailor the language and complexity of responses."
   ]
  },
  {
   "cell_type": "markdown",
   "metadata": {},
   "source": [
    "# 2. Extract Text from the PDF"
   ]
  },
  {
   "cell_type": "markdown",
   "metadata": {},
   "source": [
    "# 3. Text Preprocessing\n",
    "Cleaning the Text:\n",
    "Remove unnecessary whitespace, special characters, and irrelevant sections.\n",
    "Normalize the text (e.g., lowercasing).\n",
    "Tokenization: Split the text into sentences or phrases for easier searching."
   ]
  },
  {
   "cell_type": "markdown",
   "metadata": {},
   "source": [
    "# 4. Design the Question-Answering Mechanism\n",
    "Keyword Matching: Use keywords or phrases to match user questions with relevant sections of the constitution.\n",
    "NLP Techniques: For a more advanced approach, implement Natural Language Processing (NLP) techniques using libraries like nltk, spaCy, or transformers to understand user queries."
   ]
  },
  {
   "cell_type": "markdown",
   "metadata": {},
   "source": [
    "# 5. Build the Chatbot Interface\n",
    "Web Application: Use Flask or Django to create a web interface for your chatbot.\n",
    "Command-Line Interface: A simpler option where users can interact with the chatbot via the terminal.\n"
   ]
  },
  {
   "cell_type": "markdown",
   "metadata": {},
   "source": [
    "# 6. Testing and Refinement\n",
    "Test: Interact with the chatbot using various questions to evaluate its performance.\n",
    "Feedback Loop: Gather user feedback to identify areas for improvement."
   ]
  },
  {
   "cell_type": "markdown",
   "metadata": {},
   "source": [
    "# 7.Enhancements (Optional)\n",
    "Machine Learning Model: Consider implementing a more sophisticated model for understanding user queries.\n",
    "Context Handling: Improve the chatbot's ability to handle context and follow-up questions."
   ]
  },
  {
   "cell_type": "markdown",
   "metadata": {},
   "source": [
    "# 8. Deployment\n",
    "Choose a Hosting Platform: Consider deploying your chatbot on platforms like Heroku, AWS, or DigitalOcean.\n",
    "Prepare for Scaling: Ensure the chatbot can handle multiple users and interactions concurrently."
   ]
  },
  {
   "cell_type": "markdown",
   "metadata": {},
   "source": [
    "# 9. Documentation and User Guidance\n",
    "Create documentation for users to understand how to interact with the chatbot.\n",
    "Include examples of common questions and expected responses."
   ]
  },
  {
   "cell_type": "markdown",
   "metadata": {},
   "source": [
    "# 10.  Maintenance\n",
    "Regularly update the chatbot based on user interactions and feedback.\n",
    "Consider adding more features or information over time to enhance the user experience."
   ]
  },
  {
   "cell_type": "markdown",
   "metadata": {},
   "source": [
    "## FULL CONSTITUTION AS TEXT"
   ]
  },
  {
   "cell_type": "code",
   "execution_count": 1,
   "metadata": {},
   "outputs": [],
   "source": [
    "import pdfplumber"
   ]
  },
  {
   "cell_type": "code",
   "execution_count": 2,
   "metadata": {},
   "outputs": [],
   "source": [
    "# Path to the PDF file\n",
    "pdf_path = \"E:\\SCHOOL\\Phase 5\\Kenya Constitution\\Kenya Constitution.pdf\"\n",
    "\n",
    "with pdfplumber.open(pdf_path) as pdf:\n",
    "    for page in pdf.pages:\n",
    "        text = page.extract_text()"
   ]
  },
  {
   "cell_type": "code",
   "execution_count": 3,
   "metadata": {},
   "outputs": [],
   "source": [
    "# Path to your PDF file\n",
    "pdf_path = \"E:\\SCHOOL\\Phase 5\\Kenya Constitution\\Kenya Constitution.pdf\"\n",
    "\n",
    "# Function to extract text from specific pages\n",
    "def extract_specific_pages(pdf_path, start_page, end_page):\n",
    "    with pdfplumber.open(pdf_path) as pdf:\n",
    "        extracted_text = \"\"\n",
    "        for page_num in range(start_page, end_page):\n",
    "            page = pdf.pages[page_num]\n",
    "            extracted_text += page.extract_text() + \"\\n\"\n",
    "        return extracted_text\n"
   ]
  },
  {
   "cell_type": "markdown",
   "metadata": {},
   "source": [
    "# Chapter 1"
   ]
  },
  {
   "cell_type": "code",
   "execution_count": 4,
   "metadata": {},
   "outputs": [
    {
     "data": {
      "text/plain": [
       "'Constitution of Kenya, 2010 13\\nTHE CONSTITUTION OF KENYA\\nCHAPTER ONE—SOVEREIGNTY OF THE PEOPLE AND\\nSUPREMACY OF THIS CONSTITUTION\\nSovereignty of the people.\\n1. (1) All sovereign power belongs to the people of Kenya and\\nshall be exercised only in accordance with this Constitution.\\n(2) The people may exercise their sovereign power either directly\\nor through their democratically elected representatives.\\n(3) Sovereign power under this Constitution is delegated to the\\nfollowing State organs, which shall perform their functions in\\naccordance with this Constitution—\\n(a) Parliament and the legislative assemblies in the county\\ngovernments;\\n(b) the national executive and the executive structures in the\\ncounty governments; and\\n(c) the Judiciary and independent tribunals.\\n(4) The sovereign power of the people is exercised at—\\n(a) the national level; and\\n(b) the county level.\\nSupremacy of this Constitution.\\n2. (1) This Constitution is the supreme law of the Republic and\\nbinds all persons and all State organs at both levels of government.\\n(2) No person may claim or exercise State authority except as\\nauthorised under this Constitution.\\n(3) The validity or legality of this Constitution is not subject to\\nchallenge by or before any court or other State organ.\\n(4) Any law, including customary law, that is inconsistent with this\\nConstitution is void to the extent of the inconsistency, and any act or\\nomission in contravention of this Constitution is invalid.\\n(5) The general rules of international law shall form part of the\\nlaw of Kenya.\\n14 Constitution of Kenya, 2010\\n(6) Any treaty or convention ratified by Kenya shall form part of\\nthe law of Kenya under this Constitution.\\nDefence of this Constitution.\\n3. (1) Every person has an obligation to respect, uphold and\\ndefend this Constitution.\\n(2) Any attempt to establish a government otherwise than in\\ncompliance with this Constitution is unlawful.\\nCHAPTER TWO—THE REPUBLIC\\nDeclaration of the Republic.\\n4. (1) Kenya is a sovereign Republic.\\n(2) The Republic of Kenya shall be a multi-party democratic State\\nfounded on the national values and principles of governance referred\\nto in Article 10.\\nTerritory of Kenya.\\n5. Kenya consists of the territory and territorial waters comprising\\nKenya on the effective date, and any additional territory and territorial\\nwaters as defined by an Act of Parliament.\\nDevolution and access to services.\\n6. (1) The territory of Kenya is divided into the counties specified\\nin the First Schedule.\\n(2) The governments at the national and county levels are distinct\\nand inter-dependent and shall conduct their mutual relations on the\\nbasis of consultation and cooperation.\\n(3) A national State organ shall ensure reasonable access to its\\nservices in all parts of the Republic, so far as it is appropriate to do so\\nhaving regard to the nature of the service.\\nNational, official and other languages.\\n7. (1) The national language of the Republic is Kiswahili.\\n(2) The official languages of the Republic are Kiswahili and\\nEnglish.\\n(3) The State shall—\\n(a) promote and protect the diversity of language of the people of\\nKenya; and\\n'"
      ]
     },
     "execution_count": 4,
     "metadata": {},
     "output_type": "execute_result"
    }
   ],
   "source": [
    "chapter_1 = extract_specific_pages(pdf_path, 12,14 )\n",
    "chapter_1"
   ]
  },
  {
   "cell_type": "markdown",
   "metadata": {},
   "source": [
    "### Since page 13(of the Constitution) contains a section of chapter 2, then we'll need to trim the page to ensure only chapter one info is stored."
   ]
  },
  {
   "cell_type": "code",
   "execution_count": 5,
   "metadata": {},
   "outputs": [
    {
     "data": {
      "text/plain": [
       "'Constitution of Kenya, 2010 13\\nTHE CONSTITUTION OF KENYA\\nCHAPTER ONE—SOVEREIGNTY OF THE PEOPLE AND\\nSUPREMACY OF THIS CONSTITUTION\\nSovereignty of the people.\\n1. (1) All sovereign power belongs to the people of Kenya and\\nshall be exercised only in accordance with this Constitution.\\n(2) The people may exercise their sovereign power either directly\\nor through their democratically elected representatives.\\n(3) Sovereign power under this Constitution is delegated to the\\nfollowing State organs, which shall perform their functions in\\naccordance with this Constitution—\\n(a) Parliament and the legislative assemblies in the county\\ngovernments;\\n(b) the national executive and the executive structures in the\\ncounty governments; and\\n(c) the Judiciary and independent tribunals.\\n(4) The sovereign power of the people is exercised at—\\n(a) the national level; and\\n(b) the county level.\\nSupremacy of this Constitution.\\n2. (1) This Constitution is the supreme law of the Republic and\\nbinds all persons and all State organs at both levels of government.\\n(2) No person may claim or exercise State authority except as\\nauthorised under this Constitution.\\n(3) The validity or legality of this Constitution is not subject to\\nchallenge by or before any court or other State organ.\\n(4) Any law, including customary law, that is inconsistent with this\\nConstitution is void to the extent of the inconsistency, and any act or\\nomission in contravention of this Constitution is invalid.\\n(5) The general rules of international law shall form part of the\\nlaw of Kenya.\\n14 Constitution of Kenya, 2010\\n(6) Any treaty or convention ratified by Kenya shall form part of\\nthe law of Kenya under this Constitution.\\nDefence of this Constitution.\\n3. (1) Every person has an obligation to respect, uphold and\\ndefend this Constitution.\\n(2) Any attempt to establish a government otherwise than in\\ncompliance with this Constitution is unlawful.'"
      ]
     },
     "execution_count": 5,
     "metadata": {},
     "output_type": "execute_result"
    }
   ],
   "source": [
    "chapter_1_trimmed = chapter_1.split(\"CHAPTER TWO\")[0].strip()\n",
    "chapter_1_trimmed"
   ]
  },
  {
   "cell_type": "code",
   "execution_count": 6,
   "metadata": {},
   "outputs": [],
   "source": [
    "import spacy"
   ]
  },
  {
   "cell_type": "code",
   "execution_count": 7,
   "metadata": {},
   "outputs": [
    {
     "name": "stdout",
     "output_type": "stream",
     "text": [
      "supremacy constitution\n"
     ]
    }
   ],
   "source": [
    "# Load spaCy model\n",
    "nlp = spacy.load(\"en_core_web_sm\")\n",
    "\n",
    "# Preprocess the user query using spaCy\n",
    "def preprocess_query(query):\n",
    "    # Parse the query with spaCy\n",
    "    doc = nlp(query)\n",
    "    # Normalize the query: lowercase, lemmatize, and remove stopwords\n",
    "    tokens = [token.lemma_.lower() for token in doc if not token.is_stop and not token.is_punct]\n",
    "    return \" \".join(tokens)\n",
    "\n",
    "# Example usage of the preprocessing function\n",
    "user_query = \"What is the supremacy of the constitution?\"\n",
    "processed_query = preprocess_query(user_query)\n",
    "print(processed_query)\n"
   ]
  },
  {
   "cell_type": "markdown",
   "metadata": {},
   "source": [
    "Works perfectly! I gave the input query and the function lemmatized, lowercased and removed the stop words from it returning a string with succulent info."
   ]
  },
  {
   "cell_type": "code",
   "execution_count": 8,
   "metadata": {},
   "outputs": [
    {
     "data": {
      "text/plain": [
       "'Constitution of Kenya, 2010 13\\nTHE CONSTITUTION OF KENYA\\nCHAPTER ONE—SOVEREIGNTY OF THE PEOPLE AND\\nSUPREMACY OF THIS CONSTITUTION\\nSovereignty of the people.\\n1. (1) All sovereign power belongs to the people of Kenya and\\nshall be exercised only in accordance with this Constitution.\\n(2) The people may exercise their sovereign power either directly\\nor through their democratically elected representatives.\\n(3) Sovereign power under this Constitution is delegated to the\\nfollowing State organs, which shall perform their functions in\\naccordance with this Constitution—\\n(a) Parliament and the legislative assemblies in the county\\ngovernments;\\n(b) the national executive and the executive structures in the\\ncounty governments; and\\n(c) the Judiciary and independent tribunals.\\n(4) The sovereign power of the people is exercised at—\\n(a) the national level; and\\n(b) the county level.\\nSupremacy of this Constitution.\\n2. (1) This Constitution is the supreme law of the Republic and\\nbinds all persons and all State organs at both levels of government.\\n(2) No person may claim or exercise State authority except as\\nauthorised under this Constitution.\\n(3) The validity or legality of this Constitution is not subject to\\nchallenge by or before any court or other State organ.\\n(4) Any law, including customary law, that is inconsistent with this\\nConstitution is void to the extent of the inconsistency, and any act or\\nomission in contravention of this Constitution is invalid.\\n(5) The general rules of international law shall form part of the\\nlaw of Kenya.\\n14 Constitution of Kenya, 2010\\n(6) Any treaty or convention ratified by Kenya shall form part of\\nthe law of Kenya under this Constitution.\\nDefence of this Constitution.\\n3. (1) Every person has an obligation to respect, uphold and\\ndefend this Constitution.\\n(2) Any attempt to establish a government otherwise than in\\ncompliance with this Constitution is unlawful.'"
      ]
     },
     "execution_count": 8,
     "metadata": {},
     "output_type": "execute_result"
    }
   ],
   "source": [
    "chapter_1_trimmed"
   ]
  },
  {
   "cell_type": "markdown",
   "metadata": {},
   "source": [
    "Next up, I'll split the chapter into three different sections which will increase the chatbot's accuracy in answering questions. This means that the bot will be able to return the section on 'supremacy of the constitution' exclusively without the other parts on sovereignty and defence in chapter 1 of the constitution. This makes it efficient in answering the questions."
   ]
  },
  {
   "cell_type": "code",
   "execution_count": 9,
   "metadata": {},
   "outputs": [
    {
     "name": "stdout",
     "output_type": "stream",
     "text": [
      "Example\n",
      "\n",
      "Supremacy Section:\n",
      " Supremacy of this Constitution.\n",
      "2. (1) This Constitution is the supreme law of the Republic and\n",
      "binds all persons and all State organs at both levels of government.\n",
      "(2) No person may claim or exercise State authority except as\n",
      "authorised under this Constitution.\n",
      "(3) The validity or legality of this Constitution is not subject to\n",
      "challenge by or before any court or other State organ.\n",
      "(4) Any law, including customary law, that is inconsistent with this\n",
      "Constitution is void to the extent of the inconsistency, and any act or\n",
      "omission in contravention of this Constitution is invalid.\n",
      "(5) The general rules of international law shall form part of the\n",
      "law of Kenya.\n",
      "14 Constitution of Kenya, 2010\n",
      "(6) Any treaty or convention ratified by Kenya shall form part of\n",
      "the law of Kenya under this Constitution.\n",
      "\n",
      "Defence Section:\n",
      " Defence of this Constitution.\n",
      "3. (1) Every person has an obligation to respect, uphold and\n",
      "defend this Constitution.\n",
      "(2) Any attempt to establish a government otherwise than in\n",
      "compliance with this Constitution is unlawful.\n"
     ]
    }
   ],
   "source": [
    "def split_chapter(chapter_text):\n",
    "    # Split at key headings and strip extra whitespace\n",
    "    sections = {\n",
    "        \"sovereignty\": [],\n",
    "        \"supremacy\": [],\n",
    "        \"defence\": []   \n",
    "    }\n",
    "\n",
    "    # Split by new lines to process line by line\n",
    "    lines = chapter_text.splitlines()\n",
    "\n",
    "    current_section = None\n",
    "\n",
    "    for line in lines:\n",
    "        stripped_line = line.strip()\n",
    "\n",
    "        if stripped_line.startswith(\"Sovereignty of the people\"):\n",
    "            current_section = \"sovereignty\"\n",
    "        elif stripped_line.startswith(\"Supremacy of this Constitution\"):\n",
    "            current_section = \"supremacy\"\n",
    "        elif stripped_line.startswith(\"Defence of this Constitution\"):\n",
    "            current_section = 'defence'\n",
    "\n",
    "        # Append line to the current section if it's set\n",
    "        if current_section:\n",
    "            sections[current_section].append(stripped_line)\n",
    "\n",
    "    # Join each section into a single string\n",
    "    for key in sections:\n",
    "        sections[key] = \"\\n\".join(sections[key])\n",
    "\n",
    "    return sections\n",
    "\n",
    "# Split the chapter into sections\n",
    "chapter_1_sections = split_chapter(chapter_1_trimmed)\n",
    "\n",
    "print(\"Example\")\n",
    "print(\"\\nSupremacy Section:\\n\", chapter_1_sections['supremacy'])\n",
    "print(\"\\nDefence Section:\\n\", chapter_1_sections['defence'])\n",
    "\n"
   ]
  },
  {
   "cell_type": "code",
   "execution_count": 10,
   "metadata": {},
   "outputs": [
    {
     "data": {
      "text/plain": [
       "dict_keys(['sovereignty', 'supremacy', 'defence'])"
      ]
     },
     "execution_count": 10,
     "metadata": {},
     "output_type": "execute_result"
    }
   ],
   "source": [
    "chapter_1_sections.keys()"
   ]
  },
  {
   "cell_type": "code",
   "execution_count": 11,
   "metadata": {},
   "outputs": [
    {
     "name": "stdout",
     "output_type": "stream",
     "text": [
      "Supremacy of this Constitution.\n",
      "2. (1) This Constitution is the supreme law of the Republic and\n",
      "binds all persons and all State organs at both levels of government.\n",
      "(2) No person may claim or exercise State authority except as\n",
      "authorised under this Constitution.\n",
      "(3) The validity or legality of this Constitution is not subject to\n",
      "challenge by or before any court or other State organ.\n",
      "(4) Any law, including customary law, that is inconsistent with this\n",
      "Constitution is void to the extent of the inconsistency, and any act or\n",
      "omission in contravention of this Constitution is invalid.\n",
      "(5) The general rules of international law shall form part of the\n",
      "law of Kenya.\n",
      "14 Constitution of Kenya, 2010\n",
      "(6) Any treaty or convention ratified by Kenya shall form part of\n",
      "the law of Kenya under this Constitution.\n"
     ]
    }
   ],
   "source": [
    "# Load spaCy model\n",
    "nlp = spacy.load(\"en_core_web_sm\")\n",
    "\n",
    "# Preprocess the user query using spaCy\n",
    "def preprocess_query(query):\n",
    "    # Parse the query with spaCy\n",
    "    doc = nlp(query)\n",
    "    # Normalize the query: lowercase, lemmatize, and remove stopwords\n",
    "    tokens = [token.lemma_.lower() for token in doc if not token.is_stop and not token.is_punct]\n",
    "    return \" \".join(tokens)\n",
    "\n",
    "# Define the sections variable with Chapter 1\n",
    "sections = chapter_1_sections\n",
    "\n",
    "# Define the QA mapping based on key phrases and corresponding sections\n",
    "qa_mapping = {\n",
    "    \"supremacy\": \"supremacy of this constitution\",\n",
    "    \"sovereignty\": \"sovereignty of the people\",\n",
    "    \"defence\": \"defence of this constitution\"\n",
    "    # Add more mappings as needed\n",
    "}\n",
    "\n",
    "# Update the Q&A system to use preprocessed queries\n",
    "def answer_question_nlp(query, sections, qa_mapping):\n",
    "    # Preprocess the user query\n",
    "    processed_query = preprocess_query(query)\n",
    "    \n",
    "    # Search for a key in qa_mapping that matches the preprocessed query\n",
    "    for key in qa_mapping:\n",
    "        if key in processed_query:\n",
    "            # Return the relevant section in the text\n",
    "            return sections[key]\n",
    "            \n",
    "    return \"Sorry, I couldn't find an answer to your question.\"\n",
    "\n",
    "# Example usage\n",
    "user_query = \"What is the supremacy of the constitution?\"\n",
    "answer = answer_question_nlp(user_query, sections, qa_mapping)\n",
    "print(answer)\n"
   ]
  },
  {
   "cell_type": "code",
   "execution_count": 12,
   "metadata": {},
   "outputs": [
    {
     "data": {
      "text/plain": [
       "'Defence of this Constitution.\\n3. (1) Every person has an obligation to respect, uphold and\\ndefend this Constitution.\\n(2) Any attempt to establish a government otherwise than in\\ncompliance with this Constitution is unlawful.'"
      ]
     },
     "execution_count": 12,
     "metadata": {},
     "output_type": "execute_result"
    }
   ],
   "source": [
    "# Example 2\n",
    "user_query_2 = 'Explain what the defence the people states'\n",
    "answer_2 = answer_question_nlp(user_query_2, sections, qa_mapping)\n",
    "answer_2"
   ]
  },
  {
   "cell_type": "markdown",
   "metadata": {},
   "source": [
    "## Chapter 2"
   ]
  },
  {
   "cell_type": "code",
   "execution_count": 13,
   "metadata": {},
   "outputs": [],
   "source": [
    "chapter_2 = extract_specific_pages(pdf_path, 13,16)"
   ]
  },
  {
   "cell_type": "markdown",
   "metadata": {},
   "source": [
    "Since the first page of chapter 2 has some info from chapter 1, we need to remove the chapter 1 section."
   ]
  },
  {
   "cell_type": "code",
   "execution_count": 14,
   "metadata": {},
   "outputs": [
    {
     "data": {
      "text/plain": [
       "'—THE REPUBLIC\\nDeclaration of the Republic.\\n4. (1) Kenya is a sovereign Republic.\\n(2) The Republic of Kenya shall be a multi-party democratic State\\nfounded on the national values and principles of governance referred\\nto in Article 10.\\nTerritory of Kenya.\\n5. Kenya consists of the territory and territorial waters comprising\\nKenya on the effective date, and any additional territory and territorial\\nwaters as defined by an Act of Parliament.\\nDevolution and access to services.\\n6. (1) The territory of Kenya is divided into the counties specified\\nin the First Schedule.\\n(2) The governments at the national and county levels are distinct\\nand inter-dependent and shall conduct their mutual relations on the\\nbasis of consultation and cooperation.\\n(3) A national State organ shall ensure reasonable access to its\\nservices in all parts of the Republic, so far as it is appropriate to do so\\nhaving regard to the nature of the service.\\nNational, official and other languages.\\n7. (1) The national language of the Republic is Kiswahili.\\n(2) The official languages of the Republic are Kiswahili and\\nEnglish.\\n(3) The State shall—\\n(a) promote and protect the diversity of language of the people of\\nKenya; and\\nConstitution of Kenya, 2010 15\\n(b) promote the development and use of indigenous languages,\\nKenyan Sign language, Braille and other communication\\nformats and technologies accessible to persons with\\ndisabilities.\\nState and Religion.\\n8. There shall be no State religion.\\nNational symbols and national days.\\n9. (1) The national symbols of the Republic are—\\n(a) the national flag;\\n(b) the national anthem;\\n(c) the coat of arms; and\\n(d) the public seal.\\n(2) The national symbols are as set out in the Second Schedule.\\n(3) The national days are—\\n(a) Madaraka Day, to be observed on 1st June;\\n(b) Mashujaa Day, to be observed on 20th October; and\\n(c) Jamhuri Day, to be observed on 12th December.\\n(4) A national day shall be a public holiday.\\n(5) Parliament may enact legislation prescribing other public\\nholidays, and providing for observance of public holidays.\\nNational values and principles of governance.\\n10. (1) The national values and principles of governance in this\\nArticle bind all State organs, State officers, public officers and all\\npersons whenever any of them—\\n(a) applies or interprets this Constitution;\\n(b) enacts, applies or interprets any law; or\\n(c) makes or implements public policy decisions.\\n(2) The national values and principles of governance include—\\n16 Constitution of Kenya, 2010\\n(a) patriotism, national unity, sharing and devolution of power, the\\nrule of law, democracy and participation of the people;\\n(b) human dignity, equity, social justice, inclusiveness, equality,\\nhuman rights, non-discrimination and protection of the\\nmarginalised;\\n(c) good governance, integrity, transparency and accountability;\\nand\\n(d) sustainable development.\\nCulture.\\n11. (1) This Constitution recognises culture as the foundation of\\nthe nation and as the cumulative civilization of the Kenyan people and\\nnation.\\n(2) The State shall—\\n(a) promote all forms of national and cultural expression through\\nliterature, the arts, traditional celebrations, science,\\ncommunication, information, mass media, publications,\\nlibraries and other cultural heritage;\\n(b) recognise the role of science and indigenous technologies in\\nthe development of the nation; and\\n(c) promote the intellectual property rights of the people of Kenya.\\n(3) Parliament shall enact legislation to—\\n(a) ensure that communities receive compensation or royalties for\\nthe use of their cultures and cultural heritage; and\\n(b) recognise and protect the ownership of indigenous seeds and\\nplant varieties, their genetic and diverse characteristics and\\ntheir use by the communities of Kenya.\\nCHAPTER THREE—CITIZENSHIP\\nEntitlements of citizens.\\n12. (1) Every citizen is entitled to—\\n(a) the rights, privileges and benefits of citizenship, subject to the\\nlimits provided or permitted by this Constitution; and\\n(b) a Kenyan passport and any document of registration or\\nidentification issued by the State to citizens.'"
      ]
     },
     "execution_count": 14,
     "metadata": {},
     "output_type": "execute_result"
    }
   ],
   "source": [
    "chapter_2_cleaned = chapter_2.split(\"CHAPTER TWO\")[1].strip()\n",
    "chapter_2_cleaned"
   ]
  },
  {
   "cell_type": "markdown",
   "metadata": {},
   "source": [
    "The last page also has a bit of chapter 3, so we'll remove it too."
   ]
  },
  {
   "cell_type": "code",
   "execution_count": 15,
   "metadata": {},
   "outputs": [
    {
     "data": {
      "text/plain": [
       "'—THE REPUBLIC\\nDeclaration of the Republic.\\n4. (1) Kenya is a sovereign Republic.\\n(2) The Republic of Kenya shall be a multi-party democratic State\\nfounded on the national values and principles of governance referred\\nto in Article 10.\\nTerritory of Kenya.\\n5. Kenya consists of the territory and territorial waters comprising\\nKenya on the effective date, and any additional territory and territorial\\nwaters as defined by an Act of Parliament.\\nDevolution and access to services.\\n6. (1) The territory of Kenya is divided into the counties specified\\nin the First Schedule.\\n(2) The governments at the national and county levels are distinct\\nand inter-dependent and shall conduct their mutual relations on the\\nbasis of consultation and cooperation.\\n(3) A national State organ shall ensure reasonable access to its\\nservices in all parts of the Republic, so far as it is appropriate to do so\\nhaving regard to the nature of the service.\\nNational, official and other languages.\\n7. (1) The national language of the Republic is Kiswahili.\\n(2) The official languages of the Republic are Kiswahili and\\nEnglish.\\n(3) The State shall—\\n(a) promote and protect the diversity of language of the people of\\nKenya; and\\nConstitution of Kenya, 2010 15\\n(b) promote the development and use of indigenous languages,\\nKenyan Sign language, Braille and other communication\\nformats and technologies accessible to persons with\\ndisabilities.\\nState and Religion.\\n8. There shall be no State religion.\\nNational symbols and national days.\\n9. (1) The national symbols of the Republic are—\\n(a) the national flag;\\n(b) the national anthem;\\n(c) the coat of arms; and\\n(d) the public seal.\\n(2) The national symbols are as set out in the Second Schedule.\\n(3) The national days are—\\n(a) Madaraka Day, to be observed on 1st June;\\n(b) Mashujaa Day, to be observed on 20th October; and\\n(c) Jamhuri Day, to be observed on 12th December.\\n(4) A national day shall be a public holiday.\\n(5) Parliament may enact legislation prescribing other public\\nholidays, and providing for observance of public holidays.\\nNational values and principles of governance.\\n10. (1) The national values and principles of governance in this\\nArticle bind all State organs, State officers, public officers and all\\npersons whenever any of them—\\n(a) applies or interprets this Constitution;\\n(b) enacts, applies or interprets any law; or\\n(c) makes or implements public policy decisions.\\n(2) The national values and principles of governance include—\\n16 Constitution of Kenya, 2010\\n(a) patriotism, national unity, sharing and devolution of power, the\\nrule of law, democracy and participation of the people;\\n(b) human dignity, equity, social justice, inclusiveness, equality,\\nhuman rights, non-discrimination and protection of the\\nmarginalised;\\n(c) good governance, integrity, transparency and accountability;\\nand\\n(d) sustainable development.\\nCulture.\\n11. (1) This Constitution recognises culture as the foundation of\\nthe nation and as the cumulative civilization of the Kenyan people and\\nnation.\\n(2) The State shall—\\n(a) promote all forms of national and cultural expression through\\nliterature, the arts, traditional celebrations, science,\\ncommunication, information, mass media, publications,\\nlibraries and other cultural heritage;\\n(b) recognise the role of science and indigenous technologies in\\nthe development of the nation; and\\n(c) promote the intellectual property rights of the people of Kenya.\\n(3) Parliament shall enact legislation to—\\n(a) ensure that communities receive compensation or royalties for\\nthe use of their cultures and cultural heritage; and\\n(b) recognise and protect the ownership of indigenous seeds and\\nplant varieties, their genetic and diverse characteristics and\\ntheir use by the communities of Kenya.'"
      ]
     },
     "execution_count": 15,
     "metadata": {},
     "output_type": "execute_result"
    }
   ],
   "source": [
    "# Find the start of chapter 3 and remove it\n",
    "chapter_2_trimmed = chapter_2_cleaned.split(\"CHAPTER THREE\")[0].strip()\n",
    "chapter_2_trimmed"
   ]
  },
  {
   "cell_type": "code",
   "execution_count": 16,
   "metadata": {},
   "outputs": [
    {
     "name": "stdout",
     "output_type": "stream",
     "text": [
      "Example\n",
      "\n",
      " National Days Section:\n",
      " National symbols and national days.\n",
      "9. (1) The national symbols of the Republic are—\n",
      "(a) the national flag;\n",
      "(b) the national anthem;\n",
      "(c) the coat of arms; and\n",
      "(d) the public seal.\n",
      "(2) The national symbols are as set out in the Second Schedule.\n",
      "(3) The national days are—\n",
      "(a) Madaraka Day, to be observed on 1st June;\n",
      "(b) Mashujaa Day, to be observed on 20th October; and\n",
      "(c) Jamhuri Day, to be observed on 12th December.\n",
      "(4) A national day shall be a public holiday.\n",
      "(5) Parliament may enact legislation prescribing other public\n",
      "holidays, and providing for observance of public holidays.\n"
     ]
    }
   ],
   "source": [
    "def split_chapter(chapter_text):\n",
    "    # Split at key headings and strip extra whitespace\n",
    "    sections = {\n",
    "        \"declaration\": [],\n",
    "        \"territory\": [],\n",
    "        \"devolution\": [],\n",
    "        \"languages\": [],\n",
    "        \"religion\": [],\n",
    "        \"symbols\": [],\n",
    "        \"days\" : [],\n",
    "        \"value\": [],\n",
    "        \"culture\": []\n",
    "    }\n",
    "\n",
    "    # Split by new lines to process line by line\n",
    "    lines = chapter_text.splitlines()\n",
    "\n",
    "    current_section = None\n",
    "\n",
    "    for line in lines:\n",
    "        stripped_line = line.strip()\n",
    "\n",
    "        if stripped_line.startswith(\"Declaration of the republic\"):\n",
    "            current_section = \"declaration\"\n",
    "        elif stripped_line.startswith(\"Territory of Kenya\"):\n",
    "            current_section = \"territory\"\n",
    "        elif stripped_line.startswith(\"Devolution and access to services\"):\n",
    "            current_section = 'devolution'\n",
    "        elif stripped_line.startswith(\"National, official and other languages\"):\n",
    "            current_section = \"languages\"\n",
    "        elif stripped_line.startswith(\"State and Religion\"):\n",
    "            current_section = \"religion\"\n",
    "        elif stripped_line.startswith(\"National symbols and national days\"):\n",
    "            current_section = \"symbols\"\n",
    "        elif stripped_line.startswith(\"The national days are\"):\n",
    "            current_section = \"days\"\n",
    "        elif stripped_line.startswith(\"National values and principles\"):\n",
    "            current_section = \"value\"\n",
    "        elif stripped_line.startswith(\"Culture\"):\n",
    "            current_section = \"culture\"\n",
    "\n",
    "        # Append line to the current section if it's set\n",
    "        if current_section:\n",
    "            sections[current_section].append(stripped_line)\n",
    "\n",
    "    # Join each section into a single string\n",
    "    for key in sections:\n",
    "        sections[key] = \"\\n\".join(sections[key])\n",
    "    \n",
    "\n",
    "    return sections\n",
    "\n",
    "# Split the chapter into sections\n",
    "chapter_2_sections = split_chapter(chapter_2_trimmed)\n",
    "\n",
    "print(\"Example\")\n",
    "print(\"\\n National Days Section:\\n\", chapter_2_sections[\"symbols\"])"
   ]
  },
  {
   "cell_type": "markdown",
   "metadata": {},
   "source": [
    "It seems that the national days and symbols are being included under one single section. \n",
    "This is quite a small issue but since I want to increase the bot's efficiency I'll have to separate the national symbols and national days."
   ]
  },
  {
   "cell_type": "code",
   "execution_count": 17,
   "metadata": {},
   "outputs": [
    {
     "name": "stdout",
     "output_type": "stream",
     "text": [
      "\n",
      " National Symbols Section:\n",
      " National symbols and national days.\n",
      "9. (1) The national symbols of the Republic are—\n",
      "(a) the national flag;\n",
      "(b) the national anthem;\n",
      "(c) the coat of arms; and\n",
      "(d) the public seal.\n",
      "(2) The national symbols are as set out in the Second Schedule.\n",
      "\n",
      " National Days Section:\n",
      " (3) The national days are—\n",
      "(a) Madaraka Day, to be observed on 1st June;\n",
      "(b) Mashujaa Day, to be observed on 20th October; and\n",
      "(c) Jamhuri Day, to be observed on 12th December.\n",
      "(4) A national day shall be a public holiday.\n",
      "(5) Parliament may enact legislation prescribing other public\n",
      "holidays, and providing for observance of public holidays.\n"
     ]
    }
   ],
   "source": [
    "def split_chapter(chapter_text):\n",
    "    # Split at key headings and strip extra whitespace\n",
    "    sections = {\n",
    "        \"declaration\": [],\n",
    "        \"territory\": [],\n",
    "        \"devolution\": [],\n",
    "        \"languages\": [],\n",
    "        \"religion\": [],\n",
    "        \"symbol\": [],\n",
    "        \"day\": [],\n",
    "        \"value\": [],\n",
    "        \"governance\": [],\n",
    "        \"culture\": []\n",
    "    }\n",
    "\n",
    "    # Split by new lines to process line by line\n",
    "    lines = chapter_text.splitlines()\n",
    "\n",
    "    current_section = None\n",
    "\n",
    "    for line in lines:\n",
    "        stripped_line = line.strip()\n",
    "\n",
    "        # Start of new sections\n",
    "        if stripped_line.startswith(\"Declaration of the republic\"):\n",
    "            current_section = \"declaration\"\n",
    "        elif stripped_line.startswith(\"Territory of Kenya\"):\n",
    "            current_section = \"territory\"\n",
    "        elif stripped_line.startswith(\"Devolution and access to services\"):\n",
    "            current_section = 'devolution'\n",
    "        elif stripped_line.startswith(\"National, official and other languages\"):\n",
    "            current_section = \"languages\"\n",
    "        elif stripped_line.startswith(\"State and Religion\"):\n",
    "            current_section = \"religion\"\n",
    "        elif stripped_line.startswith(\"National symbols and national days\"):\n",
    "            current_section = \"symbol\"\n",
    "        elif stripped_line.startswith(\"The national days are\"):\n",
    "            current_section = \"day\"\n",
    "        elif stripped_line.startswith(\"National values and principles\"):\n",
    "            current_section = \"value\"\n",
    "        elif stripped_line.startswith(\"Culture\"):\n",
    "            current_section = \"culture\"\n",
    "\n",
    "        # Append line to the current section if it's set\n",
    "        if current_section:\n",
    "            # Prevent adding \"days\" content to \"symbols\"\n",
    "            if current_section == \"symbol\" and \"The national days are\" in stripped_line:\n",
    "                current_section = \"day\"\n",
    "\n",
    "            sections[current_section].append(stripped_line)\n",
    "\n",
    "    # Join each section into a single string\n",
    "    for key in sections:\n",
    "        sections[key] = \"\\n\".join(sections[key])\n",
    "\n",
    "    return sections\n",
    "\n",
    "# Split the chapter into sections\n",
    "chapter_2_sections = split_chapter(chapter_2_trimmed)\n",
    "\n",
    "# Print to verify the results\n",
    "print(\"\\n National Symbols Section:\\n\", chapter_2_sections[\"symbol\"])\n",
    "print(\"\\n National Days Section:\\n\", chapter_2_sections[\"day\"])\n"
   ]
  },
  {
   "cell_type": "markdown",
   "metadata": {},
   "source": [
    "Noice! The function worked effectively."
   ]
  },
  {
   "cell_type": "markdown",
   "metadata": {},
   "source": [
    "Next, I'll work on the basic user query handling"
   ]
  },
  {
   "cell_type": "code",
   "execution_count": 18,
   "metadata": {},
   "outputs": [
    {
     "name": "stdout",
     "output_type": "stream",
     "text": [
      "Processed query: national day constitution\n",
      "key: day\n",
      "(3) The national days are—\n",
      "(a) Madaraka Day, to be observed on 1st June;\n",
      "(b) Mashujaa Day, to be observed on 20th October; and\n",
      "(c) Jamhuri Day, to be observed on 12th December.\n",
      "(4) A national day shall be a public holiday.\n",
      "(5) Parliament may enact legislation prescribing other public\n",
      "holidays, and providing for observance of public holidays.\n"
     ]
    }
   ],
   "source": [
    "# Load spaCy model\n",
    "nlp = spacy.load(\"en_core_web_sm\")\n",
    "\n",
    "# Preprocess the user query using spaCy\n",
    "def preprocess_query(query):\n",
    "    # Parse the query with spaCy\n",
    "    doc = nlp(query)\n",
    "    # Normalize the query: lowercase, lemmatize, and remove stopwords\n",
    "    tokens = [token.lemma_.lower() for token in doc if not token.is_stop and not token.is_punct]\n",
    "    return \" \".join(tokens)\n",
    "\n",
    "# Define the sections variable with Chapter 2\n",
    "sections = chapter_2_sections\n",
    "\n",
    "# Define the QA mapping based on key phrases and corresponding sections\n",
    "qa_mapping = {\n",
    "    \"declaration\": \"declaration of the republic\",\n",
    "    \"territory\": \"territory of kenya\", \n",
    "    \"devolution\": \"devolution and access to service\",\n",
    "    \"languages\": \"national, official and other languages\",\n",
    "    \"religion\": \"state and religion\",\n",
    "    \"symbol\": \"national symbols and national days\",\n",
    "    \"day\": \"national symbols and national days\",\n",
    "    \"value\": \"national values and principles of governance\",\n",
    "    \"governance\": \"national values and principles of governance\",\n",
    "    \"culture\": \"culture\"\n",
    "}\n",
    "\n",
    "\n",
    "\n",
    "# Update the Q&A system to use preprocessed queries\n",
    "def answer_question_nlp(query, sections, qa_mapping):\n",
    "    # Preprocess the user query\n",
    "    processed_query = preprocess_query(query)\n",
    "\n",
    "    # Debug\n",
    "    print(f\"Processed query: {processed_query}\")\n",
    "    \n",
    "    # Search for a key in qa_mapping that matches the preprocessed query\n",
    "    for key in qa_mapping:\n",
    "        if key in processed_query:\n",
    "            # Debug line\n",
    "            print(f\"key: {key}\")\n",
    "            # Return the relevant section in the text\n",
    "            return sections[key]\n",
    "        \n",
    "    \n",
    "    # Search for a key in qa_mapping that matches the preprocessed query\n",
    "    for key in qa_mapping:\n",
    "        if key in processed_query:\n",
    "            # Debug line\n",
    "            print(f\"key: {key}\")\n",
    "            # Return the relevant section in the text\n",
    "            return sections[key]\n",
    "        \n",
    "    return \"Sorry, I couldn't find an answer to your question.\"\n",
    "\n",
    "# Example usage\n",
    "user_query = \"National days in the constitution?\"\n",
    "answer = answer_question_nlp(user_query, sections, qa_mapping)\n",
    "print(answer)"
   ]
  },
  {
   "cell_type": "markdown",
   "metadata": {},
   "source": [
    "Note: I had to change the symbols and days section to symbol and day section for correct qa mapping. \n",
    "The nlp model lemmatizes the plural words to their singular form which is not contained in the original section of the constitution."
   ]
  },
  {
   "cell_type": "code",
   "execution_count": 19,
   "metadata": {},
   "outputs": [
    {
     "name": "stdout",
     "output_type": "stream",
     "text": [
      "Processed query: culture entail\n",
      "key: culture\n"
     ]
    },
    {
     "data": {
      "text/plain": [
       "'Culture.\\n11. (1) This Constitution recognises culture as the foundation of\\nthe nation and as the cumulative civilization of the Kenyan people and\\nnation.\\n(2) The State shall—\\n(a) promote all forms of national and cultural expression through\\nliterature, the arts, traditional celebrations, science,\\ncommunication, information, mass media, publications,\\nlibraries and other cultural heritage;\\n(b) recognise the role of science and indigenous technologies in\\nthe development of the nation; and\\n(c) promote the intellectual property rights of the people of Kenya.\\n(3) Parliament shall enact legislation to—\\n(a) ensure that communities receive compensation or royalties for\\nthe use of their cultures and cultural heritage; and\\n(b) recognise and protect the ownership of indigenous seeds and\\nplant varieties, their genetic and diverse characteristics and\\ntheir use by the communities of Kenya.'"
      ]
     },
     "execution_count": 19,
     "metadata": {},
     "output_type": "execute_result"
    }
   ],
   "source": [
    "user_query = \"What does the culture entail?\"\n",
    "answer = answer_question_nlp(user_query, sections, qa_mapping)\n",
    "answer"
   ]
  },
  {
   "cell_type": "markdown",
   "metadata": {},
   "source": [
    "Noice...The model handles basic user query from chapter 2"
   ]
  },
  {
   "cell_type": "markdown",
   "metadata": {},
   "source": [
    "last basic prompt for this chapter"
   ]
  },
  {
   "cell_type": "code",
   "execution_count": 20,
   "metadata": {},
   "outputs": [
    {
     "name": "stdout",
     "output_type": "stream",
     "text": [
      "Processed query: constitution state value\n",
      "key: value\n"
     ]
    },
    {
     "data": {
      "text/plain": [
       "'National values and principles of governance.\\n10. (1) The national values and principles of governance in this\\nArticle bind all State organs, State officers, public officers and all\\npersons whenever any of them—\\n(a) applies or interprets this Constitution;\\n(b) enacts, applies or interprets any law; or\\n(c) makes or implements public policy decisions.\\n(2) The national values and principles of governance include—\\n16 Constitution of Kenya, 2010\\n(a) patriotism, national unity, sharing and devolution of power, the\\nrule of law, democracy and participation of the people;\\n(b) human dignity, equity, social justice, inclusiveness, equality,\\nhuman rights, non-discrimination and protection of the\\nmarginalised;\\n(c) good governance, integrity, transparency and accountability;\\nand\\n(d) sustainable development.'"
      ]
     },
     "execution_count": 20,
     "metadata": {},
     "output_type": "execute_result"
    }
   ],
   "source": [
    "user_query = \"what about the constitution state about values?\"\n",
    "answer = answer_question_nlp(user_query, sections, qa_mapping)\n",
    "answer"
   ]
  },
  {
   "cell_type": "markdown",
   "metadata": {},
   "source": [
    "Works great!"
   ]
  },
  {
   "cell_type": "markdown",
   "metadata": {},
   "source": [
    "## Chapter 3"
   ]
  },
  {
   "cell_type": "code",
   "execution_count": 21,
   "metadata": {},
   "outputs": [
    {
     "data": {
      "text/plain": [
       "'16 Constitution of Kenya, 2010\\n(a) patriotism, national unity, sharing and devolution of power, the\\nrule of law, democracy and participation of the people;\\n(b) human dignity, equity, social justice, inclusiveness, equality,\\nhuman rights, non-discrimination and protection of the\\nmarginalised;\\n(c) good governance, integrity, transparency and accountability;\\nand\\n(d) sustainable development.\\nCulture.\\n11. (1) This Constitution recognises culture as the foundation of\\nthe nation and as the cumulative civilization of the Kenyan people and\\nnation.\\n(2) The State shall—\\n(a) promote all forms of national and cultural expression through\\nliterature, the arts, traditional celebrations, science,\\ncommunication, information, mass media, publications,\\nlibraries and other cultural heritage;\\n(b) recognise the role of science and indigenous technologies in\\nthe development of the nation; and\\n(c) promote the intellectual property rights of the people of Kenya.\\n(3) Parliament shall enact legislation to—\\n(a) ensure that communities receive compensation or royalties for\\nthe use of their cultures and cultural heritage; and\\n(b) recognise and protect the ownership of indigenous seeds and\\nplant varieties, their genetic and diverse characteristics and\\ntheir use by the communities of Kenya.\\nCHAPTER THREE—CITIZENSHIP\\nEntitlements of citizens.\\n12. (1) Every citizen is entitled to—\\n(a) the rights, privileges and benefits of citizenship, subject to the\\nlimits provided or permitted by this Constitution; and\\n(b) a Kenyan passport and any document of registration or\\nidentification issued by the State to citizens.\\nConstitution of Kenya, 2010 17\\n(2) A passport or other document referred to in clause (1) (b) may\\nbe denied, suspended or confiscated only in accordance with an Act of\\nParliament that satisfies the criteria referred to in Article 24.\\nRetention and acquisition of citizenship.\\n13. (1) Every person who was a citizen immediately before the\\neffective date retains the same citizenship status as of that date.\\n(2) Citizenship may be acquired by birth or registration.\\n(3) Citizenship is not lost through marriage or the dissolution of\\nmarriage.\\nCitizenship by birth.\\n14. (1) A person is a citizen by birth if on the day of the person’s\\nbirth, whether or not the person is born in Kenya, either the mother or\\nfather of the person is a citizen.\\n(2) Clause (1) applies equally to a person born before the\\neffective date, whether or not the person was born in Kenya, if either\\nthe mother or father of the person is or was a citizen.\\n(3) Parliament may enact legislation limiting the effect of clauses\\n(1) and (2) on the descendents of Kenyan citizens who are born\\noutside Kenya.\\n(4) A child found in Kenya who is, or appears to be, less than\\neight years of age, and whose nationality and parents are not known,\\nis presumed to be a citizen by birth.\\n(5) A person who is a Kenyan citizen by birth and who, on the\\neffective date, has ceased to be a Kenyan citizen because the person\\nacquired citizenship of another country, is entitled on application to\\nregain Kenyan citizenship.\\nCitizenship by registration.\\n15. (1) A person who has been married to a citizen for a period of\\nat least seven years is entitled on application to be registered as a\\ncitizen.\\n(2) A person who has been lawfully resident in Kenya for a\\ncontinuous period of at least seven years, and who satisfies the\\nconditions prescribed by an Act of Parliament, may apply to be\\nregistered as a citizen.\\n(3) A child who is not a citizen, but is adopted by a citizen, is\\nentitled on application to be registered as a citizen.\\n18 Constitution of Kenya, 2010\\n(4) Parliament shall enact legislation establishing conditions on\\nwhich citizenship may be granted to individuals who are citizens of\\nother countries.\\n(5) This Article applies to a person as from the effective date, but\\nany requirements that must be satisfied before the person is entitled to\\nbe registered as a citizen shall be regarded as having been satisfied\\nirrespective of whether the person satisfied them before or after the\\neffective date, or partially before, and partially after, the effective date.\\nDual citizenship.\\n16. A citizen by birth does not lose citizenship by acquiring the\\ncitizenship of another country.\\nRevocation of citizenship.\\n17. (1) If a person acquired citizenship by registration, the\\ncitizenship may be revoked if the person—\\n(a) acquired the citizenship by fraud, false representation or\\nconcealment of any material fact;\\n(b) has, during any war in which Kenya was engaged, unlawfully\\ntraded or communicated with an enemy or been engaged in\\nor associated with any business that was knowingly carried\\non in such a manner as to assist an enemy in that war;\\n(c) has, within five years after registration, been convicted of an\\noffence and sentenced to imprisonment for a term of three\\nyears or longer; or\\n(d) has, at any time after registration, been convicted of treason,\\nor of an offence for which—\\n(i) a penalty of at least seven years imprisonment may be\\nimposed; or\\n(ii) a more severe penalty may be imposed.\\n(2) The citizenship of a person who was presumed to be a citizen\\nby birth, as contemplated in Article 14 (4), may be revoked if—\\n(a) the citizenship was acquired by fraud, false representation or\\nconcealment of any material fact by any person;\\n(b) the nationality or parentage of the person becomes known,\\nand reveals that the person was a citizen of another country;\\nor\\nConstitution of Kenya, 2010 19\\n(c) the age of the person becomes known, and reveals that the\\nperson was older than eight years when found in Kenya.\\nLegislation on citizenship.\\n18. Parliament shall enact legislation—\\n(a) prescribing procedures by which a person may become a\\ncitizen;\\n(b) governing entry into and residence in Kenya;\\n(c) providing for the status of permanent residents;\\n(d) providing for voluntary renunciation of citizenship;\\n(e) prescribing procedures for revocation of citizenship;\\n(f) prescribing the duties and rights of citizens; and\\n(g) generally giving effect to the provisions of this Chapter.\\nCHAPTER FOUR—THE BILL OF RIGHTS\\nPART 1—GENERAL PROVISIONS RELATING TO THE BILL OF RIGHTS\\nRights and fundamental freedoms.\\n19. (1) The Bill of Rights is an integral part of Kenya’s democratic\\nstate and is the framework for social, economic and cultural policies.\\n(2) The purpose of recognising and protecting human rights and\\nfundamental freedoms is to preserve the dignity of individuals and\\ncommunities and to promote social justice and the realisation of the\\npotential of all human beings.\\n(3) The rights and fundamental freedoms in the Bill of Rights—\\n(a) belong to each individual and are not granted by the State;\\n(b) do not exclude other rights and fundamental freedoms not in\\nthe Bill of Rights, but recognised or conferred by law, except\\nto the extent that they are inconsistent with this Chapter; and\\n(c) are subject only to the limitations contemplated in this\\nConstitution.\\nApplication of Bill of Rights.\\n20. (1) The Bill of Rights applies to all law and binds all State\\norgans and all persons.\\n'"
      ]
     },
     "execution_count": 21,
     "metadata": {},
     "output_type": "execute_result"
    }
   ],
   "source": [
    "chapter_3 = extract_specific_pages(pdf_path, 15,19 )\n",
    "chapter_3"
   ]
  },
  {
   "cell_type": "markdown",
   "metadata": {},
   "source": [
    "The first page in this pdf extract contains both the conclusion to chapter 2 and the beginning of chapter 3\n",
    "We'll therefore have to split the page to extract chapter 3\n",
    "\n"
   ]
  },
  {
   "cell_type": "code",
   "execution_count": 22,
   "metadata": {},
   "outputs": [
    {
     "data": {
      "text/plain": [
       "'—CITIZENSHIP\\nEntitlements of citizens.\\n12. (1) Every citizen is entitled to—\\n(a) the rights, privileges and benefits of citizenship, subject to the\\nlimits provided or permitted by this Constitution; and\\n(b) a Kenyan passport and any document of registration or\\nidentification issued by the State to citizens.\\nConstitution of Kenya, 2010 17\\n(2) A passport or other document referred to in clause (1) (b) may\\nbe denied, suspended or confiscated only in accordance with an Act of\\nParliament that satisfies the criteria referred to in Article 24.\\nRetention and acquisition of citizenship.\\n13. (1) Every person who was a citizen immediately before the\\neffective date retains the same citizenship status as of that date.\\n(2) Citizenship may be acquired by birth or registration.\\n(3) Citizenship is not lost through marriage or the dissolution of\\nmarriage.\\nCitizenship by birth.\\n14. (1) A person is a citizen by birth if on the day of the person’s\\nbirth, whether or not the person is born in Kenya, either the mother or\\nfather of the person is a citizen.\\n(2) Clause (1) applies equally to a person born before the\\neffective date, whether or not the person was born in Kenya, if either\\nthe mother or father of the person is or was a citizen.\\n(3) Parliament may enact legislation limiting the effect of clauses\\n(1) and (2) on the descendents of Kenyan citizens who are born\\noutside Kenya.\\n(4) A child found in Kenya who is, or appears to be, less than\\neight years of age, and whose nationality and parents are not known,\\nis presumed to be a citizen by birth.\\n(5) A person who is a Kenyan citizen by birth and who, on the\\neffective date, has ceased to be a Kenyan citizen because the person\\nacquired citizenship of another country, is entitled on application to\\nregain Kenyan citizenship.\\nCitizenship by registration.\\n15. (1) A person who has been married to a citizen for a period of\\nat least seven years is entitled on application to be registered as a\\ncitizen.\\n(2) A person who has been lawfully resident in Kenya for a\\ncontinuous period of at least seven years, and who satisfies the\\nconditions prescribed by an Act of Parliament, may apply to be\\nregistered as a citizen.\\n(3) A child who is not a citizen, but is adopted by a citizen, is\\nentitled on application to be registered as a citizen.\\n18 Constitution of Kenya, 2010\\n(4) Parliament shall enact legislation establishing conditions on\\nwhich citizenship may be granted to individuals who are citizens of\\nother countries.\\n(5) This Article applies to a person as from the effective date, but\\nany requirements that must be satisfied before the person is entitled to\\nbe registered as a citizen shall be regarded as having been satisfied\\nirrespective of whether the person satisfied them before or after the\\neffective date, or partially before, and partially after, the effective date.\\nDual citizenship.\\n16. A citizen by birth does not lose citizenship by acquiring the\\ncitizenship of another country.\\nRevocation of citizenship.\\n17. (1) If a person acquired citizenship by registration, the\\ncitizenship may be revoked if the person—\\n(a) acquired the citizenship by fraud, false representation or\\nconcealment of any material fact;\\n(b) has, during any war in which Kenya was engaged, unlawfully\\ntraded or communicated with an enemy or been engaged in\\nor associated with any business that was knowingly carried\\non in such a manner as to assist an enemy in that war;\\n(c) has, within five years after registration, been convicted of an\\noffence and sentenced to imprisonment for a term of three\\nyears or longer; or\\n(d) has, at any time after registration, been convicted of treason,\\nor of an offence for which—\\n(i) a penalty of at least seven years imprisonment may be\\nimposed; or\\n(ii) a more severe penalty may be imposed.\\n(2) The citizenship of a person who was presumed to be a citizen\\nby birth, as contemplated in Article 14 (4), may be revoked if—\\n(a) the citizenship was acquired by fraud, false representation or\\nconcealment of any material fact by any person;\\n(b) the nationality or parentage of the person becomes known,\\nand reveals that the person was a citizen of another country;\\nor\\nConstitution of Kenya, 2010 19\\n(c) the age of the person becomes known, and reveals that the\\nperson was older than eight years when found in Kenya.\\nLegislation on citizenship.\\n18. Parliament shall enact legislation—\\n(a) prescribing procedures by which a person may become a\\ncitizen;\\n(b) governing entry into and residence in Kenya;\\n(c) providing for the status of permanent residents;\\n(d) providing for voluntary renunciation of citizenship;\\n(e) prescribing procedures for revocation of citizenship;\\n(f) prescribing the duties and rights of citizens; and\\n(g) generally giving effect to the provisions of this Chapter.\\nCHAPTER FOUR—THE BILL OF RIGHTS\\nPART 1—GENERAL PROVISIONS RELATING TO THE BILL OF RIGHTS\\nRights and fundamental freedoms.\\n19. (1) The Bill of Rights is an integral part of Kenya’s democratic\\nstate and is the framework for social, economic and cultural policies.\\n(2) The purpose of recognising and protecting human rights and\\nfundamental freedoms is to preserve the dignity of individuals and\\ncommunities and to promote social justice and the realisation of the\\npotential of all human beings.\\n(3) The rights and fundamental freedoms in the Bill of Rights—\\n(a) belong to each individual and are not granted by the State;\\n(b) do not exclude other rights and fundamental freedoms not in\\nthe Bill of Rights, but recognised or conferred by law, except\\nto the extent that they are inconsistent with this Chapter; and\\n(c) are subject only to the limitations contemplated in this\\nConstitution.\\nApplication of Bill of Rights.\\n20. (1) The Bill of Rights applies to all law and binds all State\\norgans and all persons.'"
      ]
     },
     "execution_count": 22,
     "metadata": {},
     "output_type": "execute_result"
    }
   ],
   "source": [
    "chapter_3_cleaned = chapter_3.split(\"CHAPTER THREE\")[1].strip()\n",
    "chapter_3_cleaned"
   ]
  },
  {
   "cell_type": "markdown",
   "metadata": {},
   "source": [
    "We'll also split the last page because there is some chapter 4 info on it"
   ]
  },
  {
   "cell_type": "code",
   "execution_count": 23,
   "metadata": {},
   "outputs": [
    {
     "data": {
      "text/plain": [
       "'—CITIZENSHIP\\nEntitlements of citizens.\\n12. (1) Every citizen is entitled to—\\n(a) the rights, privileges and benefits of citizenship, subject to the\\nlimits provided or permitted by this Constitution; and\\n(b) a Kenyan passport and any document of registration or\\nidentification issued by the State to citizens.\\nConstitution of Kenya, 2010 17\\n(2) A passport or other document referred to in clause (1) (b) may\\nbe denied, suspended or confiscated only in accordance with an Act of\\nParliament that satisfies the criteria referred to in Article 24.\\nRetention and acquisition of citizenship.\\n13. (1) Every person who was a citizen immediately before the\\neffective date retains the same citizenship status as of that date.\\n(2) Citizenship may be acquired by birth or registration.\\n(3) Citizenship is not lost through marriage or the dissolution of\\nmarriage.\\nCitizenship by birth.\\n14. (1) A person is a citizen by birth if on the day of the person’s\\nbirth, whether or not the person is born in Kenya, either the mother or\\nfather of the person is a citizen.\\n(2) Clause (1) applies equally to a person born before the\\neffective date, whether or not the person was born in Kenya, if either\\nthe mother or father of the person is or was a citizen.\\n(3) Parliament may enact legislation limiting the effect of clauses\\n(1) and (2) on the descendents of Kenyan citizens who are born\\noutside Kenya.\\n(4) A child found in Kenya who is, or appears to be, less than\\neight years of age, and whose nationality and parents are not known,\\nis presumed to be a citizen by birth.\\n(5) A person who is a Kenyan citizen by birth and who, on the\\neffective date, has ceased to be a Kenyan citizen because the person\\nacquired citizenship of another country, is entitled on application to\\nregain Kenyan citizenship.\\nCitizenship by registration.\\n15. (1) A person who has been married to a citizen for a period of\\nat least seven years is entitled on application to be registered as a\\ncitizen.\\n(2) A person who has been lawfully resident in Kenya for a\\ncontinuous period of at least seven years, and who satisfies the\\nconditions prescribed by an Act of Parliament, may apply to be\\nregistered as a citizen.\\n(3) A child who is not a citizen, but is adopted by a citizen, is\\nentitled on application to be registered as a citizen.\\n18 Constitution of Kenya, 2010\\n(4) Parliament shall enact legislation establishing conditions on\\nwhich citizenship may be granted to individuals who are citizens of\\nother countries.\\n(5) This Article applies to a person as from the effective date, but\\nany requirements that must be satisfied before the person is entitled to\\nbe registered as a citizen shall be regarded as having been satisfied\\nirrespective of whether the person satisfied them before or after the\\neffective date, or partially before, and partially after, the effective date.\\nDual citizenship.\\n16. A citizen by birth does not lose citizenship by acquiring the\\ncitizenship of another country.\\nRevocation of citizenship.\\n17. (1) If a person acquired citizenship by registration, the\\ncitizenship may be revoked if the person—\\n(a) acquired the citizenship by fraud, false representation or\\nconcealment of any material fact;\\n(b) has, during any war in which Kenya was engaged, unlawfully\\ntraded or communicated with an enemy or been engaged in\\nor associated with any business that was knowingly carried\\non in such a manner as to assist an enemy in that war;\\n(c) has, within five years after registration, been convicted of an\\noffence and sentenced to imprisonment for a term of three\\nyears or longer; or\\n(d) has, at any time after registration, been convicted of treason,\\nor of an offence for which—\\n(i) a penalty of at least seven years imprisonment may be\\nimposed; or\\n(ii) a more severe penalty may be imposed.\\n(2) The citizenship of a person who was presumed to be a citizen\\nby birth, as contemplated in Article 14 (4), may be revoked if—\\n(a) the citizenship was acquired by fraud, false representation or\\nconcealment of any material fact by any person;\\n(b) the nationality or parentage of the person becomes known,\\nand reveals that the person was a citizen of another country;\\nor\\nConstitution of Kenya, 2010 19\\n(c) the age of the person becomes known, and reveals that the\\nperson was older than eight years when found in Kenya.\\nLegislation on citizenship.\\n18. Parliament shall enact legislation—\\n(a) prescribing procedures by which a person may become a\\ncitizen;\\n(b) governing entry into and residence in Kenya;\\n(c) providing for the status of permanent residents;\\n(d) providing for voluntary renunciation of citizenship;\\n(e) prescribing procedures for revocation of citizenship;\\n(f) prescribing the duties and rights of citizens; and\\n(g) generally giving effect to the provisions of this Chapter.'"
      ]
     },
     "execution_count": 23,
     "metadata": {},
     "output_type": "execute_result"
    }
   ],
   "source": [
    "chapter_3_trimmed = chapter_3_cleaned.split(\"CHAPTER FOUR\")[0].strip()\n",
    "chapter_3_trimmed"
   ]
  },
  {
   "cell_type": "code",
   "execution_count": 24,
   "metadata": {},
   "outputs": [],
   "source": [
    "def split_chapter(chapter_text):\n",
    "    # Split at key headings and strip extra whitespace\n",
    "    sections = {\n",
    "        \"entitlement\": [],\n",
    "        \"retention\": [],\n",
    "        \"birth\": [],\n",
    "        \"registration\": [],\n",
    "        \"dual\": [],\n",
    "        \"revocation\": [],\n",
    "        \"legislation\" : [],\n",
    "    }\n",
    "\n",
    "    # Split by new lines to process line by line\n",
    "    lines = chapter_text.splitlines()\n",
    "\n",
    "    current_section = None\n",
    "\n",
    "    for line in lines:\n",
    "        stripped_line = line.strip()\n",
    "\n",
    "        if stripped_line.startswith(\"Entitlements of citizens\"):\n",
    "            current_section = \"entitlement\"\n",
    "        elif stripped_line.startswith(\"Retention and acquisition of citizenship\"):\n",
    "            current_section = \"retention\"\n",
    "        elif stripped_line.startswith(\"Citizenship by birth\"):\n",
    "            current_section = 'birth'\n",
    "        elif stripped_line.startswith(\"Citizenship by registration\"):\n",
    "            current_section = \"registration\"\n",
    "        elif stripped_line.startswith(\"Dual citizenship\"):\n",
    "            current_section = \"dual\"\n",
    "        elif stripped_line.startswith(\"Revocation of citizenship\"):\n",
    "            current_section = \"revocation\"\n",
    "        elif stripped_line.startswith(\"Legislation on citizenship\"):\n",
    "            current_section = \"legislation\"\n",
    "\n",
    "        # Append line to the current section if it's set\n",
    "        if current_section:\n",
    "            sections[current_section].append(stripped_line)\n",
    "\n",
    "    # Join each section into a single string\n",
    "    for key in sections:\n",
    "        sections[key] = \"\\n\".join(sections[key])\n",
    "\n",
    "    return sections"
   ]
  },
  {
   "cell_type": "code",
   "execution_count": 25,
   "metadata": {},
   "outputs": [
    {
     "data": {
      "text/plain": [
       "dict_keys(['entitlement', 'retention', 'birth', 'registration', 'dual', 'revocation', 'legislation'])"
      ]
     },
     "execution_count": 25,
     "metadata": {},
     "output_type": "execute_result"
    }
   ],
   "source": [
    "chapter_3_sections = split_chapter(chapter_3_trimmed)\n",
    "chapter_3_sections.keys()"
   ]
  },
  {
   "cell_type": "code",
   "execution_count": 26,
   "metadata": {},
   "outputs": [
    {
     "name": "stdout",
     "output_type": "stream",
     "text": [
      "Processed query: revocation citizenship\n",
      "Revocation of citizenship.\n",
      "17. (1) If a person acquired citizenship by registration, the\n",
      "citizenship may be revoked if the person—\n",
      "(a) acquired the citizenship by fraud, false representation or\n",
      "concealment of any material fact;\n",
      "(b) has, during any war in which Kenya was engaged, unlawfully\n",
      "traded or communicated with an enemy or been engaged in\n",
      "or associated with any business that was knowingly carried\n",
      "on in such a manner as to assist an enemy in that war;\n",
      "(c) has, within five years after registration, been convicted of an\n",
      "offence and sentenced to imprisonment for a term of three\n",
      "years or longer; or\n",
      "(d) has, at any time after registration, been convicted of treason,\n",
      "or of an offence for which—\n",
      "(i) a penalty of at least seven years imprisonment may be\n",
      "imposed; or\n",
      "(ii) a more severe penalty may be imposed.\n",
      "(2) The citizenship of a person who was presumed to be a citizen\n",
      "by birth, as contemplated in Article 14 (4), may be revoked if—\n",
      "(a) the citizenship was acquired by fraud, false representation or\n",
      "concealment of any material fact by any person;\n",
      "(b) the nationality or parentage of the person becomes known,\n",
      "and reveals that the person was a citizen of another country;\n",
      "or\n",
      "Constitution of Kenya, 2010 19\n",
      "(c) the age of the person becomes known, and reveals that the\n",
      "person was older than eight years when found in Kenya.\n"
     ]
    }
   ],
   "source": [
    "# Load spaCy model\n",
    "nlp = spacy.load(\"en_core_web_sm\")\n",
    "\n",
    "# Preprocess the user query using spaCy\n",
    "def preprocess_query(query):\n",
    "    # Parse the query with spaCy\n",
    "    doc = nlp(query)\n",
    "    # Normalize the query: lowercase, lemmatize, and remove stopwords\n",
    "    tokens = [token.lemma_.lower() for token in doc if not token.is_stop and not token.is_punct]\n",
    "    return \" \".join(tokens)\n",
    "\n",
    "# Define the sections variable with Chapter 2\n",
    "sections = chapter_3_sections\n",
    "\n",
    "# Define the QA mapping based on key phrases and corresponding sections\n",
    "qa_mapping = {\n",
    "    \"entitlement\": \"entitlement of citizens\",\n",
    "        \"retention\": \"retention and acquisition of citizenship\",\n",
    "        \"birth\": \"citizenship by birth\",\n",
    "        \"registration\": \"citizenship by registration\",\n",
    "        \"dual\": \"dual citizenship\",\n",
    "        \"revocation\": \"revocation of citizenship\",\n",
    "        \"legislation\" : \"legislation on citizenship\"\n",
    "}\n",
    "\n",
    "\n",
    "\n",
    "# Update the Q&A system to use preprocessed queries\n",
    "def answer_question_nlp(query, sections, qa_mapping):\n",
    "    # Preprocess the user query\n",
    "    processed_query = preprocess_query(query)\n",
    "\n",
    "    # Debug\n",
    "    print(f\"Processed query: {processed_query}\")\n",
    "    \n",
    "    # Search for a key in qa_mapping that matches the preprocessed query\n",
    "    for key in qa_mapping:\n",
    "        if key in processed_query:\n",
    "            # Return the relevant section in the text\n",
    "            return sections[key]\n",
    "            \n",
    "    return \"Sorry, I couldn't find an answer to your question.\"\n",
    "\n",
    "# Example usage\n",
    "user_query = \"revocation on citizenship?\"\n",
    "answer = answer_question_nlp(user_query, sections, qa_mapping)\n",
    "print(answer)\n"
   ]
  },
  {
   "cell_type": "markdown",
   "metadata": {},
   "source": [
    "Let's do two more queries to see if it works correctly"
   ]
  },
  {
   "cell_type": "code",
   "execution_count": 27,
   "metadata": {},
   "outputs": [
    {
     "name": "stdout",
     "output_type": "stream",
     "text": [
      "Processed query: citizenship registration\n",
      "Citizenship by registration.\n",
      "15. (1) A person who has been married to a citizen for a period of\n",
      "at least seven years is entitled on application to be registered as a\n",
      "citizen.\n",
      "(2) A person who has been lawfully resident in Kenya for a\n",
      "continuous period of at least seven years, and who satisfies the\n",
      "conditions prescribed by an Act of Parliament, may apply to be\n",
      "registered as a citizen.\n",
      "(3) A child who is not a citizen, but is adopted by a citizen, is\n",
      "entitled on application to be registered as a citizen.\n",
      "18 Constitution of Kenya, 2010\n",
      "(4) Parliament shall enact legislation establishing conditions on\n",
      "which citizenship may be granted to individuals who are citizens of\n",
      "other countries.\n",
      "(5) This Article applies to a person as from the effective date, but\n",
      "any requirements that must be satisfied before the person is entitled to\n",
      "be registered as a citizen shall be regarded as having been satisfied\n",
      "irrespective of whether the person satisfied them before or after the\n",
      "effective date, or partially before, and partially after, the effective date.\n"
     ]
    }
   ],
   "source": [
    "user_query = \"How to get citizenship by registration?\"\n",
    "answer = answer_question_nlp(user_query, sections, qa_mapping)\n",
    "print(answer)\n"
   ]
  },
  {
   "cell_type": "code",
   "execution_count": 28,
   "metadata": {},
   "outputs": [
    {
     "name": "stdout",
     "output_type": "stream",
     "text": [
      "Processed query: dual citizenship\n",
      "Defence of this Constitution.\n",
      "3. (1) Every person has an obligation to respect, uphold and\n",
      "defend this Constitution.\n",
      "(2) Any attempt to establish a government otherwise than in\n",
      "compliance with this Constitution is unlawful.\n"
     ]
    }
   ],
   "source": [
    "test_2 = \"What about dual citizenship?\"\n",
    "answer2 = answer_question_nlp(test_2, sections, qa_mapping)\n",
    "print(answer_2)"
   ]
  },
  {
   "cell_type": "markdown",
   "metadata": {},
   "source": [
    "The code works perfectly and returns the intended response!"
   ]
  },
  {
   "cell_type": "markdown",
   "metadata": {},
   "source": [
    "# NLU"
   ]
  },
  {
   "cell_type": "markdown",
   "metadata": {},
   "source": [
    "Now to work on misspellings and synonyms.\n",
    "We'll use SpellChecker"
   ]
  },
  {
   "cell_type": "code",
   "execution_count": 30,
   "metadata": {},
   "outputs": [],
   "source": [
    "from spellchecker import SpellChecker"
   ]
  },
  {
   "cell_type": "markdown",
   "metadata": {},
   "source": [
    "## Debugging code"
   ]
  },
  {
   "cell_type": "code",
   "execution_count": 31,
   "metadata": {},
   "outputs": [],
   "source": [
    "# Define synonym mapping\n",
    "synonyms = {\n",
    "    \"supremacy\" : [\"supremacy\", \"authority\", \"ultimate power\"],\n",
    "    \"sovereignty\" : [\"sovereignty\", \"power of the people\", \"authority of the people\"],\n",
    "    \"defence\" : [\"defense\", \"protection\", \"preservation\"]\n",
    "}\n",
    "\n",
    "# QA mapping\n",
    "qa_mapping = {\n",
    "    \"supremacy\": \"supremacy\",\n",
    "    \"sovereignty\": \"sovereignty\",\n",
    "    \"defence\": \"defence\"\n",
    "}\n",
    "\n",
    "# Preprocess the query\n",
    "def preprocess_query(query):\n",
    "    doc = nlp(query)\n",
    "    tokens = [token.lemma_.lower() for token in doc if not token.is_stop and not token.is_punct]\n",
    "    return \" \".join(tokens)\n",
    "\n",
    "# Function to correct the spelling\n",
    "def correct_spelling(processed_query):\n",
    "    spell = SpellChecker()\n",
    "    words = processed_query.split()\n",
    "    # Find misspelled words\n",
    "    misspelled_words = spell.unknown(words)\n",
    "\n",
    "\n",
    "    corrected_words = []\n",
    "    for word in words:\n",
    "        # Correct the word if it's misspelled\n",
    "        if word in misspelled_words:\n",
    "            corrected_word = spell.correction(word) # Get the most likely correction\n",
    "            corrected_words.append(corrected_word)\n",
    "        else:\n",
    "            corrected_words.append(word)\n",
    "\n",
    "    # Reconstruct the initial sentence\n",
    "    corrected_input = \" \".join(corrected_words)\n",
    "\n",
    "    return corrected_input\n",
    "\n",
    "            \n",
    "\n",
    "# Match with synonym support\n",
    "def match_with_synonyms(query, qa_mapping, synonyms):\n",
    "    processed_query = preprocess_query(query)\n",
    "    print(f\"Processed Query: {processed_query}\")  # Debugging line\n",
    "\n",
    "    # Correct spelling in the processed query\n",
    "    corrected_query = correct_spelling(processed_query)\n",
    "    print(f\"Corrected Query: {corrected_query}\")  # Debugging line\n",
    "\n",
    "\n",
    "    for key, value in qa_mapping.items():\n",
    "        print(f\"Checking key: {key}, value: {value}\")  # Debugging line\n",
    "        for synonym in synonyms.get(key, [key]):\n",
    "            print(f\"Trying synonym: {synonym}\")  # Debugging line\n",
    "            if synonym in corrected_query:\n",
    "                print(f\"Match found with synonym: {synonym}\")  # Debugging line\n",
    "                return value  # Only return section value of the key\n",
    "            \n",
    "            # Check for fuzzy matching with the synonym\n",
    "            if fuzz.ratio(synonym, corrected_query) > 70:\n",
    "                print(f\"Fuzzy match found with synonym: {synonym}\")  # Debugging line\n",
    "                return value  # Return the key for the section\n",
    "    \n",
    "    print(\"No match found\")  # Debugging line if no match is found\n",
    "    return None\n",
    "\n",
    "# Answer function with synonym and fuzzy matching\n",
    "def answer_question_nlp(query, sections, qa_mapping, synonyms):\n",
    "    section_key = match_with_synonyms(query, qa_mapping, synonyms)\n",
    "    \n",
    "    if section_key:\n",
    "        # Retrieve the relevant section from the specified chapter\n",
    "        return sections.get(section_key, \"Section not found.\")\n",
    "    \n",
    "    return \"Sorry, I couldn't find an answer to your question.\"\n"
   ]
  },
  {
   "cell_type": "markdown",
   "metadata": {},
   "source": [
    "# Precise code"
   ]
  },
  {
   "cell_type": "code",
   "execution_count": 32,
   "metadata": {},
   "outputs": [],
   "source": [
    "# Define synonym mapping\n",
    "synonyms = {\n",
    "    \"supremacy\" : [\"supremacy\", \"authority\", \"ultimate power\"],\n",
    "    \"sovereignty\" : [\"sovereignty\", \"power of the people\", \"authority of the people\"],\n",
    "    \"defence\" : [\"defense\", \"protection\", \"preservation\"]\n",
    "}\n",
    "\n",
    "# QA mapping\n",
    "qa_mapping = {\n",
    "    \"supremacy\": (\"supremacy\"),\n",
    "    \"sovereignty\": (\"sovereignty\"),\n",
    "    \"defence\": (\"defence\"),\n",
    "}\n",
    "\n",
    "# Preprocess the query\n",
    "def preprocess_query(query):\n",
    "    doc = nlp(query)\n",
    "    tokens = [token.lemma_.lower() for token in doc if not token.is_stop and not token.is_punct]\n",
    "    return \" \".join(tokens)\n",
    "\n",
    "# Function to correct the spelling\n",
    "def correct_spelling(processed_query):\n",
    "    spell = SpellChecker()\n",
    "    words = processed_query.split()\n",
    "    # Find misspelled words\n",
    "    misspelled_words = spell.unknown(words)\n",
    "\n",
    "\n",
    "    corrected_words = []\n",
    "    for word in words:\n",
    "        # Correct the word if it's misspelled\n",
    "        if word in misspelled_words:\n",
    "            corrected_word = spell.correction(word) # Get the most likely correction\n",
    "            corrected_words.append(corrected_word)\n",
    "        else:\n",
    "            corrected_words.append(word)\n",
    "\n",
    "    # Reconstruct the initial sentence\n",
    "    corrected_input = \" \".join(corrected_words)\n",
    "\n",
    "    return corrected_input\n",
    "\n",
    "            \n",
    "\n",
    "# Match with synonym support\n",
    "def match_with_synonyms(query, qa_mapping, synonyms):\n",
    "    processed_query = preprocess_query(query)\n",
    "\n",
    "    # Correct spelling in the processed query\n",
    "    corrected_query = correct_spelling(processed_query)\n",
    "\n",
    "\n",
    "    for key, value in qa_mapping.items():\n",
    "        for synonym in synonyms.get(key, [key]):\n",
    "            if synonym in corrected_query:\n",
    "                return value  # Only return section value of the key\n",
    "            \n",
    "            # Check for fuzzy matching with the synonym\n",
    "            if fuzz.ratio(synonym, corrected_query) > 70:\n",
    "                print(f\"Fuzzy match found with synonym: {synonym}\")  # Debugging line\n",
    "                return value  # Return the key for the section\n",
    "    \n",
    "    print(\"No match found\")\n",
    "    return None\n",
    "\n",
    "# Answer function with synonym and fuzzy matching\n",
    "def answer_question_nlp(query, sections, qa_mapping, synonyms):\n",
    "    section_key = match_with_synonyms(query, qa_mapping, synonyms)\n",
    "    \n",
    "    if section_key:\n",
    "        # Retrieve the relevant section from the specified chapter\n",
    "        return sections.get(section_key, \"Section not found.\")\n",
    "    \n",
    "    return \"Sorry, I couldn't find an answer to your question.\"\n"
   ]
  },
  {
   "cell_type": "code",
   "execution_count": 34,
   "metadata": {},
   "outputs": [
    {
     "name": "stdout",
     "output_type": "stream",
     "text": [
      "Supremacy of this Constitution.\n",
      "2. (1) This Constitution is the supreme law of the Republic and\n",
      "binds all persons and all State organs at both levels of government.\n",
      "(2) No person may claim or exercise State authority except as\n",
      "authorised under this Constitution.\n",
      "(3) The validity or legality of this Constitution is not subject to\n",
      "challenge by or before any court or other State organ.\n",
      "(4) Any law, including customary law, that is inconsistent with this\n",
      "Constitution is void to the extent of the inconsistency, and any act or\n",
      "omission in contravention of this Constitution is invalid.\n",
      "(5) The general rules of international law shall form part of the\n",
      "law of Kenya.\n",
      "14 Constitution of Kenya, 2010\n",
      "(6) Any treaty or convention ratified by Kenya shall form part of\n",
      "the law of Kenya under this Constitution.\n"
     ]
    }
   ],
   "source": [
    "user_query = \"What is the ultimate power of the constitution?\"\n",
    "answer = answer_question_nlp(user_query, sections, qa_mapping, synonyms)\n",
    "print(answer)\n"
   ]
  },
  {
   "cell_type": "markdown",
   "metadata": {},
   "source": []
  },
  {
   "cell_type": "code",
   "execution_count": 35,
   "metadata": {},
   "outputs": [],
   "source": [
    "# Define synonym mapping\n",
    "synonyms = {\n",
    "    \"supremacy\" : [\"supremacy\", \"authority\", \"ultimate power\"],\n",
    "    \"sovereignty\" : [\"sovereignty\", \"power of the people\", \"authority of the people\"],\n",
    "    \"defence\" : [\"defense\", \"protection\", \"preservation\"]\n",
    "}\n",
    "\n",
    "# QA mapping\n",
    "qa_mapping = {\n",
    "    \"supremacy\": (\"supremacy\"),\n",
    "    \"sovereignty\": (\"sovereignty\"),\n",
    "    \"defence\": (\"defence\"),\n",
    "}\n",
    "\n",
    "# Preprocess the query\n",
    "def preprocess_query(query):\n",
    "    doc = nlp(query)\n",
    "    tokens = [token.lemma_.lower() for token in doc if not token.is_stop and not token.is_punct]\n",
    "    return \" \".join(tokens)\n",
    "\n",
    "# Function to correct the spelling\n",
    "def correct_spelling(processed_query):\n",
    "    spell = SpellChecker()\n",
    "    words = processed_query.split()\n",
    "    # Find misspelled words\n",
    "    misspelled_words = spell.unknown(words)\n",
    "\n",
    "\n",
    "    corrected_words = []\n",
    "    for word in words:\n",
    "        # Correct the word if it's misspelled\n",
    "        if word in misspelled_words:\n",
    "            corrected_word = spell.correction(word) # Get the most likely correction\n",
    "            corrected_words.append(corrected_word)\n",
    "        else:\n",
    "            corrected_words.append(word)\n",
    "\n",
    "    # Reconstruct the initial sentence\n",
    "    corrected_input = \" \".join(corrected_words)\n",
    "\n",
    "    return corrected_input\n",
    "\n",
    "            \n",
    "\n",
    "# Match the words with synonym support\n",
    "def match_with_synonyms(query, qa_mapping, synonyms, threshold=70):\n",
    "    processed_query = preprocess_query(query)\n",
    "    print(f\"Processed Query: {processed_query}\")  # Debugging line\n",
    "\n",
    "    # Correct spelling in the processed query\n",
    "    corrected_query = correct_spelling(processed_query)\n",
    "    print(f\"Corrected Query: {corrected_query}\")  # Debugging line\n",
    "\n",
    "\n",
    "    for key, value in qa_mapping.items():\n",
    "        print(f\"Checking key: {key}, value: {value}\")  # Debugging line\n",
    "        for synonym in synonyms.get(key, [key]):\n",
    "            print(f\"Trying synonym: {synonym}\")  # Debugging line\n",
    "            if synonym in corrected_query:\n",
    "                print(f\"Match found with synonym: {synonym}\")  # Debugging line\n",
    "                return value  # Only return section value of the key\n",
    "            \n",
    "    \n",
    "    print(\"No match found\")  # Debugging line if no match is found\n",
    "    return None\n",
    "\n",
    "# Answer function with synonym and fuzzy matching\n",
    "def answer_question_nlp(query, sections, qa_mapping, synonyms):\n",
    "    section_key = match_with_synonyms(query, qa_mapping, synonyms)\n",
    "    \n",
    "    if section_key:\n",
    "        # Retrieve the relevant section from the specified chapter\n",
    "        return sections.get(section_key, \"Section not found.\")\n",
    "    \n",
    "    return \"Sorry, I couldn't find an answer to your question.\"\n"
   ]
  },
  {
   "cell_type": "markdown",
   "metadata": {},
   "source": [
    "Test for the synonyms"
   ]
  },
  {
   "cell_type": "code",
   "execution_count": 36,
   "metadata": {},
   "outputs": [
    {
     "name": "stdout",
     "output_type": "stream",
     "text": [
      "Processed Query: ultimate power constitution\n",
      "Corrected Query: ultimate power constitution\n",
      "Checking key: supremacy, value: supremacy\n",
      "Trying synonym: supremacy\n",
      "Trying synonym: authority\n",
      "Trying synonym: ultimate power\n",
      "Match found with synonym: ultimate power\n",
      "Supremacy of this Constitution.\n",
      "2. (1) This Constitution is the supreme law of the Republic and\n",
      "binds all persons and all State organs at both levels of government.\n",
      "(2) No person may claim or exercise State authority except as\n",
      "authorised under this Constitution.\n",
      "(3) The validity or legality of this Constitution is not subject to\n",
      "challenge by or before any court or other State organ.\n",
      "(4) Any law, including customary law, that is inconsistent with this\n",
      "Constitution is void to the extent of the inconsistency, and any act or\n",
      "omission in contravention of this Constitution is invalid.\n",
      "(5) The general rules of international law shall form part of the\n",
      "law of Kenya.\n",
      "14 Constitution of Kenya, 2010\n",
      "(6) Any treaty or convention ratified by Kenya shall form part of\n",
      "the law of Kenya under this Constitution.\n"
     ]
    }
   ],
   "source": [
    "user_query = \"What is the ultimate power of the constitution?\"\n",
    "answer = answer_question_nlp(user_query, sections, qa_mapping, synonyms)\n",
    "print(answer)  # This will print the relevant section text\n"
   ]
  },
  {
   "cell_type": "markdown",
   "metadata": {},
   "source": [
    "Test for misspellings"
   ]
  },
  {
   "cell_type": "code",
   "execution_count": 37,
   "metadata": {},
   "outputs": [
    {
     "name": "stdout",
     "output_type": "stream",
     "text": [
      "Processed Query: authoity constitution\n",
      "Corrected Query: authority constitution\n",
      "Checking key: supremacy, value: supremacy\n",
      "Trying synonym: supremacy\n",
      "Trying synonym: authority\n",
      "Match found with synonym: authority\n",
      "Supremacy of this Constitution.\n",
      "2. (1) This Constitution is the supreme law of the Republic and\n",
      "binds all persons and all State organs at both levels of government.\n",
      "(2) No person may claim or exercise State authority except as\n",
      "authorised under this Constitution.\n",
      "(3) The validity or legality of this Constitution is not subject to\n",
      "challenge by or before any court or other State organ.\n",
      "(4) Any law, including customary law, that is inconsistent with this\n",
      "Constitution is void to the extent of the inconsistency, and any act or\n",
      "omission in contravention of this Constitution is invalid.\n",
      "(5) The general rules of international law shall form part of the\n",
      "law of Kenya.\n",
      "14 Constitution of Kenya, 2010\n",
      "(6) Any treaty or convention ratified by Kenya shall form part of\n",
      "the law of Kenya under this Constitution.\n"
     ]
    }
   ],
   "source": [
    "user_query = \"What is the authoity of the constitution?\"\n",
    "answer = answer_question_nlp(user_query, sections, qa_mapping, synonyms)\n",
    "print(answer)\n"
   ]
  },
  {
   "cell_type": "code",
   "execution_count": 38,
   "metadata": {},
   "outputs": [
    {
     "name": "stdout",
     "output_type": "stream",
     "text": [
      "Processed Query: supremcy\n",
      "Corrected Query: supremacy\n",
      "Checking key: supremacy, value: supremacy\n",
      "Trying synonym: supremacy\n",
      "Match found with synonym: supremacy\n",
      "Supremacy of this Constitution.\n",
      "2. (1) This Constitution is the supreme law of the Republic and\n",
      "binds all persons and all State organs at both levels of government.\n",
      "(2) No person may claim or exercise State authority except as\n",
      "authorised under this Constitution.\n",
      "(3) The validity or legality of this Constitution is not subject to\n",
      "challenge by or before any court or other State organ.\n",
      "(4) Any law, including customary law, that is inconsistent with this\n",
      "Constitution is void to the extent of the inconsistency, and any act or\n",
      "omission in contravention of this Constitution is invalid.\n",
      "(5) The general rules of international law shall form part of the\n",
      "law of Kenya.\n",
      "14 Constitution of Kenya, 2010\n",
      "(6) Any treaty or convention ratified by Kenya shall form part of\n",
      "the law of Kenya under this Constitution.\n"
     ]
    }
   ],
   "source": [
    "user_query = \"What does it say about supremcy?\"\n",
    "answer = answer_question_nlp(user_query, sections, qa_mapping, synonyms)\n",
    "print(answer)"
   ]
  },
  {
   "cell_type": "markdown",
   "metadata": {},
   "source": []
  },
  {
   "cell_type": "markdown",
   "metadata": {},
   "source": [
    "The code above efficiently corrects the misspelt words and also considers the synonyms used. This enusres that the user finds what they need without stating what is in the constitution verbatim"
   ]
  },
  {
   "cell_type": "markdown",
   "metadata": {},
   "source": [
    "##### Combining all chapter sections into a single dictionary"
   ]
  },
  {
   "cell_type": "code",
   "execution_count": 39,
   "metadata": {},
   "outputs": [
    {
     "data": {
      "text/plain": [
       "dict_keys(['sovereignty', 'supremacy', 'defence', 'declaration', 'territory', 'devolution', 'languages', 'religion', 'symbol', 'day', 'value', 'governance', 'culture', 'entitlement', 'retention', 'birth', 'registration', 'dual', 'revocation', 'legislation'])"
      ]
     },
     "execution_count": 39,
     "metadata": {},
     "output_type": "execute_result"
    }
   ],
   "source": [
    "combined_sections = combined_sections = {**chapter_1_sections, **chapter_2_sections, **chapter_3_sections}\n",
    "# Print the keys of the dictionary\n",
    "combined_sections.keys()"
   ]
  },
  {
   "cell_type": "code",
   "execution_count": 40,
   "metadata": {},
   "outputs": [
    {
     "name": "stderr",
     "output_type": "stream",
     "text": [
      "2024-10-29 12:49:23,950 - DEBUG - Processed Query: culture\n",
      "2024-10-29 12:49:24,181 - DEBUG - Corrected Query: culture\n",
      "2024-10-29 12:49:24,181 - DEBUG - Checking key: supremacy, value: supremacy\n",
      "2024-10-29 12:49:24,181 - DEBUG - Trying synonym: supremacy\n",
      "2024-10-29 12:49:24,181 - DEBUG - Trying synonym: authority\n",
      "2024-10-29 12:49:24,189 - DEBUG - Trying synonym: ultimate power\n",
      "2024-10-29 12:49:24,190 - DEBUG - Checking key: sovereignty, value: sovereignty\n",
      "2024-10-29 12:49:24,194 - DEBUG - Trying synonym: sovereignty\n",
      "2024-10-29 12:49:24,195 - DEBUG - Trying synonym: power of the people\n",
      "2024-10-29 12:49:24,199 - DEBUG - Trying synonym: authority of the people\n",
      "2024-10-29 12:49:24,201 - DEBUG - Checking key: defence, value: defence\n",
      "2024-10-29 12:49:24,206 - DEBUG - Trying synonym: defense\n",
      "2024-10-29 12:49:24,206 - DEBUG - Trying synonym: protection\n",
      "2024-10-29 12:49:24,206 - DEBUG - Trying synonym: preservation\n",
      "2024-10-29 12:49:24,206 - DEBUG - No match found\n",
      "2024-10-29 12:49:24,213 - ERROR - No answer found for the question.\n"
     ]
    },
    {
     "name": "stdout",
     "output_type": "stream",
     "text": [
      "Sorry, I couldn't find an answer to your question.\n"
     ]
    }
   ],
   "source": [
    "import logging\n",
    "from spellchecker import SpellChecker\n",
    "import spacy\n",
    "\n",
    "# Load the spacy model\n",
    "nlp = spacy.load(\"en_core_web_sm\")\n",
    "\n",
    "# Configure logging\n",
    "logging.basicConfig(\n",
    "    level=logging.DEBUG,  # Set the logging level\n",
    "    format='%(asctime)s - %(levelname)s - %(message)s',  # Log message format\n",
    ")\n",
    "\n",
    "# Define synonym mapping\n",
    "synonyms = {\n",
    "    \"supremacy\": [\"supremacy\", \"authority\", \"ultimate power\"],\n",
    "    \"sovereignty\": [\"sovereignty\", \"power of the people\", \"authority of the people\"],\n",
    "    \"defence\": [\"defense\", \"protection\", \"preservation\"]\n",
    "}\n",
    "\n",
    "sections = combined_sections\n",
    "\n",
    "# QA mapping\n",
    "qa_mapping = {\n",
    "    \"supremacy\": \"supremacy\",\n",
    "    \"sovereignty\": \"sovereignty\",\n",
    "    \"defence\": \"defence\"\n",
    "}\n",
    "\n",
    "# Preprocess the query\n",
    "def preprocess_query(query):\n",
    "    doc = nlp(query)\n",
    "    tokens = [token.lemma_.lower() for token in doc if not token.is_stop and not token.is_punct]\n",
    "    return \" \".join(tokens)\n",
    "\n",
    "# Function to correct the spelling\n",
    "def correct_spelling(processed_query):\n",
    "    spell = SpellChecker()\n",
    "    words = processed_query.split()\n",
    "    # Find misspelled words\n",
    "    misspelled_words = spell.unknown(words)\n",
    "\n",
    "    corrected_words = []\n",
    "    for word in words:\n",
    "        # Correct the word if it's misspelled\n",
    "        if word in misspelled_words:\n",
    "            corrected_word = spell.correction(word)  # Get the most likely correction\n",
    "            corrected_words.append(corrected_word)\n",
    "        else:\n",
    "            corrected_words.append(word)\n",
    "\n",
    "    # Reconstruct the initial sentence\n",
    "    corrected_input = \" \".join(corrected_words)\n",
    "    return corrected_input\n",
    "\n",
    "# Match the words with synonym support\n",
    "def match_with_synonyms(query, qa_mapping, synonyms, threshold=70):\n",
    "    processed_query = preprocess_query(query)\n",
    "    logging.debug(f\"Processed Query: {processed_query}\")  # Debugging line\n",
    "\n",
    "    # Correct spelling in the processed query\n",
    "    corrected_query = correct_spelling(processed_query)\n",
    "    logging.debug(f\"Corrected Query: {corrected_query}\")  # Debugging line\n",
    "\n",
    "    for key, value in qa_mapping.items():\n",
    "        logging.debug(f\"Checking key: {key}, value: {value}\")  # Debugging line\n",
    "        for synonym in synonyms.get(key, [key]):\n",
    "            logging.debug(f\"Trying synonym: {synonym}\")  # Debugging line\n",
    "            if synonym in corrected_query:\n",
    "                logging.debug(f\"Match found with synonym: {synonym}\")  # Debugging line\n",
    "                return value  # Only return section value of the key\n",
    "            \n",
    "            # Check for fuzzy matching with the synonym using the threshold parameter\n",
    "            if fuzz.ratio(synonym, corrected_query) > threshold:\n",
    "                logging.debug(f\"Fuzzy match found with synonym: {synonym}\")  # Debugging line\n",
    "                return value  # Return the key for the section\n",
    "    \n",
    "    logging.debug(\"No match found\")  # Debugging line if no match is found\n",
    "    return Non\n",
    "\n",
    "# Answer function with synonym and fuzzy matching\n",
    "def answer_question_nlp(query, sections, qa_mapping, synonyms, threshold=70):\n",
    "    section_key = match_with_synonyms(query, qa_mapping, synonyms, threshold)\n",
    "    \n",
    "    if section_key:\n",
    "        # Retrieve the relevant section from the specified chapter\n",
    "        return sections.get(section_key, \"Section not found.\")\n",
    "    \n",
    "    logging.error(\"No answer found for the question.\")  # Log an error if no answer is found\n",
    "    return \"Sorry, I couldn't find an answer to your question.\"\n",
    "\n",
    "# Sample usage\n",
    "if __name__ == \"__main__\":\n",
    "    user_query = \"What does it say about culture?\"\n",
    "    threshold_value = 75  # Adjust this value as needed\n",
    "    answer = answer_question_nlp(user_query, sections, qa_mapping, synonyms, threshold=threshold_value)\n",
    "    print(answer)\n"
   ]
  },
  {
   "cell_type": "code",
   "execution_count": 41,
   "metadata": {},
   "outputs": [
    {
     "name": "stderr",
     "output_type": "stream",
     "text": [
      "2024-10-29 12:49:28,735 - DEBUG - Processed Query: cultre\n",
      "2024-10-29 12:49:29,109 - DEBUG - Corrected Query: culture\n",
      "2024-10-29 12:49:29,110 - DEBUG - Direct match found: culture\n"
     ]
    },
    {
     "name": "stdout",
     "output_type": "stream",
     "text": [
      "Culture.\n",
      "11. (1) This Constitution recognises culture as the foundation of\n",
      "the nation and as the cumulative civilization of the Kenyan people and\n",
      "nation.\n",
      "(2) The State shall—\n",
      "(a) promote all forms of national and cultural expression through\n",
      "literature, the arts, traditional celebrations, science,\n",
      "communication, information, mass media, publications,\n",
      "libraries and other cultural heritage;\n",
      "(b) recognise the role of science and indigenous technologies in\n",
      "the development of the nation; and\n",
      "(c) promote the intellectual property rights of the people of Kenya.\n",
      "(3) Parliament shall enact legislation to—\n",
      "(a) ensure that communities receive compensation or royalties for\n",
      "the use of their cultures and cultural heritage; and\n",
      "(b) recognise and protect the ownership of indigenous seeds and\n",
      "plant varieties, their genetic and diverse characteristics and\n",
      "their use by the communities of Kenya.\n"
     ]
    }
   ],
   "source": [
    "import logging\n",
    "from spellchecker import SpellChecker\n",
    "import spacy\n",
    "\n",
    "# Load the language model (make sure to have spaCy installed and the model downloaded)\n",
    "nlp = spacy.load(\"en_core_web_sm\")\n",
    "\n",
    "# Configure logging\n",
    "logging.basicConfig(\n",
    "    level=logging.DEBUG,  # Set the logging level\n",
    "    format='%(asctime)s - %(levelname)s - %(message)s',  # Log message format\n",
    ")\n",
    "\n",
    "# Define synonym mapping\n",
    "synonyms = {\n",
    "    \"supremacy\": [\"supremacy\", \"authority\", \"ultimate power\"],\n",
    "    \"sovereignty\": [\"sovereignty\", \"power of the people\", \"authority of the people\", \"self rule\", \"autonomy\"],\n",
    "    \"defence\": [\"defense\", \"protection\", \"preservation\"]\n",
    "}\n",
    "\n",
    "sections = combined_sections\n",
    "\n",
    "# QA mapping\n",
    "qa_mapping = {\n",
    "    \"supremacy\": (\"supremacy\"),\n",
    "    \"sovereignty\": (\"sovereignty\"),\n",
    "    \"defence\": (\"defence\"),\n",
    "    \"declaration\": \"declaration of the republic\",\n",
    "    \"territory\": \"territory of kenya\", \n",
    "    \"devolution\": \"devolution and access to service\",\n",
    "    \"languages\": \"national, official and other languages\",\n",
    "    \"religion\": \"state and religion\",\n",
    "    \"symbol\": \"national symbols and national days\",\n",
    "    \"day\": \"national symbols and national days\",\n",
    "    \"value\": \"national values and principles of governance\",\n",
    "    \"governance\": \"national values and principles of governance\",\n",
    "    \"culture\": \"culture\",\n",
    "    \"entitlement\": \"entitlement of citizens\",\n",
    "    \"retention\": \"retention and acquisition of citizenship\",\n",
    "    \"birth\": \"citizenship by birth\",\n",
    "    \"registration\": \"citizenship by registration\",\n",
    "    \"dual\": \"dual citizenship\",\n",
    "    \"revocation\": \"revocation of citizenship\",\n",
    "    \"legislation\" : \"legislation on citizenship\"\n",
    "    \n",
    "}\n",
    "\n",
    "# Preprocess the query\n",
    "def preprocess_query(query):\n",
    "    doc = nlp(query)\n",
    "    tokens = [token.lemma_.lower() for token in doc if not token.is_stop and not token.is_punct]\n",
    "    return \" \".join(tokens)\n",
    "\n",
    "# Function to correct the spelling\n",
    "def correct_spelling(processed_query):\n",
    "    spell = SpellChecker()\n",
    "    words = processed_query.split()\n",
    "    # Find misspelled words\n",
    "    misspelled_words = spell.unknown(words)\n",
    "\n",
    "    corrected_words = []\n",
    "    for word in words:\n",
    "        # Correct the word if it's misspelled\n",
    "        if word in misspelled_words:\n",
    "            corrected_word = spell.correction(word)  # Get the most likely correction\n",
    "            corrected_words.append(corrected_word)\n",
    "        else:\n",
    "            corrected_words.append(word)\n",
    "\n",
    "    # Reconstruct the initial sentence\n",
    "    corrected_input = \" \".join(corrected_words)\n",
    "    return corrected_input\n",
    "\n",
    "# Match the words with synonym support\n",
    "def match_with_synonyms(query, qa_mapping, synonyms, sections):\n",
    "    processed_query = preprocess_query(query)\n",
    "    logging.debug(f\"Processed Query: {processed_query}\")  # Debugging line\n",
    "\n",
    "    # Correct spelling in the processed query\n",
    "    corrected_query = correct_spelling(processed_query)\n",
    "    logging.debug(f\"Corrected Query: {corrected_query}\")  # Debugging line\n",
    "\n",
    "    # First check direct matching with section keys\n",
    "    for key in qa_mapping.keys():\n",
    "        if key in corrected_query:\n",
    "            logging.debug(f\"Direct match found: {key}\")\n",
    "            return qa_mapping[key]  # Return the key for the section\n",
    "\n",
    "    for key, value in qa_mapping.items():\n",
    "        logging.debug(f\"Checking key: {key}, value: {value}\")  # Debugging line\n",
    "        for synonym in synonyms.get(key, [key]):\n",
    "            logging.debug(f\"Trying synonym: {synonym}\")  # Debugging line\n",
    "            if synonym in corrected_query:\n",
    "                logging.debug(f\"Match found with synonym: {synonym}\")  # Debugging line\n",
    "                return value  # Only return section value of the key\n",
    "\n",
    "    \n",
    "    logging.debug(\"No match found\")  # Debugging line if no match is found\n",
    "    return None\n",
    "\n",
    "# Answer function with synonyms\n",
    "def answer_question_nlp(query, sections, qa_mapping, synonyms):\n",
    "    section_key = match_with_synonyms(query, qa_mapping, synonyms, sections)\n",
    "    \n",
    "    if section_key:\n",
    "        # Retrieve the relevant section from the specified chapter\n",
    "        return sections.get(section_key, \"Section not found.\")\n",
    "    \n",
    "    logging.error(\"No answer found for the question.\")  # Log an error if no answer is found\n",
    "    return \"Sorry, I couldn't find an answer to your question.\"\n",
    "\n",
    "# Sample usage\n",
    "if __name__ == \"__main__\":\n",
    "    user_query = \"What does it say about cultre?\"\n",
    "    answer = answer_question_nlp(user_query, sections, qa_mapping, synonyms)\n",
    "    print(answer)\n"
   ]
  },
  {
   "cell_type": "code",
   "execution_count": 42,
   "metadata": {},
   "outputs": [],
   "source": [
    "# Define the synonyms explicitly so that we can easily reference them later\n",
    "synonyms = {\n",
    "    \"supremacy\": [\"supremacy\", \"authority\", \"ultimate power\"],\n",
    "    \"sovereignty\": [\"sovereignty\", \"power of the people\", \"authority of the people\", \"self rule\", \"autonomy\"],\n",
    "    \"defence\": [\"defense\", \"protection\", \"preservation\"],\n",
    "    \"declaration\": [\"declaration\", \"proclamation\", \"statement\", \"announcement\", \"affirmation\"],\n",
    "    \"territory\": [\"territory\", \"land\", \"region\", \"area\", \"jurisdiction\", \"bounds\"],\n",
    "    \"devolution\": [\"devolution\", \"decentralization\", \"delegation\", \"transfer of power\", \"local governance\", \"subsidiarity\"],\n",
    "    \"languages\": [\"languages\", \"tongues\", \"dialects\", \"official languages\", \"linguistic diversity\"],\n",
    "    \"religion\": [\"religion\", \"faith\", \"belief systems\", \"spiritual practice\", \"secularism\", \"church-state separation\"],\n",
    "    \"symbol\": [\"symbol\", \"emblem\", \"insignia\", \"representation\", \"national icon\"],\n",
    "    \"day\": [\"day\", \"holiday\", \"observance\", \"public holiday\", \"commemoration\", \"remembrance\"],\n",
    "    \"value\": [\"value\", \"principle\", \"ethic\", \"core value\", \"standard\", \"national ideal\"],\n",
    "    \"governance\": [\"governance\", \"government\", \"administration\", \"management\", \"public service\", \"political structure\"],\n",
    "    \"culture\": [\"culture\", \"heritage\", \"tradition\", \"customs\", \"societal norms\", \"arts\"],\n",
    "    \"entitlement\": [\"entitlement\", \"right\", \"eligibility\", \"entitlement rights\", \"benefits\", \"privileges\"],\n",
    "    \"retention\": [\"retention\", \"maintenance\", \"keeping\", \"preservation\", \"continuation\"],\n",
    "    \"birth\": [\"birth\", \"nativity\", \"origin\", \"ancestry\", \"inborn citizenship\"],\n",
    "    \"registration\": [\"registration\", \"enlistment\", \"enrollment\", \"citizenship application\", \"naturalization\"],\n",
    "    \"dual\": [\"dual\", \"multiple\", \"dual nationality\", \"two-fold citizenship\"],\n",
    "    \"revocation\": [\"revocation\", \"cancellation\", \"annulment\", \"rescission\", \"forfeiture\", \"withdrawal\"],\n",
    "    \"legislation\": [\"legislation\", \"laws\", \"legal framework\", \"statutes\", \"enactment\"]\n",
    "}\n",
    "\n",
    "# Define qa mapping explicitly too\n",
    "qa_mapping = {\n",
    "    \"supremacy\": \"supremacy\",\n",
    "    \"sovereignty\": \"sovereignty\",\n",
    "    \"defence\": \"defence\",\n",
    "    \"declaration\": \"declaration\",\n",
    "    \"territory\": \"territory\", \n",
    "    \"devolution\": \"devolution\",\n",
    "    \"languages\": \"languages\",\n",
    "    \"religion\": \"religion\",\n",
    "    \"symbol\": \"symbol\",\n",
    "    \"day\": \"day\",\n",
    "    \"value\": \"value\",\n",
    "    \"governance\": \"governance\",\n",
    "    \"culture\": \"culture\",\n",
    "    \"entitlement\": \"entitlement\",\n",
    "    \"retention\": \"retention\",  # Ensure this matches your sections key\n",
    "    \"birth\": \"birth\",\n",
    "    \"registration\": \"registration\",\n",
    "    \"dual\": \"dual\",\n",
    "    \"revocation\": \"revocation\",\n",
    "    \"legislation\": \"legislation\"\n",
    "    \n",
    "}\n"
   ]
  },
  {
   "cell_type": "code",
   "execution_count": 46,
   "metadata": {},
   "outputs": [
    {
     "name": "stderr",
     "output_type": "stream",
     "text": [
      "2024-10-29 12:50:41,541 - DEBUG - Processed Query: citizenship\n",
      "2024-10-29 12:50:41,952 - DEBUG - Corrected Query: citizenship\n",
      "2024-10-29 12:50:41,954 - DEBUG - 'Citizenship' detected in query, returning related sections.\n",
      "2024-10-29 12:50:41,954 - DEBUG - Found section key: It looks like you're asking for citizenship.Here are the sections you can inquire about: entitlement, retention, birth, registration, dual, revocation, legislationPlease specify which section you're interested in.\n",
      "2024-10-29 12:50:41,959 - DEBUG - Available sections: dict_keys(['sovereignty', 'supremacy', 'defence', 'declaration', 'territory', 'devolution', 'languages', 'religion', 'symbol', 'day', 'value', 'governance', 'culture', 'entitlement', 'retention', 'birth', 'registration', 'dual', 'revocation', 'legislation'])\n",
      "2024-10-29 12:50:41,961 - ERROR - Section not found for key: It looks like you're asking for citizenship.Here are the sections you can inquire about: entitlement, retention, birth, registration, dual, revocation, legislationPlease specify which section you're interested in.\n"
     ]
    },
    {
     "name": "stdout",
     "output_type": "stream",
     "text": [
      "Section not found.\n"
     ]
    }
   ],
   "source": [
    "import logging\n",
    "from spellchecker import SpellChecker\n",
    "import spacy\n",
    "\n",
    "# Load the language model (make sure to have spaCy installed and the model downloaded)\n",
    "nlp = spacy.load(\"en_core_web_sm\")\n",
    "\n",
    "# Configure logging\n",
    "logging.basicConfig(\n",
    "    level=logging.INFO,  # Set the logging level\n",
    "    format='%(asctime)s - %(levelname)s - %(message)s',  # Log message format\n",
    ")\n",
    "\n",
    "# Define synonym mapping\n",
    "synonyms = synonyms\n",
    "\n",
    "sections = combined_sections\n",
    "\n",
    "# QA mapping\n",
    "qa_mapping = qa_mapping\n",
    "\n",
    "\n",
    "# Preprocess the query\n",
    "def preprocess_query(query):\n",
    "    doc = nlp(query)\n",
    "    tokens = [token.lemma_.lower() for token in doc if not token.is_stop and not token.is_punct]\n",
    "    return \" \".join(tokens)\n",
    "\n",
    "# Function to correct the spelling\n",
    "def correct_spelling(processed_query):\n",
    "    spell = SpellChecker()\n",
    "    words = processed_query.split()\n",
    "    # Find misspelled words\n",
    "    misspelled_words = spell.unknown(words)\n",
    "\n",
    "    corrected_words = []\n",
    "    for word in words:\n",
    "        # Correct the word if it's misspelled\n",
    "        if word in misspelled_words:\n",
    "            corrected_word = spell.correction(word)  # Get the most likely correction\n",
    "            corrected_words.append(corrected_word)\n",
    "        else:\n",
    "            corrected_words.append(word)\n",
    "\n",
    "    # Reconstruct the initial sentence\n",
    "    corrected_input = \" \".join(corrected_words)\n",
    "    return corrected_input\n",
    "\n",
    "# Match the words with synonym support\n",
    "def match_with_synonyms(query, qa_mapping, synonyms, sections):\n",
    "    processed_query = preprocess_query(query)\n",
    "    logging.debug(f\"Processed Query: {processed_query}\")  # Debugging line\n",
    "\n",
    "    # Correct spelling in the processed query\n",
    "    corrected_query = correct_spelling(processed_query)\n",
    "    logging.debug(f\"Corrected Query: {corrected_query}\")  # Debugging line\n",
    "\n",
    "    # Special case: Handle 'citizenship' by returning all relevant sections\n",
    "    if \"citizenship\" in corrected_query:\n",
    "        logging.debug(f\"'Citizenship' detected in query, returning related sections.\")\n",
    "        citizenship_keys = list(chapter_3_sections.keys())\n",
    "        citizenship_keys = \", \".join(citizenship_keys)\n",
    "        return (f\"It looks like you're asking for citizenship.\"\n",
    "                f\"Here are the sections you can inquire about: {citizenship_keys}\"\n",
    "                f\"Please specify which section you're interested in.\")\n",
    "\n",
    "    # First check direct matching with section keys\n",
    "    for key in qa_mapping.keys():\n",
    "        if key in corrected_query:\n",
    "            logging.debug(f\"Direct match found: {key}\")\n",
    "            return qa_mapping[key]  # Return the key for the section\n",
    "\n",
    "    for key, value in qa_mapping.items():\n",
    "        logging.debug(f\"Checking key: {key}, value: {value}\")  # Debugging line\n",
    "        for synonym in synonyms.get(key, [key]):\n",
    "            logging.debug(f\"Trying synonym: {synonym}\")  # Debugging line\n",
    "            if synonym in corrected_query:\n",
    "                logging.debug(f\"Match found with synonym: {synonym}\")  # Debugging line\n",
    "                return value  # Only return section value of the key\n",
    "    \n",
    "    logging.debug(\"No match found\")  # Debugging line if no match is found\n",
    "    return None\n",
    "\n",
    "def answer_question_nlp(query, sections, qa_mapping, synonyms):\n",
    "    section_key = match_with_synonyms(query, qa_mapping, synonyms, sections)\n",
    "    \n",
    "    logging.debug(f\"Found section key: {section_key}\")  # Debugging line\n",
    "    logging.debug(f\"Available sections: {sections.keys()}\")  # Log available keys in sections\n",
    "\n",
    "    if section_key:\n",
    "        # Retrieve the relevant section from the specified chapter\n",
    "        answer = sections.get(section_key)\n",
    "        if answer:\n",
    "            return answer\n",
    "        else:\n",
    "            logging.error(f\"Section not found for key: {section_key}\")  # Log an error if section is not found\n",
    "            return \"Section not found.\"\n",
    "    \n",
    "    logging.error(\"No answer found for the question.\")  # Log an error if no answer is found\n",
    "    return \"Sorry, I couldn't find an answer to your question.\"\n",
    "\n",
    "# Sample usage\n",
    "if __name__ == \"__main__\":\n",
    "    user_query = \"What does it say about citizenship?\"\n",
    "    answer = answer_question_nlp(user_query, sections, qa_mapping, synonyms)\n",
    "    print(answer)\n"
   ]
  },
  {
   "cell_type": "markdown",
   "metadata": {},
   "source": [
    "Since the code functions do not have a key \"citizenship\", if the user inputs it, they would get an error. To fix this, I will explicitly state a function to mitigate that"
   ]
  },
  {
   "cell_type": "code",
   "execution_count": 47,
   "metadata": {},
   "outputs": [
    {
     "name": "stderr",
     "output_type": "stream",
     "text": [
      "2024-10-29 12:50:54,788 - DEBUG - Processed Query: retention citizenship\n",
      "2024-10-29 12:50:55,092 - DEBUG - Corrected Query: retention citizenship\n",
      "2024-10-29 12:50:55,093 - DEBUG - 'Citizenship' detected in query, returning related sections.\n",
      "2024-10-29 12:50:55,093 - DEBUG - Found section key: It looks like you're asking for citizenship.Here are the sections you can inquire about: entitlement, retention, birth, registration, dual, revocation, legislationPlease specify which section you're interested in.\n",
      "2024-10-29 12:50:55,098 - DEBUG - Available sections: dict_keys(['sovereignty', 'supremacy', 'defence', 'declaration', 'territory', 'devolution', 'languages', 'religion', 'symbol', 'day', 'value', 'governance', 'culture', 'entitlement', 'retention', 'birth', 'registration', 'dual', 'revocation', 'legislation'])\n",
      "2024-10-29 12:50:55,098 - ERROR - Section not found for key: It looks like you're asking for citizenship.Here are the sections you can inquire about: entitlement, retention, birth, registration, dual, revocation, legislationPlease specify which section you're interested in.\n"
     ]
    },
    {
     "name": "stdout",
     "output_type": "stream",
     "text": [
      "Section not found.\n"
     ]
    }
   ],
   "source": [
    "import logging\n",
    "from spellchecker import SpellChecker\n",
    "import spacy\n",
    "\n",
    "# Load the language model (make sure to have spaCy installed and the model downloaded)\n",
    "nlp = spacy.load(\"en_core_web_sm\")\n",
    "\n",
    "# Configure logging\n",
    "logging.basicConfig(\n",
    "    level=logging.INFO,  # Set the logging level\n",
    "    format='%(asctime)s - %(levelname)s - %(message)s',  # Log message format\n",
    ")\n",
    "\n",
    "# Define synonym mapping\n",
    "synonyms = synonyms\n",
    "\n",
    "sections = combined_sections\n",
    "\n",
    "# QA mapping\n",
    "qa_mapping = qa_mapping\n",
    "\n",
    "\n",
    "# Preprocess the query\n",
    "def preprocess_query(query):\n",
    "    doc = nlp(query)\n",
    "    tokens = [token.lemma_.lower() for token in doc if not token.is_stop and not token.is_punct]\n",
    "    return \" \".join(tokens)\n",
    "\n",
    "# Function to correct the spelling\n",
    "def correct_spelling(processed_query):\n",
    "    spell = SpellChecker()\n",
    "    words = processed_query.split()\n",
    "    # Find misspelled words\n",
    "    misspelled_words = spell.unknown(words)\n",
    "\n",
    "    corrected_words = []\n",
    "    for word in words:\n",
    "        # Correct the word if it's misspelled\n",
    "        if word in misspelled_words:\n",
    "            corrected_word = spell.correction(word)  # Get the most likely correction\n",
    "            corrected_words.append(corrected_word)\n",
    "        else:\n",
    "            corrected_words.append(word)\n",
    "\n",
    "    # Reconstruct the initial sentence\n",
    "    corrected_input = \" \".join(corrected_words)\n",
    "    return corrected_input\n",
    "\n",
    "# Match the words with synonym support\n",
    "def match_with_synonyms(query, qa_mapping, synonyms, sections):\n",
    "    processed_query = preprocess_query(query)\n",
    "    logging.debug(f\"Processed Query: {processed_query}\")  # Debugging line\n",
    "\n",
    "    # Correct spelling in the processed query\n",
    "    corrected_query = correct_spelling(processed_query)\n",
    "    logging.debug(f\"Corrected Query: {corrected_query}\")  # Debugging line\n",
    "\n",
    "    # Special case: Handle 'citizenship' by returning all relevant sections\n",
    "    if \"citizenship\" in corrected_query:\n",
    "        logging.debug(f\"'Citizenship' detected in query, returning related sections.\")\n",
    "        citizenship_keys = list(chapter_3_sections.keys())\n",
    "        citizenship_keys = \", \".join(citizenship_keys)\n",
    "        return (f\"It looks like you're asking for citizenship.\"\n",
    "                f\"Here are the sections you can inquire about: {citizenship_keys}\"\n",
    "                f\"Please specify which section you're interested in.\")\n",
    "\n",
    "    # First check direct matching with section keys\n",
    "    for key in qa_mapping.keys():\n",
    "        if key in corrected_query:\n",
    "            logging.debug(f\"Direct match found: {key}\")\n",
    "            return qa_mapping[key]  # Return the key for the section\n",
    "\n",
    "    for key, value in qa_mapping.items():\n",
    "        logging.debug(f\"Checking key: {key}, value: {value}\")  # Debugging line\n",
    "        for synonym in synonyms.get(key, [key]):\n",
    "            logging.debug(f\"Trying synonym: {synonym}\")  # Debugging line\n",
    "            if synonym in corrected_query:\n",
    "                logging.debug(f\"Match found with synonym: {synonym}\")  # Debugging line\n",
    "                return value  # Only return section value of the key\n",
    "    \n",
    "    logging.debug(\"No match found\")  # Debugging line if no match is found\n",
    "    return None\n",
    "\n",
    "def answer_question_nlp(query, sections, qa_mapping, synonyms):\n",
    "    section_key = match_with_synonyms(query, qa_mapping, synonyms, sections)\n",
    "    \n",
    "    logging.debug(f\"Found section key: {section_key}\")  # Debugging line\n",
    "    logging.debug(f\"Available sections: {sections.keys()}\")  # Log available keys in sections\n",
    "\n",
    "    if section_key:\n",
    "        # Retrieve the relevant section from the specified chapter\n",
    "        answer = sections.get(section_key)\n",
    "        if answer:\n",
    "            return answer\n",
    "        else:\n",
    "            logging.error(f\"Section not found for key: {section_key}\")  # Log an error if section is not found\n",
    "            return \"Section not found.\"\n",
    "    \n",
    "    logging.error(\"No answer found for the question.\")  # Log an error if no answer is found\n",
    "    return \"Sorry, I couldn't find an answer to your question.\"\n",
    "\n",
    "# Sample usage\n",
    "if __name__ == \"__main__\":\n",
    "    user_query = \"What does it say about retention of citizenship?\"\n",
    "    answer = answer_question_nlp(user_query, sections, qa_mapping, synonyms)\n",
    "    print(answer)\n"
   ]
  },
  {
   "cell_type": "markdown",
   "metadata": {},
   "source": [
    "Above, if I use \"citizenship\" in my query it'll return the general statement despite having used specific sections in citizenship.\n",
    "I'll need to add code that checks for specific key words in the user input to ensure that if a specific citizenship query is logged, the output is appropriate."
   ]
  },
  {
   "cell_type": "code",
   "execution_count": 48,
   "metadata": {},
   "outputs": [
    {
     "name": "stderr",
     "output_type": "stream",
     "text": [
      "2024-10-29 12:51:18,737 - DEBUG - Processed Query: revocation citizenship\n",
      "2024-10-29 12:51:19,113 - DEBUG - Corrected Query: revocation citizenship\n",
      "2024-10-29 12:51:19,121 - DEBUG - Specific citizenship topic detected: revocation\n",
      "2024-10-29 12:51:19,121 - DEBUG - Found section key: revocation\n",
      "2024-10-29 12:51:19,121 - DEBUG - Available sections: dict_keys(['sovereignty', 'supremacy', 'defence', 'declaration', 'territory', 'devolution', 'languages', 'religion', 'symbol', 'day', 'value', 'governance', 'culture', 'entitlement', 'retention', 'birth', 'registration', 'dual', 'revocation', 'legislation'])\n"
     ]
    },
    {
     "name": "stdout",
     "output_type": "stream",
     "text": [
      "Revocation of citizenship.\n",
      "17. (1) If a person acquired citizenship by registration, the\n",
      "citizenship may be revoked if the person—\n",
      "(a) acquired the citizenship by fraud, false representation or\n",
      "concealment of any material fact;\n",
      "(b) has, during any war in which Kenya was engaged, unlawfully\n",
      "traded or communicated with an enemy or been engaged in\n",
      "or associated with any business that was knowingly carried\n",
      "on in such a manner as to assist an enemy in that war;\n",
      "(c) has, within five years after registration, been convicted of an\n",
      "offence and sentenced to imprisonment for a term of three\n",
      "years or longer; or\n",
      "(d) has, at any time after registration, been convicted of treason,\n",
      "or of an offence for which—\n",
      "(i) a penalty of at least seven years imprisonment may be\n",
      "imposed; or\n",
      "(ii) a more severe penalty may be imposed.\n",
      "(2) The citizenship of a person who was presumed to be a citizen\n",
      "by birth, as contemplated in Article 14 (4), may be revoked if—\n",
      "(a) the citizenship was acquired by fraud, false representation or\n",
      "concealment of any material fact by any person;\n",
      "(b) the nationality or parentage of the person becomes known,\n",
      "and reveals that the person was a citizen of another country;\n",
      "or\n",
      "Constitution of Kenya, 2010 19\n",
      "(c) the age of the person becomes known, and reveals that the\n",
      "person was older than eight years when found in Kenya.\n"
     ]
    }
   ],
   "source": [
    "import logging\n",
    "from spellchecker import SpellChecker\n",
    "import spacy\n",
    "\n",
    "# Load the language model (make sure to have spaCy installed and the model downloaded)\n",
    "nlp = spacy.load(\"en_core_web_sm\")\n",
    "\n",
    "# Configure logging\n",
    "logging.basicConfig(\n",
    "    level=logging.INFO,  # Set the logging level\n",
    "    format='%(asctime)s - %(levelname)s - %(message)s',  # Log message format\n",
    ")\n",
    "\n",
    "# Define synonym mapping\n",
    "synonyms = synonyms\n",
    "\n",
    "sections = combined_sections\n",
    "\n",
    "# QA mapping\n",
    "qa_mapping = qa_mapping\n",
    "\n",
    "\n",
    "# Preprocess the query\n",
    "def preprocess_query(query):\n",
    "    doc = nlp(query)\n",
    "    tokens = [token.lemma_.lower() for token in doc if not token.is_stop and not token.is_punct]\n",
    "    return \" \".join(tokens)\n",
    "\n",
    "# Function to correct the spelling\n",
    "def correct_spelling(processed_query):\n",
    "    spell = SpellChecker()\n",
    "    words = processed_query.split()\n",
    "    # Find misspelled words\n",
    "    misspelled_words = spell.unknown(words)\n",
    "\n",
    "    corrected_words = []\n",
    "    for word in words:\n",
    "        # Correct the word if it's misspelled\n",
    "        if word in misspelled_words:\n",
    "            corrected_word = spell.correction(word)  # Get the most likely correction\n",
    "            corrected_words.append(corrected_word)\n",
    "        else:\n",
    "            corrected_words.append(word)\n",
    "\n",
    "    # Reconstruct the initial sentence\n",
    "    corrected_input = \" \".join(corrected_words)\n",
    "    return corrected_input\n",
    "\n",
    "# Match the words to their synonyms\n",
    "def match_with_synonyms(query, qa_mapping, synonyms, sections):\n",
    "    processed_query = preprocess_query(query)\n",
    "    logging.debug(f\"Processed Query: {processed_query}\")  # Debugging line\n",
    "\n",
    "    # Correct spelling in the processed query\n",
    "    corrected_query = correct_spelling(processed_query)\n",
    "    logging.debug(f\"Corrected Query: {corrected_query}\")  # Debugging line\n",
    "\n",
    "      # Specific keywords related to citizenship mapped directly to qa_mapping keys\n",
    "    specific_citizenship_map = {\n",
    "        \"dual citizenship\": \"dual\",\n",
    "        \"retention\": \"retention\",\n",
    "        \"citizenship by birth\": \"birth\",\n",
    "        \"citizenship by registration\": \"registration\",\n",
    "        \"legislation on citizenship\": \"legislation\",\n",
    "        \"acquisition\": \"retention\",\n",
    "        \"revocation\": \"revocation\"\n",
    "    }\n",
    "\n",
    "    # Check for specific keywords first\n",
    "    for key, phrase in specific_citizenship_map.items():\n",
    "        if phrase in corrected_query:\n",
    "            logging.debug(f\"Specific citizenship topic detected: {phrase}\")\n",
    "            return qa_mapping.get(phrase, \"Sorry, I couldn't find an answer to your question.\")\n",
    "        \n",
    "     # Only trigger the general response if no specific keywords were found\n",
    "    if \"citizenship\" in corrected_query:\n",
    "        logging.debug(f\"'Citizenship' detected in query, returning related sections.\")\n",
    "        citizenship_keys = list(chapter_3_sections.keys())\n",
    "        citizenship_keys = \", \".join(citizenship_keys)\n",
    "        return (f\"It looks like you're asking about citizenship. Here are the sections you can inquire about: {citizenship_keys}. \"\n",
    "                f\"Please specify which section you're interested in.\")\n",
    "        \n",
    "    \n",
    "\n",
    "    # First check direct matching with section keys\n",
    "    for key in qa_mapping.keys():\n",
    "        if key in corrected_query:\n",
    "            logging.debug(f\"Direct match found: {key}\")\n",
    "            return qa_mapping[key]  # Return the key for the section\n",
    "\n",
    "    for key, value in qa_mapping.items():\n",
    "        logging.debug(f\"Checking key: {key}, value: {value}\")  # Debugging line\n",
    "        for synonym in synonyms.get(key, [key]):\n",
    "            logging.debug(f\"Trying synonym: {synonym}\")  # Debugging line\n",
    "            if synonym in corrected_query:\n",
    "                logging.debug(f\"Match found with synonym: {synonym}\")  # Debugging line\n",
    "                return value  # Only return section value of the key\n",
    "    \n",
    "    logging.debug(\"No match found\")  # Debugging line if no match is found\n",
    "    return None\n",
    "\n",
    "def answer_question_nlp(query, sections, qa_mapping, synonyms):\n",
    "    section_key = match_with_synonyms(query, qa_mapping, synonyms, sections)\n",
    "    \n",
    "    logging.debug(f\"Found section key: {section_key}\")  # Debugging line\n",
    "    logging.debug(f\"Available sections: {sections.keys()}\")  # Log available keys in sections\n",
    "\n",
    "    if section_key:\n",
    "        # Retrieve the relevant section from the specified chapter\n",
    "        answer = sections.get(section_key)\n",
    "        if answer:\n",
    "            return answer\n",
    "        else:\n",
    "            logging.error(f\"Section not found for key: {section_key}\")  # Log an error if section is not found\n",
    "            return \"Section not found.\"\n",
    "    \n",
    "    logging.error(\"No answer found for the question.\")  # Log an error if no answer is found\n",
    "    return \"Sorry, I couldn't find an answer to your question.\"\n",
    "\n",
    "# Sample usage\n",
    "if __name__ == \"__main__\":\n",
    "    user_query = \"What does it say about revocation of citizenship?\"\n",
    "    answer = answer_question_nlp(user_query, sections, qa_mapping, synonyms)\n",
    "    print(answer)\n"
   ]
  },
  {
   "cell_type": "markdown",
   "metadata": {},
   "source": [
    "Everything seems to work as it should! "
   ]
  },
  {
   "cell_type": "markdown",
   "metadata": {},
   "source": [
    "# To make the main part of the code shorter and cleaner, I'll run all the dictionaries and lists in one cell then reference them in the main code"
   ]
  },
  {
   "cell_type": "code",
   "execution_count": 58,
   "metadata": {},
   "outputs": [
    {
     "data": {
      "text/plain": [
       "{'declaration': '',\n",
       " 'territory': 'Territory of Kenya.\\n5. Kenya consists of the territory and territorial waters comprising\\nKenya on the effective date, and any additional territory and territorial\\nwaters as defined by an Act of Parliament.',\n",
       " 'devolution': 'Devolution and access to services.\\n6. (1) The territory of Kenya is divided into the counties specified\\nin the First Schedule.\\n(2) The governments at the national and county levels are distinct\\nand inter-dependent and shall conduct their mutual relations on the\\nbasis of consultation and cooperation.\\n(3) A national State organ shall ensure reasonable access to its\\nservices in all parts of the Republic, so far as it is appropriate to do so\\nhaving regard to the nature of the service.',\n",
       " 'languages': 'National, official and other languages.\\n7. (1) The national language of the Republic is Kiswahili.\\n(2) The official languages of the Republic are Kiswahili and\\nEnglish.\\n(3) The State shall—\\n(a) promote and protect the diversity of language of the people of\\nKenya; and\\nConstitution of Kenya, 2010 15\\n(b) promote the development and use of indigenous languages,\\nKenyan Sign language, Braille and other communication\\nformats and technologies accessible to persons with\\ndisabilities.',\n",
       " 'religion': 'State and Religion.\\n8. There shall be no State religion.',\n",
       " 'symbol': 'National symbols and national days.\\n9. (1) The national symbols of the Republic are—\\n(a) the national flag;\\n(b) the national anthem;\\n(c) the coat of arms; and\\n(d) the public seal.\\n(2) The national symbols are as set out in the Second Schedule.',\n",
       " 'day': '(3) The national days are—\\n(a) Madaraka Day, to be observed on 1st June;\\n(b) Mashujaa Day, to be observed on 20th October; and\\n(c) Jamhuri Day, to be observed on 12th December.\\n(4) A national day shall be a public holiday.\\n(5) Parliament may enact legislation prescribing other public\\nholidays, and providing for observance of public holidays.',\n",
       " 'value': 'National values and principles of governance.\\n10. (1) The national values and principles of governance in this\\nArticle bind all State organs, State officers, public officers and all\\npersons whenever any of them—\\n(a) applies or interprets this Constitution;\\n(b) enacts, applies or interprets any law; or\\n(c) makes or implements public policy decisions.\\n(2) The national values and principles of governance include—\\n16 Constitution of Kenya, 2010\\n(a) patriotism, national unity, sharing and devolution of power, the\\nrule of law, democracy and participation of the people;\\n(b) human dignity, equity, social justice, inclusiveness, equality,\\nhuman rights, non-discrimination and protection of the\\nmarginalised;\\n(c) good governance, integrity, transparency and accountability;\\nand\\n(d) sustainable development.',\n",
       " 'governance': '',\n",
       " 'culture': 'Culture.\\n11. (1) This Constitution recognises culture as the foundation of\\nthe nation and as the cumulative civilization of the Kenyan people and\\nnation.\\n(2) The State shall—\\n(a) promote all forms of national and cultural expression through\\nliterature, the arts, traditional celebrations, science,\\ncommunication, information, mass media, publications,\\nlibraries and other cultural heritage;\\n(b) recognise the role of science and indigenous technologies in\\nthe development of the nation; and\\n(c) promote the intellectual property rights of the people of Kenya.\\n(3) Parliament shall enact legislation to—\\n(a) ensure that communities receive compensation or royalties for\\nthe use of their cultures and cultural heritage; and\\n(b) recognise and protect the ownership of indigenous seeds and\\nplant varieties, their genetic and diverse characteristics and\\ntheir use by the communities of Kenya.'}"
      ]
     },
     "execution_count": 58,
     "metadata": {},
     "output_type": "execute_result"
    }
   ],
   "source": [
    "chapter_2_sections"
   ]
  },
  {
   "cell_type": "code",
   "execution_count": 62,
   "metadata": {},
   "outputs": [],
   "source": [
    "# Define the synonyms explicitly so that we can easily reference them later\n",
    "synonyms = {\n",
    "    \"supremacy\": [\"supremacy\", \"authority\", \"ultimate power\"],\n",
    "    \"sovereignty\": [\"sovereignty\", \"power of the people\", \"authority of the people\", \"self rule\", \"autonomy\"],\n",
    "    \"defence\": [\"defense\", \"protection\", \"preservation\"],\n",
    "    \"declaration\": [\"declaration\", \"proclamation\", \"statement\", \"announcement\", \"affirmation\"],\n",
    "    \"territory\": [\"territory\", \"land\", \"region\", \"area\", \"jurisdiction\", \"bounds\"],\n",
    "    \"devolution\": [\"devolution\", \"decentralization\", \"delegation\", \"transfer of power\", \"local governance\", \"subsidiarity\"],\n",
    "    \"languages\": [\"languages\", \"tongues\", \"dialects\", \"official languages\", \"linguistic diversity\"],\n",
    "    \"religion\": [\"religion\", \"faith\", \"belief systems\", \"spiritual practice\", \"secularism\", \"church-state separation\"],\n",
    "    \"symbol\": [\"symbol\", \"emblem\", \"insignia\", \"representation\", \"national icon\"],\n",
    "    \"day\": [\"day\", \"holiday\", \"observance\", \"public holiday\", \"commemoration\", \"remembrance\"],\n",
    "    \"value\": [\"value\", \"principle\", \"ethic\", \"core value\", \"standard\", \"national ideal\", \"governance\", \"government\", \"administration\", \"management\", \"public service\", \"political structure\"],\n",
    "    \"culture\": [\"culture\", \"heritage\", \"tradition\", \"customs\", \"societal norms\", \"arts\"],\n",
    "    \"entitlement\": [\"entitlement\", \"right\", \"eligibility\", \"entitlement rights\", \"benefits\", \"privileges\"],\n",
    "    \"retention\": [\"retention\", \"maintenance\", \"keeping\", \"preservation\", \"continuation\"],\n",
    "    \"birth\": [\"birth\", \"nativity\", \"origin\", \"ancestry\", \"inborn citizenship\"],\n",
    "    \"registration\": [\"registration\", \"enlistment\", \"enrollment\", \"citizenship application\", \"naturalization\"],\n",
    "    \"dual\": [\"dual\", \"multiple\", \"dual nationality\", \"two-fold citizenship\"],\n",
    "    \"revocation\": [\"revocation\", \"cancellation\", \"annulment\", \"rescission\", \"forfeiture\", \"withdrawal\"],\n",
    "    \"legislation\": [\"legislation\", \"laws\", \"legal framework\", \"statutes\", \"enactment\"]\n",
    "}\n",
    "\n",
    "# Define qa mapping explicitly too\n",
    "qa_mapping = {\n",
    "    \"supremacy\": \"supremacy\",\n",
    "    \"sovereignty\": \"sovereignty\",\n",
    "    \"defence\": \"defence\",\n",
    "    \"declaration\": \"declaration\",\n",
    "    \"territory\": \"territory\", \n",
    "    \"devolution\": \"devolution\",\n",
    "    \"languages\": \"languages\",\n",
    "    \"religion\": \"religion\",\n",
    "    \"symbol\": \"symbol\",\n",
    "    \"day\": \"day\",\n",
    "    \"value\": \"value\",\n",
    "    \"culture\": \"culture\",\n",
    "    \"entitlement\": \"entitlement\",\n",
    "    \"retention\": \"retention\",  # Ensure this matches your sections key\n",
    "    \"birth\": \"birth\",\n",
    "    \"registration\": \"registration\",\n",
    "    \"dual\": \"dual\",\n",
    "    \"revocation\": \"revocation\",\n",
    "    \"legislation\": \"legislation\"\n",
    "    \n",
    "}\n",
    "\n",
    "specific_citizenship_map = {\n",
    "        \"dual citizenship\": \"dual\",\n",
    "        \"retention\": \"retention\",\n",
    "        \"citizenship by birth\": \"birth\",\n",
    "        \"citizenship by registration\": \"registration\",\n",
    "        \"legislation on citizenship\": \"legislation\",\n",
    "        \"acquisition\": \"retention\",\n",
    "        \"revocation\": \"revocation\"\n",
    "    }\n",
    "\n"
   ]
  },
  {
   "cell_type": "markdown",
   "metadata": {},
   "source": [
    "# Main precise code"
   ]
  },
  {
   "cell_type": "code",
   "execution_count": 63,
   "metadata": {},
   "outputs": [
    {
     "name": "stderr",
     "output_type": "stream",
     "text": [
      "2024-10-29 13:02:49,677 - DEBUG - Processed Query: administration\n",
      "2024-10-29 13:02:49,980 - DEBUG - Corrected Query: administration\n",
      "2024-10-29 13:02:49,987 - DEBUG - Checking key: supremacy, value: supremacy\n",
      "2024-10-29 13:02:49,987 - DEBUG - Trying synonym: supremacy\n",
      "2024-10-29 13:02:49,991 - DEBUG - Trying synonym: authority\n",
      "2024-10-29 13:02:49,992 - DEBUG - Trying synonym: ultimate power\n",
      "2024-10-29 13:02:49,992 - DEBUG - Checking key: sovereignty, value: sovereignty\n",
      "2024-10-29 13:02:49,996 - DEBUG - Trying synonym: sovereignty\n",
      "2024-10-29 13:02:49,998 - DEBUG - Trying synonym: power of the people\n",
      "2024-10-29 13:02:49,999 - DEBUG - Trying synonym: authority of the people\n",
      "2024-10-29 13:02:50,000 - DEBUG - Trying synonym: self rule\n",
      "2024-10-29 13:02:50,002 - DEBUG - Trying synonym: autonomy\n",
      "2024-10-29 13:02:50,004 - DEBUG - Checking key: defence, value: defence\n",
      "2024-10-29 13:02:50,006 - DEBUG - Trying synonym: defense\n",
      "2024-10-29 13:02:50,008 - DEBUG - Trying synonym: protection\n",
      "2024-10-29 13:02:50,010 - DEBUG - Trying synonym: preservation\n",
      "2024-10-29 13:02:50,012 - DEBUG - Checking key: declaration, value: declaration\n",
      "2024-10-29 13:02:50,016 - DEBUG - Trying synonym: declaration\n",
      "2024-10-29 13:02:50,021 - DEBUG - Trying synonym: proclamation\n",
      "2024-10-29 13:02:50,025 - DEBUG - Trying synonym: statement\n",
      "2024-10-29 13:02:50,027 - DEBUG - Trying synonym: announcement\n",
      "2024-10-29 13:02:50,028 - DEBUG - Trying synonym: affirmation\n",
      "2024-10-29 13:02:50,028 - DEBUG - Checking key: territory, value: territory\n",
      "2024-10-29 13:02:50,028 - DEBUG - Trying synonym: territory\n",
      "2024-10-29 13:02:50,028 - DEBUG - Trying synonym: land\n",
      "2024-10-29 13:02:50,035 - DEBUG - Trying synonym: region\n",
      "2024-10-29 13:02:50,037 - DEBUG - Trying synonym: area\n",
      "2024-10-29 13:02:50,037 - DEBUG - Trying synonym: jurisdiction\n",
      "2024-10-29 13:02:50,037 - DEBUG - Trying synonym: bounds\n",
      "2024-10-29 13:02:50,037 - DEBUG - Checking key: devolution, value: devolution\n",
      "2024-10-29 13:02:50,047 - DEBUG - Trying synonym: devolution\n",
      "2024-10-29 13:02:50,048 - DEBUG - Trying synonym: decentralization\n",
      "2024-10-29 13:02:50,051 - DEBUG - Trying synonym: delegation\n",
      "2024-10-29 13:02:50,056 - DEBUG - Trying synonym: transfer of power\n",
      "2024-10-29 13:02:50,063 - DEBUG - Trying synonym: local governance\n",
      "2024-10-29 13:02:50,063 - DEBUG - Trying synonym: subsidiarity\n",
      "2024-10-29 13:02:50,063 - DEBUG - Checking key: languages, value: languages\n",
      "2024-10-29 13:02:50,069 - DEBUG - Trying synonym: languages\n",
      "2024-10-29 13:02:50,070 - DEBUG - Trying synonym: tongues\n",
      "2024-10-29 13:02:50,070 - DEBUG - Trying synonym: dialects\n",
      "2024-10-29 13:02:50,070 - DEBUG - Trying synonym: official languages\n",
      "2024-10-29 13:02:50,079 - DEBUG - Trying synonym: linguistic diversity\n",
      "2024-10-29 13:02:50,079 - DEBUG - Checking key: religion, value: religion\n",
      "2024-10-29 13:02:50,079 - DEBUG - Trying synonym: religion\n",
      "2024-10-29 13:02:50,079 - DEBUG - Trying synonym: faith\n",
      "2024-10-29 13:02:50,086 - DEBUG - Trying synonym: belief systems\n",
      "2024-10-29 13:02:50,086 - DEBUG - Trying synonym: spiritual practice\n",
      "2024-10-29 13:02:50,086 - DEBUG - Trying synonym: secularism\n",
      "2024-10-29 13:02:50,095 - DEBUG - Trying synonym: church-state separation\n",
      "2024-10-29 13:02:50,097 - DEBUG - Checking key: symbol, value: symbol\n",
      "2024-10-29 13:02:50,097 - DEBUG - Trying synonym: symbol\n",
      "2024-10-29 13:02:50,097 - DEBUG - Trying synonym: emblem\n",
      "2024-10-29 13:02:50,097 - DEBUG - Trying synonym: insignia\n",
      "2024-10-29 13:02:50,097 - DEBUG - Trying synonym: representation\n",
      "2024-10-29 13:02:50,102 - DEBUG - Trying synonym: national icon\n",
      "2024-10-29 13:02:50,102 - DEBUG - Checking key: day, value: day\n",
      "2024-10-29 13:02:50,105 - DEBUG - Trying synonym: day\n",
      "2024-10-29 13:02:50,107 - DEBUG - Trying synonym: holiday\n",
      "2024-10-29 13:02:50,107 - DEBUG - Trying synonym: observance\n",
      "2024-10-29 13:02:50,111 - DEBUG - Trying synonym: public holiday\n",
      "2024-10-29 13:02:50,111 - DEBUG - Trying synonym: commemoration\n",
      "2024-10-29 13:02:50,119 - DEBUG - Trying synonym: remembrance\n",
      "2024-10-29 13:02:50,120 - DEBUG - Checking key: value, value: value\n",
      "2024-10-29 13:02:50,120 - DEBUG - Trying synonym: value\n",
      "2024-10-29 13:02:50,125 - DEBUG - Trying synonym: principle\n",
      "2024-10-29 13:02:50,128 - DEBUG - Trying synonym: ethic\n",
      "2024-10-29 13:02:50,128 - DEBUG - Trying synonym: core value\n",
      "2024-10-29 13:02:50,131 - DEBUG - Trying synonym: standard\n",
      "2024-10-29 13:02:50,136 - DEBUG - Trying synonym: national ideal\n",
      "2024-10-29 13:02:50,136 - DEBUG - Trying synonym: governance\n",
      "2024-10-29 13:02:50,136 - DEBUG - Trying synonym: government\n",
      "2024-10-29 13:02:50,136 - DEBUG - Trying synonym: administration\n",
      "2024-10-29 13:02:50,144 - DEBUG - Match found with synonym: administration\n",
      "2024-10-29 13:02:50,148 - DEBUG - Found section key: value\n",
      "2024-10-29 13:02:50,148 - DEBUG - Available sections: dict_keys(['sovereignty', 'supremacy', 'defence', 'declaration', 'territory', 'devolution', 'languages', 'religion', 'symbol', 'day', 'value', 'governance', 'culture', 'entitlement', 'retention', 'birth', 'registration', 'dual', 'revocation', 'legislation'])\n"
     ]
    },
    {
     "name": "stdout",
     "output_type": "stream",
     "text": [
      "National values and principles of governance.\n",
      "10. (1) The national values and principles of governance in this\n",
      "Article bind all State organs, State officers, public officers and all\n",
      "persons whenever any of them—\n",
      "(a) applies or interprets this Constitution;\n",
      "(b) enacts, applies or interprets any law; or\n",
      "(c) makes or implements public policy decisions.\n",
      "(2) The national values and principles of governance include—\n",
      "16 Constitution of Kenya, 2010\n",
      "(a) patriotism, national unity, sharing and devolution of power, the\n",
      "rule of law, democracy and participation of the people;\n",
      "(b) human dignity, equity, social justice, inclusiveness, equality,\n",
      "human rights, non-discrimination and protection of the\n",
      "marginalised;\n",
      "(c) good governance, integrity, transparency and accountability;\n",
      "and\n",
      "(d) sustainable development.\n"
     ]
    }
   ],
   "source": [
    "import logging\n",
    "from spellchecker import SpellChecker\n",
    "import spacy\n",
    "\n",
    "# Load the language model (make sure to have spaCy installed and the model downloaded)\n",
    "nlp = spacy.load(\"en_core_web_sm\")\n",
    "\n",
    "# Configure logging\n",
    "logging.basicConfig(\n",
    "    level=logging.INFO,  # Set the logging level\n",
    "    format='%(asctime)s - %(levelname)s - %(message)s',  # Log message format\n",
    ")\n",
    "\n",
    "\n",
    "# Preprocess the query\n",
    "def preprocess_query(query):\n",
    "    doc = nlp(query)\n",
    "    tokens = [token.lemma_.lower() for token in doc if not token.is_stop and not token.is_punct]\n",
    "    return \" \".join(tokens)\n",
    "\n",
    "# Function to correct the spelling\n",
    "def correct_spelling(processed_query):\n",
    "    spell = SpellChecker()\n",
    "    words = processed_query.split()\n",
    "    # Find misspelled words\n",
    "    misspelled_words = spell.unknown(words)\n",
    "\n",
    "    corrected_words = []\n",
    "    for word in words:\n",
    "        # Correct the word if it's misspelled\n",
    "        if word in misspelled_words:\n",
    "            corrected_word = spell.correction(word)  # Get the most likely correction\n",
    "            corrected_words.append(corrected_word)\n",
    "        else:\n",
    "            corrected_words.append(word)\n",
    "\n",
    "    # Reconstruct the initial sentence\n",
    "    corrected_input = \" \".join(corrected_words)\n",
    "    return corrected_input\n",
    "\n",
    "# Match the words to their synonyms\n",
    "def match_with_synonyms(query, qa_mapping, synonyms, sections):\n",
    "    processed_query = preprocess_query(query)\n",
    "    logging.debug(f\"Processed Query: {processed_query}\")  # Debugging line\n",
    "\n",
    "    # Correct spelling in the processed query\n",
    "    corrected_query = correct_spelling(processed_query)\n",
    "    logging.debug(f\"Corrected Query: {corrected_query}\")  # Debugging line\n",
    "\n",
    "    # Check for specific keywords first\n",
    "    for key, phrase in specific_citizenship_map.items():\n",
    "        if phrase in corrected_query:\n",
    "            logging.debug(f\"Specific citizenship topic detected: {phrase}\")\n",
    "            return qa_mapping.get(phrase, \"Sorry, I couldn't find an answer to your question.\")\n",
    "        \n",
    "     # Only trigger the general response if no specific keywords were found\n",
    "    if \"citizenship\" in corrected_query:\n",
    "        logging.debug(f\"'Citizenship' detected in query, returning related sections.\")\n",
    "        citizenship_keys = list(chapter_3_sections.keys())\n",
    "        citizenship_keys = \", \".join(citizenship_keys)\n",
    "        return (f\"It looks like you're asking about citizenship. Here are the sections you can inquire about: {citizenship_keys}. \"\n",
    "                f\"Please specify which section you're interested in.\")\n",
    "        \n",
    "    \n",
    "\n",
    "    # First check direct matching with section keys\n",
    "    for key in qa_mapping.keys():\n",
    "        if key in corrected_query:\n",
    "            logging.debug(f\"Direct match found: {key}\")\n",
    "            return qa_mapping[key]  # Return the key for the section\n",
    "\n",
    "    for key, value in qa_mapping.items():\n",
    "        logging.debug(f\"Checking key: {key}, value: {value}\")  # Debugging line\n",
    "        for synonym in synonyms.get(key, [key]):\n",
    "            logging.debug(f\"Trying synonym: {synonym}\")  # Debugging line\n",
    "            if synonym in corrected_query:\n",
    "                logging.debug(f\"Match found with synonym: {synonym}\")  # Debugging line\n",
    "                return value  # Only return section value of the key\n",
    "    \n",
    "    logging.debug(\"No match found\")  # Debugging line if no match is found\n",
    "    return None\n",
    "\n",
    "def answer_question_nlp(query, sections, qa_mapping, synonyms):\n",
    "    section_key = match_with_synonyms(query, qa_mapping, synonyms, sections)\n",
    "    \n",
    "    logging.debug(f\"Found section key: {section_key}\")  # Debugging line\n",
    "    logging.debug(f\"Available sections: {sections.keys()}\")  # Log available keys in sections\n",
    "\n",
    "    if section_key:\n",
    "        # Retrieve the relevant section from the specified chapter\n",
    "        answer = sections.get(section_key)\n",
    "        if answer:\n",
    "            return answer\n",
    "        else:\n",
    "            logging.error(f\"Section not found for key: {section_key}\")  # Log an error if section is not found\n",
    "            return \"Section not found.\"\n",
    "    \n",
    "    logging.error(\"No answer found for the question.\")  # Log an error if no answer is found\n",
    "    return \"Sorry, I couldn't find an answer to your question.\"\n",
    "\n",
    "# Sample usage\n",
    "if __name__ == \"__main__\":\n",
    "    user_query = \"What does it say about administration?\"\n",
    "    answer = answer_question_nlp(user_query, sections, qa_mapping, synonyms)\n",
    "    print(answer)\n"
   ]
  },
  {
   "cell_type": "code",
   "execution_count": null,
   "metadata": {},
   "outputs": [],
   "source": []
  }
 ],
 "metadata": {
  "kernelspec": {
   "display_name": "Mubea-env",
   "language": "python",
   "name": "python3"
  },
  "language_info": {
   "codemirror_mode": {
    "name": "ipython",
    "version": 3
   },
   "file_extension": ".py",
   "mimetype": "text/x-python",
   "name": "python",
   "nbconvert_exporter": "python",
   "pygments_lexer": "ipython3",
   "version": "3.8.19"
  }
 },
 "nbformat": 4,
 "nbformat_minor": 2
}
